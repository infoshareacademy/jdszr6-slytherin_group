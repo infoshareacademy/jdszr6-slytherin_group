{
 "cells": [
  {
   "cell_type": "code",
   "execution_count": 19,
   "metadata": {},
   "outputs": [],
   "source": [
    "from ipynb.fs.full.determinator import main\n",
    "from ipynb.fs.full.determinator import identify_good"
   ]
  },
  {
   "cell_type": "code",
   "execution_count": 2,
   "metadata": {},
   "outputs": [],
   "source": [
    "import numpy as np\n",
    "import pandas as pd\n",
    "\n",
    "import matplotlib.pyplot as plt\n",
    "import seaborn as sns\n",
    "\n",
    "from ipynb.fs.full.determinator import main\n",
    "import scipy.stats as st"
   ]
  },
  {
   "cell_type": "code",
   "execution_count": 21,
   "metadata": {},
   "outputs": [],
   "source": [
    "def threshold_stat(data, threshold):\n",
    "    \n",
    "    \"\"\"\n",
    "    text\n",
    "    text\n",
    "    \"\"\"\n",
    "    \n",
    "    data_frame = data.copy()\n",
    "    data_frame[\"ADTH0\"] = data_frame[\"AVERAGE_DELAY\"]\n",
    "    data_frame[\"STDDTH0\"] = data_frame[\"STD_DELAY\"]\n",
    "    data_frame[\"MDTH0\"] = data_frame[\"MEDIAN_DELAY\"]\n",
    "    \n",
    "    data_frame = data_frame.drop([\"AVERAGE_DELAY\", \"STD_DELAY\", \"MEDIAN_DELAY\"], axis=1)\n",
    "    \n",
    "    data_frame[\"THRESHOLD\"] = threshold\n",
    "    data_frame[\"GOOD_BAD\"] = data_frame.apply(lambda df: identify_good(df[\"TOTAL_STATUS\"],\n",
    "                                                                       threshold), axis=1)\n",
    "        \n",
    "    noc_frame = data_frame.groupby(by=\"GOOD_BAD\")[\"ID\"].count().reset_index(name=\"NUMBER_OF_CLIENTS\")\n",
    "    data_frame = pd.merge(data_frame,\n",
    "                          noc_frame,\n",
    "                          on=\"GOOD_BAD\",\n",
    "                          how=\"left\")\n",
    "    \n",
    "    number_of_clients = len(data_frame[\"ID\"].drop_duplicates())\n",
    "    poc_frame = round(100*data_frame.groupby(by=\"GOOD_BAD\")[\"ID\"].count()/number_of_clients, 2).reset_index(name=\"PERCENTAGE_OF_CLIENTS\")\n",
    "    data_frame = pd.merge(data_frame,\n",
    "                          poc_frame,\n",
    "                          on=\"GOOD_BAD\",\n",
    "                          how=\"left\")\n",
    "    \n",
    "    extra_frame = round(data_frame.groupby(by=\"GOOD_BAD\")[\"DELAY_PAYMENT\"].mean(), 2).reset_index(name=\"AVERAGE_DELAY\")\n",
    "    data_frame = pd.merge(data_frame,\n",
    "                          extra_frame,\n",
    "                          on=\"GOOD_BAD\",\n",
    "                          how=\"left\")\n",
    "    \n",
    "    extra_frame = round(data_frame.groupby(by=\"GOOD_BAD\")[\"DELAY_PAYMENT\"].std(), 2).reset_index(name=\"STD_DELAY\")\n",
    "    data_frame = pd.merge(data_frame,\n",
    "                          extra_frame,\n",
    "                          on=\"GOOD_BAD\",\n",
    "                          how=\"left\")\n",
    "    \n",
    "    extra_frame = round(data_frame.groupby(by=\"GOOD_BAD\")[\"DELAY_PAYMENT\"].median(), 2).reset_index(name=\"MEDIAN_DELAY\")\n",
    "    data_frame = pd.merge(data_frame,\n",
    "                          extra_frame,\n",
    "                          on=\"GOOD_BAD\",\n",
    "                          how=\"left\")\n",
    "    \n",
    "    \n",
    "    return data_frame"
   ]
  },
  {
   "cell_type": "code",
   "execution_count": 12,
   "metadata": {},
   "outputs": [],
   "source": [
    "credit_record = pd.read_csv(\"credit_record.csv\")\n",
    "\n",
    "data = main(credit_record, threshold = 0, second_threshold = -0.5)[[\"ID\",\n",
    "                                                                    \"ACTIVITY\",\n",
    "                                                                    \"DELAY_PAYMENT\",\n",
    "                                                                    \"TOTAL_STATUS\",\n",
    "                                                                    \"GOOD\",\n",
    "                                                                    \"SUFFICIENT\",\n",
    "                                                                    \"AVERAGE_DELAY\",\n",
    "                                                                    \"STD_DELAY\",\n",
    "                                                                    \"MEDIAN_DELAY\"]].drop_duplicates().copy()"
   ]
  },
  {
   "cell_type": "code",
   "execution_count": 14,
   "metadata": {},
   "outputs": [],
   "source": [
    "data[\"GOOD_BAD\"] = data.apply(lambda df: df[\"GOOD\"] + df[\"SUFFICIENT\"], axis=1)"
   ]
  },
  {
   "cell_type": "code",
   "execution_count": 22,
   "metadata": {},
   "outputs": [],
   "source": [
    "frame = {\"THRESHOLD\": [-1.00],\n",
    "         \"GOOD_BAD\": [0],\n",
    "         \"TOTAL_STATUS\": [0],\n",
    "         \"NUMBER_OF_CLIENTS\": [0],\n",
    "         \"PERCENTAGE_OF_CLIENTS\": [0],\n",
    "         \"AVERAGE_DELAY\": [0],\n",
    "         \"STD_DELAY\": [1],\n",
    "         \"MEDIAN_DELAY\": [0]}\n",
    "\n",
    "data_frame = pd.DataFrame(frame)\n",
    "\n",
    "thresholds = np.linspace(-1, 1, 41)\n",
    "\n",
    "for threshold in thresholds:\n",
    "    new_frame = threshold_stat(data, threshold)[[\"THRESHOLD\",\n",
    "                                                 \"GOOD_BAD\",\n",
    "                                                 \"TOTAL_STATUS\",\n",
    "                                                 \"NUMBER_OF_CLIENTS\",\n",
    "                                                 \"PERCENTAGE_OF_CLIENTS\",\n",
    "                                                 \"AVERAGE_DELAY\",\n",
    "                                                 \"STD_DELAY\",\n",
    "                                                 \"MEDIAN_DELAY\"]]\n",
    "    \n",
    "    data_frame = pd.concat([data_frame, new_frame], ignore_index = True, axis = 0)"
   ]
  },
  {
   "cell_type": "code",
   "execution_count": 23,
   "metadata": {},
   "outputs": [
    {
     "data": {
      "text/html": [
       "<div>\n",
       "<style scoped>\n",
       "    .dataframe tbody tr th:only-of-type {\n",
       "        vertical-align: middle;\n",
       "    }\n",
       "\n",
       "    .dataframe tbody tr th {\n",
       "        vertical-align: top;\n",
       "    }\n",
       "\n",
       "    .dataframe thead th {\n",
       "        text-align: right;\n",
       "    }\n",
       "</style>\n",
       "<table border=\"1\" class=\"dataframe\">\n",
       "  <thead>\n",
       "    <tr style=\"text-align: right;\">\n",
       "      <th></th>\n",
       "      <th>THRESHOLD</th>\n",
       "      <th>GOOD_BAD</th>\n",
       "      <th>TOTAL_STATUS</th>\n",
       "      <th>NUMBER_OF_CLIENTS</th>\n",
       "      <th>PERCENTAGE_OF_CLIENTS</th>\n",
       "      <th>AVERAGE_DELAY</th>\n",
       "      <th>STD_DELAY</th>\n",
       "      <th>MEDIAN_DELAY</th>\n",
       "    </tr>\n",
       "  </thead>\n",
       "  <tbody>\n",
       "    <tr>\n",
       "      <td>0</td>\n",
       "      <td>-1.0</td>\n",
       "      <td>0</td>\n",
       "      <td>0.000000</td>\n",
       "      <td>0</td>\n",
       "      <td>0.0</td>\n",
       "      <td>0.00</td>\n",
       "      <td>1.00</td>\n",
       "      <td>0.0</td>\n",
       "    </tr>\n",
       "    <tr>\n",
       "      <td>1</td>\n",
       "      <td>-1.0</td>\n",
       "      <td>1</td>\n",
       "      <td>-0.300000</td>\n",
       "      <td>45985</td>\n",
       "      <td>100.0</td>\n",
       "      <td>13.33</td>\n",
       "      <td>12.62</td>\n",
       "      <td>12.0</td>\n",
       "    </tr>\n",
       "    <tr>\n",
       "      <td>2</td>\n",
       "      <td>-1.0</td>\n",
       "      <td>1</td>\n",
       "      <td>0.565789</td>\n",
       "      <td>45985</td>\n",
       "      <td>100.0</td>\n",
       "      <td>13.33</td>\n",
       "      <td>12.62</td>\n",
       "      <td>12.0</td>\n",
       "    </tr>\n",
       "    <tr>\n",
       "      <td>3</td>\n",
       "      <td>-1.0</td>\n",
       "      <td>1</td>\n",
       "      <td>0.000000</td>\n",
       "      <td>45985</td>\n",
       "      <td>100.0</td>\n",
       "      <td>13.33</td>\n",
       "      <td>12.62</td>\n",
       "      <td>12.0</td>\n",
       "    </tr>\n",
       "    <tr>\n",
       "      <td>6</td>\n",
       "      <td>-1.0</td>\n",
       "      <td>1</td>\n",
       "      <td>0.092885</td>\n",
       "      <td>45985</td>\n",
       "      <td>100.0</td>\n",
       "      <td>13.33</td>\n",
       "      <td>12.62</td>\n",
       "      <td>12.0</td>\n",
       "    </tr>\n",
       "    <tr>\n",
       "      <td>7</td>\n",
       "      <td>-1.0</td>\n",
       "      <td>1</td>\n",
       "      <td>-0.068333</td>\n",
       "      <td>45985</td>\n",
       "      <td>100.0</td>\n",
       "      <td>13.33</td>\n",
       "      <td>12.62</td>\n",
       "      <td>12.0</td>\n",
       "    </tr>\n",
       "    <tr>\n",
       "      <td>8</td>\n",
       "      <td>-1.0</td>\n",
       "      <td>1</td>\n",
       "      <td>1.000000</td>\n",
       "      <td>45985</td>\n",
       "      <td>100.0</td>\n",
       "      <td>13.33</td>\n",
       "      <td>12.62</td>\n",
       "      <td>12.0</td>\n",
       "    </tr>\n",
       "    <tr>\n",
       "      <td>9</td>\n",
       "      <td>-1.0</td>\n",
       "      <td>1</td>\n",
       "      <td>-0.600000</td>\n",
       "      <td>45985</td>\n",
       "      <td>100.0</td>\n",
       "      <td>13.33</td>\n",
       "      <td>12.62</td>\n",
       "      <td>12.0</td>\n",
       "    </tr>\n",
       "    <tr>\n",
       "      <td>10</td>\n",
       "      <td>-1.0</td>\n",
       "      <td>1</td>\n",
       "      <td>-0.005000</td>\n",
       "      <td>45985</td>\n",
       "      <td>100.0</td>\n",
       "      <td>13.33</td>\n",
       "      <td>12.62</td>\n",
       "      <td>12.0</td>\n",
       "    </tr>\n",
       "    <tr>\n",
       "      <td>11</td>\n",
       "      <td>-1.0</td>\n",
       "      <td>1</td>\n",
       "      <td>0.990000</td>\n",
       "      <td>45985</td>\n",
       "      <td>100.0</td>\n",
       "      <td>13.33</td>\n",
       "      <td>12.62</td>\n",
       "      <td>12.0</td>\n",
       "    </tr>\n",
       "  </tbody>\n",
       "</table>\n",
       "</div>"
      ],
      "text/plain": [
       "    THRESHOLD  GOOD_BAD  TOTAL_STATUS  NUMBER_OF_CLIENTS  \\\n",
       "0        -1.0         0      0.000000                  0   \n",
       "1        -1.0         1     -0.300000              45985   \n",
       "2        -1.0         1      0.565789              45985   \n",
       "3        -1.0         1      0.000000              45985   \n",
       "6        -1.0         1      0.092885              45985   \n",
       "7        -1.0         1     -0.068333              45985   \n",
       "8        -1.0         1      1.000000              45985   \n",
       "9        -1.0         1     -0.600000              45985   \n",
       "10       -1.0         1     -0.005000              45985   \n",
       "11       -1.0         1      0.990000              45985   \n",
       "\n",
       "    PERCENTAGE_OF_CLIENTS  AVERAGE_DELAY  STD_DELAY  MEDIAN_DELAY  \n",
       "0                     0.0           0.00       1.00           0.0  \n",
       "1                   100.0          13.33      12.62          12.0  \n",
       "2                   100.0          13.33      12.62          12.0  \n",
       "3                   100.0          13.33      12.62          12.0  \n",
       "6                   100.0          13.33      12.62          12.0  \n",
       "7                   100.0          13.33      12.62          12.0  \n",
       "8                   100.0          13.33      12.62          12.0  \n",
       "9                   100.0          13.33      12.62          12.0  \n",
       "10                  100.0          13.33      12.62          12.0  \n",
       "11                  100.0          13.33      12.62          12.0  "
      ]
     },
     "execution_count": 23,
     "metadata": {},
     "output_type": "execute_result"
    }
   ],
   "source": [
    "data_frame = data_frame.drop_duplicates()\n",
    "data_frame.head(10)"
   ]
  },
  {
   "cell_type": "code",
   "execution_count": 24,
   "metadata": {},
   "outputs": [
    {
     "data": {
      "text/plain": [
       "<matplotlib.legend.Legend at 0x29608d4e088>"
      ]
     },
     "execution_count": 24,
     "metadata": {},
     "output_type": "execute_result"
    },
    {
     "data": {
      "image/png": "[encoded data removed]",
      "text/plain": [
       "<Figure size 360x360 with 1 Axes>"
      ]
     },
     "metadata": {
      "needs_background": "light"
     },
     "output_type": "display_data"
    }
   ],
   "source": [
    "g = sns.relplot(data = data_frame,\n",
    "                x = \"THRESHOLD\",\n",
    "                y = \"PERCENTAGE_OF_CLIENTS\",\n",
    "                kind = \"line\",\n",
    "                hue = \"GOOD_BAD\",\n",
    "                legend = False)\n",
    "\n",
    "g.set_axis_labels(\"Threshold\", \"Percentage of clients\")\n",
    "\n",
    "plt.grid()\n",
    "plt.title(\"Percentage of clients depending on the threshold\", loc=\"right\")\n",
    "plt.legend(labels=[\"bad clients\", \"good clients\"], loc=\"upper right\")"
   ]
  },
  {
   "cell_type": "code",
   "execution_count": 25,
   "metadata": {},
   "outputs": [
    {
     "data": {
      "text/plain": [
       "<matplotlib.legend.Legend at 0x29610ed1708>"
      ]
     },
     "execution_count": 25,
     "metadata": {},
     "output_type": "execute_result"
    },
    {
     "data": {
      "image/png": "[encoded data removed]",
      "text/plain": [
       "<Figure size 360x360 with 1 Axes>"
      ]
     },
     "metadata": {
      "needs_background": "light"
     },
     "output_type": "display_data"
    }
   ],
   "source": [
    "g = sns.relplot(data = data_frame,\n",
    "                x = \"THRESHOLD\",\n",
    "                y = \"AVERAGE_DELAY\",\n",
    "                kind = \"line\",\n",
    "                hue = \"GOOD_BAD\",\n",
    "                legend = False)\n",
    "\n",
    "g.set_axis_labels(\"Threshold\", \"Average delay of payment\")\n",
    "\n",
    "plt.grid()\n",
    "plt.title(\"Average delay of payment depending on the threshold\", loc=\"right\")\n",
    "plt.legend(labels=[\"bad clients\", \"good clients\"], loc=\"center right\")"
   ]
  },
  {
   "cell_type": "code",
   "execution_count": 26,
   "metadata": {},
   "outputs": [
    {
     "data": {
      "text/plain": [
       "<matplotlib.legend.Legend at 0x29608d92c08>"
      ]
     },
     "execution_count": 26,
     "metadata": {},
     "output_type": "execute_result"
    },
    {
     "data": {
      "image/png": "[encoded data removed]",
      "text/plain": [
       "<Figure size 360x360 with 1 Axes>"
      ]
     },
     "metadata": {
      "needs_background": "light"
     },
     "output_type": "display_data"
    }
   ],
   "source": [
    "g = sns.relplot(data = data_frame,\n",
    "                x = \"THRESHOLD\",\n",
    "                y = \"STD_DELAY\",\n",
    "                kind = \"line\",\n",
    "                hue = \"GOOD_BAD\",\n",
    "                legend = False)\n",
    "\n",
    "g.set_axis_labels(\"Threshold\", \"Standard deviation delay of payment\")\n",
    "\n",
    "plt.grid()\n",
    "plt.title(\"Standard deviation delay of payment depending on the threshold\", loc=\"right\")\n",
    "plt.legend(labels=[\"bad clients\", \"good clients\"], loc=\"center right\")"
   ]
  },
  {
   "cell_type": "code",
   "execution_count": 27,
   "metadata": {},
   "outputs": [
    {
     "data": {
      "text/plain": [
       "<matplotlib.legend.Legend at 0x29609542388>"
      ]
     },
     "execution_count": 27,
     "metadata": {},
     "output_type": "execute_result"
    },
    {
     "data": {
      "image/png": "[encoded data removed]",
      "text/plain": [
       "<Figure size 360x360 with 1 Axes>"
      ]
     },
     "metadata": {
      "needs_background": "light"
     },
     "output_type": "display_data"
    }
   ],
   "source": [
    "g = sns.relplot(data = data_frame,\n",
    "                x = \"THRESHOLD\",\n",
    "                y = \"MEDIAN_DELAY\",\n",
    "                kind = \"line\",\n",
    "                hue = \"GOOD_BAD\",\n",
    "                legend = False)\n",
    "\n",
    "g.set_axis_labels(\"Threshold\", \"Median delay of payment\")\n",
    "\n",
    "plt.grid()\n",
    "plt.title(\"Median delay of payment depending on the threshold\", loc=\"right\")\n",
    "plt.legend(labels=[\"bad clients\", \"good clients\"], loc=\"center right\")"
   ]
  },
  {
   "cell_type": "code",
   "execution_count": 28,
   "metadata": {},
   "outputs": [],
   "source": [
    "data_frame[\"LAG\"] = round(data_frame.groupby(by=\"GOOD_BAD\")[\"NUMBER_OF_CLIENTS\"].shift(1))\n",
    "data_frame[\"Delta\"] = data_frame[\"NUMBER_OF_CLIENTS\"] - data_frame[\"LAG\"]\n",
    "data_frame[\"Per_Delta\"] = round(100*(data_frame[\"NUMBER_OF_CLIENTS\"] - data_frame[\"LAG\"])/data_frame[\"LAG\"],1)"
   ]
  },
  {
   "cell_type": "code",
   "execution_count": 29,
   "metadata": {},
   "outputs": [
    {
     "data": {
      "text/html": [
       "<div>\n",
       "<style scoped>\n",
       "    .dataframe tbody tr th:only-of-type {\n",
       "        vertical-align: middle;\n",
       "    }\n",
       "\n",
       "    .dataframe tbody tr th {\n",
       "        vertical-align: top;\n",
       "    }\n",
       "\n",
       "    .dataframe thead th {\n",
       "        text-align: right;\n",
       "    }\n",
       "</style>\n",
       "<table border=\"1\" class=\"dataframe\">\n",
       "  <thead>\n",
       "    <tr style=\"text-align: right;\">\n",
       "      <th></th>\n",
       "      <th>THRESHOLD</th>\n",
       "      <th>GOOD_BAD</th>\n",
       "      <th>TOTAL_STATUS</th>\n",
       "      <th>NUMBER_OF_CLIENTS</th>\n",
       "      <th>PERCENTAGE_OF_CLIENTS</th>\n",
       "      <th>AVERAGE_DELAY</th>\n",
       "      <th>STD_DELAY</th>\n",
       "      <th>MEDIAN_DELAY</th>\n",
       "      <th>LAG</th>\n",
       "      <th>Delta</th>\n",
       "      <th>Per_Delta</th>\n",
       "    </tr>\n",
       "  </thead>\n",
       "  <tbody>\n",
       "    <tr>\n",
       "      <td>141926</td>\n",
       "      <td>-0.85</td>\n",
       "      <td>0</td>\n",
       "      <td>-0.945685</td>\n",
       "      <td>47</td>\n",
       "      <td>0.10</td>\n",
       "      <td>127.82</td>\n",
       "      <td>46.81</td>\n",
       "      <td>126.43</td>\n",
       "      <td>39.0</td>\n",
       "      <td>8.0</td>\n",
       "      <td>20.5</td>\n",
       "    </tr>\n",
       "    <tr>\n",
       "      <td>141930</td>\n",
       "      <td>-0.85</td>\n",
       "      <td>0</td>\n",
       "      <td>-0.916131</td>\n",
       "      <td>47</td>\n",
       "      <td>0.10</td>\n",
       "      <td>127.82</td>\n",
       "      <td>46.81</td>\n",
       "      <td>126.43</td>\n",
       "      <td>47.0</td>\n",
       "      <td>0.0</td>\n",
       "      <td>0.0</td>\n",
       "    </tr>\n",
       "    <tr>\n",
       "      <td>143578</td>\n",
       "      <td>-0.85</td>\n",
       "      <td>0</td>\n",
       "      <td>-0.890000</td>\n",
       "      <td>47</td>\n",
       "      <td>0.10</td>\n",
       "      <td>127.82</td>\n",
       "      <td>46.81</td>\n",
       "      <td>126.43</td>\n",
       "      <td>47.0</td>\n",
       "      <td>0.0</td>\n",
       "      <td>0.0</td>\n",
       "    </tr>\n",
       "    <tr>\n",
       "      <td>145841</td>\n",
       "      <td>-0.85</td>\n",
       "      <td>0</td>\n",
       "      <td>-1.000000</td>\n",
       "      <td>47</td>\n",
       "      <td>0.10</td>\n",
       "      <td>127.82</td>\n",
       "      <td>46.81</td>\n",
       "      <td>126.43</td>\n",
       "      <td>47.0</td>\n",
       "      <td>0.0</td>\n",
       "      <td>0.0</td>\n",
       "    </tr>\n",
       "    <tr>\n",
       "      <td>146197</td>\n",
       "      <td>-0.85</td>\n",
       "      <td>0</td>\n",
       "      <td>-0.979167</td>\n",
       "      <td>47</td>\n",
       "      <td>0.10</td>\n",
       "      <td>127.82</td>\n",
       "      <td>46.81</td>\n",
       "      <td>126.43</td>\n",
       "      <td>47.0</td>\n",
       "      <td>0.0</td>\n",
       "      <td>0.0</td>\n",
       "    </tr>\n",
       "    <tr>\n",
       "      <td>...</td>\n",
       "      <td>...</td>\n",
       "      <td>...</td>\n",
       "      <td>...</td>\n",
       "      <td>...</td>\n",
       "      <td>...</td>\n",
       "      <td>...</td>\n",
       "      <td>...</td>\n",
       "      <td>...</td>\n",
       "      <td>...</td>\n",
       "      <td>...</td>\n",
       "      <td>...</td>\n",
       "    </tr>\n",
       "    <tr>\n",
       "      <td>965583</td>\n",
       "      <td>0.00</td>\n",
       "      <td>0</td>\n",
       "      <td>-0.323750</td>\n",
       "      <td>17371</td>\n",
       "      <td>37.78</td>\n",
       "      <td>24.58</td>\n",
       "      <td>9.90</td>\n",
       "      <td>26.67</td>\n",
       "      <td>17371.0</td>\n",
       "      <td>0.0</td>\n",
       "      <td>0.0</td>\n",
       "    </tr>\n",
       "    <tr>\n",
       "      <td>965623</td>\n",
       "      <td>0.00</td>\n",
       "      <td>0</td>\n",
       "      <td>-0.084416</td>\n",
       "      <td>17371</td>\n",
       "      <td>37.78</td>\n",
       "      <td>24.58</td>\n",
       "      <td>9.90</td>\n",
       "      <td>26.67</td>\n",
       "      <td>17371.0</td>\n",
       "      <td>0.0</td>\n",
       "      <td>0.0</td>\n",
       "    </tr>\n",
       "    <tr>\n",
       "      <td>965647</td>\n",
       "      <td>0.00</td>\n",
       "      <td>0</td>\n",
       "      <td>-0.188333</td>\n",
       "      <td>17371</td>\n",
       "      <td>37.78</td>\n",
       "      <td>24.58</td>\n",
       "      <td>9.90</td>\n",
       "      <td>26.67</td>\n",
       "      <td>17371.0</td>\n",
       "      <td>0.0</td>\n",
       "      <td>0.0</td>\n",
       "    </tr>\n",
       "    <tr>\n",
       "      <td>965667</td>\n",
       "      <td>0.00</td>\n",
       "      <td>0</td>\n",
       "      <td>-0.613636</td>\n",
       "      <td>17371</td>\n",
       "      <td>37.78</td>\n",
       "      <td>24.58</td>\n",
       "      <td>9.90</td>\n",
       "      <td>26.67</td>\n",
       "      <td>17371.0</td>\n",
       "      <td>0.0</td>\n",
       "      <td>0.0</td>\n",
       "    </tr>\n",
       "    <tr>\n",
       "      <td>965676</td>\n",
       "      <td>0.00</td>\n",
       "      <td>0</td>\n",
       "      <td>-0.367965</td>\n",
       "      <td>17371</td>\n",
       "      <td>37.78</td>\n",
       "      <td>24.58</td>\n",
       "      <td>9.90</td>\n",
       "      <td>26.67</td>\n",
       "      <td>17371.0</td>\n",
       "      <td>0.0</td>\n",
       "      <td>0.0</td>\n",
       "    </tr>\n",
       "  </tbody>\n",
       "</table>\n",
       "<p>24288 rows × 11 columns</p>\n",
       "</div>"
      ],
      "text/plain": [
       "        THRESHOLD  GOOD_BAD  TOTAL_STATUS  NUMBER_OF_CLIENTS  \\\n",
       "141926      -0.85         0     -0.945685                 47   \n",
       "141930      -0.85         0     -0.916131                 47   \n",
       "143578      -0.85         0     -0.890000                 47   \n",
       "145841      -0.85         0     -1.000000                 47   \n",
       "146197      -0.85         0     -0.979167                 47   \n",
       "...           ...       ...           ...                ...   \n",
       "965583       0.00         0     -0.323750              17371   \n",
       "965623       0.00         0     -0.084416              17371   \n",
       "965647       0.00         0     -0.188333              17371   \n",
       "965667       0.00         0     -0.613636              17371   \n",
       "965676       0.00         0     -0.367965              17371   \n",
       "\n",
       "        PERCENTAGE_OF_CLIENTS  AVERAGE_DELAY  STD_DELAY  MEDIAN_DELAY  \\\n",
       "141926                   0.10         127.82      46.81        126.43   \n",
       "141930                   0.10         127.82      46.81        126.43   \n",
       "143578                   0.10         127.82      46.81        126.43   \n",
       "145841                   0.10         127.82      46.81        126.43   \n",
       "146197                   0.10         127.82      46.81        126.43   \n",
       "...                       ...            ...        ...           ...   \n",
       "965583                  37.78          24.58       9.90         26.67   \n",
       "965623                  37.78          24.58       9.90         26.67   \n",
       "965647                  37.78          24.58       9.90         26.67   \n",
       "965667                  37.78          24.58       9.90         26.67   \n",
       "965676                  37.78          24.58       9.90         26.67   \n",
       "\n",
       "            LAG  Delta  Per_Delta  \n",
       "141926     39.0    8.0       20.5  \n",
       "141930     47.0    0.0        0.0  \n",
       "143578     47.0    0.0        0.0  \n",
       "145841     47.0    0.0        0.0  \n",
       "146197     47.0    0.0        0.0  \n",
       "...         ...    ...        ...  \n",
       "965583  17371.0    0.0        0.0  \n",
       "965623  17371.0    0.0        0.0  \n",
       "965647  17371.0    0.0        0.0  \n",
       "965667  17371.0    0.0        0.0  \n",
       "965676  17371.0    0.0        0.0  \n",
       "\n",
       "[24288 rows x 11 columns]"
      ]
     },
     "execution_count": 29,
     "metadata": {},
     "output_type": "execute_result"
    }
   ],
   "source": [
    "data_frame[(data_frame[\"THRESHOLD\"] > -0.9) & (data_frame[\"THRESHOLD\"] < 0.01) & (data_frame[\"GOOD_BAD\"] == 0)]"
   ]
  },
  {
   "cell_type": "code",
   "execution_count": 30,
   "metadata": {},
   "outputs": [
    {
     "data": {
      "text/html": [
       "<div>\n",
       "<style scoped>\n",
       "    .dataframe tbody tr th:only-of-type {\n",
       "        vertical-align: middle;\n",
       "    }\n",
       "\n",
       "    .dataframe tbody tr th {\n",
       "        vertical-align: top;\n",
       "    }\n",
       "\n",
       "    .dataframe thead th {\n",
       "        text-align: right;\n",
       "    }\n",
       "</style>\n",
       "<table border=\"1\" class=\"dataframe\">\n",
       "  <thead>\n",
       "    <tr style=\"text-align: right;\">\n",
       "      <th></th>\n",
       "      <th>THRESHOLD</th>\n",
       "      <th>GOOD_BAD</th>\n",
       "      <th>TOTAL_STATUS</th>\n",
       "      <th>NUMBER_OF_CLIENTS</th>\n",
       "      <th>PERCENTAGE_OF_CLIENTS</th>\n",
       "      <th>AVERAGE_DELAY</th>\n",
       "      <th>STD_DELAY</th>\n",
       "      <th>MEDIAN_DELAY</th>\n",
       "      <th>LAG</th>\n",
       "      <th>Delta</th>\n",
       "      <th>Per_Delta</th>\n",
       "    </tr>\n",
       "  </thead>\n",
       "  <tbody>\n",
       "    <tr>\n",
       "      <td>413866</td>\n",
       "      <td>-0.55</td>\n",
       "      <td>1</td>\n",
       "      <td>-0.300000</td>\n",
       "      <td>45461</td>\n",
       "      <td>98.86</td>\n",
       "      <td>12.97</td>\n",
       "      <td>11.76</td>\n",
       "      <td>11.43</td>\n",
       "      <td>45725.0</td>\n",
       "      <td>-264.0</td>\n",
       "      <td>-0.6</td>\n",
       "    </tr>\n",
       "    <tr>\n",
       "      <td>413867</td>\n",
       "      <td>-0.55</td>\n",
       "      <td>1</td>\n",
       "      <td>0.565789</td>\n",
       "      <td>45461</td>\n",
       "      <td>98.86</td>\n",
       "      <td>12.97</td>\n",
       "      <td>11.76</td>\n",
       "      <td>11.43</td>\n",
       "      <td>45461.0</td>\n",
       "      <td>0.0</td>\n",
       "      <td>0.0</td>\n",
       "    </tr>\n",
       "    <tr>\n",
       "      <td>413868</td>\n",
       "      <td>-0.55</td>\n",
       "      <td>1</td>\n",
       "      <td>0.000000</td>\n",
       "      <td>45461</td>\n",
       "      <td>98.86</td>\n",
       "      <td>12.97</td>\n",
       "      <td>11.76</td>\n",
       "      <td>11.43</td>\n",
       "      <td>45461.0</td>\n",
       "      <td>0.0</td>\n",
       "      <td>0.0</td>\n",
       "    </tr>\n",
       "    <tr>\n",
       "      <td>413871</td>\n",
       "      <td>-0.55</td>\n",
       "      <td>1</td>\n",
       "      <td>0.092885</td>\n",
       "      <td>45461</td>\n",
       "      <td>98.86</td>\n",
       "      <td>12.97</td>\n",
       "      <td>11.76</td>\n",
       "      <td>11.43</td>\n",
       "      <td>45461.0</td>\n",
       "      <td>0.0</td>\n",
       "      <td>0.0</td>\n",
       "    </tr>\n",
       "    <tr>\n",
       "      <td>413872</td>\n",
       "      <td>-0.55</td>\n",
       "      <td>1</td>\n",
       "      <td>-0.068333</td>\n",
       "      <td>45461</td>\n",
       "      <td>98.86</td>\n",
       "      <td>12.97</td>\n",
       "      <td>11.76</td>\n",
       "      <td>11.43</td>\n",
       "      <td>45461.0</td>\n",
       "      <td>0.0</td>\n",
       "      <td>0.0</td>\n",
       "    </tr>\n",
       "    <tr>\n",
       "      <td>...</td>\n",
       "      <td>...</td>\n",
       "      <td>...</td>\n",
       "      <td>...</td>\n",
       "      <td>...</td>\n",
       "      <td>...</td>\n",
       "      <td>...</td>\n",
       "      <td>...</td>\n",
       "      <td>...</td>\n",
       "      <td>...</td>\n",
       "      <td>...</td>\n",
       "      <td>...</td>\n",
       "    </tr>\n",
       "    <tr>\n",
       "      <td>551758</td>\n",
       "      <td>-0.45</td>\n",
       "      <td>1</td>\n",
       "      <td>-0.084416</td>\n",
       "      <td>37578</td>\n",
       "      <td>81.72</td>\n",
       "      <td>9.59</td>\n",
       "      <td>10.01</td>\n",
       "      <td>7.06</td>\n",
       "      <td>37578.0</td>\n",
       "      <td>0.0</td>\n",
       "      <td>0.0</td>\n",
       "    </tr>\n",
       "    <tr>\n",
       "      <td>551782</td>\n",
       "      <td>-0.45</td>\n",
       "      <td>1</td>\n",
       "      <td>-0.188333</td>\n",
       "      <td>37578</td>\n",
       "      <td>81.72</td>\n",
       "      <td>9.59</td>\n",
       "      <td>10.01</td>\n",
       "      <td>7.06</td>\n",
       "      <td>37578.0</td>\n",
       "      <td>0.0</td>\n",
       "      <td>0.0</td>\n",
       "    </tr>\n",
       "    <tr>\n",
       "      <td>551786</td>\n",
       "      <td>-0.45</td>\n",
       "      <td>1</td>\n",
       "      <td>0.195906</td>\n",
       "      <td>37578</td>\n",
       "      <td>81.72</td>\n",
       "      <td>9.59</td>\n",
       "      <td>10.01</td>\n",
       "      <td>7.06</td>\n",
       "      <td>37578.0</td>\n",
       "      <td>0.0</td>\n",
       "      <td>0.0</td>\n",
       "    </tr>\n",
       "    <tr>\n",
       "      <td>551802</td>\n",
       "      <td>-0.45</td>\n",
       "      <td>0</td>\n",
       "      <td>-0.613636</td>\n",
       "      <td>8407</td>\n",
       "      <td>18.28</td>\n",
       "      <td>30.03</td>\n",
       "      <td>9.05</td>\n",
       "      <td>30.00</td>\n",
       "      <td>8407.0</td>\n",
       "      <td>0.0</td>\n",
       "      <td>0.0</td>\n",
       "    </tr>\n",
       "    <tr>\n",
       "      <td>551811</td>\n",
       "      <td>-0.45</td>\n",
       "      <td>1</td>\n",
       "      <td>-0.367965</td>\n",
       "      <td>37578</td>\n",
       "      <td>81.72</td>\n",
       "      <td>9.59</td>\n",
       "      <td>10.01</td>\n",
       "      <td>7.06</td>\n",
       "      <td>37578.0</td>\n",
       "      <td>0.0</td>\n",
       "      <td>0.0</td>\n",
       "    </tr>\n",
       "  </tbody>\n",
       "</table>\n",
       "<p>16989 rows × 11 columns</p>\n",
       "</div>"
      ],
      "text/plain": [
       "        THRESHOLD  GOOD_BAD  TOTAL_STATUS  NUMBER_OF_CLIENTS  \\\n",
       "413866      -0.55         1     -0.300000              45461   \n",
       "413867      -0.55         1      0.565789              45461   \n",
       "413868      -0.55         1      0.000000              45461   \n",
       "413871      -0.55         1      0.092885              45461   \n",
       "413872      -0.55         1     -0.068333              45461   \n",
       "...           ...       ...           ...                ...   \n",
       "551758      -0.45         1     -0.084416              37578   \n",
       "551782      -0.45         1     -0.188333              37578   \n",
       "551786      -0.45         1      0.195906              37578   \n",
       "551802      -0.45         0     -0.613636               8407   \n",
       "551811      -0.45         1     -0.367965              37578   \n",
       "\n",
       "        PERCENTAGE_OF_CLIENTS  AVERAGE_DELAY  STD_DELAY  MEDIAN_DELAY  \\\n",
       "413866                  98.86          12.97      11.76         11.43   \n",
       "413867                  98.86          12.97      11.76         11.43   \n",
       "413868                  98.86          12.97      11.76         11.43   \n",
       "413871                  98.86          12.97      11.76         11.43   \n",
       "413872                  98.86          12.97      11.76         11.43   \n",
       "...                       ...            ...        ...           ...   \n",
       "551758                  81.72           9.59      10.01          7.06   \n",
       "551782                  81.72           9.59      10.01          7.06   \n",
       "551786                  81.72           9.59      10.01          7.06   \n",
       "551802                  18.28          30.03       9.05         30.00   \n",
       "551811                  81.72           9.59      10.01          7.06   \n",
       "\n",
       "            LAG  Delta  Per_Delta  \n",
       "413866  45725.0 -264.0       -0.6  \n",
       "413867  45461.0    0.0        0.0  \n",
       "413868  45461.0    0.0        0.0  \n",
       "413871  45461.0    0.0        0.0  \n",
       "413872  45461.0    0.0        0.0  \n",
       "...         ...    ...        ...  \n",
       "551758  37578.0    0.0        0.0  \n",
       "551782  37578.0    0.0        0.0  \n",
       "551786  37578.0    0.0        0.0  \n",
       "551802   8407.0    0.0        0.0  \n",
       "551811  37578.0    0.0        0.0  \n",
       "\n",
       "[16989 rows x 11 columns]"
      ]
     },
     "execution_count": 30,
     "metadata": {},
     "output_type": "execute_result"
    }
   ],
   "source": [
    "data_frame[(data_frame[\"THRESHOLD\"] > -0.6) & (data_frame[\"THRESHOLD\"] < -0.40)]"
   ]
  },
  {
   "cell_type": "code",
   "execution_count": 33,
   "metadata": {},
   "outputs": [],
   "source": [
    "df = main(credit_record, threshold = 0, second_threshold = -0.5)\n",
    "df[\"GOOD_BAD\"] = df.apply(lambda df: df[\"GOOD\"] + df[\"SUFFICIENT\"], axis=1)"
   ]
  },
  {
   "cell_type": "code",
   "execution_count": 34,
   "metadata": {},
   "outputs": [
    {
     "data": {
      "image/png": "[encoded data removed]",
      "text/plain": [
       "<Figure size 432x288 with 1 Axes>"
      ]
     },
     "metadata": {
      "needs_background": "light"
     },
     "output_type": "display_data"
    }
   ],
   "source": [
    "data_frame = df[[\"ID\", \"TOTAL_STATUS\", \"DELAY_PAYMENT\"]].drop_duplicates().copy()\n",
    "\n",
    "N = len(data_frame)\n",
    "m = st.tmean(np.array(data_frame[\"DELAY_PAYMENT\"]))\n",
    "s = st.tstd(np.array(data_frame[\"DELAY_PAYMENT\"]))\n",
    "\n",
    "delayX = data_frame[\"DELAY_PAYMENT\"].values\n",
    "kde_estimator1 = st.gaussian_kde(delayX)\n",
    "\n",
    "t = np.arange(-15,45,0.1)\n",
    "plt.plot(t,kde_estimator1(t),\"blue\")\n",
    "plt.grid()"
   ]
  },
  {
   "cell_type": "code",
   "execution_count": 35,
   "metadata": {},
   "outputs": [
    {
     "data": {
      "image/png": "[encoded data removed]",
      "text/plain": [
       "<Figure size 432x288 with 1 Axes>"
      ]
     },
     "metadata": {
      "needs_background": "light"
     },
     "output_type": "display_data"
    }
   ],
   "source": [
    "data_frame = df[[\"ID\", \"TOTAL_STATUS\", \"DELAY_PAYMENT\"]].drop_duplicates().copy()\n",
    "\n",
    "N = len(data_frame[data_frame[\"TOTAL_STATUS\"] < -0.5])\n",
    "m = st.tmean(np.array(data_frame[data_frame[\"TOTAL_STATUS\"] < -0.5][\"DELAY_PAYMENT\"]))\n",
    "s = st.tstd(np.array(data_frame[data_frame[\"TOTAL_STATUS\"] < -0.5][\"DELAY_PAYMENT\"]))\n",
    "\n",
    "delayX = data_frame[data_frame[\"TOTAL_STATUS\"] < -0.5][\"DELAY_PAYMENT\"].values\n",
    "kde_estimator1 = st.gaussian_kde(delayX)\n",
    "\n",
    "t = np.arange(0,200,0.1)\n",
    "plt.plot(t,kde_estimator1(t),\"blue\")\n",
    "plt.grid()"
   ]
  },
  {
   "cell_type": "code",
   "execution_count": 36,
   "metadata": {},
   "outputs": [
    {
     "data": {
      "image/png": "[encoded data removed]",
      "text/plain": [
       "<Figure size 432x288 with 1 Axes>"
      ]
     },
     "metadata": {
      "needs_background": "light"
     },
     "output_type": "display_data"
    }
   ],
   "source": [
    "data_frame = df[[\"ID\", \"TOTAL_STATUS\", \"DELAY_PAYMENT\"]].drop_duplicates().copy()\n",
    "\n",
    "N = len(data_frame[(data_frame[\"TOTAL_STATUS\"] >= -0.5) & (data_frame[\"TOTAL_STATUS\"] < 0)])\n",
    "m = st.tmean(np.array(data_frame[(data_frame[\"TOTAL_STATUS\"] >= -0.5) & (data_frame[\"TOTAL_STATUS\"] < 0)][\"DELAY_PAYMENT\"]))\n",
    "s = st.tstd(np.array(data_frame[(data_frame[\"TOTAL_STATUS\"] >= -0.5) & (data_frame[\"TOTAL_STATUS\"] < 0)][\"DELAY_PAYMENT\"]))\n",
    "\n",
    "delayX = data_frame[(data_frame[\"TOTAL_STATUS\"] >= -0.5) & (data_frame[\"TOTAL_STATUS\"] < 0)][\"DELAY_PAYMENT\"].values\n",
    "kde_estimator1 = st.gaussian_kde(delayX)\n",
    "\n",
    "t = np.arange(-15,45,0.1)\n",
    "plt.plot(t,kde_estimator1(t),\"blue\")\n",
    "plt.grid()"
   ]
  },
  {
   "cell_type": "code",
   "execution_count": 37,
   "metadata": {},
   "outputs": [
    {
     "data": {
      "image/png": "[encoded data removed]",
      "text/plain": [
       "<Figure size 432x288 with 1 Axes>"
      ]
     },
     "metadata": {
      "needs_background": "light"
     },
     "output_type": "display_data"
    }
   ],
   "source": [
    "data_frame = df[[\"ID\", \"TOTAL_STATUS\", \"DELAY_PAYMENT\"]].drop_duplicates().copy()\n",
    "\n",
    "N = len(data_frame[data_frame[\"TOTAL_STATUS\"] > 0])\n",
    "m = st.tmean(np.array(data_frame[data_frame[\"TOTAL_STATUS\"] > 0][\"DELAY_PAYMENT\"]))\n",
    "s = st.tstd(np.array(data_frame[data_frame[\"TOTAL_STATUS\"] > 0][\"DELAY_PAYMENT\"]))\n",
    "\n",
    "delayX = data_frame[data_frame[\"TOTAL_STATUS\"] < 0][\"DELAY_PAYMENT\"].values\n",
    "kde_estimator1 = st.gaussian_kde(delayX)\n",
    "\n",
    "t = np.arange(-15,45,0.1)\n",
    "plt.plot(t,kde_estimator1(t),\"blue\")\n",
    "plt.grid()"
   ]
  },
  {
   "cell_type": "code",
   "execution_count": 38,
   "metadata": {},
   "outputs": [
    {
     "name": "stdout",
     "output_type": "stream",
     "text": [
      "45985 13.33 12.62 Threshold: -0.5, przedział ufności: [13.21 13.44]\n",
      "całka na przedziale (0,30) wynosi 0.76\n"
     ]
    },
    {
     "data": {
      "image/png": "[encoded data removed]",
      "text/plain": [
       "<Figure size 432x288 with 1 Axes>"
      ]
     },
     "metadata": {
      "needs_background": "light"
     },
     "output_type": "display_data"
    }
   ],
   "source": [
    "df2 = df[[\"ID\", \"DELAY_PAYMENT\"]].drop_duplicates().copy()\n",
    "\n",
    "N = len(df2)\n",
    "m = st.tmean(np.array(df2[\"DELAY_PAYMENT\"]))\n",
    "s = st.tstd(np.array(df2[\"DELAY_PAYMENT\"]))\n",
    "\n",
    "a = 0.05\n",
    "\n",
    "ua = st.norm().ppf(1-a/2)\n",
    "CIm = np.array([round(m - ua*s/np.sqrt(N),2), round(m + ua*s/np.sqrt(N),2)])\n",
    "\n",
    "print(N, round(m,2), round(s,2), \"Threshold: {}, przedział ufności: {}\".format(round(-0.5,2), CIm))\n",
    "\n",
    "delayX = df2[\"DELAY_PAYMENT\"].values\n",
    "kde_estimator = st.gaussian_kde(delayX)\n",
    "\n",
    "a = 0\n",
    "b = 30\n",
    "p = round(kde_estimator.integrate_box_1d(a,b), 2)\n",
    "print(\"całka na przedziale ({},{}) wynosi {}\".format(a,b,p))\n",
    "\n",
    "t = np.arange(0,100,1)\n",
    "tf = np.arange(a,b,1)\n",
    "\n",
    "#plt.fill_between(tf,0,kde_estimator(tf))\n",
    "plt.plot(t,kde_estimator(t),\"blue\")\n",
    "#plt.xlabel(\"Delay payment - good clients\")\n",
    "plt.ylabel(\"kde\")\n",
    "plt.grid()"
   ]
  },
  {
   "cell_type": "code",
   "execution_count": 39,
   "metadata": {},
   "outputs": [
    {
     "name": "stdout",
     "output_type": "stream",
     "text": [
      "44274 12.51 11.55 Threshold: -0.5, przedział ufności: [12.4  12.62]\n",
      "całka na przedziale (0,15) wynosi 0.42\n"
     ]
    },
    {
     "data": {
      "image/png": "[encoded data removed]",
      "text/plain": [
       "<Figure size 432x288 with 1 Axes>"
      ]
     },
     "metadata": {
      "needs_background": "light"
     },
     "output_type": "display_data"
    }
   ],
   "source": [
    "df2 = df[[\"ID\", \"GOOD_BAD\", \"DELAY_PAYMENT\"]].drop_duplicates().copy()\n",
    "\n",
    "N = len(df2[df2[\"GOOD_BAD\"] == 1])\n",
    "m = st.tmean(np.array(df2[df2[\"GOOD_BAD\"] == 1][\"DELAY_PAYMENT\"]))\n",
    "s = st.tstd(np.array(df2[df2[\"GOOD_BAD\"] == 1][\"DELAY_PAYMENT\"]))\n",
    "\n",
    "a = 0.05\n",
    "\n",
    "ua = st.norm().ppf(1-a/2)\n",
    "CIm = np.array([round(m - ua*s/np.sqrt(N),2), round(m + ua*s/np.sqrt(N),2)])\n",
    "\n",
    "print(N, round(m,2), round(s,2), \"Threshold: {}, przedział ufności: {}\".format(round(-0.5,2), CIm))\n",
    "\n",
    "delayX = df2[df2[\"GOOD_BAD\"] == 1][\"DELAY_PAYMENT\"].values\n",
    "kde_estimator1 = st.gaussian_kde(delayX)\n",
    "\n",
    "a = 0\n",
    "b = 15\n",
    "p = round(kde_estimator1.integrate_box_1d(a,b), 2)\n",
    "print(\"całka na przedziale ({},{}) wynosi {}\".format(a,b,p))\n",
    "\n",
    "t = np.arange(0,60,1)\n",
    "tf = np.arange(a,b,1)\n",
    "\n",
    "plt.fill_between(tf,0,kde_estimator1(tf))\n",
    "plt.plot(t,kde_estimator1(t),\"blue\")\n",
    "plt.xlabel(\"Delay payment - good clients\")\n",
    "plt.ylabel(\"kde\")\n",
    "plt.grid()"
   ]
  },
  {
   "cell_type": "code",
   "execution_count": 40,
   "metadata": {},
   "outputs": [
    {
     "name": "stdout",
     "output_type": "stream",
     "text": [
      "1711 34.48 19.03 Threshold: -0.5, przedział ufności: [33.58 35.38]\n",
      "całka na przedziale (0,180) wynosi 1.0\n"
     ]
    },
    {
     "data": {
      "image/png": "[encoded data removed]",
      "text/plain": [
       "<Figure size 432x288 with 1 Axes>"
      ]
     },
     "metadata": {
      "needs_background": "light"
     },
     "output_type": "display_data"
    }
   ],
   "source": [
    "df2 = df[[\"ID\", \"GOOD_BAD\", \"DELAY_PAYMENT\"]].drop_duplicates().copy()\n",
    "\n",
    "N = len(df2[df2[\"GOOD_BAD\"] == 0])\n",
    "m = st.tmean(np.array(df2[df2[\"GOOD_BAD\"] == 0][\"DELAY_PAYMENT\"]))\n",
    "s = st.tstd(np.array(df2[df2[\"GOOD_BAD\"] == 0][\"DELAY_PAYMENT\"]))\n",
    "\n",
    "a = 0.05\n",
    "\n",
    "ua = st.norm().ppf(1-a/2)\n",
    "CIm = np.array([round(m - ua*s/np.sqrt(N),2), round(m + ua*s/np.sqrt(N),2)])\n",
    "\n",
    "print(N, round(m,2), round(s,2), \"Threshold: {}, przedział ufności: {}\".format(round(-0.5,2), CIm))\n",
    "\n",
    "delayX = df2[df2[\"GOOD_BAD\"] == 0][\"DELAY_PAYMENT\"].values\n",
    "kde_estimator0 = st.gaussian_kde(delayX)\n",
    "\n",
    "a = 0\n",
    "b = 180\n",
    "p = round(kde_estimator0.integrate_box_1d(a,b), 2)\n",
    "print(\"całka na przedziale ({},{}) wynosi {}\".format(a,b,p))\n",
    "\n",
    "t = np.arange(0,200,1)\n",
    "tf = np.arange(a,b,1)\n",
    "\n",
    "plt.fill_between(tf,0,kde_estimator0(tf))\n",
    "plt.plot(t,kde_estimator0(t),\"blue\")\n",
    "plt.xlabel(\"Delay payment - bad clients\")\n",
    "plt.ylabel(\"kde\")\n",
    "plt.grid()"
   ]
  },
  {
   "cell_type": "code",
   "execution_count": 41,
   "metadata": {},
   "outputs": [
    {
     "data": {
      "image/png": "[encoded data removed]",
      "text/plain": [
       "<Figure size 432x288 with 1 Axes>"
      ]
     },
     "metadata": {
      "needs_background": "light"
     },
     "output_type": "display_data"
    }
   ],
   "source": [
    "t = np.arange(0,200,1)\n",
    "\n",
    "plt.plot(t,kde_estimator(t),\"black\", t,kde_estimator1(t),\"blue\", t,kde_estimator0(t),\"red\")\n",
    "plt.grid()"
   ]
  },
  {
   "cell_type": "code",
   "execution_count": null,
   "metadata": {},
   "outputs": [],
   "source": []
  },
  {
   "cell_type": "code",
   "execution_count": null,
   "metadata": {},
   "outputs": [],
   "source": []
  },
  {
   "cell_type": "code",
   "execution_count": null,
   "metadata": {},
   "outputs": [],
   "source": []
  },
  {
   "cell_type": "code",
   "execution_count": null,
   "metadata": {},
   "outputs": [],
   "source": []
  }
 ],
 "metadata": {
  "kernelspec": {
   "display_name": "Python 3",
   "language": "python",
   "name": "python3"
  },
  "language_info": {
   "codemirror_mode": {
    "name": "ipython",
    "version": 3
   },
   "file_extension": ".py",
   "mimetype": "text/x-python",
   "name": "python",
   "nbconvert_exporter": "python",
   "pygments_lexer": "ipython3",
   "version": "3.7.4"
  }
 },
 "nbformat": 4,
 "nbformat_minor": 2
}

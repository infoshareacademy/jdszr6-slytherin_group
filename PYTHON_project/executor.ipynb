{
 "cells": [
  {
   "cell_type": "code",
   "execution_count": 1,
   "metadata": {},
   "outputs": [],
   "source": [
    "from collections import Counter\n",
    "\n",
    "import numpy as np\n",
    "import pandas as pd\n",
    "\n",
    "import matplotlib.pyplot as plt\n",
    "import seaborn as sns"
   ]
  },
  {
   "cell_type": "code",
   "execution_count": 2,
   "metadata": {},
   "outputs": [],
   "source": [
    "import scipy.stats as st\n",
    "from scipy.cluster import hierarchy\n",
    "from sklearn.preprocessing import StandardScaler\n",
    "from sklearn.cluster import KMeans"
   ]
  },
  {
   "cell_type": "code",
   "execution_count": 3,
   "metadata": {},
   "outputs": [],
   "source": [
    "def conditional_probability(data_frame, personal_data, split_method, threshold):\n",
    "    \n",
    "    \"\"\"\n",
    "    TEXT\n",
    "    TEXT\n",
    "    \"\"\"\n",
    "    \n",
    "    if split_method == \"standard\":\n",
    "        good_clients = data_frame[(data_frame[\"GOOD\"] == 1) | (data_frame[\"SUFFICIENT\"] == 1)]\n",
    "        bad_clients = data_frame[(data_frame[\"GOOD\"] == 0) & (data_frame[\"SUFFICIENT\"] == 0)]\n",
    "    elif split_method == \"good\":\n",
    "        good_clients = data_frame[data_frame[\"GOOD\"] == 1]\n",
    "        bad_clients = data_frame[data_frame[\"GOOD\"] == 0]\n",
    "    elif split_method == \"sufficient\":\n",
    "        data_frame = data_frame[data_frame[\"GOOD\"] == 0]\n",
    "        good_clients = data_frame[data_frame[\"SUFFICIENT\"] == 1]\n",
    "        bad_clients = data_frame[data_frame[\"SUFFICIENT\"] == 0]\n",
    "    \n",
    "    for i in range(1, len(personal_data)+1):\n",
    "        records = 0\n",
    "\n",
    "        for key, value in personal_data.items():\n",
    "            conditional_records = len(data_frame[data_frame[key] == value])\n",
    "            if conditional_records > records:\n",
    "                records = conditional_records\n",
    "                specific_key = key\n",
    "                specific_value = value\n",
    "                \n",
    "        good_records = len(good_clients[good_clients[specific_key] == specific_value])\n",
    "        bad_records = len(bad_clients[bad_clients[specific_key] == specific_value])\n",
    "        client_records = good_records + bad_records\n",
    "\n",
    "        if client_records >= threshold and bad_records > 0:\n",
    "            personal_data = {key:personal_data[key] for key in personal_data if key!=specific_key}\n",
    "            good_clients = good_clients[good_clients[specific_key] == specific_value]\n",
    "            bad_clients = bad_clients[bad_clients[specific_key] == specific_value]\n",
    "            probability = round(bad_records/(bad_records + good_records), 5)\n",
    "        else:\n",
    "            break\n",
    "\n",
    "            \n",
    "    return probability, personal_data"
   ]
  },
  {
   "cell_type": "code",
   "execution_count": 4,
   "metadata": {},
   "outputs": [],
   "source": [
    "main_features = ['OCCUPATION_TYPE',\n",
    "                 'AGE',\n",
    "                 'INCOME',\n",
    "                 'FLAG_EMAIL',\n",
    "                 'NAME_FAMILY_STATUS',\n",
    "                 'NAME_EDUCATION_TYPE',\n",
    "                 'NAME_INCOME_TYPE',\n",
    "                 'MEMBERS']\n",
    "\n",
    "extra_features = ['FLAG_OWN_CAR',\n",
    "                  'FLAG_OWN_REALTY',\n",
    "                  'NAME_HOUSING_TYPE',\n",
    "                  'FLAG_WORK_PHONE',\n",
    "                  'FLAG_PHONE',\n",
    "                  'CHILDREN',\n",
    "                  'YEARS_EMPLOYED',\n",
    "                  'CODE_GENDER']"
   ]
  },
  {
   "cell_type": "code",
   "execution_count": 5,
   "metadata": {},
   "outputs": [],
   "source": [
    "def executor(data_frame, personal_data, main_features, extra_features,\n",
    "             split_method = \"standard\", threshold = 1000, second_threshold = 500):\n",
    "    \n",
    "    \"\"\"\n",
    "    TEXT\n",
    "    TEXT\n",
    "    \"\"\"\n",
    "    \n",
    "    main_data = {feature: personal_data[feature] for feature in main_features}\n",
    "    extra_data = {feature: personal_data[feature] for feature in extra_features}\n",
    "    \n",
    "    result = conditional_probability(data_frame, main_data, split_method, threshold)\n",
    "    probability, data = result\n",
    "    \n",
    "    if len(data) != 0:\n",
    "        result = conditional_probability(data_frame, main_data, split_method, second_threshold)\n",
    "        new_probability, new_data = result\n",
    "        \n",
    "        if len(new_data) < len(data) and new_probability <= probability:\n",
    "            probability = new_probability\n",
    "            data = new_data\n",
    "        \n",
    "        extra_data = dict(extra_data, **data)    \n",
    "        \n",
    "    for key, value in extra_data.items():\n",
    "        single_dict = {key: value}\n",
    "        new_probability = conditional_probability(data_frame, dict(main_data, **single_dict),\n",
    "                                                  split_method, second_threshold)[0]\n",
    "        \n",
    "        if new_probability <= probability:\n",
    "            probability = new_probability\n",
    "            main_data = dict(main_data, **single_dict)\n",
    "    \n",
    "    \n",
    "    return probability"
   ]
  },
  {
   "cell_type": "code",
   "execution_count": null,
   "metadata": {},
   "outputs": [],
   "source": []
  },
  {
   "cell_type": "code",
   "execution_count": null,
   "metadata": {},
   "outputs": [],
   "source": []
  },
  {
   "cell_type": "code",
   "execution_count": null,
   "metadata": {},
   "outputs": [],
   "source": []
  },
  {
   "cell_type": "code",
   "execution_count": null,
   "metadata": {},
   "outputs": [],
   "source": []
  },
  {
   "cell_type": "code",
   "execution_count": null,
   "metadata": {},
   "outputs": [],
   "source": []
  },
  {
   "cell_type": "code",
   "execution_count": null,
   "metadata": {},
   "outputs": [],
   "source": []
  },
  {
   "cell_type": "code",
   "execution_count": null,
   "metadata": {},
   "outputs": [],
   "source": []
  },
  {
   "cell_type": "code",
   "execution_count": null,
   "metadata": {},
   "outputs": [],
   "source": []
  },
  {
   "cell_type": "code",
   "execution_count": null,
   "metadata": {},
   "outputs": [],
   "source": []
  }
 ],
 "metadata": {
  "kernelspec": {
   "display_name": "Python 3",
   "language": "python",
   "name": "python3"
  },
  "language_info": {
   "codemirror_mode": {
    "name": "ipython",
    "version": 3
   },
   "file_extension": ".py",
   "mimetype": "text/x-python",
   "name": "python",
   "nbconvert_exporter": "python",
   "pygments_lexer": "ipython3",
   "version": "3.7.4"
  }
 },
 "nbformat": 4,
 "nbformat_minor": 2
}

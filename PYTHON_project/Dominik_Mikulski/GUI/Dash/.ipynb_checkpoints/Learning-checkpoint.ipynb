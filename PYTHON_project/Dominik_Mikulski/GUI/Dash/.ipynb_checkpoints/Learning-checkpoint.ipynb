{
 "cells": [
  {
   "cell_type": "code",
   "execution_count": 12,
   "metadata": {},
   "outputs": [
    {
     "name": "stdout",
     "output_type": "stream",
     "text": [
      "Dash is running on http://127.0.0.1:8050/\n",
      "\n",
      "Dash is running on http://127.0.0.1:8050/\n",
      "\n",
      "Dash is running on http://127.0.0.1:8050/\n",
      "\n",
      "Dash is running on http://127.0.0.1:8050/\n",
      "\n",
      "Dash is running on http://127.0.0.1:8050/\n",
      "\n",
      "Dash is running on http://127.0.0.1:8050/\n",
      "\n",
      " * Serving Flask app '__main__' (lazy loading)\n",
      " * Environment: production\n",
      "\u001b[31m   WARNING: This is a development server. Do not use it in a production deployment.\u001b[0m\n",
      "\u001b[2m   Use a production WSGI server instead.\u001b[0m\n",
      " * Debug mode: on\n"
     ]
    },
    {
     "ename": "SystemExit",
     "evalue": "1",
     "output_type": "error",
     "traceback": [
      "An exception has occurred, use %tb to see the full traceback.\n",
      "\u001b[1;31mSystemExit\u001b[0m\u001b[1;31m:\u001b[0m 1\n"
     ]
    }
   ],
   "source": [
    "from dash import Dash\n",
    "import dash_core_components as dcc\n",
    "import dash_html_components as html\n",
    "from dash.dependencies import Input, Output\n",
    "\n",
    "app = Dash(__name__)\n",
    "app.layout = html.Div([\n",
    "    dcc.Dropdown(value=['NYC', 'MTL', 'SF'], id='demo-dropdown'),\n",
    "    html.Div(id='dd-output-container')\n",
    "])\n",
    "\n",
    "\n",
    "@app.callback(\n",
    "    Output('dd-output-container', 'children'),\n",
    "    Input('demo-dropdown', 'value')\n",
    ")\n",
    "def update_output(value):\n",
    "    return f'You have selected {value}'\n",
    "\n",
    "if __name__ == '__main__':\n",
    "    app.run_server(debug=True)"
   ]
  },
  {
   "cell_type": "code",
   "execution_count": 13,
   "metadata": {},
   "outputs": [
    {
     "ename": "SystemExit",
     "evalue": "1",
     "output_type": "error",
     "traceback": [
      "\u001b[1;31m---------------------------------------------------------------------------\u001b[0m",
      "\u001b[1;31mSystemExit\u001b[0m                                Traceback (most recent call last)",
      "\u001b[1;32mc:\\Users\\User\\OneDrive\\Desktop\\Kurs\\git\\jdszr6-slytherin-group\\jdszr6-slytherin_group\\PYTHON_project\\Dominik_Mikulski\\GUI\\Dash\\Learning.ipynb Cell 1'\u001b[0m in \u001b[0;36m<cell line: 21>\u001b[1;34m()\u001b[0m\n\u001b[0;32m     <a href='vscode-notebook-cell:/c%3A/Users/User/OneDrive/Desktop/Kurs/git/jdszr6-slytherin-group/jdszr6-slytherin_group/PYTHON_project/Dominik_Mikulski/GUI/Dash/Learning.ipynb#ch0000000?line=17'>18</a>\u001b[0m     \u001b[39mreturn\u001b[39;00m \u001b[39mf\u001b[39m\u001b[39m'\u001b[39m\u001b[39mYou have selected \u001b[39m\u001b[39m{\u001b[39;00mvalue\u001b[39m}\u001b[39;00m\u001b[39m'\u001b[39m\n\u001b[0;32m     <a href='vscode-notebook-cell:/c%3A/Users/User/OneDrive/Desktop/Kurs/git/jdszr6-slytherin-group/jdszr6-slytherin_group/PYTHON_project/Dominik_Mikulski/GUI/Dash/Learning.ipynb#ch0000000?line=20'>21</a>\u001b[0m \u001b[39mif\u001b[39;00m \u001b[39m__name__\u001b[39m \u001b[39m==\u001b[39m \u001b[39m'\u001b[39m\u001b[39m__main__\u001b[39m\u001b[39m'\u001b[39m:\n\u001b[1;32m---> <a href='vscode-notebook-cell:/c%3A/Users/User/OneDrive/Desktop/Kurs/git/jdszr6-slytherin-group/jdszr6-slytherin_group/PYTHON_project/Dominik_Mikulski/GUI/Dash/Learning.ipynb#ch0000000?line=21'>22</a>\u001b[0m     app\u001b[39m.\u001b[39;49mrun_server(debug\u001b[39m=\u001b[39;49m\u001b[39mTrue\u001b[39;49;00m)\n",
      "File \u001b[1;32m~\\anaconda3\\envs\\kivy_venv\\lib\\site-packages\\dash\\dash.py:1717\u001b[0m, in \u001b[0;36mDash.run_server\u001b[1;34m(self, host, port, proxy, debug, dev_tools_ui, dev_tools_props_check, dev_tools_serve_dev_bundles, dev_tools_hot_reload, dev_tools_hot_reload_interval, dev_tools_hot_reload_watch_interval, dev_tools_hot_reload_max_retry, dev_tools_silence_routes_logging, dev_tools_prune_errors, **flask_run_options)\u001b[0m\n\u001b[0;32m   <a href='file:///c%3A/Users/User/anaconda3/envs/kivy_venv/lib/site-packages/dash/dash.py?line=1712'>1713</a>\u001b[0m         display_url \u001b[39m=\u001b[39m (protocol, host, \u001b[39m\"\u001b[39m\u001b[39m:\u001b[39m\u001b[39m{}\u001b[39;00m\u001b[39m\"\u001b[39m\u001b[39m.\u001b[39mformat(port), path)\n\u001b[0;32m   <a href='file:///c%3A/Users/User/anaconda3/envs/kivy_venv/lib/site-packages/dash/dash.py?line=1714'>1715</a>\u001b[0m     \u001b[39mself\u001b[39m\u001b[39m.\u001b[39mlogger\u001b[39m.\u001b[39minfo(\u001b[39m\"\u001b[39m\u001b[39mDash is running on \u001b[39m\u001b[39m%s\u001b[39;00m\u001b[39m://\u001b[39m\u001b[39m%s\u001b[39;00m\u001b[39m%s\u001b[39;00m\u001b[39m%s\u001b[39;00m\u001b[39m\\n\u001b[39;00m\u001b[39m\"\u001b[39m, \u001b[39m*\u001b[39mdisplay_url)\n\u001b[1;32m-> <a href='file:///c%3A/Users/User/anaconda3/envs/kivy_venv/lib/site-packages/dash/dash.py?line=1716'>1717</a>\u001b[0m \u001b[39mself\u001b[39m\u001b[39m.\u001b[39mserver\u001b[39m.\u001b[39mrun(host\u001b[39m=\u001b[39mhost, port\u001b[39m=\u001b[39mport, debug\u001b[39m=\u001b[39mdebug, \u001b[39m*\u001b[39m\u001b[39m*\u001b[39mflask_run_options)\n",
      "File \u001b[1;32m~\\anaconda3\\envs\\kivy_venv\\lib\\site-packages\\flask\\app.py:920\u001b[0m, in \u001b[0;36mFlask.run\u001b[1;34m(self, host, port, debug, load_dotenv, **options)\u001b[0m\n\u001b[0;32m    <a href='file:///c%3A/Users/User/anaconda3/envs/kivy_venv/lib/site-packages/flask/app.py?line=916'>917</a>\u001b[0m \u001b[39mfrom\u001b[39;00m \u001b[39mwerkzeug\u001b[39;00m\u001b[39m.\u001b[39;00m\u001b[39mserving\u001b[39;00m \u001b[39mimport\u001b[39;00m run_simple\n\u001b[0;32m    <a href='file:///c%3A/Users/User/anaconda3/envs/kivy_venv/lib/site-packages/flask/app.py?line=918'>919</a>\u001b[0m \u001b[39mtry\u001b[39;00m:\n\u001b[1;32m--> <a href='file:///c%3A/Users/User/anaconda3/envs/kivy_venv/lib/site-packages/flask/app.py?line=919'>920</a>\u001b[0m     run_simple(t\u001b[39m.\u001b[39mcast(\u001b[39mstr\u001b[39m, host), port, \u001b[39mself\u001b[39m, \u001b[39m*\u001b[39m\u001b[39m*\u001b[39moptions)\n\u001b[0;32m    <a href='file:///c%3A/Users/User/anaconda3/envs/kivy_venv/lib/site-packages/flask/app.py?line=920'>921</a>\u001b[0m \u001b[39mfinally\u001b[39;00m:\n\u001b[0;32m    <a href='file:///c%3A/Users/User/anaconda3/envs/kivy_venv/lib/site-packages/flask/app.py?line=921'>922</a>\u001b[0m     \u001b[39m# reset the first request information if the development server\u001b[39;00m\n\u001b[0;32m    <a href='file:///c%3A/Users/User/anaconda3/envs/kivy_venv/lib/site-packages/flask/app.py?line=922'>923</a>\u001b[0m     \u001b[39m# reset normally.  This makes it possible to restart the server\u001b[39;00m\n\u001b[0;32m    <a href='file:///c%3A/Users/User/anaconda3/envs/kivy_venv/lib/site-packages/flask/app.py?line=923'>924</a>\u001b[0m     \u001b[39m# without reloader and that stuff from an interactive shell.\u001b[39;00m\n\u001b[0;32m    <a href='file:///c%3A/Users/User/anaconda3/envs/kivy_venv/lib/site-packages/flask/app.py?line=924'>925</a>\u001b[0m     \u001b[39mself\u001b[39m\u001b[39m.\u001b[39m_got_first_request \u001b[39m=\u001b[39m \u001b[39mFalse\u001b[39;00m\n",
      "File \u001b[1;32m~\\anaconda3\\envs\\kivy_venv\\lib\\site-packages\\werkzeug\\serving.py:1009\u001b[0m, in \u001b[0;36mrun_simple\u001b[1;34m(hostname, port, application, use_reloader, use_debugger, use_evalex, extra_files, exclude_patterns, reloader_interval, reloader_type, threaded, processes, request_handler, static_files, passthrough_errors, ssl_context)\u001b[0m\n\u001b[0;32m   <a href='file:///c%3A/Users/User/anaconda3/envs/kivy_venv/lib/site-packages/werkzeug/serving.py?line=1004'>1005</a>\u001b[0m                 os\u001b[39m.\u001b[39munlink(server_address)\n\u001b[0;32m   <a href='file:///c%3A/Users/User/anaconda3/envs/kivy_venv/lib/site-packages/werkzeug/serving.py?line=1006'>1007</a>\u001b[0m     \u001b[39mfrom\u001b[39;00m \u001b[39m.\u001b[39;00m\u001b[39m_reloader\u001b[39;00m \u001b[39mimport\u001b[39;00m run_with_reloader \u001b[39mas\u001b[39;00m _rwr\n\u001b[1;32m-> <a href='file:///c%3A/Users/User/anaconda3/envs/kivy_venv/lib/site-packages/werkzeug/serving.py?line=1008'>1009</a>\u001b[0m     _rwr(\n\u001b[0;32m   <a href='file:///c%3A/Users/User/anaconda3/envs/kivy_venv/lib/site-packages/werkzeug/serving.py?line=1009'>1010</a>\u001b[0m         inner,\n\u001b[0;32m   <a href='file:///c%3A/Users/User/anaconda3/envs/kivy_venv/lib/site-packages/werkzeug/serving.py?line=1010'>1011</a>\u001b[0m         extra_files\u001b[39m=\u001b[39;49mextra_files,\n\u001b[0;32m   <a href='file:///c%3A/Users/User/anaconda3/envs/kivy_venv/lib/site-packages/werkzeug/serving.py?line=1011'>1012</a>\u001b[0m         exclude_patterns\u001b[39m=\u001b[39;49mexclude_patterns,\n\u001b[0;32m   <a href='file:///c%3A/Users/User/anaconda3/envs/kivy_venv/lib/site-packages/werkzeug/serving.py?line=1012'>1013</a>\u001b[0m         interval\u001b[39m=\u001b[39;49mreloader_interval,\n\u001b[0;32m   <a href='file:///c%3A/Users/User/anaconda3/envs/kivy_venv/lib/site-packages/werkzeug/serving.py?line=1013'>1014</a>\u001b[0m         reloader_type\u001b[39m=\u001b[39;49mreloader_type,\n\u001b[0;32m   <a href='file:///c%3A/Users/User/anaconda3/envs/kivy_venv/lib/site-packages/werkzeug/serving.py?line=1014'>1015</a>\u001b[0m     )\n\u001b[0;32m   <a href='file:///c%3A/Users/User/anaconda3/envs/kivy_venv/lib/site-packages/werkzeug/serving.py?line=1015'>1016</a>\u001b[0m \u001b[39melse\u001b[39;00m:\n\u001b[0;32m   <a href='file:///c%3A/Users/User/anaconda3/envs/kivy_venv/lib/site-packages/werkzeug/serving.py?line=1016'>1017</a>\u001b[0m     inner()\n",
      "File \u001b[1;32m~\\anaconda3\\envs\\kivy_venv\\lib\\site-packages\\werkzeug\\_reloader.py:428\u001b[0m, in \u001b[0;36mrun_with_reloader\u001b[1;34m(main_func, extra_files, exclude_patterns, interval, reloader_type)\u001b[0m\n\u001b[0;32m    <a href='file:///c%3A/Users/User/anaconda3/envs/kivy_venv/lib/site-packages/werkzeug/_reloader.py?line=425'>426</a>\u001b[0m             reloader\u001b[39m.\u001b[39mrun()\n\u001b[0;32m    <a href='file:///c%3A/Users/User/anaconda3/envs/kivy_venv/lib/site-packages/werkzeug/_reloader.py?line=426'>427</a>\u001b[0m     \u001b[39melse\u001b[39;00m:\n\u001b[1;32m--> <a href='file:///c%3A/Users/User/anaconda3/envs/kivy_venv/lib/site-packages/werkzeug/_reloader.py?line=427'>428</a>\u001b[0m         sys\u001b[39m.\u001b[39;49mexit(reloader\u001b[39m.\u001b[39;49mrestart_with_reloader())\n\u001b[0;32m    <a href='file:///c%3A/Users/User/anaconda3/envs/kivy_venv/lib/site-packages/werkzeug/_reloader.py?line=428'>429</a>\u001b[0m \u001b[39mexcept\u001b[39;00m \u001b[39mKeyboardInterrupt\u001b[39;00m:\n\u001b[0;32m    <a href='file:///c%3A/Users/User/anaconda3/envs/kivy_venv/lib/site-packages/werkzeug/_reloader.py?line=429'>430</a>\u001b[0m     \u001b[39mpass\u001b[39;00m\n",
      "\u001b[1;31mSystemExit\u001b[0m: 1"
     ]
    }
   ],
   "source": [
    "%tb"
   ]
  }
 ],
 "metadata": {
  "interpreter": {
   "hash": "41989ed2d306b9f0b8a34ef1c8e377b2f2bea3e36360cbb2b9c84dcebe332302"
  },
  "kernelspec": {
   "display_name": "Python 3 (ipykernel)",
   "language": "python",
   "name": "python3"
  },
  "language_info": {
   "codemirror_mode": {
    "name": "ipython",
    "version": 3
   },
   "file_extension": ".py",
   "mimetype": "text/x-python",
   "name": "python",
   "nbconvert_exporter": "python",
   "pygments_lexer": "ipython3",
   "version": "3.9.7"
  }
 },
 "nbformat": 4,
 "nbformat_minor": 2
}

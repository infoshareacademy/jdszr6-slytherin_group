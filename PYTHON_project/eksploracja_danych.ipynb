{
 "cells": [
  {
   "cell_type": "code",
   "execution_count": 3,
   "metadata": {},
   "outputs": [],
   "source": [
    "import pandas as pd"
   ]
  },
  {
   "cell_type": "markdown",
   "metadata": {},
   "source": [
    "Import clean data"
   ]
  },
  {
   "cell_type": "code",
   "execution_count": 4,
   "metadata": {},
   "outputs": [],
   "source": [
    "good_bad = pd.read_csv(\"good_bad_clients.csv\")\n",
    "application_records = pd.read_csv(\"application_record_clean.csv\")\n",
    "credit_records = pd.read_csv(\"credit_record_clean.csv\")"
   ]
  },
  {
   "cell_type": "code",
   "execution_count": 20,
   "metadata": {},
   "outputs": [],
   "source": [
    "def month_weight(month, number_of_records, mnor, historical_range):\n",
    "    \n",
    "    \"\"\"\n",
    "    Funkcja przyporządkowująca wagę danemu miesiącu (month) z uwzględnieniem liczby wszystkich miesięcy (number_of_months).\n",
    "    Wagi maleją w sposób liniowy, a ich suma daje 1.\n",
    "    \"\"\"\n",
    "    \n",
    "    k = abs(month) + 1\n",
    "    n = number_of_records\n",
    "    \n",
    "    if n < mnor:\n",
    "        weight = 0\n",
    "    elif mnor <= n <= historical_range:\n",
    "        weight = -2*k/(n*(n+1))+2/n\n",
    "    else:\n",
    "        n = historical_range\n",
    "        if k <= historical_range:\n",
    "            weight = -2*k/(n*(n+1))+2/n\n",
    "        else:\n",
    "            weight = 0\n",
    "              \n",
    "                \n",
    "    return weight"
   ]
  },
  {
   "cell_type": "code",
   "execution_count": 18,
   "metadata": {},
   "outputs": [],
   "source": [
    "def good_bad_function(ID, status, threshold):\n",
    "    \n",
    "    \"\"\"\n",
    "    Funkcja określająca czy dany klient może otrzymać kredyt.\n",
    "    \"\"\"\n",
    "    \n",
    "    if status >= threshold:\n",
    "        judgment = 1\n",
    "    else:\n",
    "        judgment = 0\n",
    "    \n",
    "    \n",
    "    return judgment"
   ]
  },
  {
   "cell_type": "code",
   "execution_count": 11,
   "metadata": {},
   "outputs": [],
   "source": [
    "def account_activity(ID, last_record):\n",
    "    \n",
    "    \"\"\"\n",
    "    Funkcja zwracająca obecny stan konta klienta.\n",
    "    Konto aktywne - 1\n",
    "    Konto nieaktywne - 0\n",
    "    \"\"\"\n",
    "        \n",
    "    if last_record == 0:\n",
    "        active = 1\n",
    "    else:\n",
    "        active = 0\n",
    "        \n",
    "        \n",
    "    return active"
   ]
  },
  {
   "cell_type": "code",
   "execution_count": 19,
   "metadata": {},
   "outputs": [
    {
     "name": "stderr",
     "output_type": "stream",
     "text": [
      "<>:14: SyntaxWarning: \"is\" with a literal. Did you mean \"==\"?\n",
      "<>:16: SyntaxWarning: \"is\" with a literal. Did you mean \"==\"?\n",
      "<>:18: SyntaxWarning: \"is\" with a literal. Did you mean \"==\"?\n",
      "<>:14: SyntaxWarning: \"is\" with a literal. Did you mean \"==\"?\n",
      "<>:16: SyntaxWarning: \"is\" with a literal. Did you mean \"==\"?\n",
      "<>:18: SyntaxWarning: \"is\" with a literal. Did you mean \"==\"?\n",
      "<ipython-input-19-9579a0827f27>:14: SyntaxWarning: \"is\" with a literal. Did you mean \"==\"?\n",
      "  if status is \"5\":\n",
      "<ipython-input-19-9579a0827f27>:16: SyntaxWarning: \"is\" with a literal. Did you mean \"==\"?\n",
      "  elif status is \"X\":\n",
      "<ipython-input-19-9579a0827f27>:18: SyntaxWarning: \"is\" with a literal. Did you mean \"==\"?\n",
      "  elif status is \"C\":\n"
     ]
    }
   ],
   "source": [
    "def status2number(month, status, number_of_records, mnor, historical_range):\n",
    "    \n",
    "    \"\"\"\n",
    "    W oparciu o funkcję month_weight, status2number przekształca status z wybranego miesiąca na liczbę z przedziału <-1,1>.\n",
    "    \n",
    "    \"\"\"\n",
    "    \n",
    "    if month <= historical_range-1:\n",
    "        weight = month_weight(month,\n",
    "                              number_of_records,\n",
    "                              mnor,\n",
    "                              historical_range)\n",
    "\n",
    "        if status is \"5\":\n",
    "            value = -1\n",
    "        elif status is \"X\":\n",
    "            value = 0\n",
    "        elif status is \"C\":\n",
    "            value = 1\n",
    "        else:\n",
    "            n = int(status)\n",
    "            value = 1/2**(n+1)-1\n",
    "    else:\n",
    "        weight = 1\n",
    "        value = 0\n",
    "    \n",
    "    \n",
    "    return weight * value"
   ]
  },
  {
   "cell_type": "code",
   "execution_count": 14,
   "metadata": {},
   "outputs": [],
   "source": [
    "def good_bad_function(ID, status, threshold):\n",
    "    \n",
    "    \"\"\"\n",
    "    Funkcja określająca czy dany klient może otrzymać kredyt.\n",
    "    \"\"\"\n",
    "    \n",
    "    if status >= threshold:\n",
    "        judgment = 1\n",
    "    else:\n",
    "        judgment = 0\n",
    "    \n",
    "    \n",
    "    return judgment"
   ]
  },
  {
   "cell_type": "markdown",
   "metadata": {},
   "source": [
    "Function to create date frame with selecterd threshold"
   ]
  },
  {
   "cell_type": "code",
   "execution_count": 16,
   "metadata": {},
   "outputs": [],
   "source": [
    "def main(data_frame, minimum_number_of_records=4, historical_range=24, threshold=0):\n",
    "    \n",
    "    \"\"\"\n",
    "    text\n",
    "    text\n",
    "    \n",
    "    \"\"\"\n",
    "    \n",
    "    data_frame[\"MONTHS_BALANCE\"] = data_frame[\"MONTHS_BALANCE\"].abs()\n",
    "    \n",
    "    extra_frame = data_frame.groupby(by=\"ID\")[\"MONTHS_BALANCE\"].min().reset_index(name=\"LAST_RECORD\")\n",
    "    data_frame = pd.merge(data_frame, extra_frame, on=\"ID\", how=\"left\")\n",
    "    \n",
    "    extra_frame = data_frame.groupby(by=\"ID\")[\"MONTHS_BALANCE\"].count().reset_index(name=\"NUMBER_OF_RECORDS\")\n",
    "    data_frame = pd.merge(data_frame, extra_frame, on=\"ID\", how=\"left\")\n",
    "    \n",
    "    data_frame[\"MONTHS\"] = data_frame[\"MONTHS_BALANCE\"] - data_frame[\"LAST_RECORD\"]\n",
    "    \n",
    "\n",
    "    data_frame[\"ACTIVE\"] = data_frame.apply(lambda df: account_activity(df[\"ID\"],\n",
    "                                                                        df[\"LAST_RECORD\"]), axis=1)\n",
    "    \n",
    "    data_frame[\"PARTIAL_STATUS\"] = data_frame.apply(lambda df: status2number(df[\"MONTHS\"],\n",
    "                                                                             df[\"STATUS\"],\n",
    "                                                                             df[\"NUMBER_OF_RECORDS\"],\n",
    "                                                                             minimum_number_of_records,\n",
    "                                                                             historical_range), axis=1)\n",
    "    \n",
    "    extra_frame = data_frame.groupby(by = \"ID\")[\"PARTIAL_STATUS\"].sum().reset_index(name=\"TOTAL_STATUS\")\n",
    "    data_frame = pd.merge(data_frame, extra_frame, on=\"ID\", how=\"left\")\n",
    "    \n",
    "    data_frame[\"GOOD_BAD\"] = data_frame.apply(lambda df: good_bad_function(df[\"ID\"],\n",
    "                                                                           df[\"TOTAL_STATUS\"],\n",
    "                                                                           threshold), axis=1)\n",
    "    \n",
    "    return data_frame"
   ]
  },
  {
   "cell_type": "code",
   "execution_count": 24,
   "metadata": {},
   "outputs": [],
   "source": [
    "credit_records_new_df = main(credit_records, threshold = 0.4)"
   ]
  },
  {
   "cell_type": "code",
   "execution_count": 37,
   "metadata": {},
   "outputs": [],
   "source": [
    "good_bad_dict_df = credit_records_new_df[[\"ID\",\"GOOD_BAD\"]].drop_duplicates().reset_index(drop = True)\n"
   ]
  },
  {
   "cell_type": "code",
   "execution_count": 38,
   "metadata": {},
   "outputs": [
    {
     "data": {
      "text/html": [
       "<div>\n",
       "<style scoped>\n",
       "    .dataframe tbody tr th:only-of-type {\n",
       "        vertical-align: middle;\n",
       "    }\n",
       "\n",
       "    .dataframe tbody tr th {\n",
       "        vertical-align: top;\n",
       "    }\n",
       "\n",
       "    .dataframe thead th {\n",
       "        text-align: right;\n",
       "    }\n",
       "</style>\n",
       "<table border=\"1\" class=\"dataframe\">\n",
       "  <thead>\n",
       "    <tr style=\"text-align: right;\">\n",
       "      <th></th>\n",
       "      <th>ID</th>\n",
       "      <th>GOOD_BAD</th>\n",
       "    </tr>\n",
       "  </thead>\n",
       "  <tbody>\n",
       "    <tr>\n",
       "      <th>0</th>\n",
       "      <td>5001711</td>\n",
       "      <td>0</td>\n",
       "    </tr>\n",
       "    <tr>\n",
       "      <th>1</th>\n",
       "      <td>5001712</td>\n",
       "      <td>1</td>\n",
       "    </tr>\n",
       "    <tr>\n",
       "      <th>2</th>\n",
       "      <td>5001713</td>\n",
       "      <td>0</td>\n",
       "    </tr>\n",
       "    <tr>\n",
       "      <th>3</th>\n",
       "      <td>5001714</td>\n",
       "      <td>0</td>\n",
       "    </tr>\n",
       "    <tr>\n",
       "      <th>4</th>\n",
       "      <td>5001715</td>\n",
       "      <td>0</td>\n",
       "    </tr>\n",
       "    <tr>\n",
       "      <th>...</th>\n",
       "      <td>...</td>\n",
       "      <td>...</td>\n",
       "    </tr>\n",
       "    <tr>\n",
       "      <th>45980</th>\n",
       "      <td>5150482</td>\n",
       "      <td>0</td>\n",
       "    </tr>\n",
       "    <tr>\n",
       "      <th>45981</th>\n",
       "      <td>5150483</td>\n",
       "      <td>0</td>\n",
       "    </tr>\n",
       "    <tr>\n",
       "      <th>45982</th>\n",
       "      <td>5150484</td>\n",
       "      <td>0</td>\n",
       "    </tr>\n",
       "    <tr>\n",
       "      <th>45983</th>\n",
       "      <td>5150485</td>\n",
       "      <td>0</td>\n",
       "    </tr>\n",
       "    <tr>\n",
       "      <th>45984</th>\n",
       "      <td>5150487</td>\n",
       "      <td>1</td>\n",
       "    </tr>\n",
       "  </tbody>\n",
       "</table>\n",
       "<p>45985 rows × 2 columns</p>\n",
       "</div>"
      ],
      "text/plain": [
       "            ID  GOOD_BAD\n",
       "0      5001711         0\n",
       "1      5001712         1\n",
       "2      5001713         0\n",
       "3      5001714         0\n",
       "4      5001715         0\n",
       "...        ...       ...\n",
       "45980  5150482         0\n",
       "45981  5150483         0\n",
       "45982  5150484         0\n",
       "45983  5150485         0\n",
       "45984  5150487         1\n",
       "\n",
       "[45985 rows x 2 columns]"
      ]
     },
     "execution_count": 38,
     "metadata": {},
     "output_type": "execute_result"
    }
   ],
   "source": [
    "good_bad_dict_df"
   ]
  },
  {
   "cell_type": "markdown",
   "metadata": {},
   "source": [
    "Join data frame good bad client with client data"
   ]
  },
  {
   "cell_type": "code",
   "execution_count": 41,
   "metadata": {},
   "outputs": [],
   "source": [
    "final_df = pd.merge(application_records, good_bad_dict_df, how=\"left\", on = \"ID\")"
   ]
  },
  {
   "cell_type": "code",
   "execution_count": 48,
   "metadata": {},
   "outputs": [
    {
     "data": {
      "text/html": [
       "<div>\n",
       "<style scoped>\n",
       "    .dataframe tbody tr th:only-of-type {\n",
       "        vertical-align: middle;\n",
       "    }\n",
       "\n",
       "    .dataframe tbody tr th {\n",
       "        vertical-align: top;\n",
       "    }\n",
       "\n",
       "    .dataframe thead th {\n",
       "        text-align: right;\n",
       "    }\n",
       "</style>\n",
       "<table border=\"1\" class=\"dataframe\">\n",
       "  <thead>\n",
       "    <tr style=\"text-align: right;\">\n",
       "      <th></th>\n",
       "      <th>ID</th>\n",
       "      <th>CODE_GENDER</th>\n",
       "    </tr>\n",
       "  </thead>\n",
       "  <tbody>\n",
       "    <tr>\n",
       "      <th>0</th>\n",
       "      <td>5008804</td>\n",
       "      <td>M</td>\n",
       "    </tr>\n",
       "    <tr>\n",
       "      <th>1</th>\n",
       "      <td>5008805</td>\n",
       "      <td>M</td>\n",
       "    </tr>\n",
       "    <tr>\n",
       "      <th>2</th>\n",
       "      <td>5008806</td>\n",
       "      <td>M</td>\n",
       "    </tr>\n",
       "    <tr>\n",
       "      <th>3</th>\n",
       "      <td>5008808</td>\n",
       "      <td>F</td>\n",
       "    </tr>\n",
       "    <tr>\n",
       "      <th>4</th>\n",
       "      <td>5008809</td>\n",
       "      <td>F</td>\n",
       "    </tr>\n",
       "    <tr>\n",
       "      <th>...</th>\n",
       "      <td>...</td>\n",
       "      <td>...</td>\n",
       "    </tr>\n",
       "    <tr>\n",
       "      <th>438552</th>\n",
       "      <td>6840104</td>\n",
       "      <td>M</td>\n",
       "    </tr>\n",
       "    <tr>\n",
       "      <th>438553</th>\n",
       "      <td>6840222</td>\n",
       "      <td>F</td>\n",
       "    </tr>\n",
       "    <tr>\n",
       "      <th>438554</th>\n",
       "      <td>6841878</td>\n",
       "      <td>F</td>\n",
       "    </tr>\n",
       "    <tr>\n",
       "      <th>438555</th>\n",
       "      <td>6842765</td>\n",
       "      <td>F</td>\n",
       "    </tr>\n",
       "    <tr>\n",
       "      <th>438556</th>\n",
       "      <td>6842885</td>\n",
       "      <td>F</td>\n",
       "    </tr>\n",
       "  </tbody>\n",
       "</table>\n",
       "<p>438557 rows × 2 columns</p>\n",
       "</div>"
      ],
      "text/plain": [
       "             ID CODE_GENDER\n",
       "0       5008804           M\n",
       "1       5008805           M\n",
       "2       5008806           M\n",
       "3       5008808           F\n",
       "4       5008809           F\n",
       "...         ...         ...\n",
       "438552  6840104           M\n",
       "438553  6840222           F\n",
       "438554  6841878           F\n",
       "438555  6842765           F\n",
       "438556  6842885           F\n",
       "\n",
       "[438557 rows x 2 columns]"
      ]
     },
     "execution_count": 48,
     "metadata": {},
     "output_type": "execute_result"
    }
   ],
   "source": [
    "final_df[[\"ID\", \"CODE_GENDER\"]]"
   ]
  }
 ],
 "metadata": {
  "interpreter": {
   "hash": "c5e48f84046969b800ff52f6d80523bcd1ca3fb1a99f1449e4197bf6c73dc096"
  },
  "kernelspec": {
   "display_name": "Python 3.8.8 ('base')",
   "language": "python",
   "name": "python3"
  },
  "language_info": {
   "codemirror_mode": {
    "name": "ipython",
    "version": 3
   },
   "file_extension": ".py",
   "mimetype": "text/x-python",
   "name": "python",
   "nbconvert_exporter": "python",
   "pygments_lexer": "ipython3",
   "version": "3.8.8"
  },
  "orig_nbformat": 4
 },
 "nbformat": 4,
 "nbformat_minor": 2
}

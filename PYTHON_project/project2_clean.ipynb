{
 "cells": [
  {
   "cell_type": "code",
   "execution_count": 8,
   "metadata": {},
   "outputs": [],
   "source": [
    "def cr_etl(cr_list):\n",
    "    \"\"\"This function takes credit records list and flattens all data to one row per client. The following format applies:\n",
    "    ID = id of the client, MB= list of months for a client, STS list of statuses for a given client\"\"\"\n",
    "    #Initialisig ID, MB, STS list with first values so further values can be appended\n",
    "    ID=int(cr_list[0]['ID'])    \n",
    "    MB=[]\n",
    "    MB.append(int(cr_list[0]['MONTHS_BALANCE']))\n",
    "    STS=[]\n",
    "    STS.append(cr_list[0]['STATUS'])\n",
    "\n",
    "    flat_cr_list=[]\n",
    "    for i in range(1,len(cr_list)):\n",
    "        if cr_list[i]['ID']==cr_list[i-1]['ID']:\n",
    "            #print(i, cr_list[i]['MONTHS_BALANCE'],type(MB),cr_list[i]['STATUS'],type(STS))\n",
    "            MB.append(int(cr_list[i]['MONTHS_BALANCE']))\n",
    "            STS.append(cr_list[i]['STATUS'])\n",
    "        else: \n",
    "            temp=list(dict.fromkeys(STS))\n",
    "            flat_cr_list.append([ID,MB,STS])\n",
    "            ID=int(cr_list[i]['ID'])\n",
    "            MB=[]\n",
    "            MB.append(int(cr_list[i]['MONTHS_BALANCE']))\n",
    "            STS=[]\n",
    "            STS.append(cr_list[i]['STATUS'])\n",
    "    return flat_cr_list"
   ]
  },
  {
   "cell_type": "code",
   "execution_count": 33,
   "metadata": {},
   "outputs": [],
   "source": [
    "import csv\n",
    "file=open('C:\\\\Users\\\\User\\\\OneDrive\\\\Desktop\\\\Kurs\\\\Projekt\\\\Python\\\\Dane\\\\credit_record.csv') #open file credit records\n",
    "credit_records_list=list((csv.DictReader(file))) #import all rows into a list of corresponding dictionaries. \n",
    "file.close()\n",
    "\n",
    "import pandas as pd\n",
    "credit_records=pd.DataFrame(cr_etl(credit_records_list),columns=[\"ID\",\"MONTHS_BALANCE\",\"STATUS\"]) #this takes credit list, makes it flat i.e. one \"row\" for one client and then turns it into a dataframe\n",
    "\n",
    "file=open('C:\\\\Users\\\\User\\\\OneDrive\\\\Desktop\\\\Kurs\\\\Projekt\\\\Python\\\\Dane\\\\application_record.csv') #open file application records\n",
    "application_redords=pd.read_csv(file) #import application records directly to a dataframe named application_records\n",
    "file.close()\n",
    "\n"
   ]
  },
  {
   "cell_type": "code",
   "execution_count": 25,
   "metadata": {},
   "outputs": [
    {
     "data": {
      "text/plain": [
       "[{'ID': '5001711', 'MONTHS_BALANCE': '0', 'STATUS': 'X'},\n",
       " {'ID': '5001711', 'MONTHS_BALANCE': '-1', 'STATUS': '0'},\n",
       " {'ID': '5001711', 'MONTHS_BALANCE': '-2', 'STATUS': '0'},\n",
       " {'ID': '5001711', 'MONTHS_BALANCE': '-3', 'STATUS': '0'}]"
      ]
     },
     "execution_count": 25,
     "metadata": {},
     "output_type": "execute_result"
    }
   ],
   "source": [
    "#One can now read credit data in its original form (below will show history for 2 clients)\n",
    "credit_records_list[0:4]"
   ]
  },
  {
   "cell_type": "code",
   "execution_count": 30,
   "metadata": {},
   "outputs": [
    {
     "data": {
      "text/html": [
       "<div>\n",
       "<style scoped>\n",
       "    .dataframe tbody tr th:only-of-type {\n",
       "        vertical-align: middle;\n",
       "    }\n",
       "\n",
       "    .dataframe tbody tr th {\n",
       "        vertical-align: top;\n",
       "    }\n",
       "\n",
       "    .dataframe thead th {\n",
       "        text-align: right;\n",
       "    }\n",
       "</style>\n",
       "<table border=\"1\" class=\"dataframe\">\n",
       "  <thead>\n",
       "    <tr style=\"text-align: right;\">\n",
       "      <th></th>\n",
       "      <th>ID</th>\n",
       "      <th>MONTHS_BALANCE</th>\n",
       "      <th>STATUS</th>\n",
       "    </tr>\n",
       "  </thead>\n",
       "  <tbody>\n",
       "    <tr>\n",
       "      <th>0</th>\n",
       "      <td>5001711</td>\n",
       "      <td>[0, -1, -2, -3]</td>\n",
       "      <td>[X, 0, 0, 0]</td>\n",
       "    </tr>\n",
       "  </tbody>\n",
       "</table>\n",
       "</div>"
      ],
      "text/plain": [
       "        ID   MONTHS_BALANCE        STATUS\n",
       "0  5001711  [0, -1, -2, -3]  [X, 0, 0, 0]"
      ]
     },
     "execution_count": 30,
     "metadata": {},
     "output_type": "execute_result"
    }
   ],
   "source": [
    "#or in aggreagated per client form both months balance and status are from most recent month to the oldest month\n",
    "credit_records[0:1]"
   ]
  },
  {
   "cell_type": "code",
   "execution_count": 35,
   "metadata": {},
   "outputs": [
    {
     "data": {
      "text/html": [
       "<div>\n",
       "<style scoped>\n",
       "    .dataframe tbody tr th:only-of-type {\n",
       "        vertical-align: middle;\n",
       "    }\n",
       "\n",
       "    .dataframe tbody tr th {\n",
       "        vertical-align: top;\n",
       "    }\n",
       "\n",
       "    .dataframe thead th {\n",
       "        text-align: right;\n",
       "    }\n",
       "</style>\n",
       "<table border=\"1\" class=\"dataframe\">\n",
       "  <thead>\n",
       "    <tr style=\"text-align: right;\">\n",
       "      <th></th>\n",
       "      <th>ID</th>\n",
       "      <th>CODE_GENDER</th>\n",
       "      <th>FLAG_OWN_CAR</th>\n",
       "      <th>FLAG_OWN_REALTY</th>\n",
       "      <th>CNT_CHILDREN</th>\n",
       "      <th>AMT_INCOME_TOTAL</th>\n",
       "      <th>NAME_INCOME_TYPE</th>\n",
       "      <th>NAME_EDUCATION_TYPE</th>\n",
       "      <th>NAME_FAMILY_STATUS</th>\n",
       "      <th>NAME_HOUSING_TYPE</th>\n",
       "      <th>DAYS_BIRTH</th>\n",
       "      <th>DAYS_EMPLOYED</th>\n",
       "      <th>FLAG_MOBIL</th>\n",
       "      <th>FLAG_WORK_PHONE</th>\n",
       "      <th>FLAG_PHONE</th>\n",
       "      <th>FLAG_EMAIL</th>\n",
       "      <th>OCCUPATION_TYPE</th>\n",
       "      <th>CNT_FAM_MEMBERS</th>\n",
       "    </tr>\n",
       "  </thead>\n",
       "  <tbody>\n",
       "    <tr>\n",
       "      <th>0</th>\n",
       "      <td>5008804</td>\n",
       "      <td>M</td>\n",
       "      <td>Y</td>\n",
       "      <td>Y</td>\n",
       "      <td>0</td>\n",
       "      <td>427500.0</td>\n",
       "      <td>Working</td>\n",
       "      <td>Higher education</td>\n",
       "      <td>Civil marriage</td>\n",
       "      <td>Rented apartment</td>\n",
       "      <td>-12005</td>\n",
       "      <td>-4542</td>\n",
       "      <td>1</td>\n",
       "      <td>1</td>\n",
       "      <td>0</td>\n",
       "      <td>0</td>\n",
       "      <td>NaN</td>\n",
       "      <td>2.0</td>\n",
       "    </tr>\n",
       "    <tr>\n",
       "      <th>1</th>\n",
       "      <td>5008805</td>\n",
       "      <td>M</td>\n",
       "      <td>Y</td>\n",
       "      <td>Y</td>\n",
       "      <td>0</td>\n",
       "      <td>427500.0</td>\n",
       "      <td>Working</td>\n",
       "      <td>Higher education</td>\n",
       "      <td>Civil marriage</td>\n",
       "      <td>Rented apartment</td>\n",
       "      <td>-12005</td>\n",
       "      <td>-4542</td>\n",
       "      <td>1</td>\n",
       "      <td>1</td>\n",
       "      <td>0</td>\n",
       "      <td>0</td>\n",
       "      <td>NaN</td>\n",
       "      <td>2.0</td>\n",
       "    </tr>\n",
       "  </tbody>\n",
       "</table>\n",
       "</div>"
      ],
      "text/plain": [
       "        ID CODE_GENDER FLAG_OWN_CAR FLAG_OWN_REALTY  CNT_CHILDREN  \\\n",
       "0  5008804           M            Y               Y             0   \n",
       "1  5008805           M            Y               Y             0   \n",
       "\n",
       "   AMT_INCOME_TOTAL NAME_INCOME_TYPE NAME_EDUCATION_TYPE NAME_FAMILY_STATUS  \\\n",
       "0          427500.0          Working    Higher education     Civil marriage   \n",
       "1          427500.0          Working    Higher education     Civil marriage   \n",
       "\n",
       "  NAME_HOUSING_TYPE  DAYS_BIRTH  DAYS_EMPLOYED  FLAG_MOBIL  FLAG_WORK_PHONE  \\\n",
       "0  Rented apartment      -12005          -4542           1                1   \n",
       "1  Rented apartment      -12005          -4542           1                1   \n",
       "\n",
       "   FLAG_PHONE  FLAG_EMAIL OCCUPATION_TYPE  CNT_FAM_MEMBERS  \n",
       "0           0           0             NaN              2.0  \n",
       "1           0           0             NaN              2.0  "
      ]
     },
     "execution_count": 35,
     "metadata": {},
     "output_type": "execute_result"
    }
   ],
   "source": [
    "#application data can be viewed as dataform too\n",
    "application_redords[0:2]"
   ]
  }
 ],
 "metadata": {
  "interpreter": {
   "hash": "8fac594bfae6525c0c41b4041d2d72effa188cc8ead05f81b1fab2bb098927fb"
  },
  "kernelspec": {
   "display_name": "Python 3.9.7 ('base')",
   "language": "python",
   "name": "python3"
  },
  "language_info": {
   "codemirror_mode": {
    "name": "ipython",
    "version": 3
   },
   "file_extension": ".py",
   "mimetype": "text/x-python",
   "name": "python",
   "nbconvert_exporter": "python",
   "pygments_lexer": "ipython3",
   "version": "3.9.7"
  },
  "orig_nbformat": 4
 },
 "nbformat": 4,
 "nbformat_minor": 2
}

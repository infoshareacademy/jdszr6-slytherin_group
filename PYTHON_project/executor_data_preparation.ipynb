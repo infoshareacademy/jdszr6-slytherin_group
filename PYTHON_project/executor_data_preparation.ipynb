{
 "cells": [
  {
   "cell_type": "code",
   "execution_count": 1,
   "metadata": {},
   "outputs": [],
   "source": [
    "from collections import Counter\n",
    "\n",
    "import numpy as np\n",
    "import pandas as pd\n",
    "\n",
    "import matplotlib.pyplot as plt\n",
    "import seaborn as sns"
   ]
  },
  {
   "cell_type": "code",
   "execution_count": 2,
   "metadata": {},
   "outputs": [],
   "source": [
    "import scipy.stats as st\n",
    "from scipy.cluster import hierarchy\n",
    "from sklearn.preprocessing import StandardScaler\n",
    "from sklearn.cluster import KMeans"
   ]
  },
  {
   "cell_type": "code",
   "execution_count": 3,
   "metadata": {},
   "outputs": [],
   "source": [
    "application = pd.read_csv(\"all_data.csv\")\n",
    "application = application.drop(\"Unnamed: 0\", axis=1)\n",
    "\n",
    "goodbad = pd.read_csv(\"gsb.csv\")\n",
    "goodbad = goodbad.drop(\"Unnamed: 0\", axis=1)"
   ]
  },
  {
   "cell_type": "code",
   "execution_count": 4,
   "metadata": {},
   "outputs": [],
   "source": [
    "data_frame = pd.merge(application, goodbad, on=\"ID\").drop_duplicates(subset=\"ID\")"
   ]
  },
  {
   "cell_type": "code",
   "execution_count": 5,
   "metadata": {},
   "outputs": [],
   "source": [
    "def children(cnt_children):\n",
    "    \n",
    "    if cnt_children >= 3:\n",
    "        cnt_children = 3\n",
    "        \n",
    "    return cnt_children"
   ]
  },
  {
   "cell_type": "code",
   "execution_count": 6,
   "metadata": {},
   "outputs": [],
   "source": [
    "data_frame[\"CHILDREN\"] = data_frame.apply(lambda df: children(df[\"CNT_CHILDREN\"]), axis=1)"
   ]
  },
  {
   "cell_type": "code",
   "execution_count": 7,
   "metadata": {},
   "outputs": [],
   "source": [
    "def members(cnt_fam_members):\n",
    "    \n",
    "    if cnt_fam_members >= 4:\n",
    "        cnt_fam_members = 4\n",
    "        \n",
    "    return cnt_fam_members"
   ]
  },
  {
   "cell_type": "code",
   "execution_count": 8,
   "metadata": {},
   "outputs": [],
   "source": [
    "data_frame[\"MEMBERS\"] = data_frame.apply(lambda df: members(df[\"CNT_FAM_MEMBERS\"]), axis=1)"
   ]
  },
  {
   "cell_type": "code",
   "execution_count": 9,
   "metadata": {},
   "outputs": [],
   "source": [
    "def age(days_birth):\n",
    "    \n",
    "    return np.abs(days_birth//365)"
   ]
  },
  {
   "cell_type": "code",
   "execution_count": 10,
   "metadata": {},
   "outputs": [],
   "source": [
    "data_frame[\"AGE\"] = data_frame.apply(lambda df: np.abs(df[\"DAYS_BIRTH\"]//365), axis=1)"
   ]
  },
  {
   "cell_type": "code",
   "execution_count": 11,
   "metadata": {
    "scrolled": false
   },
   "outputs": [
    {
     "data": {
      "text/plain": [
       "<seaborn.axisgrid.FacetGrid at 0x2538f9b4608>"
      ]
     },
     "execution_count": 11,
     "metadata": {},
     "output_type": "execute_result"
    },
    {
     "data": {
      "image/png": "[encoded data removed]",
      "text/plain": [
       "<Figure size 413.125x360 with 1 Axes>"
      ]
     },
     "metadata": {
      "needs_background": "light"
     },
     "output_type": "display_data"
    }
   ],
   "source": [
    "data = data_frame[[\"AGE\"]].copy()\n",
    "\n",
    "kmeans = KMeans(n_clusters=5, random_state=1,).fit(data)\n",
    "data[\"CLUSTER\"] = kmeans.labels_\n",
    "\n",
    "sns.displot(data=data, x=\"AGE\", hue=\"CLUSTER\")"
   ]
  },
  {
   "cell_type": "code",
   "execution_count": 12,
   "metadata": {},
   "outputs": [],
   "source": [
    "a = data[\"AGE\"].min()\n",
    "b = data[\"AGE\"].max()\n",
    "\n",
    "intervals = []\n",
    "\n",
    "for i in range(5):\n",
    "    cmin = data[data[\"CLUSTER\"] == i][\"AGE\"].min()\n",
    "    if cmin == a:\n",
    "        cmin = 18\n",
    "    cmax = data[data[\"CLUSTER\"] == i][\"AGE\"].max()\n",
    "    if cmax == b:\n",
    "        cmax = 80\n",
    "    \n",
    "    intervals.append(pd.Interval(cmin, cmax, closed=\"both\"))\n",
    "    \n",
    "age_intervals_list = sorted(intervals)"
   ]
  },
  {
   "cell_type": "code",
   "execution_count": 13,
   "metadata": {},
   "outputs": [],
   "source": [
    "def age_intervals(age):\n",
    "    \n",
    "    \"\"\"\n",
    "    0 - <18, 33>\n",
    "    1 - <34, 40>\n",
    "    2 - <41, 48>\n",
    "    3 - <49, 57>\n",
    "    4 - <58, 80>\n",
    "    \"\"\"\n",
    "    \n",
    "    for number, interval in enumerate(age_intervals_list):\n",
    "        if age in interval:\n",
    "            return number"
   ]
  },
  {
   "cell_type": "code",
   "execution_count": 14,
   "metadata": {},
   "outputs": [],
   "source": [
    "data_frame[\"AGE\"] = data_frame.apply(lambda df: age_intervals(df[\"AGE\"]), axis=1)"
   ]
  },
  {
   "cell_type": "code",
   "execution_count": 15,
   "metadata": {},
   "outputs": [],
   "source": [
    "def employed(days_employed):\n",
    "    \n",
    "    if days_employed > 0:\n",
    "        return 45\n",
    "    else:\n",
    "        return int(np.floor(np.abs(days_employed)/365))"
   ]
  },
  {
   "cell_type": "code",
   "execution_count": 16,
   "metadata": {},
   "outputs": [],
   "source": [
    "data_frame[\"YEARS_EMPLOYED\"] = data_frame.apply(lambda df: employed(df[\"DAYS_EMPLOYED\"]), axis=1)"
   ]
  },
  {
   "cell_type": "code",
   "execution_count": 17,
   "metadata": {},
   "outputs": [
    {
     "data": {
      "text/plain": [
       "<seaborn.axisgrid.FacetGrid at 0x25392928908>"
      ]
     },
     "execution_count": 17,
     "metadata": {},
     "output_type": "execute_result"
    },
    {
     "data": {
      "image/png": "[encoded data removed]",
      "text/plain": [
       "<Figure size 413.125x360 with 1 Axes>"
      ]
     },
     "metadata": {
      "needs_background": "light"
     },
     "output_type": "display_data"
    }
   ],
   "source": [
    "data = data_frame[data_frame[\"NAME_INCOME_TYPE\"] != \"Pensioner\"][[\"YEARS_EMPLOYED\"]].copy()\n",
    "\n",
    "kmeans = KMeans(n_clusters=4, random_state=1,).fit(data)\n",
    "data[\"CLUSTER\"] = kmeans.labels_\n",
    "\n",
    "sns.displot(data=data, x=\"YEARS_EMPLOYED\", hue=\"CLUSTER\", palette=\"flare\")"
   ]
  },
  {
   "cell_type": "code",
   "execution_count": 18,
   "metadata": {},
   "outputs": [],
   "source": [
    "intervals = []\n",
    "\n",
    "for i in range(4):\n",
    "    cmin = data[data[\"CLUSTER\"] == i][\"YEARS_EMPLOYED\"].min()\n",
    "    cmax = data[data[\"CLUSTER\"] == i][\"YEARS_EMPLOYED\"].max()\n",
    "    \n",
    "    intervals.append(pd.Interval(cmin, cmax, closed=\"both\"))\n",
    "    \n",
    "employed_intervals_list = sorted(intervals)\n",
    "employed_intervals_list.append(pd.Interval(44, 50, closed=\"both\"))"
   ]
  },
  {
   "cell_type": "code",
   "execution_count": 19,
   "metadata": {},
   "outputs": [],
   "source": [
    "def employed_intervals(years):\n",
    "    \n",
    "    \"\"\"\n",
    "    0 - <0, 4>\n",
    "    1 - <5, 10>\n",
    "    2 - <11, 19>\n",
    "    3 - <20, 43>\n",
    "    4 - <44, 50>\n",
    "    \"\"\"\n",
    "    \n",
    "    for number, interval in enumerate(employed_intervals_list):\n",
    "        if years in interval:\n",
    "            return number"
   ]
  },
  {
   "cell_type": "code",
   "execution_count": 20,
   "metadata": {},
   "outputs": [],
   "source": [
    "data_frame[\"YEARS_EMPLOYED\"] = data_frame.apply(lambda df: employed_intervals(df[\"YEARS_EMPLOYED\"]), axis=1)"
   ]
  },
  {
   "cell_type": "code",
   "execution_count": 21,
   "metadata": {},
   "outputs": [
    {
     "data": {
      "text/plain": [
       "<seaborn.axisgrid.FacetGrid at 0x2539e25ef88>"
      ]
     },
     "execution_count": 21,
     "metadata": {},
     "output_type": "execute_result"
    },
    {
     "data": {
      "image/png": "[encoded data removed]",
      "text/plain": [
       "<Figure size 413.125x360 with 1 Axes>"
      ]
     },
     "metadata": {
      "needs_background": "light"
     },
     "output_type": "display_data"
    }
   ],
   "source": [
    "data = (data_frame[[\"AMT_INCOME_TOTAL\"]]/12).copy()\n",
    "\n",
    "kmeans = KMeans(n_clusters=5, random_state=1,).fit(data)\n",
    "data[\"CLUSTER\"] = kmeans.labels_\n",
    "\n",
    "sns.displot(data=data, x=\"AMT_INCOME_TOTAL\", hue=\"CLUSTER\", palette=\"flare\")"
   ]
  },
  {
   "cell_type": "code",
   "execution_count": 22,
   "metadata": {},
   "outputs": [],
   "source": [
    "a = data[\"AMT_INCOME_TOTAL\"].min()\n",
    "b = data[\"AMT_INCOME_TOTAL\"].max()\n",
    "\n",
    "intervals = []\n",
    "\n",
    "for i in range(5):\n",
    "    cmin = data[data[\"CLUSTER\"] == i][\"AMT_INCOME_TOTAL\"].min()\n",
    "    if cmin == a:\n",
    "        cmin = 0\n",
    "    cmax = data[data[\"CLUSTER\"] == i][\"AMT_INCOME_TOTAL\"].max()\n",
    "    if cmax == b:\n",
    "        cmax = 200000\n",
    "    \n",
    "    intervals.append(pd.Interval(cmin, cmax, closed=\"both\"))\n",
    "    \n",
    "income_intervals_list = sorted(intervals)"
   ]
  },
  {
   "cell_type": "code",
   "execution_count": 23,
   "metadata": {},
   "outputs": [],
   "source": [
    "def income_intervals(years):\n",
    "    \n",
    "    \"\"\"\n",
    "    0 - <0, 10350>\n",
    "    1 - <10500, 15975>\n",
    "    2 - <16125, 24000>\n",
    "    3 - <24375, 43125>\n",
    "    4 - <44250, 200000>\n",
    "    \"\"\"\n",
    "    \n",
    "    for number, interval in enumerate(income_intervals_list):\n",
    "        if years in interval:\n",
    "            return number"
   ]
  },
  {
   "cell_type": "code",
   "execution_count": 24,
   "metadata": {},
   "outputs": [],
   "source": [
    "data_frame[\"INCOME\"] = data_frame.apply(lambda df: income_intervals(df[\"AMT_INCOME_TOTAL\"]/12), axis=1)"
   ]
  },
  {
   "cell_type": "code",
   "execution_count": 25,
   "metadata": {},
   "outputs": [],
   "source": [
    "data_frame = data_frame.drop([\"AMT_INCOME_TOTAL\",\n",
    "                              \"CNT_CHILDREN\",\n",
    "                              \"CNT_FAM_MEMBERS\",\n",
    "                              \"DAYS_BIRTH\",\n",
    "                              \"DAYS_EMPLOYED\",\n",
    "                              \"MONTHS_BALANCE\",\n",
    "                              \"STATUS\",\n",
    "                              \"ACTIVITY\"], axis=1)"
   ]
  },
  {
   "cell_type": "code",
   "execution_count": 26,
   "metadata": {},
   "outputs": [],
   "source": [
    "data_frame = data_frame[data_frame[\"NAME_INCOME_TYPE\"] != 'Student']"
   ]
  },
  {
   "cell_type": "code",
   "execution_count": 27,
   "metadata": {},
   "outputs": [],
   "source": [
    "def education(name_education_type):\n",
    "    \n",
    "    if name_education_type == \"Academic degree\":\n",
    "        name_education_type = \"Higher education\"\n",
    "    \n",
    "    return name_education_type"
   ]
  },
  {
   "cell_type": "code",
   "execution_count": 28,
   "metadata": {},
   "outputs": [],
   "source": [
    "data_frame[\"NAME_EDUCATION_TYPE\"] = data_frame.apply(lambda df: education(df[\"NAME_EDUCATION_TYPE\"]), axis=1)"
   ]
  },
  {
   "cell_type": "code",
   "execution_count": 29,
   "metadata": {},
   "outputs": [],
   "source": [
    "def family_status(name_family_status):\n",
    "    \n",
    "    if name_family_status == \"Civil marriage\":\n",
    "        name_family_status = \"Married\"\n",
    "        \n",
    "    return name_family_status"
   ]
  },
  {
   "cell_type": "code",
   "execution_count": 30,
   "metadata": {},
   "outputs": [],
   "source": [
    "data_frame[\"NAME_FAMILY_STATUS\"] = data_frame.apply(lambda df: family_status(df[\"NAME_FAMILY_STATUS\"]), axis=1)"
   ]
  },
  {
   "cell_type": "code",
   "execution_count": 84,
   "metadata": {},
   "outputs": [],
   "source": [
    "#data_frame.to_csv(\"executor_data_prepared.csv\")"
   ]
  },
  {
   "cell_type": "code",
   "execution_count": null,
   "metadata": {},
   "outputs": [],
   "source": []
  },
  {
   "cell_type": "code",
   "execution_count": null,
   "metadata": {},
   "outputs": [],
   "source": []
  },
  {
   "cell_type": "code",
   "execution_count": null,
   "metadata": {},
   "outputs": [],
   "source": []
  },
  {
   "cell_type": "code",
   "execution_count": null,
   "metadata": {},
   "outputs": [],
   "source": []
  },
  {
   "cell_type": "code",
   "execution_count": null,
   "metadata": {},
   "outputs": [],
   "source": []
  }
 ],
 "metadata": {
  "kernelspec": {
   "display_name": "Python 3",
   "language": "python",
   "name": "python3"
  },
  "language_info": {
   "codemirror_mode": {
    "name": "ipython",
    "version": 3
   },
   "file_extension": ".py",
   "mimetype": "text/x-python",
   "name": "python",
   "nbconvert_exporter": "python",
   "pygments_lexer": "ipython3",
   "version": "3.7.4"
  }
 },
 "nbformat": 4,
 "nbformat_minor": 2
}

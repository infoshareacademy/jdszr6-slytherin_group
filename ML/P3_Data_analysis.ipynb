{
 "cells": [
  {
   "cell_type": "code",
   "execution_count": 143,
   "id": "184fea52",
   "metadata": {},
   "outputs": [],
   "source": [
    "import pandas as pd\n",
    "import seaborn as sns\n",
    "import numpy as np\n",
    "from plotly.subplots import make_subplots\n",
    "import matplotlib.pyplot as plt\n",
    "import plotly.express as px\n",
    "import plotly.graph_objects as go"
   ]
  },
  {
   "cell_type": "code",
   "execution_count": 3,
   "id": "27e5795b",
   "metadata": {},
   "outputs": [
    {
     "data": {
      "text/html": [
       "<div>\n",
       "<style scoped>\n",
       "    .dataframe tbody tr th:only-of-type {\n",
       "        vertical-align: middle;\n",
       "    }\n",
       "\n",
       "    .dataframe tbody tr th {\n",
       "        vertical-align: top;\n",
       "    }\n",
       "\n",
       "    .dataframe thead th {\n",
       "        text-align: right;\n",
       "    }\n",
       "</style>\n",
       "<table border=\"1\" class=\"dataframe\">\n",
       "  <thead>\n",
       "    <tr style=\"text-align: right;\">\n",
       "      <th></th>\n",
       "      <th>customerID</th>\n",
       "      <th>gender</th>\n",
       "      <th>SeniorCitizen</th>\n",
       "      <th>Partner</th>\n",
       "      <th>Dependents</th>\n",
       "      <th>tenure</th>\n",
       "      <th>PhoneService</th>\n",
       "      <th>MultipleLines</th>\n",
       "      <th>InternetService</th>\n",
       "      <th>OnlineSecurity</th>\n",
       "      <th>...</th>\n",
       "      <th>DeviceProtection</th>\n",
       "      <th>TechSupport</th>\n",
       "      <th>StreamingTV</th>\n",
       "      <th>StreamingMovies</th>\n",
       "      <th>Contract</th>\n",
       "      <th>PaperlessBilling</th>\n",
       "      <th>PaymentMethod</th>\n",
       "      <th>MonthlyCharges</th>\n",
       "      <th>TotalCharges</th>\n",
       "      <th>Churn</th>\n",
       "    </tr>\n",
       "  </thead>\n",
       "  <tbody>\n",
       "    <tr>\n",
       "      <th>0</th>\n",
       "      <td>7590-VHVEG</td>\n",
       "      <td>Female</td>\n",
       "      <td>0</td>\n",
       "      <td>Yes</td>\n",
       "      <td>No</td>\n",
       "      <td>1</td>\n",
       "      <td>No</td>\n",
       "      <td>No phone service</td>\n",
       "      <td>DSL</td>\n",
       "      <td>No</td>\n",
       "      <td>...</td>\n",
       "      <td>No</td>\n",
       "      <td>No</td>\n",
       "      <td>No</td>\n",
       "      <td>No</td>\n",
       "      <td>Month-to-month</td>\n",
       "      <td>Yes</td>\n",
       "      <td>Electronic check</td>\n",
       "      <td>29.85</td>\n",
       "      <td>29.85</td>\n",
       "      <td>No</td>\n",
       "    </tr>\n",
       "    <tr>\n",
       "      <th>1</th>\n",
       "      <td>5575-GNVDE</td>\n",
       "      <td>Male</td>\n",
       "      <td>0</td>\n",
       "      <td>No</td>\n",
       "      <td>No</td>\n",
       "      <td>34</td>\n",
       "      <td>Yes</td>\n",
       "      <td>No</td>\n",
       "      <td>DSL</td>\n",
       "      <td>Yes</td>\n",
       "      <td>...</td>\n",
       "      <td>Yes</td>\n",
       "      <td>No</td>\n",
       "      <td>No</td>\n",
       "      <td>No</td>\n",
       "      <td>One year</td>\n",
       "      <td>No</td>\n",
       "      <td>Mailed check</td>\n",
       "      <td>56.95</td>\n",
       "      <td>1889.5</td>\n",
       "      <td>No</td>\n",
       "    </tr>\n",
       "    <tr>\n",
       "      <th>2</th>\n",
       "      <td>3668-QPYBK</td>\n",
       "      <td>Male</td>\n",
       "      <td>0</td>\n",
       "      <td>No</td>\n",
       "      <td>No</td>\n",
       "      <td>2</td>\n",
       "      <td>Yes</td>\n",
       "      <td>No</td>\n",
       "      <td>DSL</td>\n",
       "      <td>Yes</td>\n",
       "      <td>...</td>\n",
       "      <td>No</td>\n",
       "      <td>No</td>\n",
       "      <td>No</td>\n",
       "      <td>No</td>\n",
       "      <td>Month-to-month</td>\n",
       "      <td>Yes</td>\n",
       "      <td>Mailed check</td>\n",
       "      <td>53.85</td>\n",
       "      <td>108.15</td>\n",
       "      <td>Yes</td>\n",
       "    </tr>\n",
       "    <tr>\n",
       "      <th>3</th>\n",
       "      <td>7795-CFOCW</td>\n",
       "      <td>Male</td>\n",
       "      <td>0</td>\n",
       "      <td>No</td>\n",
       "      <td>No</td>\n",
       "      <td>45</td>\n",
       "      <td>No</td>\n",
       "      <td>No phone service</td>\n",
       "      <td>DSL</td>\n",
       "      <td>Yes</td>\n",
       "      <td>...</td>\n",
       "      <td>Yes</td>\n",
       "      <td>Yes</td>\n",
       "      <td>No</td>\n",
       "      <td>No</td>\n",
       "      <td>One year</td>\n",
       "      <td>No</td>\n",
       "      <td>Bank transfer (automatic)</td>\n",
       "      <td>42.30</td>\n",
       "      <td>1840.75</td>\n",
       "      <td>No</td>\n",
       "    </tr>\n",
       "    <tr>\n",
       "      <th>4</th>\n",
       "      <td>9237-HQITU</td>\n",
       "      <td>Female</td>\n",
       "      <td>0</td>\n",
       "      <td>No</td>\n",
       "      <td>No</td>\n",
       "      <td>2</td>\n",
       "      <td>Yes</td>\n",
       "      <td>No</td>\n",
       "      <td>Fiber optic</td>\n",
       "      <td>No</td>\n",
       "      <td>...</td>\n",
       "      <td>No</td>\n",
       "      <td>No</td>\n",
       "      <td>No</td>\n",
       "      <td>No</td>\n",
       "      <td>Month-to-month</td>\n",
       "      <td>Yes</td>\n",
       "      <td>Electronic check</td>\n",
       "      <td>70.70</td>\n",
       "      <td>151.65</td>\n",
       "      <td>Yes</td>\n",
       "    </tr>\n",
       "  </tbody>\n",
       "</table>\n",
       "<p>5 rows × 21 columns</p>\n",
       "</div>"
      ],
      "text/plain": [
       "   customerID  gender  SeniorCitizen Partner Dependents  tenure PhoneService  \\\n",
       "0  7590-VHVEG  Female              0     Yes         No       1           No   \n",
       "1  5575-GNVDE    Male              0      No         No      34          Yes   \n",
       "2  3668-QPYBK    Male              0      No         No       2          Yes   \n",
       "3  7795-CFOCW    Male              0      No         No      45           No   \n",
       "4  9237-HQITU  Female              0      No         No       2          Yes   \n",
       "\n",
       "      MultipleLines InternetService OnlineSecurity  ... DeviceProtection  \\\n",
       "0  No phone service             DSL             No  ...               No   \n",
       "1                No             DSL            Yes  ...              Yes   \n",
       "2                No             DSL            Yes  ...               No   \n",
       "3  No phone service             DSL            Yes  ...              Yes   \n",
       "4                No     Fiber optic             No  ...               No   \n",
       "\n",
       "  TechSupport StreamingTV StreamingMovies        Contract PaperlessBilling  \\\n",
       "0          No          No              No  Month-to-month              Yes   \n",
       "1          No          No              No        One year               No   \n",
       "2          No          No              No  Month-to-month              Yes   \n",
       "3         Yes          No              No        One year               No   \n",
       "4          No          No              No  Month-to-month              Yes   \n",
       "\n",
       "               PaymentMethod MonthlyCharges  TotalCharges Churn  \n",
       "0           Electronic check          29.85         29.85    No  \n",
       "1               Mailed check          56.95        1889.5    No  \n",
       "2               Mailed check          53.85        108.15   Yes  \n",
       "3  Bank transfer (automatic)          42.30       1840.75    No  \n",
       "4           Electronic check          70.70        151.65   Yes  \n",
       "\n",
       "[5 rows x 21 columns]"
      ]
     },
     "execution_count": 3,
     "metadata": {},
     "output_type": "execute_result"
    }
   ],
   "source": [
    "file_path=\"/Users/joannaborowa/Desktop/WA_Fn-UseC_-Telco-Customer-Churn.csv\"\n",
    "df=pd.read_csv(file_path)\n",
    "df.head()"
   ]
  },
  {
   "cell_type": "code",
   "execution_count": 4,
   "id": "825364fc",
   "metadata": {},
   "outputs": [
    {
     "data": {
      "text/plain": [
       "customerID           object\n",
       "gender               object\n",
       "SeniorCitizen         int64\n",
       "Partner              object\n",
       "Dependents           object\n",
       "tenure                int64\n",
       "PhoneService         object\n",
       "MultipleLines        object\n",
       "InternetService      object\n",
       "OnlineSecurity       object\n",
       "OnlineBackup         object\n",
       "DeviceProtection     object\n",
       "TechSupport          object\n",
       "StreamingTV          object\n",
       "StreamingMovies      object\n",
       "Contract             object\n",
       "PaperlessBilling     object\n",
       "PaymentMethod        object\n",
       "MonthlyCharges      float64\n",
       "TotalCharges         object\n",
       "Churn                object\n",
       "dtype: object"
      ]
     },
     "execution_count": 4,
     "metadata": {},
     "output_type": "execute_result"
    }
   ],
   "source": [
    "df.dtypes"
   ]
  },
  {
   "cell_type": "code",
   "execution_count": 5,
   "id": "64248be3",
   "metadata": {},
   "outputs": [
    {
     "data": {
      "text/plain": [
       "(7043, 21)"
      ]
     },
     "execution_count": 5,
     "metadata": {},
     "output_type": "execute_result"
    }
   ],
   "source": [
    "df.shape"
   ]
  },
  {
   "cell_type": "code",
   "execution_count": 7,
   "id": "a80baf2a",
   "metadata": {},
   "outputs": [
    {
     "data": {
      "text/html": [
       "<div>\n",
       "<style scoped>\n",
       "    .dataframe tbody tr th:only-of-type {\n",
       "        vertical-align: middle;\n",
       "    }\n",
       "\n",
       "    .dataframe tbody tr th {\n",
       "        vertical-align: top;\n",
       "    }\n",
       "\n",
       "    .dataframe thead th {\n",
       "        text-align: right;\n",
       "    }\n",
       "</style>\n",
       "<table border=\"1\" class=\"dataframe\">\n",
       "  <thead>\n",
       "    <tr style=\"text-align: right;\">\n",
       "      <th></th>\n",
       "      <th>SeniorCitizen</th>\n",
       "      <th>tenure</th>\n",
       "      <th>MonthlyCharges</th>\n",
       "    </tr>\n",
       "  </thead>\n",
       "  <tbody>\n",
       "    <tr>\n",
       "      <th>count</th>\n",
       "      <td>7043.000000</td>\n",
       "      <td>7043.000000</td>\n",
       "      <td>7043.000000</td>\n",
       "    </tr>\n",
       "    <tr>\n",
       "      <th>mean</th>\n",
       "      <td>0.162147</td>\n",
       "      <td>32.371149</td>\n",
       "      <td>64.761692</td>\n",
       "    </tr>\n",
       "    <tr>\n",
       "      <th>std</th>\n",
       "      <td>0.368612</td>\n",
       "      <td>24.559481</td>\n",
       "      <td>30.090047</td>\n",
       "    </tr>\n",
       "    <tr>\n",
       "      <th>min</th>\n",
       "      <td>0.000000</td>\n",
       "      <td>0.000000</td>\n",
       "      <td>18.250000</td>\n",
       "    </tr>\n",
       "    <tr>\n",
       "      <th>25%</th>\n",
       "      <td>0.000000</td>\n",
       "      <td>9.000000</td>\n",
       "      <td>35.500000</td>\n",
       "    </tr>\n",
       "    <tr>\n",
       "      <th>50%</th>\n",
       "      <td>0.000000</td>\n",
       "      <td>29.000000</td>\n",
       "      <td>70.350000</td>\n",
       "    </tr>\n",
       "    <tr>\n",
       "      <th>75%</th>\n",
       "      <td>0.000000</td>\n",
       "      <td>55.000000</td>\n",
       "      <td>89.850000</td>\n",
       "    </tr>\n",
       "    <tr>\n",
       "      <th>max</th>\n",
       "      <td>1.000000</td>\n",
       "      <td>72.000000</td>\n",
       "      <td>118.750000</td>\n",
       "    </tr>\n",
       "  </tbody>\n",
       "</table>\n",
       "</div>"
      ],
      "text/plain": [
       "       SeniorCitizen       tenure  MonthlyCharges\n",
       "count    7043.000000  7043.000000     7043.000000\n",
       "mean        0.162147    32.371149       64.761692\n",
       "std         0.368612    24.559481       30.090047\n",
       "min         0.000000     0.000000       18.250000\n",
       "25%         0.000000     9.000000       35.500000\n",
       "50%         0.000000    29.000000       70.350000\n",
       "75%         0.000000    55.000000       89.850000\n",
       "max         1.000000    72.000000      118.750000"
      ]
     },
     "execution_count": 7,
     "metadata": {},
     "output_type": "execute_result"
    }
   ],
   "source": [
    "df.describe()"
   ]
  },
  {
   "cell_type": "code",
   "execution_count": 8,
   "id": "aa56c409",
   "metadata": {},
   "outputs": [
    {
     "name": "stdout",
     "output_type": "stream",
     "text": [
      "<class 'pandas.core.frame.DataFrame'>\n",
      "RangeIndex: 7043 entries, 0 to 7042\n",
      "Data columns (total 21 columns):\n",
      " #   Column            Non-Null Count  Dtype  \n",
      "---  ------            --------------  -----  \n",
      " 0   customerID        7043 non-null   object \n",
      " 1   gender            7043 non-null   object \n",
      " 2   SeniorCitizen     7043 non-null   int64  \n",
      " 3   Partner           7043 non-null   object \n",
      " 4   Dependents        7043 non-null   object \n",
      " 5   tenure            7043 non-null   int64  \n",
      " 6   PhoneService      7043 non-null   object \n",
      " 7   MultipleLines     7043 non-null   object \n",
      " 8   InternetService   7043 non-null   object \n",
      " 9   OnlineSecurity    7043 non-null   object \n",
      " 10  OnlineBackup      7043 non-null   object \n",
      " 11  DeviceProtection  7043 non-null   object \n",
      " 12  TechSupport       7043 non-null   object \n",
      " 13  StreamingTV       7043 non-null   object \n",
      " 14  StreamingMovies   7043 non-null   object \n",
      " 15  Contract          7043 non-null   object \n",
      " 16  PaperlessBilling  7043 non-null   object \n",
      " 17  PaymentMethod     7043 non-null   object \n",
      " 18  MonthlyCharges    7043 non-null   float64\n",
      " 19  TotalCharges      7043 non-null   object \n",
      " 20  Churn             7043 non-null   object \n",
      "dtypes: float64(1), int64(2), object(18)\n",
      "memory usage: 1.1+ MB\n"
     ]
    }
   ],
   "source": [
    "df.info()"
   ]
  },
  {
   "cell_type": "code",
   "execution_count": 135,
   "id": "96e69849",
   "metadata": {},
   "outputs": [
    {
     "data": {
      "text/plain": [
       "customerID          0\n",
       "gender              0\n",
       "SeniorCitizen       0\n",
       "Partner             0\n",
       "Dependents          0\n",
       "tenure              0\n",
       "PhoneService        0\n",
       "MultipleLines       0\n",
       "InternetService     0\n",
       "OnlineSecurity      0\n",
       "OnlineBackup        0\n",
       "DeviceProtection    0\n",
       "TechSupport         0\n",
       "StreamingTV         0\n",
       "StreamingMovies     0\n",
       "Contract            0\n",
       "PaperlessBilling    0\n",
       "PaymentMethod       0\n",
       "MonthlyCharges      0\n",
       "TotalCharges        0\n",
       "Churn               0\n",
       "dtype: int64"
      ]
     },
     "execution_count": 135,
     "metadata": {},
     "output_type": "execute_result"
    }
   ],
   "source": [
    "df.isnull().sum()"
   ]
  },
  {
   "cell_type": "code",
   "execution_count": 9,
   "id": "1e5f455a",
   "metadata": {},
   "outputs": [
    {
     "data": {
      "text/plain": [
       "0"
      ]
     },
     "execution_count": 9,
     "metadata": {},
     "output_type": "execute_result"
    }
   ],
   "source": [
    "df.duplicated(subset=None, keep= \"first\").sum()"
   ]
  },
  {
   "cell_type": "code",
   "execution_count": 10,
   "id": "d534d2e8",
   "metadata": {},
   "outputs": [
    {
     "data": {
      "text/plain": [
       "gender\n",
       "Female    3488\n",
       "Male      3555\n",
       "Name: customerID, dtype: int64"
      ]
     },
     "execution_count": 10,
     "metadata": {},
     "output_type": "execute_result"
    }
   ],
   "source": [
    "df.groupby(by=[\"gender\"]).count()[\"customerID\"]"
   ]
  },
  {
   "cell_type": "code",
   "execution_count": 11,
   "id": "83067bf3",
   "metadata": {},
   "outputs": [
    {
     "data": {
      "text/plain": [
       "SeniorCitizen\n",
       "0    5901\n",
       "1    1142\n",
       "Name: customerID, dtype: int64"
      ]
     },
     "execution_count": 11,
     "metadata": {},
     "output_type": "execute_result"
    }
   ],
   "source": [
    "df.groupby(by=[\"SeniorCitizen\"]).count()[\"customerID\"]"
   ]
  },
  {
   "cell_type": "code",
   "execution_count": 12,
   "id": "c85e7cb0",
   "metadata": {},
   "outputs": [
    {
     "data": {
      "text/plain": [
       "Partner\n",
       "No     3641\n",
       "Yes    3402\n",
       "Name: customerID, dtype: int64"
      ]
     },
     "execution_count": 12,
     "metadata": {},
     "output_type": "execute_result"
    }
   ],
   "source": [
    "df.groupby(by=[\"Partner\"]).count()[\"customerID\"]"
   ]
  },
  {
   "cell_type": "code",
   "execution_count": 13,
   "id": "b8194f63",
   "metadata": {},
   "outputs": [
    {
     "data": {
      "text/plain": [
       "Dependents\n",
       "No     4933\n",
       "Yes    2110\n",
       "Name: customerID, dtype: int64"
      ]
     },
     "execution_count": 13,
     "metadata": {},
     "output_type": "execute_result"
    }
   ],
   "source": [
    "df.groupby(by=[\"Dependents\"]).count()[\"customerID\"]"
   ]
  },
  {
   "cell_type": "code",
   "execution_count": 14,
   "id": "9f0430ba",
   "metadata": {},
   "outputs": [
    {
     "data": {
      "text/plain": [
       "tenure\n",
       "0      11\n",
       "1     613\n",
       "2     238\n",
       "3     200\n",
       "4     176\n",
       "     ... \n",
       "68    100\n",
       "69     95\n",
       "70    119\n",
       "71    170\n",
       "72    362\n",
       "Name: customerID, Length: 73, dtype: int64"
      ]
     },
     "execution_count": 14,
     "metadata": {},
     "output_type": "execute_result"
    }
   ],
   "source": [
    "df.groupby(by=[\"tenure\"]).count()[\"customerID\"]"
   ]
  },
  {
   "cell_type": "code",
   "execution_count": 15,
   "id": "d27c4901",
   "metadata": {},
   "outputs": [
    {
     "data": {
      "text/plain": [
       "PhoneService\n",
       "No      682\n",
       "Yes    6361\n",
       "Name: customerID, dtype: int64"
      ]
     },
     "execution_count": 15,
     "metadata": {},
     "output_type": "execute_result"
    }
   ],
   "source": [
    "df.groupby(by=[\"PhoneService\"]).count()[\"customerID\"]"
   ]
  },
  {
   "cell_type": "code",
   "execution_count": 16,
   "id": "18846d87",
   "metadata": {},
   "outputs": [
    {
     "data": {
      "text/plain": [
       "MultipleLines\n",
       "No                  3390\n",
       "No phone service     682\n",
       "Yes                 2971\n",
       "Name: customerID, dtype: int64"
      ]
     },
     "execution_count": 16,
     "metadata": {},
     "output_type": "execute_result"
    }
   ],
   "source": [
    "df.groupby(by=[\"MultipleLines\"]).count()[\"customerID\"]"
   ]
  },
  {
   "cell_type": "code",
   "execution_count": 17,
   "id": "b24431dd",
   "metadata": {},
   "outputs": [
    {
     "data": {
      "text/plain": [
       "InternetService\n",
       "DSL            2421\n",
       "Fiber optic    3096\n",
       "No             1526\n",
       "Name: customerID, dtype: int64"
      ]
     },
     "execution_count": 17,
     "metadata": {},
     "output_type": "execute_result"
    }
   ],
   "source": [
    "df.groupby(by=[\"InternetService\"]).count()[\"customerID\"]"
   ]
  },
  {
   "cell_type": "code",
   "execution_count": 18,
   "id": "18d1bbe1",
   "metadata": {},
   "outputs": [
    {
     "data": {
      "text/plain": [
       "OnlineSecurity\n",
       "No                     3498\n",
       "No internet service    1526\n",
       "Yes                    2019\n",
       "Name: customerID, dtype: int64"
      ]
     },
     "execution_count": 18,
     "metadata": {},
     "output_type": "execute_result"
    }
   ],
   "source": [
    "df.groupby(by=[\"OnlineSecurity\"]).count()[\"customerID\"]"
   ]
  },
  {
   "cell_type": "code",
   "execution_count": 19,
   "id": "e9c7e1bd",
   "metadata": {},
   "outputs": [
    {
     "data": {
      "text/plain": [
       "DeviceProtection\n",
       "No                     3095\n",
       "No internet service    1526\n",
       "Yes                    2422\n",
       "Name: customerID, dtype: int64"
      ]
     },
     "execution_count": 19,
     "metadata": {},
     "output_type": "execute_result"
    }
   ],
   "source": [
    "df.groupby(by=[\"DeviceProtection\"]).count()[\"customerID\"]"
   ]
  },
  {
   "cell_type": "code",
   "execution_count": 20,
   "id": "be42cdae",
   "metadata": {},
   "outputs": [
    {
     "data": {
      "text/plain": [
       "TechSupport\n",
       "No                     3473\n",
       "No internet service    1526\n",
       "Yes                    2044\n",
       "Name: customerID, dtype: int64"
      ]
     },
     "execution_count": 20,
     "metadata": {},
     "output_type": "execute_result"
    }
   ],
   "source": [
    "df.groupby(by=[\"TechSupport\"]).count()[\"customerID\"]"
   ]
  },
  {
   "cell_type": "code",
   "execution_count": 21,
   "id": "8b09311e",
   "metadata": {},
   "outputs": [
    {
     "data": {
      "text/plain": [
       "StreamingTV\n",
       "No                     2810\n",
       "No internet service    1526\n",
       "Yes                    2707\n",
       "Name: customerID, dtype: int64"
      ]
     },
     "execution_count": 21,
     "metadata": {},
     "output_type": "execute_result"
    }
   ],
   "source": [
    "df.groupby(by=[\"StreamingTV\"]).count()[\"customerID\"]"
   ]
  },
  {
   "cell_type": "code",
   "execution_count": 119,
   "id": "30e0c960",
   "metadata": {},
   "outputs": [
    {
     "data": {
      "text/plain": [
       "0"
      ]
     },
     "execution_count": 119,
     "metadata": {},
     "output_type": "execute_result"
    }
   ],
   "source": [
    "df[\"StreamingTV\"].isnull().sum()"
   ]
  },
  {
   "cell_type": "code",
   "execution_count": 120,
   "id": "cd299755",
   "metadata": {},
   "outputs": [
    {
     "data": {
      "text/plain": [
       "0"
      ]
     },
     "execution_count": 120,
     "metadata": {},
     "output_type": "execute_result"
    }
   ],
   "source": [
    "df[\"OnlineBackup\"].isnull().sum()"
   ]
  },
  {
   "cell_type": "code",
   "execution_count": 22,
   "id": "24dfd53b",
   "metadata": {},
   "outputs": [
    {
     "data": {
      "text/plain": [
       "StreamingMovies\n",
       "No                     2785\n",
       "No internet service    1526\n",
       "Yes                    2732\n",
       "Name: customerID, dtype: int64"
      ]
     },
     "execution_count": 22,
     "metadata": {},
     "output_type": "execute_result"
    }
   ],
   "source": [
    "df.groupby(by=[\"StreamingMovies\"]).count()[\"customerID\"]"
   ]
  },
  {
   "cell_type": "code",
   "execution_count": 117,
   "id": "17ac4da3",
   "metadata": {},
   "outputs": [
    {
     "data": {
      "text/plain": [
       "7043"
      ]
     },
     "execution_count": 117,
     "metadata": {},
     "output_type": "execute_result"
    }
   ],
   "source": [
    "df[\"StreamingMovies\"].isnull().count()"
   ]
  },
  {
   "cell_type": "code",
   "execution_count": 23,
   "id": "44662b1a",
   "metadata": {},
   "outputs": [
    {
     "data": {
      "text/plain": [
       "Contract\n",
       "Month-to-month    3875\n",
       "One year          1473\n",
       "Two year          1695\n",
       "Name: customerID, dtype: int64"
      ]
     },
     "execution_count": 23,
     "metadata": {},
     "output_type": "execute_result"
    }
   ],
   "source": [
    "df.groupby(by=[\"Contract\"]).count()[\"customerID\"]"
   ]
  },
  {
   "cell_type": "code",
   "execution_count": 24,
   "id": "fec8dee2",
   "metadata": {},
   "outputs": [
    {
     "data": {
      "text/plain": [
       "PaperlessBilling\n",
       "No     2872\n",
       "Yes    4171\n",
       "Name: customerID, dtype: int64"
      ]
     },
     "execution_count": 24,
     "metadata": {},
     "output_type": "execute_result"
    }
   ],
   "source": [
    "df.groupby(by=[\"PaperlessBilling\"]).count()[\"customerID\"]"
   ]
  },
  {
   "cell_type": "code",
   "execution_count": 25,
   "id": "a98ab32d",
   "metadata": {},
   "outputs": [
    {
     "data": {
      "text/plain": [
       "PaymentMethod\n",
       "Bank transfer (automatic)    1544\n",
       "Credit card (automatic)      1522\n",
       "Electronic check             2365\n",
       "Mailed check                 1612\n",
       "Name: customerID, dtype: int64"
      ]
     },
     "execution_count": 25,
     "metadata": {},
     "output_type": "execute_result"
    }
   ],
   "source": [
    "df.groupby(by=[\"PaymentMethod\"]).count()[\"customerID\"]"
   ]
  },
  {
   "cell_type": "code",
   "execution_count": 26,
   "id": "675659cd",
   "metadata": {},
   "outputs": [
    {
     "data": {
      "text/plain": [
       "Churn\n",
       "No     5174\n",
       "Yes    1869\n",
       "Name: customerID, dtype: int64"
      ]
     },
     "execution_count": 26,
     "metadata": {},
     "output_type": "execute_result"
    }
   ],
   "source": [
    "df.groupby(by=[\"Churn\"]).count()[\"customerID\"]"
   ]
  },
  {
   "cell_type": "code",
   "execution_count": 103,
   "id": "f0487f18",
   "metadata": {},
   "outputs": [
    {
     "data": {
      "text/plain": [
       "OnlineBackup\n",
       "0                      3088\n",
       "1                      2429\n",
       "No internet service    1526\n",
       "Name: customerID, dtype: int64"
      ]
     },
     "execution_count": 103,
     "metadata": {},
     "output_type": "execute_result"
    }
   ],
   "source": [
    "df.groupby(by=[\"OnlineBackup\"]).count()[\"customerID\"]"
   ]
  },
  {
   "cell_type": "code",
   "execution_count": 115,
   "id": "424d1d57",
   "metadata": {},
   "outputs": [
    {
     "data": {
      "text/plain": [
       "7043"
      ]
     },
     "execution_count": 115,
     "metadata": {},
     "output_type": "execute_result"
    }
   ],
   "source": [
    "df[\"OnlineBackup\"].isnull().count()"
   ]
  },
  {
   "cell_type": "code",
   "execution_count": 109,
   "id": "670ec0b2",
   "metadata": {},
   "outputs": [
    {
     "data": {
      "text/plain": [
       "TotalCharges\n",
       "          11\n",
       "100.2      1\n",
       "100.25     1\n",
       "100.35     1\n",
       "100.4      1\n",
       "          ..\n",
       "997.75     1\n",
       "998.1      1\n",
       "999.45     1\n",
       "999.8      1\n",
       "999.9      1\n",
       "Name: customerID, Length: 6531, dtype: int64"
      ]
     },
     "execution_count": 109,
     "metadata": {},
     "output_type": "execute_result"
    }
   ],
   "source": [
    "df.groupby(by=[\"TotalCharges\"]).count()[\"customerID\"]"
   ]
  },
  {
   "cell_type": "code",
   "execution_count": 113,
   "id": "fee50c88",
   "metadata": {},
   "outputs": [
    {
     "data": {
      "text/plain": [
       "7043"
      ]
     },
     "execution_count": 113,
     "metadata": {},
     "output_type": "execute_result"
    }
   ],
   "source": [
    "df[\"TotalCharges\"].isnull().count()"
   ]
  },
  {
   "cell_type": "code",
   "execution_count": 27,
   "id": "f32eeb11",
   "metadata": {},
   "outputs": [
    {
     "data": {
      "text/plain": [
       "<AxesSubplot:>"
      ]
     },
     "execution_count": 27,
     "metadata": {},
     "output_type": "execute_result"
    },
    {
     "data": {
      "image/png": "[encoded data removed]",
      "text/plain": [
       "<Figure size 432x288 with 2 Axes>"
      ]
     },
     "metadata": {
      "needs_background": "light"
     },
     "output_type": "display_data"
    }
   ],
   "source": [
    "cor=df.corr()\n",
    "sns.heatmap(cor)"
   ]
  },
  {
   "cell_type": "code",
   "execution_count": 28,
   "id": "7cecd664",
   "metadata": {},
   "outputs": [
    {
     "data": {
      "text/html": [
       "<div>\n",
       "<style scoped>\n",
       "    .dataframe tbody tr th:only-of-type {\n",
       "        vertical-align: middle;\n",
       "    }\n",
       "\n",
       "    .dataframe tbody tr th {\n",
       "        vertical-align: top;\n",
       "    }\n",
       "\n",
       "    .dataframe thead th {\n",
       "        text-align: right;\n",
       "    }\n",
       "</style>\n",
       "<table border=\"1\" class=\"dataframe\">\n",
       "  <thead>\n",
       "    <tr style=\"text-align: right;\">\n",
       "      <th></th>\n",
       "      <th>SeniorCitizen</th>\n",
       "      <th>tenure</th>\n",
       "      <th>MonthlyCharges</th>\n",
       "    </tr>\n",
       "  </thead>\n",
       "  <tbody>\n",
       "    <tr>\n",
       "      <th>SeniorCitizen</th>\n",
       "      <td>1.000000</td>\n",
       "      <td>0.016567</td>\n",
       "      <td>0.220173</td>\n",
       "    </tr>\n",
       "    <tr>\n",
       "      <th>tenure</th>\n",
       "      <td>0.016567</td>\n",
       "      <td>1.000000</td>\n",
       "      <td>0.247900</td>\n",
       "    </tr>\n",
       "    <tr>\n",
       "      <th>MonthlyCharges</th>\n",
       "      <td>0.220173</td>\n",
       "      <td>0.247900</td>\n",
       "      <td>1.000000</td>\n",
       "    </tr>\n",
       "  </tbody>\n",
       "</table>\n",
       "</div>"
      ],
      "text/plain": [
       "                SeniorCitizen    tenure  MonthlyCharges\n",
       "SeniorCitizen        1.000000  0.016567        0.220173\n",
       "tenure               0.016567  1.000000        0.247900\n",
       "MonthlyCharges       0.220173  0.247900        1.000000"
      ]
     },
     "execution_count": 28,
     "metadata": {},
     "output_type": "execute_result"
    }
   ],
   "source": [
    "df.corr()"
   ]
  },
  {
   "cell_type": "code",
   "execution_count": 29,
   "id": "702589bd",
   "metadata": {},
   "outputs": [
    {
     "data": {
      "text/plain": [
       "array([[<AxesSubplot:title={'center':'SeniorCitizen'}>,\n",
       "        <AxesSubplot:title={'center':'tenure'}>],\n",
       "       [<AxesSubplot:title={'center':'MonthlyCharges'}>, <AxesSubplot:>]],\n",
       "      dtype=object)"
      ]
     },
     "execution_count": 29,
     "metadata": {},
     "output_type": "execute_result"
    },
    {
     "data": {
      "image/png": "[encoded data removed]",
      "text/plain": [
       "<Figure size 1440x2160 with 4 Axes>"
      ]
     },
     "metadata": {
      "needs_background": "light"
     },
     "output_type": "display_data"
    }
   ],
   "source": [
    "df.hist(figsize=(20,30))"
   ]
  },
  {
   "cell_type": "code",
   "execution_count": 65,
   "id": "d52bdf5c",
   "metadata": {},
   "outputs": [],
   "source": [
    "df[\"Partner\"].replace([\"Yes\",\"No\"],[\"1\",\"0\"],inplace=True)"
   ]
  },
  {
   "cell_type": "code",
   "execution_count": 63,
   "id": "da5a3c80",
   "metadata": {},
   "outputs": [],
   "source": [
    "df[\"Dependents\"].replace([\"Yes\",\"No\"],[\"1\",\"0\"],inplace=True)"
   ]
  },
  {
   "cell_type": "code",
   "execution_count": 47,
   "id": "48dbef39",
   "metadata": {},
   "outputs": [],
   "source": [
    "df[\"PhoneService\"].replace([\"Yes\",\"No\"],[\"1\",\"0\"],inplace=True)"
   ]
  },
  {
   "cell_type": "code",
   "execution_count": 48,
   "id": "d13483d7",
   "metadata": {},
   "outputs": [],
   "source": [
    "df[\"OnlineSecurity\"].replace([\"Yes\",\"No\"],[\"1\",\"0\"],inplace=True)"
   ]
  },
  {
   "cell_type": "code",
   "execution_count": 87,
   "id": "9543c5a8",
   "metadata": {},
   "outputs": [],
   "source": [
    "df[\"OnlineSecurity\"].replace([\"No internet service\"],[\"0.5\"],inplace=True)"
   ]
  },
  {
   "cell_type": "code",
   "execution_count": 49,
   "id": "3e6ebcf6",
   "metadata": {},
   "outputs": [],
   "source": [
    "df[\"DeviceProtection\"].replace([\"Yes\",\"No\"],[\"1\",\"0\"],inplace=True)"
   ]
  },
  {
   "cell_type": "code",
   "execution_count": 88,
   "id": "ca3b8467",
   "metadata": {},
   "outputs": [],
   "source": [
    "df[\"DeviceProtection\"].replace([\"No internet service\"],[\"0.5\"],inplace=True)"
   ]
  },
  {
   "cell_type": "code",
   "execution_count": 50,
   "id": "594a7730",
   "metadata": {},
   "outputs": [],
   "source": [
    "df[\"TechSupport\"].replace([\"Yes\",\"No\"],[\"1\",\"0\"],inplace=True)"
   ]
  },
  {
   "cell_type": "code",
   "execution_count": 91,
   "id": "f2733fd4",
   "metadata": {},
   "outputs": [],
   "source": [
    "df[\"TechSupport\"].replace([\"No internet service\"],[\"0.5\"],inplace=True)"
   ]
  },
  {
   "cell_type": "code",
   "execution_count": 51,
   "id": "5e5a6c97",
   "metadata": {},
   "outputs": [],
   "source": [
    "df[\"StreamingTV\"].replace([\"Yes\",\"No\"],[\"1\",\"0\"],inplace=True)"
   ]
  },
  {
   "cell_type": "code",
   "execution_count": 98,
   "id": "2ac5ee48",
   "metadata": {},
   "outputs": [],
   "source": [
    "df[\"StreamingTV\"].replace([\"No internet service\"],[\"0.5\"],inplace=True)"
   ]
  },
  {
   "cell_type": "code",
   "execution_count": 99,
   "id": "cbd6ba86",
   "metadata": {},
   "outputs": [],
   "source": [
    "df[\"StreamingMovies\"].replace([\"Yes\",\"No\"],[\"1\",\"0\"],inplace=True)"
   ]
  },
  {
   "cell_type": "code",
   "execution_count": 100,
   "id": "b1a0d1f1",
   "metadata": {},
   "outputs": [],
   "source": [
    "df[\"StreamingMovies\"].replace([\"No internet service\"],[\"0.5\"],inplace=True)"
   ]
  },
  {
   "cell_type": "code",
   "execution_count": 53,
   "id": "c8bdca53",
   "metadata": {},
   "outputs": [],
   "source": [
    "df[\"PaperlessBilling\"].replace([\"Yes\",\"No\"],[\"1\",\"0\"],inplace=True)"
   ]
  },
  {
   "cell_type": "code",
   "execution_count": 54,
   "id": "67012b1c",
   "metadata": {},
   "outputs": [],
   "source": [
    "df[\"OnlineBackup\"].replace([\"Yes\",\"No\"],[\"1\",\"0\"],inplace=True)"
   ]
  },
  {
   "cell_type": "code",
   "execution_count": 104,
   "id": "4a973ceb",
   "metadata": {},
   "outputs": [],
   "source": [
    "df[\"OnlineBackup\"].replace([\"No internet service\"],[\"0.5\"],inplace=True)"
   ]
  },
  {
   "cell_type": "code",
   "execution_count": 55,
   "id": "09f65096",
   "metadata": {},
   "outputs": [],
   "source": [
    "df[\"Churn\"].replace([\"Yes\",\"No\"],[\"1\",\"0\"],inplace=True)"
   ]
  },
  {
   "cell_type": "code",
   "execution_count": 56,
   "id": "580edfc4",
   "metadata": {},
   "outputs": [
    {
     "data": {
      "text/html": [
       "<div>\n",
       "<style scoped>\n",
       "    .dataframe tbody tr th:only-of-type {\n",
       "        vertical-align: middle;\n",
       "    }\n",
       "\n",
       "    .dataframe tbody tr th {\n",
       "        vertical-align: top;\n",
       "    }\n",
       "\n",
       "    .dataframe thead th {\n",
       "        text-align: right;\n",
       "    }\n",
       "</style>\n",
       "<table border=\"1\" class=\"dataframe\">\n",
       "  <thead>\n",
       "    <tr style=\"text-align: right;\">\n",
       "      <th></th>\n",
       "      <th>customerID</th>\n",
       "      <th>gender</th>\n",
       "      <th>SeniorCitizen</th>\n",
       "      <th>Partner</th>\n",
       "      <th>Dependents</th>\n",
       "      <th>tenure</th>\n",
       "      <th>PhoneService</th>\n",
       "      <th>MultipleLines</th>\n",
       "      <th>InternetService</th>\n",
       "      <th>OnlineSecurity</th>\n",
       "      <th>...</th>\n",
       "      <th>DeviceProtection</th>\n",
       "      <th>TechSupport</th>\n",
       "      <th>StreamingTV</th>\n",
       "      <th>StreamingMovies</th>\n",
       "      <th>Contract</th>\n",
       "      <th>PaperlessBilling</th>\n",
       "      <th>PaymentMethod</th>\n",
       "      <th>MonthlyCharges</th>\n",
       "      <th>TotalCharges</th>\n",
       "      <th>Churn</th>\n",
       "    </tr>\n",
       "  </thead>\n",
       "  <tbody>\n",
       "    <tr>\n",
       "      <th>0</th>\n",
       "      <td>7590-VHVEG</td>\n",
       "      <td>Female</td>\n",
       "      <td>0</td>\n",
       "      <td>1</td>\n",
       "      <td>0</td>\n",
       "      <td>1</td>\n",
       "      <td>0</td>\n",
       "      <td>No phone service</td>\n",
       "      <td>DSL</td>\n",
       "      <td>0</td>\n",
       "      <td>...</td>\n",
       "      <td>0</td>\n",
       "      <td>0</td>\n",
       "      <td>0</td>\n",
       "      <td>0</td>\n",
       "      <td>Month-to-month</td>\n",
       "      <td>1</td>\n",
       "      <td>Electronic check</td>\n",
       "      <td>29.85</td>\n",
       "      <td>29.85</td>\n",
       "      <td>0</td>\n",
       "    </tr>\n",
       "    <tr>\n",
       "      <th>1</th>\n",
       "      <td>5575-GNVDE</td>\n",
       "      <td>Male</td>\n",
       "      <td>0</td>\n",
       "      <td>0</td>\n",
       "      <td>0</td>\n",
       "      <td>34</td>\n",
       "      <td>1</td>\n",
       "      <td>No</td>\n",
       "      <td>DSL</td>\n",
       "      <td>1</td>\n",
       "      <td>...</td>\n",
       "      <td>1</td>\n",
       "      <td>0</td>\n",
       "      <td>0</td>\n",
       "      <td>0</td>\n",
       "      <td>One year</td>\n",
       "      <td>0</td>\n",
       "      <td>Mailed check</td>\n",
       "      <td>56.95</td>\n",
       "      <td>1889.5</td>\n",
       "      <td>0</td>\n",
       "    </tr>\n",
       "    <tr>\n",
       "      <th>2</th>\n",
       "      <td>3668-QPYBK</td>\n",
       "      <td>Male</td>\n",
       "      <td>0</td>\n",
       "      <td>0</td>\n",
       "      <td>0</td>\n",
       "      <td>2</td>\n",
       "      <td>1</td>\n",
       "      <td>No</td>\n",
       "      <td>DSL</td>\n",
       "      <td>1</td>\n",
       "      <td>...</td>\n",
       "      <td>0</td>\n",
       "      <td>0</td>\n",
       "      <td>0</td>\n",
       "      <td>0</td>\n",
       "      <td>Month-to-month</td>\n",
       "      <td>1</td>\n",
       "      <td>Mailed check</td>\n",
       "      <td>53.85</td>\n",
       "      <td>108.15</td>\n",
       "      <td>1</td>\n",
       "    </tr>\n",
       "    <tr>\n",
       "      <th>3</th>\n",
       "      <td>7795-CFOCW</td>\n",
       "      <td>Male</td>\n",
       "      <td>0</td>\n",
       "      <td>0</td>\n",
       "      <td>0</td>\n",
       "      <td>45</td>\n",
       "      <td>0</td>\n",
       "      <td>No phone service</td>\n",
       "      <td>DSL</td>\n",
       "      <td>1</td>\n",
       "      <td>...</td>\n",
       "      <td>1</td>\n",
       "      <td>1</td>\n",
       "      <td>0</td>\n",
       "      <td>0</td>\n",
       "      <td>One year</td>\n",
       "      <td>0</td>\n",
       "      <td>Bank transfer (automatic)</td>\n",
       "      <td>42.30</td>\n",
       "      <td>1840.75</td>\n",
       "      <td>0</td>\n",
       "    </tr>\n",
       "    <tr>\n",
       "      <th>4</th>\n",
       "      <td>9237-HQITU</td>\n",
       "      <td>Female</td>\n",
       "      <td>0</td>\n",
       "      <td>0</td>\n",
       "      <td>0</td>\n",
       "      <td>2</td>\n",
       "      <td>1</td>\n",
       "      <td>No</td>\n",
       "      <td>Fiber optic</td>\n",
       "      <td>0</td>\n",
       "      <td>...</td>\n",
       "      <td>0</td>\n",
       "      <td>0</td>\n",
       "      <td>0</td>\n",
       "      <td>0</td>\n",
       "      <td>Month-to-month</td>\n",
       "      <td>1</td>\n",
       "      <td>Electronic check</td>\n",
       "      <td>70.70</td>\n",
       "      <td>151.65</td>\n",
       "      <td>1</td>\n",
       "    </tr>\n",
       "    <tr>\n",
       "      <th>...</th>\n",
       "      <td>...</td>\n",
       "      <td>...</td>\n",
       "      <td>...</td>\n",
       "      <td>...</td>\n",
       "      <td>...</td>\n",
       "      <td>...</td>\n",
       "      <td>...</td>\n",
       "      <td>...</td>\n",
       "      <td>...</td>\n",
       "      <td>...</td>\n",
       "      <td>...</td>\n",
       "      <td>...</td>\n",
       "      <td>...</td>\n",
       "      <td>...</td>\n",
       "      <td>...</td>\n",
       "      <td>...</td>\n",
       "      <td>...</td>\n",
       "      <td>...</td>\n",
       "      <td>...</td>\n",
       "      <td>...</td>\n",
       "      <td>...</td>\n",
       "    </tr>\n",
       "    <tr>\n",
       "      <th>7038</th>\n",
       "      <td>6840-RESVB</td>\n",
       "      <td>Male</td>\n",
       "      <td>0</td>\n",
       "      <td>1</td>\n",
       "      <td>1</td>\n",
       "      <td>24</td>\n",
       "      <td>1</td>\n",
       "      <td>Yes</td>\n",
       "      <td>DSL</td>\n",
       "      <td>1</td>\n",
       "      <td>...</td>\n",
       "      <td>1</td>\n",
       "      <td>1</td>\n",
       "      <td>1</td>\n",
       "      <td>1</td>\n",
       "      <td>One year</td>\n",
       "      <td>1</td>\n",
       "      <td>Mailed check</td>\n",
       "      <td>84.80</td>\n",
       "      <td>1990.5</td>\n",
       "      <td>0</td>\n",
       "    </tr>\n",
       "    <tr>\n",
       "      <th>7039</th>\n",
       "      <td>2234-XADUH</td>\n",
       "      <td>Female</td>\n",
       "      <td>0</td>\n",
       "      <td>1</td>\n",
       "      <td>1</td>\n",
       "      <td>72</td>\n",
       "      <td>1</td>\n",
       "      <td>Yes</td>\n",
       "      <td>Fiber optic</td>\n",
       "      <td>0</td>\n",
       "      <td>...</td>\n",
       "      <td>1</td>\n",
       "      <td>0</td>\n",
       "      <td>1</td>\n",
       "      <td>1</td>\n",
       "      <td>One year</td>\n",
       "      <td>1</td>\n",
       "      <td>Credit card (automatic)</td>\n",
       "      <td>103.20</td>\n",
       "      <td>7362.9</td>\n",
       "      <td>0</td>\n",
       "    </tr>\n",
       "    <tr>\n",
       "      <th>7040</th>\n",
       "      <td>4801-JZAZL</td>\n",
       "      <td>Female</td>\n",
       "      <td>0</td>\n",
       "      <td>1</td>\n",
       "      <td>1</td>\n",
       "      <td>11</td>\n",
       "      <td>0</td>\n",
       "      <td>No phone service</td>\n",
       "      <td>DSL</td>\n",
       "      <td>1</td>\n",
       "      <td>...</td>\n",
       "      <td>0</td>\n",
       "      <td>0</td>\n",
       "      <td>0</td>\n",
       "      <td>0</td>\n",
       "      <td>Month-to-month</td>\n",
       "      <td>1</td>\n",
       "      <td>Electronic check</td>\n",
       "      <td>29.60</td>\n",
       "      <td>346.45</td>\n",
       "      <td>0</td>\n",
       "    </tr>\n",
       "    <tr>\n",
       "      <th>7041</th>\n",
       "      <td>8361-LTMKD</td>\n",
       "      <td>Male</td>\n",
       "      <td>1</td>\n",
       "      <td>1</td>\n",
       "      <td>0</td>\n",
       "      <td>4</td>\n",
       "      <td>1</td>\n",
       "      <td>Yes</td>\n",
       "      <td>Fiber optic</td>\n",
       "      <td>0</td>\n",
       "      <td>...</td>\n",
       "      <td>0</td>\n",
       "      <td>0</td>\n",
       "      <td>0</td>\n",
       "      <td>0</td>\n",
       "      <td>Month-to-month</td>\n",
       "      <td>1</td>\n",
       "      <td>Mailed check</td>\n",
       "      <td>74.40</td>\n",
       "      <td>306.6</td>\n",
       "      <td>1</td>\n",
       "    </tr>\n",
       "    <tr>\n",
       "      <th>7042</th>\n",
       "      <td>3186-AJIEK</td>\n",
       "      <td>Male</td>\n",
       "      <td>0</td>\n",
       "      <td>0</td>\n",
       "      <td>0</td>\n",
       "      <td>66</td>\n",
       "      <td>1</td>\n",
       "      <td>No</td>\n",
       "      <td>Fiber optic</td>\n",
       "      <td>1</td>\n",
       "      <td>...</td>\n",
       "      <td>1</td>\n",
       "      <td>1</td>\n",
       "      <td>1</td>\n",
       "      <td>1</td>\n",
       "      <td>Two year</td>\n",
       "      <td>1</td>\n",
       "      <td>Bank transfer (automatic)</td>\n",
       "      <td>105.65</td>\n",
       "      <td>6844.5</td>\n",
       "      <td>0</td>\n",
       "    </tr>\n",
       "  </tbody>\n",
       "</table>\n",
       "<p>7043 rows × 21 columns</p>\n",
       "</div>"
      ],
      "text/plain": [
       "      customerID  gender  SeniorCitizen Partner Dependents  tenure  \\\n",
       "0     7590-VHVEG  Female              0       1          0       1   \n",
       "1     5575-GNVDE    Male              0       0          0      34   \n",
       "2     3668-QPYBK    Male              0       0          0       2   \n",
       "3     7795-CFOCW    Male              0       0          0      45   \n",
       "4     9237-HQITU  Female              0       0          0       2   \n",
       "...          ...     ...            ...     ...        ...     ...   \n",
       "7038  6840-RESVB    Male              0       1          1      24   \n",
       "7039  2234-XADUH  Female              0       1          1      72   \n",
       "7040  4801-JZAZL  Female              0       1          1      11   \n",
       "7041  8361-LTMKD    Male              1       1          0       4   \n",
       "7042  3186-AJIEK    Male              0       0          0      66   \n",
       "\n",
       "     PhoneService     MultipleLines InternetService OnlineSecurity  ...  \\\n",
       "0               0  No phone service             DSL              0  ...   \n",
       "1               1                No             DSL              1  ...   \n",
       "2               1                No             DSL              1  ...   \n",
       "3               0  No phone service             DSL              1  ...   \n",
       "4               1                No     Fiber optic              0  ...   \n",
       "...           ...               ...             ...            ...  ...   \n",
       "7038            1               Yes             DSL              1  ...   \n",
       "7039            1               Yes     Fiber optic              0  ...   \n",
       "7040            0  No phone service             DSL              1  ...   \n",
       "7041            1               Yes     Fiber optic              0  ...   \n",
       "7042            1                No     Fiber optic              1  ...   \n",
       "\n",
       "     DeviceProtection TechSupport StreamingTV StreamingMovies        Contract  \\\n",
       "0                   0           0           0               0  Month-to-month   \n",
       "1                   1           0           0               0        One year   \n",
       "2                   0           0           0               0  Month-to-month   \n",
       "3                   1           1           0               0        One year   \n",
       "4                   0           0           0               0  Month-to-month   \n",
       "...               ...         ...         ...             ...             ...   \n",
       "7038                1           1           1               1        One year   \n",
       "7039                1           0           1               1        One year   \n",
       "7040                0           0           0               0  Month-to-month   \n",
       "7041                0           0           0               0  Month-to-month   \n",
       "7042                1           1           1               1        Two year   \n",
       "\n",
       "     PaperlessBilling              PaymentMethod MonthlyCharges  TotalCharges  \\\n",
       "0                   1           Electronic check          29.85         29.85   \n",
       "1                   0               Mailed check          56.95        1889.5   \n",
       "2                   1               Mailed check          53.85        108.15   \n",
       "3                   0  Bank transfer (automatic)          42.30       1840.75   \n",
       "4                   1           Electronic check          70.70        151.65   \n",
       "...               ...                        ...            ...           ...   \n",
       "7038                1               Mailed check          84.80        1990.5   \n",
       "7039                1    Credit card (automatic)         103.20        7362.9   \n",
       "7040                1           Electronic check          29.60        346.45   \n",
       "7041                1               Mailed check          74.40         306.6   \n",
       "7042                1  Bank transfer (automatic)         105.65        6844.5   \n",
       "\n",
       "     Churn  \n",
       "0        0  \n",
       "1        0  \n",
       "2        1  \n",
       "3        0  \n",
       "4        1  \n",
       "...    ...  \n",
       "7038     0  \n",
       "7039     0  \n",
       "7040     0  \n",
       "7041     1  \n",
       "7042     0  \n",
       "\n",
       "[7043 rows x 21 columns]"
      ]
     },
     "execution_count": 56,
     "metadata": {},
     "output_type": "execute_result"
    }
   ],
   "source": [
    "df"
   ]
  },
  {
   "cell_type": "code",
   "execution_count": 58,
   "id": "3e0033dc",
   "metadata": {},
   "outputs": [
    {
     "data": {
      "text/plain": [
       "customerID           object\n",
       "gender               object\n",
       "SeniorCitizen         int64\n",
       "Partner              object\n",
       "Dependents           object\n",
       "tenure                int64\n",
       "PhoneService         object\n",
       "MultipleLines        object\n",
       "InternetService      object\n",
       "OnlineSecurity       object\n",
       "OnlineBackup         object\n",
       "DeviceProtection     object\n",
       "TechSupport          object\n",
       "StreamingTV          object\n",
       "StreamingMovies      object\n",
       "Contract             object\n",
       "PaperlessBilling     object\n",
       "PaymentMethod        object\n",
       "MonthlyCharges      float64\n",
       "TotalCharges         object\n",
       "Churn                object\n",
       "dtype: object"
      ]
     },
     "execution_count": 58,
     "metadata": {},
     "output_type": "execute_result"
    }
   ],
   "source": [
    "df.dtypes"
   ]
  },
  {
   "cell_type": "code",
   "execution_count": 67,
   "id": "beb8e5a9",
   "metadata": {},
   "outputs": [],
   "source": [
    "df[\"Partner\"]=df[\"Partner\"].astype(int)"
   ]
  },
  {
   "cell_type": "code",
   "execution_count": 122,
   "id": "640274fb",
   "metadata": {},
   "outputs": [],
   "source": [
    "df['TotalCharges'].replace(\" \", 0, inplace=True)\n",
    "df['TotalCharges'] = df['TotalCharges'].astype(float)"
   ]
  },
  {
   "cell_type": "code",
   "execution_count": 68,
   "id": "a11f1146",
   "metadata": {},
   "outputs": [],
   "source": [
    "df[\"Dependents\"]=df[\"Dependents\"].astype(int)"
   ]
  },
  {
   "cell_type": "code",
   "execution_count": 69,
   "id": "2d9409e2",
   "metadata": {},
   "outputs": [],
   "source": [
    "df[\"PhoneService\"]=df[\"PhoneService\"].astype(int)"
   ]
  },
  {
   "cell_type": "code",
   "execution_count": 84,
   "id": "2e629969",
   "metadata": {},
   "outputs": [],
   "source": [
    "df[\"OnlineSecurity\"]=df[\"OnlineSecurity\"].astype(int)"
   ]
  },
  {
   "cell_type": "code",
   "execution_count": 86,
   "id": "0f1c26d5",
   "metadata": {},
   "outputs": [],
   "source": [
    "df[\"DeviceProtection\"]=df[\"DeviceProtection\"].astype(int)"
   ]
  },
  {
   "cell_type": "code",
   "execution_count": 92,
   "id": "33b76664",
   "metadata": {},
   "outputs": [],
   "source": [
    "df[\"TechSupport\"]=df[\"TechSupport\"].astype(int)"
   ]
  },
  {
   "cell_type": "code",
   "execution_count": 124,
   "id": "7a032450",
   "metadata": {},
   "outputs": [],
   "source": [
    "df['StreamingTV'].replace(\" \", 0, inplace=True)\n",
    "df[\"StreamingTV\"]=df[\"StreamingTV\"].astype(float)"
   ]
  },
  {
   "cell_type": "code",
   "execution_count": 125,
   "id": "ddfcc257",
   "metadata": {},
   "outputs": [],
   "source": [
    "df['StreamingMovies'].replace(\" \", 0, inplace=True)\n",
    "df[\"StreamingMovies\"]=df[\"StreamingMovies\"].astype(float)"
   ]
  },
  {
   "cell_type": "code",
   "execution_count": 76,
   "id": "85052a48",
   "metadata": {},
   "outputs": [],
   "source": [
    "df[\"PaperlessBilling\"]=df[\"PaperlessBilling\"].astype(int)"
   ]
  },
  {
   "cell_type": "code",
   "execution_count": 127,
   "id": "3c65da9a",
   "metadata": {},
   "outputs": [],
   "source": [
    "df['OnlineBackup'].replace(\" \", 0, inplace=True)\n",
    "df[\"OnlineBackup\"]=df[\"OnlineBackup\"].astype(float)"
   ]
  },
  {
   "cell_type": "code",
   "execution_count": 74,
   "id": "725f6301",
   "metadata": {},
   "outputs": [],
   "source": [
    "df[\"Churn\"]=df[\"Churn\"].astype(int)"
   ]
  },
  {
   "cell_type": "code",
   "execution_count": 132,
   "id": "eb90fc35",
   "metadata": {},
   "outputs": [
    {
     "data": {
      "text/html": [
       "<div>\n",
       "<style scoped>\n",
       "    .dataframe tbody tr th:only-of-type {\n",
       "        vertical-align: middle;\n",
       "    }\n",
       "\n",
       "    .dataframe tbody tr th {\n",
       "        vertical-align: top;\n",
       "    }\n",
       "\n",
       "    .dataframe thead th {\n",
       "        text-align: right;\n",
       "    }\n",
       "</style>\n",
       "<table border=\"1\" class=\"dataframe\">\n",
       "  <thead>\n",
       "    <tr style=\"text-align: right;\">\n",
       "      <th></th>\n",
       "      <th>SeniorCitizen</th>\n",
       "      <th>Partner</th>\n",
       "      <th>Dependents</th>\n",
       "      <th>tenure</th>\n",
       "      <th>PhoneService</th>\n",
       "      <th>OnlineSecurity</th>\n",
       "      <th>OnlineBackup</th>\n",
       "      <th>DeviceProtection</th>\n",
       "      <th>TechSupport</th>\n",
       "      <th>StreamingTV</th>\n",
       "      <th>StreamingMovies</th>\n",
       "      <th>PaperlessBilling</th>\n",
       "      <th>MonthlyCharges</th>\n",
       "      <th>TotalCharges</th>\n",
       "      <th>Churn</th>\n",
       "    </tr>\n",
       "  </thead>\n",
       "  <tbody>\n",
       "    <tr>\n",
       "      <th>SeniorCitizen</th>\n",
       "      <td>1.000000</td>\n",
       "      <td>0.016479</td>\n",
       "      <td>-0.211185</td>\n",
       "      <td>0.016567</td>\n",
       "      <td>0.008576</td>\n",
       "      <td>-0.038653</td>\n",
       "      <td>-0.013632</td>\n",
       "      <td>0.059428</td>\n",
       "      <td>-0.060625</td>\n",
       "      <td>0.030776</td>\n",
       "      <td>0.047266</td>\n",
       "      <td>0.156530</td>\n",
       "      <td>0.220173</td>\n",
       "      <td>0.103006</td>\n",
       "      <td>0.150889</td>\n",
       "    </tr>\n",
       "    <tr>\n",
       "      <th>Partner</th>\n",
       "      <td>0.016479</td>\n",
       "      <td>1.000000</td>\n",
       "      <td>0.452676</td>\n",
       "      <td>0.379697</td>\n",
       "      <td>0.017706</td>\n",
       "      <td>0.143106</td>\n",
       "      <td>0.153130</td>\n",
       "      <td>0.153786</td>\n",
       "      <td>0.119999</td>\n",
       "      <td>0.137341</td>\n",
       "      <td>0.129574</td>\n",
       "      <td>-0.014877</td>\n",
       "      <td>0.096848</td>\n",
       "      <td>0.317504</td>\n",
       "      <td>-0.150448</td>\n",
       "    </tr>\n",
       "    <tr>\n",
       "      <th>Dependents</th>\n",
       "      <td>-0.211185</td>\n",
       "      <td>0.452676</td>\n",
       "      <td>1.000000</td>\n",
       "      <td>0.159712</td>\n",
       "      <td>-0.001762</td>\n",
       "      <td>0.080972</td>\n",
       "      <td>0.091015</td>\n",
       "      <td>0.013963</td>\n",
       "      <td>0.063268</td>\n",
       "      <td>0.046885</td>\n",
       "      <td>0.021321</td>\n",
       "      <td>-0.111377</td>\n",
       "      <td>-0.113890</td>\n",
       "      <td>0.062078</td>\n",
       "      <td>-0.164221</td>\n",
       "    </tr>\n",
       "    <tr>\n",
       "      <th>tenure</th>\n",
       "      <td>0.016567</td>\n",
       "      <td>0.379697</td>\n",
       "      <td>0.159712</td>\n",
       "      <td>1.000000</td>\n",
       "      <td>0.008448</td>\n",
       "      <td>0.327203</td>\n",
       "      <td>0.370876</td>\n",
       "      <td>0.360653</td>\n",
       "      <td>0.324221</td>\n",
       "      <td>0.289373</td>\n",
       "      <td>0.296866</td>\n",
       "      <td>0.006152</td>\n",
       "      <td>0.247900</td>\n",
       "      <td>0.826178</td>\n",
       "      <td>-0.352229</td>\n",
       "    </tr>\n",
       "    <tr>\n",
       "      <th>PhoneService</th>\n",
       "      <td>0.008576</td>\n",
       "      <td>0.017706</td>\n",
       "      <td>-0.001762</td>\n",
       "      <td>0.008448</td>\n",
       "      <td>1.000000</td>\n",
       "      <td>-0.092893</td>\n",
       "      <td>0.024105</td>\n",
       "      <td>-0.071227</td>\n",
       "      <td>-0.096340</td>\n",
       "      <td>0.055353</td>\n",
       "      <td>0.043870</td>\n",
       "      <td>0.016505</td>\n",
       "      <td>0.247398</td>\n",
       "      <td>0.113214</td>\n",
       "      <td>0.011942</td>\n",
       "    </tr>\n",
       "    <tr>\n",
       "      <th>OnlineSecurity</th>\n",
       "      <td>-0.038653</td>\n",
       "      <td>0.143106</td>\n",
       "      <td>0.080972</td>\n",
       "      <td>0.327203</td>\n",
       "      <td>-0.092893</td>\n",
       "      <td>1.000000</td>\n",
       "      <td>0.150522</td>\n",
       "      <td>0.275438</td>\n",
       "      <td>0.354931</td>\n",
       "      <td>0.038506</td>\n",
       "      <td>0.051156</td>\n",
       "      <td>-0.003636</td>\n",
       "      <td>0.296594</td>\n",
       "      <td>0.411651</td>\n",
       "      <td>-0.171226</td>\n",
       "    </tr>\n",
       "    <tr>\n",
       "      <th>OnlineBackup</th>\n",
       "      <td>-0.013632</td>\n",
       "      <td>0.153130</td>\n",
       "      <td>0.091015</td>\n",
       "      <td>0.370876</td>\n",
       "      <td>0.024105</td>\n",
       "      <td>0.150522</td>\n",
       "      <td>1.000000</td>\n",
       "      <td>0.149651</td>\n",
       "      <td>0.160401</td>\n",
       "      <td>0.147186</td>\n",
       "      <td>0.136722</td>\n",
       "      <td>-0.013370</td>\n",
       "      <td>0.119777</td>\n",
       "      <td>0.374410</td>\n",
       "      <td>-0.195525</td>\n",
       "    </tr>\n",
       "    <tr>\n",
       "      <th>DeviceProtection</th>\n",
       "      <td>0.059428</td>\n",
       "      <td>0.153786</td>\n",
       "      <td>0.013963</td>\n",
       "      <td>0.360653</td>\n",
       "      <td>-0.071227</td>\n",
       "      <td>0.275438</td>\n",
       "      <td>0.149651</td>\n",
       "      <td>1.000000</td>\n",
       "      <td>0.333313</td>\n",
       "      <td>0.252462</td>\n",
       "      <td>0.265543</td>\n",
       "      <td>0.103797</td>\n",
       "      <td>0.482692</td>\n",
       "      <td>0.521983</td>\n",
       "      <td>-0.066160</td>\n",
       "    </tr>\n",
       "    <tr>\n",
       "      <th>TechSupport</th>\n",
       "      <td>-0.060625</td>\n",
       "      <td>0.119999</td>\n",
       "      <td>0.063268</td>\n",
       "      <td>0.324221</td>\n",
       "      <td>-0.096340</td>\n",
       "      <td>0.354931</td>\n",
       "      <td>0.160401</td>\n",
       "      <td>0.333313</td>\n",
       "      <td>1.000000</td>\n",
       "      <td>0.149144</td>\n",
       "      <td>0.151069</td>\n",
       "      <td>0.037880</td>\n",
       "      <td>0.338304</td>\n",
       "      <td>0.431883</td>\n",
       "      <td>-0.164674</td>\n",
       "    </tr>\n",
       "    <tr>\n",
       "      <th>StreamingTV</th>\n",
       "      <td>0.030776</td>\n",
       "      <td>0.137341</td>\n",
       "      <td>0.046885</td>\n",
       "      <td>0.289373</td>\n",
       "      <td>0.055353</td>\n",
       "      <td>0.038506</td>\n",
       "      <td>0.147186</td>\n",
       "      <td>0.252462</td>\n",
       "      <td>0.149144</td>\n",
       "      <td>1.000000</td>\n",
       "      <td>0.434772</td>\n",
       "      <td>0.096642</td>\n",
       "      <td>0.336706</td>\n",
       "      <td>0.391470</td>\n",
       "      <td>-0.036581</td>\n",
       "    </tr>\n",
       "    <tr>\n",
       "      <th>StreamingMovies</th>\n",
       "      <td>0.047266</td>\n",
       "      <td>0.129574</td>\n",
       "      <td>0.021321</td>\n",
       "      <td>0.296866</td>\n",
       "      <td>0.043870</td>\n",
       "      <td>0.051156</td>\n",
       "      <td>0.136722</td>\n",
       "      <td>0.265543</td>\n",
       "      <td>0.151069</td>\n",
       "      <td>0.434772</td>\n",
       "      <td>1.000000</td>\n",
       "      <td>0.083700</td>\n",
       "      <td>0.335459</td>\n",
       "      <td>0.398066</td>\n",
       "      <td>-0.038492</td>\n",
       "    </tr>\n",
       "    <tr>\n",
       "      <th>PaperlessBilling</th>\n",
       "      <td>0.156530</td>\n",
       "      <td>-0.014877</td>\n",
       "      <td>-0.111377</td>\n",
       "      <td>0.006152</td>\n",
       "      <td>0.016505</td>\n",
       "      <td>-0.003636</td>\n",
       "      <td>-0.013370</td>\n",
       "      <td>0.103797</td>\n",
       "      <td>0.037880</td>\n",
       "      <td>0.096642</td>\n",
       "      <td>0.083700</td>\n",
       "      <td>1.000000</td>\n",
       "      <td>0.352150</td>\n",
       "      <td>0.158574</td>\n",
       "      <td>0.191825</td>\n",
       "    </tr>\n",
       "    <tr>\n",
       "      <th>MonthlyCharges</th>\n",
       "      <td>0.220173</td>\n",
       "      <td>0.096848</td>\n",
       "      <td>-0.113890</td>\n",
       "      <td>0.247900</td>\n",
       "      <td>0.247398</td>\n",
       "      <td>0.296594</td>\n",
       "      <td>0.119777</td>\n",
       "      <td>0.482692</td>\n",
       "      <td>0.338304</td>\n",
       "      <td>0.336706</td>\n",
       "      <td>0.335459</td>\n",
       "      <td>0.352150</td>\n",
       "      <td>1.000000</td>\n",
       "      <td>0.651174</td>\n",
       "      <td>0.193356</td>\n",
       "    </tr>\n",
       "    <tr>\n",
       "      <th>TotalCharges</th>\n",
       "      <td>0.103006</td>\n",
       "      <td>0.317504</td>\n",
       "      <td>0.062078</td>\n",
       "      <td>0.826178</td>\n",
       "      <td>0.113214</td>\n",
       "      <td>0.411651</td>\n",
       "      <td>0.374410</td>\n",
       "      <td>0.521983</td>\n",
       "      <td>0.431883</td>\n",
       "      <td>0.391470</td>\n",
       "      <td>0.398066</td>\n",
       "      <td>0.158574</td>\n",
       "      <td>0.651174</td>\n",
       "      <td>1.000000</td>\n",
       "      <td>-0.198324</td>\n",
       "    </tr>\n",
       "    <tr>\n",
       "      <th>Churn</th>\n",
       "      <td>0.150889</td>\n",
       "      <td>-0.150448</td>\n",
       "      <td>-0.164221</td>\n",
       "      <td>-0.352229</td>\n",
       "      <td>0.011942</td>\n",
       "      <td>-0.171226</td>\n",
       "      <td>-0.195525</td>\n",
       "      <td>-0.066160</td>\n",
       "      <td>-0.164674</td>\n",
       "      <td>-0.036581</td>\n",
       "      <td>-0.038492</td>\n",
       "      <td>0.191825</td>\n",
       "      <td>0.193356</td>\n",
       "      <td>-0.198324</td>\n",
       "      <td>1.000000</td>\n",
       "    </tr>\n",
       "  </tbody>\n",
       "</table>\n",
       "</div>"
      ],
      "text/plain": [
       "                  SeniorCitizen   Partner  Dependents    tenure  PhoneService  \\\n",
       "SeniorCitizen          1.000000  0.016479   -0.211185  0.016567      0.008576   \n",
       "Partner                0.016479  1.000000    0.452676  0.379697      0.017706   \n",
       "Dependents            -0.211185  0.452676    1.000000  0.159712     -0.001762   \n",
       "tenure                 0.016567  0.379697    0.159712  1.000000      0.008448   \n",
       "PhoneService           0.008576  0.017706   -0.001762  0.008448      1.000000   \n",
       "OnlineSecurity        -0.038653  0.143106    0.080972  0.327203     -0.092893   \n",
       "OnlineBackup          -0.013632  0.153130    0.091015  0.370876      0.024105   \n",
       "DeviceProtection       0.059428  0.153786    0.013963  0.360653     -0.071227   \n",
       "TechSupport           -0.060625  0.119999    0.063268  0.324221     -0.096340   \n",
       "StreamingTV            0.030776  0.137341    0.046885  0.289373      0.055353   \n",
       "StreamingMovies        0.047266  0.129574    0.021321  0.296866      0.043870   \n",
       "PaperlessBilling       0.156530 -0.014877   -0.111377  0.006152      0.016505   \n",
       "MonthlyCharges         0.220173  0.096848   -0.113890  0.247900      0.247398   \n",
       "TotalCharges           0.103006  0.317504    0.062078  0.826178      0.113214   \n",
       "Churn                  0.150889 -0.150448   -0.164221 -0.352229      0.011942   \n",
       "\n",
       "                  OnlineSecurity  OnlineBackup  DeviceProtection  TechSupport  \\\n",
       "SeniorCitizen          -0.038653     -0.013632          0.059428    -0.060625   \n",
       "Partner                 0.143106      0.153130          0.153786     0.119999   \n",
       "Dependents              0.080972      0.091015          0.013963     0.063268   \n",
       "tenure                  0.327203      0.370876          0.360653     0.324221   \n",
       "PhoneService           -0.092893      0.024105         -0.071227    -0.096340   \n",
       "OnlineSecurity          1.000000      0.150522          0.275438     0.354931   \n",
       "OnlineBackup            0.150522      1.000000          0.149651     0.160401   \n",
       "DeviceProtection        0.275438      0.149651          1.000000     0.333313   \n",
       "TechSupport             0.354931      0.160401          0.333313     1.000000   \n",
       "StreamingTV             0.038506      0.147186          0.252462     0.149144   \n",
       "StreamingMovies         0.051156      0.136722          0.265543     0.151069   \n",
       "PaperlessBilling       -0.003636     -0.013370          0.103797     0.037880   \n",
       "MonthlyCharges          0.296594      0.119777          0.482692     0.338304   \n",
       "TotalCharges            0.411651      0.374410          0.521983     0.431883   \n",
       "Churn                  -0.171226     -0.195525         -0.066160    -0.164674   \n",
       "\n",
       "                  StreamingTV  StreamingMovies  PaperlessBilling  \\\n",
       "SeniorCitizen        0.030776         0.047266          0.156530   \n",
       "Partner              0.137341         0.129574         -0.014877   \n",
       "Dependents           0.046885         0.021321         -0.111377   \n",
       "tenure               0.289373         0.296866          0.006152   \n",
       "PhoneService         0.055353         0.043870          0.016505   \n",
       "OnlineSecurity       0.038506         0.051156         -0.003636   \n",
       "OnlineBackup         0.147186         0.136722         -0.013370   \n",
       "DeviceProtection     0.252462         0.265543          0.103797   \n",
       "TechSupport          0.149144         0.151069          0.037880   \n",
       "StreamingTV          1.000000         0.434772          0.096642   \n",
       "StreamingMovies      0.434772         1.000000          0.083700   \n",
       "PaperlessBilling     0.096642         0.083700          1.000000   \n",
       "MonthlyCharges       0.336706         0.335459          0.352150   \n",
       "TotalCharges         0.391470         0.398066          0.158574   \n",
       "Churn               -0.036581        -0.038492          0.191825   \n",
       "\n",
       "                  MonthlyCharges  TotalCharges     Churn  \n",
       "SeniorCitizen           0.220173      0.103006  0.150889  \n",
       "Partner                 0.096848      0.317504 -0.150448  \n",
       "Dependents             -0.113890      0.062078 -0.164221  \n",
       "tenure                  0.247900      0.826178 -0.352229  \n",
       "PhoneService            0.247398      0.113214  0.011942  \n",
       "OnlineSecurity          0.296594      0.411651 -0.171226  \n",
       "OnlineBackup            0.119777      0.374410 -0.195525  \n",
       "DeviceProtection        0.482692      0.521983 -0.066160  \n",
       "TechSupport             0.338304      0.431883 -0.164674  \n",
       "StreamingTV             0.336706      0.391470 -0.036581  \n",
       "StreamingMovies         0.335459      0.398066 -0.038492  \n",
       "PaperlessBilling        0.352150      0.158574  0.191825  \n",
       "MonthlyCharges          1.000000      0.651174  0.193356  \n",
       "TotalCharges            0.651174      1.000000 -0.198324  \n",
       "Churn                   0.193356     -0.198324  1.000000  "
      ]
     },
     "execution_count": 132,
     "metadata": {},
     "output_type": "execute_result"
    }
   ],
   "source": [
    "cor=df.corr()\n",
    "cor"
   ]
  },
  {
   "cell_type": "code",
   "execution_count": 133,
   "id": "24d313ce",
   "metadata": {},
   "outputs": [
    {
     "data": {
      "text/plain": [
       "<AxesSubplot:>"
      ]
     },
     "execution_count": 133,
     "metadata": {},
     "output_type": "execute_result"
    },
    {
     "data": {
      "image/png": "[encoded data removed]",
      "text/plain": [
       "<Figure size 432x288 with 2 Axes>"
      ]
     },
     "metadata": {
      "needs_background": "light"
     },
     "output_type": "display_data"
    }
   ],
   "source": [
    "sns.heatmap(cor)"
   ]
  },
  {
   "cell_type": "code",
   "execution_count": 134,
   "id": "609a0dbb",
   "metadata": {},
   "outputs": [
    {
     "data": {
      "text/plain": [
       "array([[<AxesSubplot:title={'center':'SeniorCitizen'}>,\n",
       "        <AxesSubplot:title={'center':'Partner'}>,\n",
       "        <AxesSubplot:title={'center':'Dependents'}>,\n",
       "        <AxesSubplot:title={'center':'tenure'}>],\n",
       "       [<AxesSubplot:title={'center':'PhoneService'}>,\n",
       "        <AxesSubplot:title={'center':'OnlineSecurity'}>,\n",
       "        <AxesSubplot:title={'center':'OnlineBackup'}>,\n",
       "        <AxesSubplot:title={'center':'DeviceProtection'}>],\n",
       "       [<AxesSubplot:title={'center':'TechSupport'}>,\n",
       "        <AxesSubplot:title={'center':'StreamingTV'}>,\n",
       "        <AxesSubplot:title={'center':'StreamingMovies'}>,\n",
       "        <AxesSubplot:title={'center':'PaperlessBilling'}>],\n",
       "       [<AxesSubplot:title={'center':'MonthlyCharges'}>,\n",
       "        <AxesSubplot:title={'center':'TotalCharges'}>,\n",
       "        <AxesSubplot:title={'center':'Churn'}>, <AxesSubplot:>]],\n",
       "      dtype=object)"
      ]
     },
     "execution_count": 134,
     "metadata": {},
     "output_type": "execute_result"
    },
    {
     "data": {
      "image/png": "[encoded data removed]",
      "text/plain": [
       "<Figure size 1440x2160 with 16 Axes>"
      ]
     },
     "metadata": {
      "needs_background": "light"
     },
     "output_type": "display_data"
    }
   ],
   "source": [
    "df.hist(figsize=(20,30))"
   ]
  },
  {
   "cell_type": "code",
   "execution_count": 136,
   "id": "24f77109",
   "metadata": {},
   "outputs": [
    {
     "name": "stderr",
     "output_type": "stream",
     "text": [
      "/opt/anaconda3/lib/python3.9/site-packages/seaborn/_decorators.py:36: FutureWarning: Pass the following variable as a keyword arg: x. From version 0.12, the only valid positional argument will be `data`, and passing other arguments without an explicit keyword will result in an error or misinterpretation.\n",
      "  warnings.warn(\n"
     ]
    },
    {
     "data": {
      "text/plain": [
       "<AxesSubplot:xlabel='MonthlyCharges'>"
      ]
     },
     "execution_count": 136,
     "metadata": {},
     "output_type": "execute_result"
    },
    {
     "data": {
      "image/png": "[encoded data removed]",
      "text/plain": [
       "<Figure size 432x288 with 1 Axes>"
      ]
     },
     "metadata": {
      "needs_background": "light"
     },
     "output_type": "display_data"
    }
   ],
   "source": [
    "sns.boxplot(df['MonthlyCharges'])"
   ]
  },
  {
   "cell_type": "code",
   "execution_count": 145,
   "id": "27fcd070",
   "metadata": {},
   "outputs": [
    {
     "name": "stderr",
     "output_type": "stream",
     "text": [
      "/opt/anaconda3/lib/python3.9/site-packages/seaborn/_decorators.py:36: FutureWarning: Pass the following variable as a keyword arg: x. From version 0.12, the only valid positional argument will be `data`, and passing other arguments without an explicit keyword will result in an error or misinterpretation.\n",
      "  warnings.warn(\n",
      "/opt/anaconda3/lib/python3.9/site-packages/seaborn/_decorators.py:36: FutureWarning: Pass the following variable as a keyword arg: x. From version 0.12, the only valid positional argument will be `data`, and passing other arguments without an explicit keyword will result in an error or misinterpretation.\n",
      "  warnings.warn(\n",
      "/opt/anaconda3/lib/python3.9/site-packages/seaborn/_decorators.py:36: FutureWarning: Pass the following variable as a keyword arg: x. From version 0.12, the only valid positional argument will be `data`, and passing other arguments without an explicit keyword will result in an error or misinterpretation.\n",
      "  warnings.warn(\n",
      "/opt/anaconda3/lib/python3.9/site-packages/seaborn/_decorators.py:36: FutureWarning: Pass the following variable as a keyword arg: x. From version 0.12, the only valid positional argument will be `data`, and passing other arguments without an explicit keyword will result in an error or misinterpretation.\n",
      "  warnings.warn(\n",
      "/opt/anaconda3/lib/python3.9/site-packages/seaborn/_decorators.py:36: FutureWarning: Pass the following variable as a keyword arg: x. From version 0.12, the only valid positional argument will be `data`, and passing other arguments without an explicit keyword will result in an error or misinterpretation.\n",
      "  warnings.warn(\n",
      "/opt/anaconda3/lib/python3.9/site-packages/seaborn/_decorators.py:36: FutureWarning: Pass the following variable as a keyword arg: x. From version 0.12, the only valid positional argument will be `data`, and passing other arguments without an explicit keyword will result in an error or misinterpretation.\n",
      "  warnings.warn(\n",
      "/opt/anaconda3/lib/python3.9/site-packages/seaborn/_decorators.py:36: FutureWarning: Pass the following variable as a keyword arg: x. From version 0.12, the only valid positional argument will be `data`, and passing other arguments without an explicit keyword will result in an error or misinterpretation.\n",
      "  warnings.warn(\n",
      "/opt/anaconda3/lib/python3.9/site-packages/seaborn/_decorators.py:36: FutureWarning: Pass the following variable as a keyword arg: x. From version 0.12, the only valid positional argument will be `data`, and passing other arguments without an explicit keyword will result in an error or misinterpretation.\n",
      "  warnings.warn(\n",
      "/opt/anaconda3/lib/python3.9/site-packages/seaborn/_decorators.py:36: FutureWarning: Pass the following variable as a keyword arg: x. From version 0.12, the only valid positional argument will be `data`, and passing other arguments without an explicit keyword will result in an error or misinterpretation.\n",
      "  warnings.warn(\n",
      "/opt/anaconda3/lib/python3.9/site-packages/seaborn/_decorators.py:36: FutureWarning: Pass the following variable as a keyword arg: x. From version 0.12, the only valid positional argument will be `data`, and passing other arguments without an explicit keyword will result in an error or misinterpretation.\n",
      "  warnings.warn(\n",
      "/opt/anaconda3/lib/python3.9/site-packages/seaborn/_decorators.py:36: FutureWarning: Pass the following variable as a keyword arg: x. From version 0.12, the only valid positional argument will be `data`, and passing other arguments without an explicit keyword will result in an error or misinterpretation.\n",
      "  warnings.warn(\n",
      "/opt/anaconda3/lib/python3.9/site-packages/seaborn/_decorators.py:36: FutureWarning: Pass the following variable as a keyword arg: x. From version 0.12, the only valid positional argument will be `data`, and passing other arguments without an explicit keyword will result in an error or misinterpretation.\n",
      "  warnings.warn(\n",
      "/var/folders/7h/_q8280k96s9cyp_l8vczlx340000gn/T/ipykernel_9831/3213027946.py:19: UserWarning: Matplotlib is currently using module://matplotlib_inline.backend_inline, which is a non-GUI backend, so cannot show the figure.\n",
      "  fig.show()\n"
     ]
    },
    {
     "data": {
      "image/png": "[encoded data removed]",
      "text/plain": [
       "<Figure size 1080x1080 with 12 Axes>"
      ]
     },
     "metadata": {
      "needs_background": "light"
     },
     "output_type": "display_data"
    }
   ],
   "source": [
    "fig, ax =plt.subplots(6,2,figsize=(15,15))\n",
    "sns.countplot(df['Churn'],hue=df[\"gender\"], ax=ax[0,0])\n",
    "sns.countplot(df['Churn'],hue=df[\"SeniorCitizen\"], ax=ax[0,1])\n",
    "\n",
    "sns.countplot(df['Churn'],hue=df[\"Partner\"], ax=ax[1,0])\n",
    "sns.countplot(df['Churn'],hue=df[\"Dependents\"], ax=ax[1,1])\n",
    "\n",
    "sns.countplot(df['Churn'],hue=df[\"TechSupport\"], ax=ax[2,0])\n",
    "sns.countplot(df['Churn'],hue=df[\"InternetService\"],ax=ax[2,1])\n",
    "\n",
    "sns.countplot(df['Churn'],hue=df[\"Contract\"], ax=ax[3,0])\n",
    "sns.countplot(df['Churn'],hue=df[\"PaymentMethod\"],ax=ax[3,1])\n",
    "\n",
    "sns.countplot(df['Churn'],hue=df[\"StreamingTV\"], ax=ax[4,0])\n",
    "sns.countplot(df['Churn'],hue=df[\"StreamingMovies\"],ax=ax[4,1])\n",
    "\n",
    "sns.countplot(df['Churn'],hue=df[\"OnlineBackup\"], ax=ax[5,0])\n",
    "sns.countplot(df['Churn'],hue=df[\"DeviceProtection\"],ax=ax[5,1])\n",
    "fig.show()"
   ]
  },
  {
   "cell_type": "code",
   "execution_count": 146,
   "id": "98bf86c4",
   "metadata": {},
   "outputs": [
    {
     "data": {
      "text/plain": [
       "([<matplotlib.patches.Wedge at 0x7f9d60f881f0>,\n",
       "  <matplotlib.patches.Wedge at 0x7f9d60f88bb0>],\n",
       " [Text(-0.8144539368428058, -0.7393678277834755, 'Not Churned'),\n",
       "  Text(0.8144540060674139, 0.7393677515287918, 'Churned')],\n",
       " [Text(-0.44424760191425766, -0.40329154242735027, '73.463'),\n",
       "  Text(0.4442476396731348, 0.4032915008338864, '26.537')])"
      ]
     },
     "execution_count": 146,
     "metadata": {},
     "output_type": "execute_result"
    },
    {
     "data": {
      "image/png": "[encoded data removed]",
      "text/plain": [
       "<Figure size 360x360 with 1 Axes>"
      ]
     },
     "metadata": {},
     "output_type": "display_data"
    }
   ],
   "source": [
    "plt.figure(figsize=(5,5))\n",
    "plt.pie(df[\"Churn\"].value_counts(), startangle=90,autopct='%.3f',labels=['Not Churned','Churned'],shadow=True)"
   ]
  },
  {
   "cell_type": "code",
   "execution_count": 148,
   "id": "f55f7f3f",
   "metadata": {},
   "outputs": [
    {
     "data": {
      "text/plain": [
       "<AxesSubplot:title={'center':'tenure vs. churn'}, xlabel='tenure', ylabel='Density'>"
      ]
     },
     "execution_count": 148,
     "metadata": {},
     "output_type": "execute_result"
    },
    {
     "data": {
      "image/png": "[encoded data removed]",
      "text/plain": [
       "<Figure size 432x288 with 1 Axes>"
      ]
     },
     "metadata": {
      "needs_background": "light"
     },
     "output_type": "display_data"
    }
   ],
   "source": [
    "plt.title (\"tenure vs. churn\")\n",
    "sns.kdeplot (data = df, x = \"tenure\", hue = 'Churn', palette = 'Set2')"
   ]
  },
  {
   "cell_type": "code",
   "execution_count": null,
   "id": "6db367a4",
   "metadata": {},
   "outputs": [],
   "source": []
  }
 ],
 "metadata": {
  "kernelspec": {
   "display_name": "Python 3 (ipykernel)",
   "language": "python",
   "name": "python3"
  },
  "language_info": {
   "codemirror_mode": {
    "name": "ipython",
    "version": 3
   },
   "file_extension": ".py",
   "mimetype": "text/x-python",
   "name": "python",
   "nbconvert_exporter": "python",
   "pygments_lexer": "ipython3",
   "version": "3.9.7"
  }
 },
 "nbformat": 4,
 "nbformat_minor": 5
}

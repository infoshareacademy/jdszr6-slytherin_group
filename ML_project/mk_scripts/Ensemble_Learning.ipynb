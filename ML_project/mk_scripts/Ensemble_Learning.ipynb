{
 "cells": [
  {
   "cell_type": "code",
   "execution_count": 1,
   "metadata": {},
   "outputs": [],
   "source": [
    "import numpy as np\n",
    "import pandas as pd\n",
    "\n",
    "import matplotlib.pyplot as plt\n",
    "import seaborn as sns\n",
    "\n",
    "from sklearn.model_selection import train_test_split\n",
    "from sklearn.pipeline import Pipeline\n",
    "from sklearn.preprocessing import OneHotEncoder, StandardScaler, PolynomialFeatures\n",
    "from sklearn.compose import ColumnTransformer\n",
    "from sklearn.base import BaseEstimator, TransformerMixin\n",
    "\n",
    "from sklearn.ensemble import VotingClassifier\n",
    "from sklearn.ensemble import RandomForestClassifier\n",
    "from sklearn.linear_model import LogisticRegression\n",
    "from sklearn.neighbors import KNeighborsClassifier\n",
    "from sklearn.svm import SVC\n",
    "\n",
    "from sklearn.metrics import accuracy_score\n",
    "from sklearn.metrics import recall_score, confusion_matrix, classification_report, roc_curve\n",
    "from sklearn.model_selection import cross_val_score\n",
    "from sklearn.model_selection import GridSearchCV"
   ]
  },
  {
   "cell_type": "code",
   "execution_count": 2,
   "metadata": {},
   "outputs": [
    {
     "name": "stdout",
     "output_type": "stream",
     "text": [
      "It works!\n"
     ]
    }
   ],
   "source": [
    "data = pd.read_csv(\"WA_Fn-UseC_-Telco-Customer-Churn.csv\")\n",
    "\n",
    "data = pd.get_dummies(data, columns=[\"Churn\"], drop_first=True)\n",
    "\n",
    "data = data[data[\"TotalCharges\"] != \" \"]\n",
    "data[\"TotalCharges\"] = pd.to_numeric(data[\"TotalCharges\"], errors=\"ignore\")\n",
    "\n",
    "train_set, test_set = train_test_split(data, test_size = 0.2, random_state=44)\n",
    "\n",
    "data = train_set.drop([\"customerID\", \"Churn_Yes\"], axis=1)\n",
    "data_labels = train_set[\"Churn_Yes\"].copy()\n",
    "\n",
    "data_num = data[[\"tenure\", \"MonthlyCharges\", \"TotalCharges\"]]\n",
    "data_cat = data.drop(columns=[\"tenure\", \"MonthlyCharges\", \"TotalCharges\"])\n",
    "\n",
    "\n",
    "num_attribs = list(data_num)\n",
    "cat_attribs = list(data_cat)\n",
    "\n",
    "full_pipeline = ColumnTransformer([\n",
    "    (\"num\", Pipeline([\n",
    "        (\"poly\", PolynomialFeatures(degree=5,\n",
    "                                    include_bias=False,\n",
    "                                    interaction_only=False)),\n",
    "        (\"scaler\", StandardScaler()),\n",
    "    ]), num_attribs),\n",
    "    (\"cat\", OneHotEncoder(drop=\"first\"), cat_attribs),\n",
    "])\n",
    "\n",
    "new_data = full_pipeline.fit_transform(data)\n",
    "\n",
    "class DropTransformer(BaseEstimator, TransformerMixin):\n",
    "    \n",
    "    def __init__(self, threshold):\n",
    "        self.threshold = threshold\n",
    "        print(\"It works!\")\n",
    "        \n",
    "    def fit(self, X, y = None):\n",
    "        \n",
    "        return self\n",
    "    \n",
    "    def transform(self, X):\n",
    "\n",
    "        data = pd.DataFrame(X)\n",
    "        corr_matrix = data.corr(method=\"spearman\")\n",
    "        upper = corr_matrix.where(np.triu(np.ones(corr_matrix.shape), k=1).astype(np.bool))\n",
    "        to_drop = [column for column in upper.columns if any(upper[column] > self.threshold)]\n",
    "        transformed_data = np.array(data.drop(data.columns[to_drop], axis=1))\n",
    "        \n",
    "        return transformed_data\n",
    "\n",
    "pipeline = Pipeline([(\"droper\", DropTransformer(threshold = 0.95))])\n",
    "\n",
    "data_prepared = pipeline.fit_transform(new_data)\n",
    "\n",
    "X_train, X_val, y_train, y_val = train_test_split(data_prepared, data_labels, test_size = 0.25,\n",
    "                                                  random_state=44, stratify=data_labels)"
   ]
  },
  {
   "cell_type": "markdown",
   "metadata": {},
   "source": [
    "#### wybranie najlepszych modeli"
   ]
  },
  {
   "cell_type": "code",
   "execution_count": 3,
   "metadata": {},
   "outputs": [],
   "source": [
    "log_clf = LogisticRegression(C=0.5, solver=\"liblinear\", class_weight=\"balanced\", random_state=44)\n",
    "rnd_clf = RandomForestClassifier(max_depth=7, max_features=\"auto\", min_samples_leaf=10, class_weight=\"balanced\", random_state=44)\n",
    "svm_clf = SVC(kernel=\"rbf\", C=1, gamma=\"auto\", class_weight=\"balanced\", random_state=44, probability=True)\n",
    "knn_clf = KNeighborsClassifier(n_neighbors = 41, leaf_size = 10, p = 1, metric = \"euclidean\", weights = \"uniform\")"
   ]
  },
  {
   "cell_type": "markdown",
   "metadata": {},
   "source": [
    "#### wyuczenie modelu votingclassifier"
   ]
  },
  {
   "cell_type": "code",
   "execution_count": 57,
   "metadata": {},
   "outputs": [],
   "source": [
    "voting_clf = VotingClassifier(\n",
    "    estimators=[(\"lr\", log_clf), (\"rf\", rnd_clf), (\"svc\", svm_clf), (\"knc\", knn_clf)],\n",
    "    voting=\"hard\")"
   ]
  },
  {
   "cell_type": "code",
   "execution_count": 58,
   "metadata": {},
   "outputs": [
    {
     "name": "stdout",
     "output_type": "stream",
     "text": [
      "   model       accuracy       recall   \n",
      "LogisticRegression 0.743 0.804\n",
      "RandomForestClassifier 0.758 0.785\n",
      "SVC 0.719 0.815\n",
      "KNeighborsClassifier 0.795 0.594\n",
      "VotingClassifier 0.763 0.753\n"
     ]
    }
   ],
   "source": [
    "print(\"   model   \", \"   accuracy   \", \"   recall   \")\n",
    "for clf in (log_clf, rnd_clf, svm_clf, knn_clf, voting_clf):\n",
    "    clf.fit(X_train, y_train)\n",
    "    y_pred = clf.predict(X_val)\n",
    "    print(clf.__class__.__name__, round(accuracy_score(y_val, y_pred),3), round(recall_score(y_val, y_pred), 3))"
   ]
  },
  {
   "cell_type": "markdown",
   "metadata": {},
   "source": [
    "#### bez knn"
   ]
  },
  {
   "cell_type": "code",
   "execution_count": 59,
   "metadata": {},
   "outputs": [
    {
     "name": "stdout",
     "output_type": "stream",
     "text": [
      "   model       accuracy       recall   \n",
      "LogisticRegression 0.743 0.804\n",
      "RandomForestClassifier 0.758 0.785\n",
      "SVC 0.719 0.815\n",
      "VotingClassifier 0.743 0.806\n"
     ]
    }
   ],
   "source": [
    "voting_clf = VotingClassifier(\n",
    "    estimators=[(\"lr\", log_clf), (\"rf\", rnd_clf), (\"svc\", svm_clf)],\n",
    "    voting=\"hard\")\n",
    "\n",
    "print(\"   model   \", \"   accuracy   \", \"   recall   \")\n",
    "for clf in (log_clf, rnd_clf, svm_clf, voting_clf):\n",
    "    clf.fit(X_train, y_train)\n",
    "    y_pred = clf.predict(X_val)\n",
    "    print(clf.__class__.__name__, round(accuracy_score(y_val, y_pred),3), round(recall_score(y_val, y_pred), 3))"
   ]
  },
  {
   "cell_type": "markdown",
   "metadata": {},
   "source": [
    "#### kalibracja thresholdu (voting soft)"
   ]
  },
  {
   "cell_type": "code",
   "execution_count": 34,
   "metadata": {},
   "outputs": [],
   "source": [
    "def to_labels(pos_probs, threshold):\n",
    "    return (pos_probs >= threshold).astype('int')"
   ]
  },
  {
   "cell_type": "code",
   "execution_count": 61,
   "metadata": {},
   "outputs": [
    {
     "name": "stdout",
     "output_type": "stream",
     "text": [
      "   model       accuracy       recall   \n",
      "LogisticRegression 0.743 0.804\n",
      "RandomForestClassifier 0.758 0.785\n",
      "SVC 0.719 0.815\n",
      "VotingClassifier 0.762 0.747\n"
     ]
    }
   ],
   "source": [
    "voting_clf = VotingClassifier(\n",
    "    estimators=[(\"lr\", log_clf), (\"rf\", rnd_clf), (\"svc\", svm_clf)],\n",
    "    voting=\"soft\")\n",
    "\n",
    "print(\"   model   \", \"   accuracy   \", \"   recall   \")\n",
    "for clf in (log_clf, rnd_clf, svm_clf, voting_clf):\n",
    "    clf.fit(X_train, y_train)\n",
    "    y_pred = clf.predict(X_val)\n",
    "    print(clf.__class__.__name__, round(accuracy_score(y_val, y_pred),3), round(recall_score(y_val, y_pred), 3))"
   ]
  },
  {
   "cell_type": "code",
   "execution_count": 62,
   "metadata": {},
   "outputs": [
    {
     "name": "stdout",
     "output_type": "stream",
     "text": [
      "Best Threshold=0.443891, G-Mean=0.768\n"
     ]
    },
    {
     "data": {
      "image/png": "[encoded data removed]",
      "text/plain": [
       "<Figure size 864x576 with 1 Axes>"
      ]
     },
     "metadata": {
      "needs_background": "light"
     },
     "output_type": "display_data"
    }
   ],
   "source": [
    "fpr, tpr, thresholds = roc_curve(y_val, voting_clf.predict_proba(X_val)[:,1])\n",
    "\n",
    "gmeans = np.sqrt(tpr * (1-fpr))\n",
    "ix = np.argmax(gmeans)\n",
    "print('Best Threshold=%f, G-Mean=%.3f' % (thresholds[ix], gmeans[ix]))\n",
    "\n",
    "plt.figure(figsize = (12, 8))\n",
    "plt.plot([0,1], [0,1], linestyle='--', label='no skill model')\n",
    "plt.plot(fpr, tpr, marker='.', linestyle='--', label='random forrest model')\n",
    "plt.scatter(fpr[ix], tpr[ix], marker='o', color='red', label='Best')\n",
    "plt.xlabel('False Positive Rate')\n",
    "plt.ylabel('True Positive Rate')\n",
    "plt.legend()\n",
    "plt.show()"
   ]
  },
  {
   "cell_type": "code",
   "execution_count": 63,
   "metadata": {},
   "outputs": [
    {
     "name": "stdout",
     "output_type": "stream",
     "text": [
      "              precision    recall  f1-score   support\n",
      "\n",
      "           0       0.91      0.74      0.82      1035\n",
      "           1       0.52      0.80      0.63       372\n",
      "\n",
      "    accuracy                           0.75      1407\n",
      "   macro avg       0.72      0.77      0.72      1407\n",
      "weighted avg       0.81      0.75      0.77      1407\n",
      "\n"
     ]
    }
   ],
   "source": [
    "print(classification_report(y_val, to_labels(voting_clf.predict_proba(X_val)[:,1], thresholds[ix])))"
   ]
  },
  {
   "cell_type": "markdown",
   "metadata": {},
   "source": [
    "#### another attempt"
   ]
  },
  {
   "cell_type": "code",
   "execution_count": 4,
   "metadata": {},
   "outputs": [],
   "source": [
    "log_clf = LogisticRegression(C=0.5, solver=\"liblinear\", class_weight=\"balanced\", random_state=44)\n",
    "rnd_clf = RandomForestClassifier(max_depth=7, max_features=\"auto\", min_samples_leaf=10, class_weight=\"balanced\", random_state=44)\n",
    "svm_clf = SVC(kernel=\"rbf\", C=1, gamma=\"auto\", class_weight=\"balanced\", random_state=44, probability=True)\n",
    "knn_clf = KNeighborsClassifier(n_neighbors = 41, leaf_size = 10, p = 1, metric = \"euclidean\", weights = \"uniform\")"
   ]
  },
  {
   "cell_type": "code",
   "execution_count": 17,
   "metadata": {},
   "outputs": [],
   "source": [
    "prob_list = []\n",
    "weight_list = []\n",
    "for clf in (log_clf, rnd_clf, svm_clf, knn_clf):\n",
    "    clf.fit(X_train, y_train)\n",
    "    \n",
    "    y_prob = clf.predict_proba(X_val)\n",
    "    prob_list.append(y_prob)\n",
    "    \n",
    "    y_pred = clf.predict(X_val)\n",
    "    weight_list.append(recall_score(y_val, y_pred))"
   ]
  },
  {
   "cell_type": "code",
   "execution_count": 47,
   "metadata": {},
   "outputs": [],
   "source": [
    "predict_list = []\n",
    "for record in range(len(X_val)):\n",
    "    log = prob_list[0][record] * weight_list[0]\n",
    "    rnd = prob_list[1][record] * weight_list[1]\n",
    "    svm = prob_list[2][record] * weight_list[2]\n",
    "    knn = prob_list[3][record] * weight_list[3]\n",
    "    \n",
    "    predict = (log + rnd + svm + knn)/(weight_list[0] + weight_list[1] + weight_list[2] + weight_list[3])\n",
    "    predict_list.append(to_labels(predict[0], 0.4))"
   ]
  },
  {
   "cell_type": "code",
   "execution_count": null,
   "metadata": {},
   "outputs": [],
   "source": []
  },
  {
   "cell_type": "code",
   "execution_count": null,
   "metadata": {},
   "outputs": [],
   "source": []
  },
  {
   "cell_type": "code",
   "execution_count": null,
   "metadata": {},
   "outputs": [],
   "source": []
  },
  {
   "cell_type": "code",
   "execution_count": null,
   "metadata": {},
   "outputs": [],
   "source": []
  },
  {
   "cell_type": "code",
   "execution_count": null,
   "metadata": {},
   "outputs": [],
   "source": []
  }
 ],
 "metadata": {
  "kernelspec": {
   "display_name": "Python 3",
   "language": "python",
   "name": "python3"
  },
  "language_info": {
   "codemirror_mode": {
    "name": "ipython",
    "version": 3
   },
   "file_extension": ".py",
   "mimetype": "text/x-python",
   "name": "python",
   "nbconvert_exporter": "python",
   "pygments_lexer": "ipython3",
   "version": "3.7.0"
  }
 },
 "nbformat": 4,
 "nbformat_minor": 2
}

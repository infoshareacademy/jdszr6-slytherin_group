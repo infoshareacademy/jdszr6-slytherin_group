{
 "cells": [
  {
   "cell_type": "code",
   "execution_count": 2,
   "metadata": {},
   "outputs": [],
   "source": [
    "import numpy as np\n",
    "import pandas as pd\n",
    "\n",
    "import matplotlib.pyplot as plt\n",
    "import seaborn as sns\n",
    "\n",
    "from sklearn.datasets import make_classification\n",
    "from sklearn.ensemble import RandomForestClassifier\n",
    "\n",
    "import numpy as np\n",
    "import pandas as pd\n",
    "\n",
    "import matplotlib.pyplot as plt\n",
    "import seaborn as sns\n",
    "\n",
    "from sklearn.model_selection import train_test_split\n",
    "from sklearn.pipeline import Pipeline\n",
    "from sklearn.preprocessing import OneHotEncoder, StandardScaler, PolynomialFeatures\n",
    "from sklearn.compose import ColumnTransformer\n",
    "from sklearn.base import BaseEstimator, TransformerMixin\n",
    "\n",
    "from sklearn.ensemble import VotingClassifier\n",
    "from sklearn.ensemble import RandomForestClassifier\n",
    "from sklearn.linear_model import LogisticRegression\n",
    "from sklearn.neighbors import KNeighborsClassifier\n",
    "from sklearn.svm import SVC\n",
    "\n",
    "from sklearn.metrics import accuracy_score\n",
    "from sklearn.metrics import recall_score, confusion_matrix, classification_report, roc_curve\n",
    "from sklearn.model_selection import cross_val_score\n",
    "from sklearn.model_selection import GridSearchCV"
   ]
  },
  {
   "cell_type": "code",
   "execution_count": 3,
   "metadata": {},
   "outputs": [],
   "source": [
    "data = pd.read_csv(\"WA_Fn-UseC_-Telco-Customer-Churn.csv\")\n",
    "\n",
    "data = pd.get_dummies(data, columns=[\"Churn\"], drop_first=True)\n",
    "\n",
    "data = data[data[\"TotalCharges\"] != \" \"]\n",
    "data[\"TotalCharges\"] = pd.to_numeric(data[\"TotalCharges\"], errors=\"ignore\")\n",
    "\n",
    "train_set, test_set = train_test_split(data, test_size = 0.2, random_state=44)\n",
    "\n",
    "data = train_set.drop([\"customerID\", \"Churn_Yes\"], axis=1)\n",
    "data_labels = train_set[\"Churn_Yes\"].copy()\n",
    "\n",
    "data_num = data[[\"tenure\", \"MonthlyCharges\", \"TotalCharges\"]]\n",
    "data_cat = data.drop(columns=[\"tenure\", \"MonthlyCharges\", \"TotalCharges\"])\n",
    "\n",
    "\n",
    "num_attribs = list(data_num)\n",
    "cat_attribs = list(data_cat)\n",
    "\n",
    "full_pipeline = ColumnTransformer([\n",
    "    (\"num\", StandardScaler(), num_attribs),\n",
    "    (\"cat\", OneHotEncoder(drop=\"first\"), cat_attribs),\n",
    "])\n",
    "\n",
    "data_prepared = full_pipeline.fit_transform(data)\n",
    "\n",
    "\n",
    "X_train, X_val, y_train, y_val = train_test_split(data_prepared, data_labels, test_size = 0.25,\n",
    "                                                  random_state=44, stratify=data_labels)"
   ]
  },
  {
   "cell_type": "code",
   "execution_count": 30,
   "metadata": {
    "scrolled": true
   },
   "outputs": [
    {
     "name": "stdout",
     "output_type": "stream",
     "text": [
      "Feature: 0, Score: 0.19989\n",
      "Feature: 1, Score: 0.05583\n",
      "Feature: 2, Score: 0.12472\n",
      "Feature: 3, Score: 0.00367\n",
      "Feature: 4, Score: 0.00802\n",
      "Feature: 5, Score: 0.00847\n",
      "Feature: 6, Score: 0.00811\n",
      "Feature: 7, Score: 0.00178\n",
      "Feature: 8, Score: 0.00170\n",
      "Feature: 9, Score: 0.00484\n",
      "Feature: 10, Score: 0.08733\n",
      "Feature: 11, Score: 0.03063\n",
      "Feature: 12, Score: 0.01157\n",
      "Feature: 13, Score: 0.03674\n",
      "Feature: 14, Score: 0.01715\n",
      "Feature: 15, Score: 0.01060\n",
      "Feature: 16, Score: 0.02761\n",
      "Feature: 17, Score: 0.00649\n",
      "Feature: 18, Score: 0.02127\n",
      "Feature: 19, Score: 0.02871\n",
      "Feature: 20, Score: 0.03513\n",
      "Feature: 21, Score: 0.00427\n",
      "Feature: 22, Score: 0.02010\n",
      "Feature: 23, Score: 0.00527\n",
      "Feature: 24, Score: 0.04474\n",
      "Feature: 25, Score: 0.12531\n",
      "Feature: 26, Score: 0.01171\n",
      "Feature: 27, Score: 0.00473\n",
      "Feature: 28, Score: 0.04957\n",
      "Feature: 29, Score: 0.00404\n"
     ]
    },
    {
     "data": {
      "image/png": "[encoded data removed]",
      "text/plain": [
       "<Figure size 432x288 with 1 Axes>"
      ]
     },
     "metadata": {
      "needs_background": "light"
     },
     "output_type": "display_data"
    }
   ],
   "source": [
    "model = RandomForestClassifier(max_depth=7, max_features=\"auto\", min_samples_leaf=10, class_weight=\"balanced\", random_state=44)\n",
    "\n",
    "model.fit(data_prepared, data_labels)\n",
    "\n",
    "importance = model.feature_importances_\n",
    "\n",
    "for i,v in enumerate(importance):\n",
    "\tprint('Feature: %0d, Score: %.5f' % (i,v))\n",
    "# plot feature importance\n",
    "plt.bar([x for x in range(len(importance))], importance)\n",
    "plt.show()"
   ]
  },
  {
   "cell_type": "code",
   "execution_count": 31,
   "metadata": {},
   "outputs": [],
   "source": [
    "cat_encoder = full_pipeline.named_transformers_[\"cat\"]\n",
    "cat_one_hot_attribs = list(cat_encoder.categories_[0])\n",
    "attributes = num_attribs + cat_one_hot_attribs"
   ]
  },
  {
   "cell_type": "code",
   "execution_count": 32,
   "metadata": {},
   "outputs": [
    {
     "data": {
      "text/plain": [
       "[(0.19989124411625178, 'tenure'),\n",
       " (0.1247226545229792, 'TotalCharges'),\n",
       " (0.05583148547130981, 'MonthlyCharges'),\n",
       " (0.0080152165518782, 'Male'),\n",
       " (0.0036728927210831325, 'Female')]"
      ]
     },
     "execution_count": 32,
     "metadata": {},
     "output_type": "execute_result"
    }
   ],
   "source": [
    "sorted(zip(importance, attributes), reverse=True)"
   ]
  },
  {
   "cell_type": "code",
   "execution_count": 22,
   "metadata": {},
   "outputs": [
    {
     "data": {
      "text/plain": [
       "array([0.17317277, 0.16918182, 0.18964746, 0.02687666, 0.02153183,\n",
       "       0.02407   , 0.02027524, 0.00420135, 0.00429634, 0.01921979,\n",
       "       0.04031466, 0.0070967 , 0.00384018, 0.02608262, 0.008073  ,\n",
       "       0.02211065, 0.00376269, 0.01915642, 0.00382916, 0.02477065,\n",
       "       0.00792515, 0.01648253, 0.00528945, 0.01721319, 0.02507731,\n",
       "       0.03028493, 0.02608183, 0.01375819, 0.03387818, 0.01249927])"
      ]
     },
     "execution_count": 22,
     "metadata": {},
     "output_type": "execute_result"
    }
   ],
   "source": [
    "importance"
   ]
  },
  {
   "cell_type": "code",
   "execution_count": null,
   "metadata": {},
   "outputs": [],
   "source": []
  },
  {
   "cell_type": "code",
   "execution_count": null,
   "metadata": {},
   "outputs": [],
   "source": []
  },
  {
   "cell_type": "code",
   "execution_count": null,
   "metadata": {},
   "outputs": [],
   "source": []
  },
  {
   "cell_type": "code",
   "execution_count": null,
   "metadata": {},
   "outputs": [],
   "source": []
  }
 ],
 "metadata": {
  "kernelspec": {
   "display_name": "Python 3",
   "language": "python",
   "name": "python3"
  },
  "language_info": {
   "codemirror_mode": {
    "name": "ipython",
    "version": 3
   },
   "file_extension": ".py",
   "mimetype": "text/x-python",
   "name": "python",
   "nbconvert_exporter": "python",
   "pygments_lexer": "ipython3",
   "version": "3.7.0"
  }
 },
 "nbformat": 4,
 "nbformat_minor": 2
}

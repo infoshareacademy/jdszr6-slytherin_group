{
 "cells": [
  {
   "cell_type": "code",
   "execution_count": 152,
   "metadata": {},
   "outputs": [],
   "source": [
    "import numpy as np\n",
    "import pandas as pd\n",
    "\n",
    "import matplotlib.pyplot as plt\n",
    "import seaborn as sns\n",
    "\n",
    "from sklearn.model_selection import train_test_split, KFold\n",
    "from sklearn.pipeline import Pipeline\n",
    "from sklearn.preprocessing import OneHotEncoder, StandardScaler, PolynomialFeatures\n",
    "from sklearn.compose import ColumnTransformer\n",
    "from sklearn.base import BaseEstimator, TransformerMixin\n",
    "from sklearn.impute import SimpleImputer\n",
    "\n",
    "from sklearn.ensemble import VotingClassifier\n",
    "from sklearn.tree import DecisionTreeClassifier\n",
    "from sklearn.ensemble import RandomForestClassifier\n",
    "from sklearn.linear_model import LogisticRegression\n",
    "from sklearn.neighbors import KNeighborsClassifier\n",
    "from sklearn.svm import SVC\n",
    "\n",
    "from sklearn.neighbors import KNeighborsClassifier\n",
    "from sklearn.metrics import recall_score, confusion_matrix, classification_report, roc_curve, f1_score\n",
    "from sklearn.metrics import plot_confusion_matrix\n",
    "from sklearn.model_selection import cross_val_score\n",
    "from sklearn.model_selection import GridSearchCV\n",
    "from sklearn.metrics import make_scorer\n",
    "\n",
    "from xgboost import XGBClassifier"
   ]
  },
  {
   "cell_type": "code",
   "execution_count": 2,
   "metadata": {},
   "outputs": [],
   "source": [
    "def f_describe(data, column, feature):\n",
    "    \n",
    "    \"\"\"\n",
    "    f_describe - describe depending on the feature\n",
    "    \n",
    "    \"\"\"\n",
    "    \n",
    "    described_data = pd.DataFrame(index = ['count','mean', 'std', 'min', '25%', '50%', '75%', 'max'])\n",
    "    described = data[[column]].describe()\n",
    "    \n",
    "    new_name = \"{}\".format(column)\n",
    "    described.rename(columns = {column: new_name}, inplace = True)\n",
    "    \n",
    "    if data[feature].nunique() == 1:\n",
    "        return described\n",
    "    \n",
    "    else:\n",
    "        described_data = pd.concat([described_data, described], axis=1)\n",
    "        \n",
    "        \n",
    "        values = data[feature].unique()\n",
    "        \n",
    "        for index, value in enumerate(values):\n",
    "            new_name = \"{}: {}\".format(feature, value)\n",
    "            described = data[data[feature] == value][[column]].describe()\n",
    "            described.rename(columns = {column: new_name}, inplace = True)\n",
    "            \n",
    "            described_data = pd.concat([described_data, described], axis=1)\n",
    "            \n",
    "        return described_data"
   ]
  },
  {
   "cell_type": "code",
   "execution_count": 3,
   "metadata": {},
   "outputs": [],
   "source": [
    "class DropTransformer(BaseEstimator, TransformerMixin):\n",
    "    \n",
    "    def __init__(self, threshold = 0.8):\n",
    "        self.threshold = threshold\n",
    "        print(\"It works!\")\n",
    "        \n",
    "    def fit(self, X, y = None):\n",
    "        \n",
    "        return self\n",
    "    \n",
    "    def transform(self, X):\n",
    "\n",
    "        data = pd.DataFrame(X)\n",
    "        corr_matrix = data.corr(method=\"spearman\")\n",
    "        upper = corr_matrix.where(np.triu(np.ones(corr_matrix.shape), k=1).astype(np.bool))\n",
    "        to_drop = [column for column in upper.columns if any(upper[column] > self.threshold)]\n",
    "        transformed_data = np.array(data.drop(data.columns[to_drop], axis=1))\n",
    "        \n",
    "        return transformed_data"
   ]
  },
  {
   "cell_type": "code",
   "execution_count": 54,
   "metadata": {},
   "outputs": [],
   "source": [
    "def function(y_true, y_pred, discount = 0.2, result = 0):\n",
    "    \n",
    "    matrix = confusion_matrix(y_true, y_pred)\n",
    "    TP = matrix[0][0]\n",
    "    FP = matrix[0][1]\n",
    "    FN = matrix[1][0]\n",
    "    TN = matrix[1][1]\n",
    "    \n",
    "    if result == 0:\n",
    "        return 1 - (FN + discount*FP)/(TN + discount*TP)\n",
    "    else:\n",
    "        return TN - FN + discount*TP - discount*FP"
   ]
  },
  {
   "cell_type": "markdown",
   "metadata": {},
   "source": [
    "### loading, getting dummies and cleaning data"
   ]
  },
  {
   "cell_type": "code",
   "execution_count": 5,
   "metadata": {},
   "outputs": [],
   "source": [
    "raw_data = pd.read_csv(\"WA_Fn-UseC_-Telco-Customer-Churn.csv\")"
   ]
  },
  {
   "cell_type": "code",
   "execution_count": 6,
   "metadata": {},
   "outputs": [],
   "source": [
    "data = pd.get_dummies(raw_data, columns=[\"Churn\"], drop_first=True)"
   ]
  },
  {
   "cell_type": "code",
   "execution_count": 7,
   "metadata": {},
   "outputs": [],
   "source": [
    "data = data[data[\"TotalCharges\"] != \" \"]\n",
    "data[\"TotalCharges\"] = pd.to_numeric(data[\"TotalCharges\"], errors=\"ignore\")"
   ]
  },
  {
   "cell_type": "markdown",
   "metadata": {},
   "source": [
    "### splitting dataset into train and test sets"
   ]
  },
  {
   "cell_type": "code",
   "execution_count": 8,
   "metadata": {},
   "outputs": [],
   "source": [
    "train_set, test_set = train_test_split(data, test_size = 0.2, random_state=44)\n",
    "\n",
    "data = train_set.drop([\"customerID\", \"Churn_Yes\"], axis=1)\n",
    "data_labels = train_set[\"Churn_Yes\"].copy()"
   ]
  },
  {
   "cell_type": "markdown",
   "metadata": {},
   "source": [
    "### pipeline, best random forest classifier and feature importances"
   ]
  },
  {
   "cell_type": "code",
   "execution_count": 9,
   "metadata": {},
   "outputs": [],
   "source": [
    "data_num = data[[\"tenure\", \"MonthlyCharges\", \"TotalCharges\"]]\n",
    "data_cat = data.drop(columns=[\"tenure\", \"MonthlyCharges\", \"TotalCharges\"])"
   ]
  },
  {
   "cell_type": "code",
   "execution_count": 10,
   "metadata": {},
   "outputs": [],
   "source": [
    "num_attribs = list(data_num)\n",
    "cat_attribs = list(data_cat)\n",
    "\n",
    "full_pipeline = ColumnTransformer([\n",
    "    (\"num\", StandardScaler(), num_attribs),\n",
    "    (\"cat\", OneHotEncoder(drop=\"first\"), cat_attribs),\n",
    "])\n",
    "\n",
    "data_prepared = full_pipeline.fit_transform(data)"
   ]
  },
  {
   "cell_type": "code",
   "execution_count": 11,
   "metadata": {},
   "outputs": [
    {
     "name": "stderr",
     "output_type": "stream",
     "text": [
      "C:\\Users\\nemet\\Anaconda3\\lib\\site-packages\\sklearn\\model_selection\\_search.py:925: UserWarning: One or more of the test scores are non-finite: [nan nan nan ... nan nan nan]\n",
      "  category=UserWarning\n"
     ]
    },
    {
     "data": {
      "text/plain": [
       "GridSearchCV(cv=5, estimator=RandomForestClassifier(random_state=44), n_jobs=-1,\n",
       "             param_grid={'class_weight': [None, 'balanced'],\n",
       "                         'criterion': ['gini', 'entropy', 'log_loss'],\n",
       "                         'max_depth': [None, 3, 5],\n",
       "                         'max_features': [None, 'sqrt', 'log2'],\n",
       "                         'min_samples_leaf': [1, 3, 5],\n",
       "                         'min_samples_split': [1, 2, 3, 4],\n",
       "                         'n_estimators': [50, 100, 200]},\n",
       "             scoring='f1')"
      ]
     },
     "execution_count": 11,
     "metadata": {},
     "output_type": "execute_result"
    }
   ],
   "source": [
    "params_grid = {\n",
    "    \"n_estimators\": [50, 100, 200],\n",
    "    \"criterion\": [\"gini\", \"entropy\", \"log_loss\"],\n",
    "    \"max_depth\": [None, 3, 5],\n",
    "    \"min_samples_split\": [1, 2, 3, 4],\n",
    "    \"min_samples_leaf\": [1, 3, 5], \n",
    "    \"max_features\": [None, \"sqrt\", \"log2\"],\n",
    "    \"class_weight\": [None, \"balanced\"],\n",
    "}\n",
    "\n",
    "gridsearch = GridSearchCV(estimator = RandomForestClassifier(random_state=44),\n",
    "                          param_grid = params_grid,\n",
    "                          scoring = \"f1\",\n",
    "                          n_jobs = -1,\n",
    "                          cv = 5\n",
    "                         )\n",
    "\n",
    "gridsearch.fit(data_prepared, data_labels)"
   ]
  },
  {
   "cell_type": "code",
   "execution_count": 12,
   "metadata": {},
   "outputs": [],
   "source": [
    "#gridsearch.best_estimator_\n",
    "best_rf = RandomForestClassifier(class_weight='balanced',\n",
    "                                 criterion='entropy',\n",
    "                                 max_features='log2',\n",
    "                                 min_samples_leaf=5,\n",
    "                                 random_state=44)\n",
    "\n",
    "best_rf.fit(data_prepared, data_labels);"
   ]
  },
  {
   "cell_type": "markdown",
   "metadata": {},
   "source": [
    "### 10 most important features"
   ]
  },
  {
   "cell_type": "code",
   "execution_count": 13,
   "metadata": {},
   "outputs": [],
   "source": [
    "transformed_cat_attribs = full_pipeline.named_transformers_[\"cat\"].get_feature_names()\n",
    "feature_names = np.concatenate((num_attribs, transformed_cat_attribs))\n",
    "\n",
    "feature_importance_data = pd.DataFrame({\"Feature_name\": feature_names, \"feature_importance\": best_rf.feature_importances_})\n",
    "feature_importance_data = feature_importance_data.sort_values(by=\"feature_importance\", ascending=False)"
   ]
  },
  {
   "cell_type": "code",
   "execution_count": 14,
   "metadata": {
    "scrolled": false
   },
   "outputs": [
    {
     "data": {
      "image/png": "[encoded data removed]",
      "text/plain": [
       "<Figure size 720x432 with 1 Axes>"
      ]
     },
     "metadata": {
      "needs_background": "light"
     },
     "output_type": "display_data"
    }
   ],
   "source": [
    "feature_importance_data.iloc[:10,:].plot(x = \"Feature_name\",\n",
    "                                         kind = \"bar\",\n",
    "                                         figsize = (10, 6),\n",
    "                                         fontsize = 12,\n",
    "                                         title = \"10 most important features\",\n",
    "                                         xlabel = \"Feature names\",\n",
    "                                         ylabel = \"Importance\");"
   ]
  },
  {
   "cell_type": "markdown",
   "metadata": {},
   "source": [
    "### MonthlyCharges"
   ]
  },
  {
   "cell_type": "code",
   "execution_count": 15,
   "metadata": {},
   "outputs": [
    {
     "data": {
      "text/html": [
       "<div>\n",
       "<style scoped>\n",
       "    .dataframe tbody tr th:only-of-type {\n",
       "        vertical-align: middle;\n",
       "    }\n",
       "\n",
       "    .dataframe tbody tr th {\n",
       "        vertical-align: top;\n",
       "    }\n",
       "\n",
       "    .dataframe thead th {\n",
       "        text-align: right;\n",
       "    }\n",
       "</style>\n",
       "<table border=\"1\" class=\"dataframe\">\n",
       "  <thead>\n",
       "    <tr style=\"text-align: right;\">\n",
       "      <th></th>\n",
       "      <th>MonthlyCharges</th>\n",
       "      <th>Churn: No</th>\n",
       "      <th>Churn: Yes</th>\n",
       "    </tr>\n",
       "  </thead>\n",
       "  <tbody>\n",
       "    <tr>\n",
       "      <th>count</th>\n",
       "      <td>7043.00</td>\n",
       "      <td>5174.00</td>\n",
       "      <td>1869.00</td>\n",
       "    </tr>\n",
       "    <tr>\n",
       "      <th>mean</th>\n",
       "      <td>64.76</td>\n",
       "      <td>61.27</td>\n",
       "      <td>74.44</td>\n",
       "    </tr>\n",
       "    <tr>\n",
       "      <th>std</th>\n",
       "      <td>30.09</td>\n",
       "      <td>31.09</td>\n",
       "      <td>24.67</td>\n",
       "    </tr>\n",
       "    <tr>\n",
       "      <th>min</th>\n",
       "      <td>18.25</td>\n",
       "      <td>18.25</td>\n",
       "      <td>18.85</td>\n",
       "    </tr>\n",
       "    <tr>\n",
       "      <th>25%</th>\n",
       "      <td>35.50</td>\n",
       "      <td>25.10</td>\n",
       "      <td>56.15</td>\n",
       "    </tr>\n",
       "    <tr>\n",
       "      <th>50%</th>\n",
       "      <td>70.35</td>\n",
       "      <td>64.43</td>\n",
       "      <td>79.65</td>\n",
       "    </tr>\n",
       "    <tr>\n",
       "      <th>75%</th>\n",
       "      <td>89.85</td>\n",
       "      <td>88.40</td>\n",
       "      <td>94.20</td>\n",
       "    </tr>\n",
       "    <tr>\n",
       "      <th>max</th>\n",
       "      <td>118.75</td>\n",
       "      <td>118.75</td>\n",
       "      <td>118.35</td>\n",
       "    </tr>\n",
       "  </tbody>\n",
       "</table>\n",
       "</div>"
      ],
      "text/plain": [
       "       MonthlyCharges  Churn: No  Churn: Yes\n",
       "count         7043.00    5174.00     1869.00\n",
       "mean            64.76      61.27       74.44\n",
       "std             30.09      31.09       24.67\n",
       "min             18.25      18.25       18.85\n",
       "25%             35.50      25.10       56.15\n",
       "50%             70.35      64.43       79.65\n",
       "75%             89.85      88.40       94.20\n",
       "max            118.75     118.75      118.35"
      ]
     },
     "execution_count": 15,
     "metadata": {},
     "output_type": "execute_result"
    }
   ],
   "source": [
    "pd.options.display.float_format = '{:.2f}'.format\n",
    "f_desc = f_describe(raw_data, \"MonthlyCharges\", \"Churn\")\n",
    "f_desc"
   ]
  },
  {
   "cell_type": "code",
   "execution_count": 16,
   "metadata": {},
   "outputs": [
    {
     "name": "stdout",
     "output_type": "stream",
     "text": [
      "Monthly charges\n",
      "differences in means: 21.51%\n",
      "differences in medians: 23.63%\n"
     ]
    }
   ],
   "source": [
    "mean_diff = round((f_desc.iloc[1,:][2] / f_desc.iloc[1,:][1] * 100) - 100, 2)\n",
    "median_diff = round((f_desc.iloc[5,:][2] / f_desc.iloc[5,:][1] * 100) - 100, 2)\n",
    "\n",
    "print(\"Monthly charges\")\n",
    "print(\"differences in means: {}%\\ndifferences in medians: {}%\".format(mean_diff, median_diff))"
   ]
  },
  {
   "cell_type": "code",
   "execution_count": 17,
   "metadata": {},
   "outputs": [
    {
     "data": {
      "image/png": "[encoded data removed]",
      "text/plain": [
       "<Figure size 864x576 with 1 Axes>"
      ]
     },
     "metadata": {
      "needs_background": "light"
     },
     "output_type": "display_data"
    }
   ],
   "source": [
    "fig = plt.figure(figsize=(12,8))\n",
    "sns.histplot(data=raw_data, x=\"MonthlyCharges\", hue=\"Churn\", multiple=\"dodge\", shrink=0.8);\n",
    "plt.title(\"Histogram for the variable MonthyCharges in relation to Churn status.\");"
   ]
  },
  {
   "cell_type": "markdown",
   "metadata": {},
   "source": [
    "### pipeline, splitting prepared data into train and validation sets"
   ]
  },
  {
   "cell_type": "code",
   "execution_count": 18,
   "metadata": {},
   "outputs": [],
   "source": [
    "full_pipeline = ColumnTransformer([\n",
    "    (\"num\", Pipeline([\n",
    "        (\"poly\", PolynomialFeatures(degree=5,\n",
    "                                    include_bias=False,\n",
    "                                    interaction_only=False)),\n",
    "        (\"scaler\", StandardScaler()),\n",
    "    ]), num_attribs),\n",
    "    (\"cat\", OneHotEncoder(drop=\"first\"), cat_attribs),\n",
    "])\n",
    "\n",
    "new_data = full_pipeline.fit_transform(data)"
   ]
  },
  {
   "cell_type": "code",
   "execution_count": 19,
   "metadata": {},
   "outputs": [
    {
     "name": "stdout",
     "output_type": "stream",
     "text": [
      "It works!\n"
     ]
    }
   ],
   "source": [
    "pipeline = Pipeline([(\"droper\", DropTransformer(threshold = 0.9))])\n",
    "\n",
    "data_prepared = pipeline.fit_transform(new_data)"
   ]
  },
  {
   "cell_type": "code",
   "execution_count": 93,
   "metadata": {},
   "outputs": [],
   "source": [
    "X_train, X_val, y_train, y_val = train_test_split(data_prepared, data_labels, test_size = 0.25,\n",
    "                                                  random_state=44, stratify=data_labels)"
   ]
  },
  {
   "cell_type": "markdown",
   "metadata": {},
   "source": [
    "### metric selection"
   ]
  },
  {
   "cell_type": "code",
   "execution_count": 21,
   "metadata": {},
   "outputs": [],
   "source": [
    "sample_model = KNeighborsClassifier()\n",
    "\n",
    "sample_model.fit(X_train, y_train);"
   ]
  },
  {
   "cell_type": "code",
   "execution_count": 22,
   "metadata": {},
   "outputs": [
    {
     "data": {
      "image/png": "[encoded data removed]",
      "text/plain": [
       "<Figure size 432x288 with 2 Axes>"
      ]
     },
     "metadata": {
      "needs_background": "light"
     },
     "output_type": "display_data"
    }
   ],
   "source": [
    "plot_confusion_matrix(sample_model, X_val, y_val, cmap=\"summer\");\n",
    "plt.title(\"Confusion matrix of sample model\");"
   ]
  },
  {
   "cell_type": "markdown",
   "metadata": {},
   "source": [
    "### Slytherin score\n",
    "\n",
    "$$ score = \\frac{TN - FN + d\\cdot TP - d\\cdot FP}{TN + d\\cdot TP} = 1 - \\frac{FN + d\\cdot FP}{TN + d\\cdot TP}$$\n",
    "\n",
    "$d$ - discount  \n",
    "$TN$ - clients who were detected as satisfied, and they really are.  \n",
    "$FN$ - clients who were detected as satisfied, but they left.  \n",
    "$TP$ - clients who were detected as dissatisfied - they are entitled to a discount.  \n",
    "$FP$ -  clients who were detected as dissatisfied - they are entitled to a discount even though they are satisfied.  "
   ]
  },
  {
   "cell_type": "code",
   "execution_count": 23,
   "metadata": {},
   "outputs": [],
   "source": [
    "slytherin_score = make_scorer(function)"
   ]
  },
  {
   "cell_type": "markdown",
   "metadata": {},
   "source": [
    "### F1 vs slytherin"
   ]
  },
  {
   "cell_type": "code",
   "execution_count": 24,
   "metadata": {},
   "outputs": [
    {
     "name": "stdout",
     "output_type": "stream",
     "text": [
      "Fitting 5 folds for each of 144 candidates, totalling 720 fits\n"
     ]
    },
    {
     "data": {
      "text/plain": [
       "GridSearchCV(cv=5, estimator=SVC(random_state=44), n_jobs=-1,\n",
       "             param_grid={'C': [0.1, 0.2, 0.5, 1],\n",
       "                         'class_weight': [None, 'balanced'],\n",
       "                         'degree': [1, 2, 3], 'gamma': ['scale', 'auto'],\n",
       "                         'kernel': ['linear', 'poly', 'rbf']},\n",
       "             scoring='f1', verbose=1)"
      ]
     },
     "execution_count": 24,
     "metadata": {},
     "output_type": "execute_result"
    }
   ],
   "source": [
    "params_grid = {\n",
    "    \"C\": [0.1, 0.2, 0.5, 1],\n",
    "    \"kernel\": [\"linear\", \"poly\", \"rbf\"],\n",
    "    \"degree\": [1, 2, 3],\n",
    "    \"gamma\": [\"scale\", \"auto\"],\n",
    "    \"class_weight\": [None, \"balanced\"]\n",
    "}\n",
    "\n",
    "gridsearch_f1 = GridSearchCV(estimator = SVC(random_state=44),\n",
    "                             param_grid = params_grid,\n",
    "                             scoring = \"f1\",\n",
    "                             n_jobs = -1,\n",
    "                             verbose = 1,\n",
    "                             cv = 5\n",
    "                            )\n",
    "\n",
    "gridsearch_f1.fit(X_train, y_train)"
   ]
  },
  {
   "cell_type": "code",
   "execution_count": 25,
   "metadata": {},
   "outputs": [
    {
     "name": "stdout",
     "output_type": "stream",
     "text": [
      "Fitting 5 folds for each of 144 candidates, totalling 720 fits\n"
     ]
    },
    {
     "data": {
      "text/plain": [
       "GridSearchCV(cv=5, estimator=SVC(random_state=44), n_jobs=-1,\n",
       "             param_grid={'C': [0.1, 0.2, 0.5, 1],\n",
       "                         'class_weight': [None, 'balanced'],\n",
       "                         'degree': [1, 2, 3], 'gamma': ['scale', 'auto'],\n",
       "                         'kernel': ['linear', 'poly', 'rbf']},\n",
       "             scoring=make_scorer(function), verbose=1)"
      ]
     },
     "execution_count": 25,
     "metadata": {},
     "output_type": "execute_result"
    }
   ],
   "source": [
    "params_grid = {\n",
    "    \"C\": [0.1, 0.2, 0.5, 1],\n",
    "    \"kernel\": [\"linear\", \"poly\", \"rbf\"],\n",
    "    \"degree\": [1, 2, 3],\n",
    "    \"gamma\": [\"scale\", \"auto\"],\n",
    "    \"class_weight\": [None, \"balanced\"]\n",
    "}\n",
    "\n",
    "gridsearch_ss = GridSearchCV(estimator = SVC(random_state=44),\n",
    "                             param_grid = params_grid,\n",
    "                             scoring = slytherin_score,\n",
    "                             n_jobs = -1,\n",
    "                             verbose = 1,\n",
    "                             cv = 5\n",
    "                            )\n",
    "\n",
    "gridsearch_ss.fit(X_train, y_train)"
   ]
  },
  {
   "cell_type": "code",
   "execution_count": 26,
   "metadata": {},
   "outputs": [],
   "source": [
    "f1_results = pd.DataFrame(gridsearch_f1.cv_results_)[[\"params\", \"mean_test_score\", \"std_test_score\"]]\n",
    "f1_results = f1_results.rename(columns={\"params\": \"params_f1\",\n",
    "                                        \"mean_test_score\": \"mean_test_score_f1\",\n",
    "                                        \"std_test_score\": \"std_test_score_f1\"\n",
    "                                       })\n",
    "\n",
    "\n",
    "ss_results = pd.DataFrame(gridsearch_ss.cv_results_)[[\"params\", \"mean_test_score\", \"std_test_score\"]]\n",
    "ss_results = ss_results.rename(columns={\"params\": \"params_ss\",\n",
    "                                        \"mean_test_score\": \"mean_test_score_ss\",\n",
    "                                        \"std_test_score\": \"std_test_score_ss\"\n",
    "                                       })"
   ]
  },
  {
   "cell_type": "code",
   "execution_count": 27,
   "metadata": {},
   "outputs": [
    {
     "data": {
      "image/png": "[encoded data removed]",
      "text/plain": [
       "<Figure size 864x576 with 1 Axes>"
      ]
     },
     "metadata": {
      "needs_background": "light"
     },
     "output_type": "display_data"
    }
   ],
   "source": [
    "comparison = pd.concat([f1_results, ss_results], axis=1)\n",
    "\n",
    "X = range(1, len(comparison)+1)\n",
    "y_f1 = comparison[\"mean_test_score_f1\"]\n",
    "y_ss = comparison[\"mean_test_score_ss\"]\n",
    "\n",
    "fig = plt.figure(figsize=(12, 8))\n",
    "sns.lineplot(x = X, y = y_f1, label = \"f1\")\n",
    "sns.lineplot(x = X, y = y_ss, label = \"ss\")\n",
    "plt.grid()\n",
    "plt.title(\"Difference between means values F1 score and Slytherin score\");\n",
    "plt.xlabel(\"Number of SVC model\");\n",
    "plt.ylabel(\"Score\");"
   ]
  },
  {
   "cell_type": "markdown",
   "metadata": {},
   "source": [
    "### KNN"
   ]
  },
  {
   "cell_type": "code",
   "execution_count": 55,
   "metadata": {},
   "outputs": [
    {
     "name": "stdout",
     "output_type": "stream",
     "text": [
      "Fitting 5 folds for each of 288 candidates, totalling 1440 fits\n",
      "Wall time: 28.1 s\n"
     ]
    }
   ],
   "source": [
    "%%time\n",
    "\n",
    "grid_params = {\n",
    "    \"n_neighbors\": [5, 11, 19, 21, 23, 25, 31, 41, 51],\n",
    "    \"weights\": [\"uniform\", \"distance\"],\n",
    "    \"metric\": [\"euclidean\", \"manhattan\"],\n",
    "    \"leaf_size\": list(range(10, 50, 10)),\n",
    "    \"p\": [1, 2]\n",
    "}\n",
    "\n",
    "knn_classifier = GridSearchCV(\n",
    "    KNeighborsClassifier(),\n",
    "    grid_params,\n",
    "    scoring = slytherin_score,\n",
    "    verbose = 1,\n",
    "    cv = 5,\n",
    "    n_jobs = -1\n",
    ")\n",
    "\n",
    "knn_classifier.fit(X_train, y_train)"
   ]
  },
  {
   "cell_type": "code",
   "execution_count": 56,
   "metadata": {},
   "outputs": [
    {
     "data": {
      "text/plain": [
       "KNeighborsClassifier(leaf_size=10, metric='euclidean', n_neighbors=41, p=1)"
      ]
     },
     "execution_count": 56,
     "metadata": {},
     "output_type": "execute_result"
    }
   ],
   "source": [
    "knn_classifier.best_estimator_"
   ]
  },
  {
   "cell_type": "code",
   "execution_count": 57,
   "metadata": {},
   "outputs": [
    {
     "data": {
      "text/plain": [
       "0.5546679980029956"
      ]
     },
     "execution_count": 57,
     "metadata": {},
     "output_type": "execute_result"
    }
   ],
   "source": [
    "best_knn_classifier = KNeighborsClassifier(leaf_size=10, metric='euclidean', n_neighbors=41, p=1);\n",
    "\n",
    "best_knn_classifier.fit(X_train, y_train);\n",
    "slytherin_score(best_knn_classifier, X_val, y_val)"
   ]
  },
  {
   "cell_type": "code",
   "execution_count": 58,
   "metadata": {},
   "outputs": [
    {
     "data": {
      "text/plain": [
       "<sklearn.metrics._plot.confusion_matrix.ConfusionMatrixDisplay at 0x2a9f6a985c0>"
      ]
     },
     "execution_count": 58,
     "metadata": {},
     "output_type": "execute_result"
    },
    {
     "data": {
      "image/png": "[encoded data removed]",
      "text/plain": [
       "<Figure size 432x288 with 2 Axes>"
      ]
     },
     "metadata": {
      "needs_background": "light"
     },
     "output_type": "display_data"
    }
   ],
   "source": [
    "plot_confusion_matrix(best_knn_classifier, X_val, y_val)"
   ]
  },
  {
   "cell_type": "markdown",
   "metadata": {},
   "source": [
    "### RF"
   ]
  },
  {
   "cell_type": "code",
   "execution_count": 60,
   "metadata": {},
   "outputs": [
    {
     "name": "stdout",
     "output_type": "stream",
     "text": [
      "Fitting 5 folds for each of 360 candidates, totalling 1800 fits\n"
     ]
    },
    {
     "data": {
      "text/plain": [
       "GridSearchCV(cv=5, estimator=RandomForestClassifier(), n_jobs=-1,\n",
       "             param_grid={'class_weight': [None, 'balanced'],\n",
       "                         'max_depth': [None, 3, 5, 7, 9, 10, 12, 14, 17, 20],\n",
       "                         'max_features': [None, 'auto', 'log2'],\n",
       "                         'min_samples_leaf': [1, 3, 5, 10, 15, 20]},\n",
       "             scoring=make_scorer(function), verbose=1)"
      ]
     },
     "execution_count": 60,
     "metadata": {},
     "output_type": "execute_result"
    }
   ],
   "source": [
    "params_grid = {\n",
    "    'max_depth': [None,3,5,7,9,10,12,14,17,20],\n",
    "    'class_weight': [None,'balanced'],\n",
    "    'max_features': [None,'auto','log2'],\n",
    "    'min_samples_leaf': [1,3,5,10,15,20]\n",
    "}\n",
    "\n",
    "rf_classifier = GridSearchCV(RandomForestClassifier(),\n",
    "                             param_grid=params_grid,\n",
    "                             scoring=slytherin_score,\n",
    "                             verbose = 1,\n",
    "                             n_jobs=-1,\n",
    "                             cv=5\n",
    "                            )\n",
    "\n",
    "rf_classifier.fit(X_train, y_train)"
   ]
  },
  {
   "cell_type": "code",
   "execution_count": 61,
   "metadata": {},
   "outputs": [
    {
     "data": {
      "text/plain": [
       "RandomForestClassifier(class_weight='balanced', max_depth=3, max_features=None,\n",
       "                       min_samples_leaf=5)"
      ]
     },
     "execution_count": 61,
     "metadata": {},
     "output_type": "execute_result"
    }
   ],
   "source": [
    "rf_classifier.best_estimator_"
   ]
  },
  {
   "cell_type": "code",
   "execution_count": 62,
   "metadata": {},
   "outputs": [
    {
     "data": {
      "text/plain": [
       "0.7161862527716186"
      ]
     },
     "execution_count": 62,
     "metadata": {},
     "output_type": "execute_result"
    }
   ],
   "source": [
    "best_rf_classifier = RandomForestClassifier(class_weight='balanced', max_depth=3, max_features=None, min_samples_leaf=5);\n",
    "\n",
    "best_rf_classifier.fit(X_train, y_train);\n",
    "slytherin_score(best_rf_classifier, X_val, y_val)"
   ]
  },
  {
   "cell_type": "code",
   "execution_count": 63,
   "metadata": {},
   "outputs": [
    {
     "data": {
      "text/plain": [
       "<sklearn.metrics._plot.confusion_matrix.ConfusionMatrixDisplay at 0x2a98309c978>"
      ]
     },
     "execution_count": 63,
     "metadata": {},
     "output_type": "execute_result"
    },
    {
     "data": {
      "image/png": "[encoded data removed]",
      "text/plain": [
       "<Figure size 432x288 with 2 Axes>"
      ]
     },
     "metadata": {
      "needs_background": "light"
     },
     "output_type": "display_data"
    }
   ],
   "source": [
    "plot_confusion_matrix(best_rf_classifier, X_val, y_val)"
   ]
  },
  {
   "cell_type": "markdown",
   "metadata": {},
   "source": [
    "### SVM"
   ]
  },
  {
   "cell_type": "code",
   "execution_count": 64,
   "metadata": {},
   "outputs": [
    {
     "name": "stdout",
     "output_type": "stream",
     "text": [
      "Fitting 5 folds for each of 640 candidates, totalling 3200 fits\n"
     ]
    },
    {
     "data": {
      "text/plain": [
       "GridSearchCV(cv=5, estimator=SVC(random_state=44), n_jobs=-1,\n",
       "             param_grid={'C': [0.1, 0.2, 0.25, 0.3, 0.5, 0.75, 1, 2],\n",
       "                         'class_weight': [None, 'balanced'],\n",
       "                         'degree': [1, 2, 3, 4, 5], 'gamma': ['scale', 'auto'],\n",
       "                         'kernel': ['linear', 'poly', 'rbf', 'sigmoid'],\n",
       "                         'probability': [True]},\n",
       "             scoring=make_scorer(function), verbose=1)"
      ]
     },
     "execution_count": 64,
     "metadata": {},
     "output_type": "execute_result"
    }
   ],
   "source": [
    "params_grid = {\n",
    "    \"C\": [0.1, 0.2, 0.25, 0.3, 0.5, 0.75, 1, 2],\n",
    "    \"kernel\": [\"linear\", \"poly\", \"rbf\", \"sigmoid\"],\n",
    "    \"degree\": [1, 2, 3, 4, 5],\n",
    "    \"gamma\": [\"scale\", \"auto\"],\n",
    "    \"probability\": [True],\n",
    "    \"class_weight\": [None, \"balanced\"]\n",
    "}\n",
    "\n",
    "svm_classifier = GridSearchCV(estimator = SVC(random_state=44),\n",
    "                          param_grid = params_grid,\n",
    "                          scoring = slytherin_score,\n",
    "                          n_jobs = -1,\n",
    "                          verbose = 1,\n",
    "                          cv = 5\n",
    "                         )\n",
    "\n",
    "svm_classifier.fit(X_train, y_train)"
   ]
  },
  {
   "cell_type": "code",
   "execution_count": 65,
   "metadata": {},
   "outputs": [
    {
     "data": {
      "text/plain": [
       "SVC(C=0.25, class_weight='balanced', degree=1, kernel='poly', probability=True,\n",
       "    random_state=44)"
      ]
     },
     "execution_count": 65,
     "metadata": {},
     "output_type": "execute_result"
    }
   ],
   "source": [
    "svm_classifier.best_estimator_"
   ]
  },
  {
   "cell_type": "code",
   "execution_count": 66,
   "metadata": {},
   "outputs": [
    {
     "data": {
      "text/plain": [
       "0.7178919397697077"
      ]
     },
     "execution_count": 66,
     "metadata": {},
     "output_type": "execute_result"
    }
   ],
   "source": [
    "best_svm_classifier = SVC(C=0.25, class_weight='balanced', degree=1, kernel='poly', probability=True, random_state=44)\n",
    "\n",
    "best_svm_classifier.fit(X_train, y_train);\n",
    "slytherin_score(best_svm_classifier, X_val, y_val)"
   ]
  },
  {
   "cell_type": "code",
   "execution_count": 140,
   "metadata": {},
   "outputs": [
    {
     "data": {
      "text/plain": [
       "324.20000000000005"
      ]
     },
     "execution_count": 140,
     "metadata": {},
     "output_type": "execute_result"
    }
   ],
   "source": [
    "function(y_val, best_svm_classifier.predict(X_val), result=1)"
   ]
  },
  {
   "cell_type": "code",
   "execution_count": 129,
   "metadata": {},
   "outputs": [
    {
     "data": {
      "text/plain": [
       "<sklearn.metrics._plot.confusion_matrix.ConfusionMatrixDisplay at 0x2a983030da0>"
      ]
     },
     "execution_count": 129,
     "metadata": {},
     "output_type": "execute_result"
    },
    {
     "data": {
      "image/png": "[encoded data removed]",
      "text/plain": [
       "<Figure size 432x288 with 2 Axes>"
      ]
     },
     "metadata": {
      "needs_background": "light"
     },
     "output_type": "display_data"
    }
   ],
   "source": [
    "plot_confusion_matrix(best_rf_classifier, X_val, y_val)"
   ]
  },
  {
   "cell_type": "markdown",
   "metadata": {},
   "source": [
    "### Models comparison"
   ]
  },
  {
   "cell_type": "code",
   "execution_count": 90,
   "metadata": {},
   "outputs": [],
   "source": [
    "knn_clf = KNeighborsClassifier(leaf_size=10, metric='euclidean', n_neighbors=41, p=1)\n",
    "xgb_clf = XGBClassifier(n_estimators=10, booster=\"gblinear\", random_state=44, scale_pos_weight=3, eval_metric = \"error\", use_label_encoder=False)\n",
    "log_clf = LogisticRegression(C=0.5, solver=\"liblinear\", class_weight=\"balanced\", random_state=44)\n",
    "rnd_clf = RandomForestClassifier(class_weight='balanced', max_depth=3, max_features=None, min_samples_leaf=5)\n",
    "svm_clf = SVC(C=0.25, class_weight='balanced', degree=1, kernel='poly', probability=True, random_state=44)"
   ]
  },
  {
   "cell_type": "code",
   "execution_count": 91,
   "metadata": {},
   "outputs": [
    {
     "name": "stdout",
     "output_type": "stream",
     "text": [
      "KNN: 0.543289 (0.070366)\n",
      "XGB: 0.723101 (0.039288)\n",
      "LR: 0.716639 (0.045311)\n",
      "RF: 0.716320 (0.037114)\n",
      "SVM: 0.718036 (0.032865)\n"
     ]
    }
   ],
   "source": [
    "models = []\n",
    "results = []\n",
    "names = []\n",
    "\n",
    "models.append((\"KNN\", knn_clf))\n",
    "models.append((\"XGB\", xgb_clf))\n",
    "models.append((\"LR\", log_clf))\n",
    "models.append((\"RF\", rnd_clf))\n",
    "models.append((\"SVM\", svm_clf))\n",
    "\n",
    "scoring = slytherin_score\n",
    "\n",
    "for name, model in models:\n",
    "    kfold = KFold(n_splits=10, shuffle=True, random_state=44);\n",
    "    cv_results = cross_val_score(model, X_train, y_train, cv=kfold, scoring=scoring)\n",
    "    results.append(cv_results)\n",
    "    names.append(name)\n",
    "    msg = \"%s: %f (%f)\" % (name, cv_results.mean(), cv_results.std())\n",
    "    print(msg)"
   ]
  },
  {
   "cell_type": "code",
   "execution_count": 92,
   "metadata": {},
   "outputs": [
    {
     "data": {
      "image/png": "[encoded data removed]",
      "text/plain": [
       "<Figure size 720x432 with 1 Axes>"
      ]
     },
     "metadata": {
      "needs_background": "light"
     },
     "output_type": "display_data"
    }
   ],
   "source": [
    "fig = plt.figure(figsize=(10, 6))\n",
    "fig.suptitle('Algorithm Comparison')\n",
    "ax = fig.add_subplot(111)\n",
    "plt.boxplot(results, vert=True, patch_artist=True);\n",
    "ax.set_xticklabels(names)\n",
    "ax.set_ylabel(\"Slytherin Score\")\n",
    "plt.show();"
   ]
  },
  {
   "cell_type": "markdown",
   "metadata": {},
   "source": [
    "### Meta learning"
   ]
  },
  {
   "cell_type": "code",
   "execution_count": 99,
   "metadata": {},
   "outputs": [],
   "source": [
    "X_train1, X_train2, y_train1, y_train2 = train_test_split(X_train, y_train, test_size = 0.5,\n",
    "                                                        random_state=44, stratify=y_train)"
   ]
  },
  {
   "cell_type": "code",
   "execution_count": 141,
   "metadata": {},
   "outputs": [
    {
     "name": "stdout",
     "output_type": "stream",
     "text": [
      "Training the: XGBClassifier(base_score=0.5, booster='gblinear', colsample_bylevel=None,\n",
      "              colsample_bynode=None, colsample_bytree=None,\n",
      "              enable_categorical=False, eval_metric='error', gamma=None,\n",
      "              gpu_id=-1, importance_type=None, interaction_constraints=None,\n",
      "              learning_rate=0.5, max_delta_step=None, max_depth=None,\n",
      "              min_child_weight=None, missing=nan, monotone_constraints=None,\n",
      "              n_estimators=10, n_jobs=6, num_parallel_tree=None, predictor=None,\n",
      "              random_state=44, reg_alpha=0, reg_lambda=0, scale_pos_weight=3,\n",
      "              subsample=None, tree_method=None, use_label_encoder=False,\n",
      "              validate_parameters=1, verbosity=None)\n",
      " \n",
      "Training the: LogisticRegression(C=0.5, class_weight='balanced', random_state=44,\n",
      "                   solver='liblinear')\n",
      " \n",
      "Training the: RandomForestClassifier(class_weight='balanced', max_depth=3, max_features=None,\n",
      "                       min_samples_leaf=5)\n",
      " \n",
      "Training the: SVC(C=0.25, class_weight='balanced', degree=1, kernel='poly', probability=True,\n",
      "    random_state=44)\n",
      " \n"
     ]
    }
   ],
   "source": [
    "estimators = [xgb_clf, log_clf, rnd_clf, svm_clf]\n",
    "\n",
    "for estimator in estimators:\n",
    "    print(\"Training the: {}\\n \".format(estimator))\n",
    "    estimator.fit(X_train1, y_train1);"
   ]
  },
  {
   "cell_type": "code",
   "execution_count": 142,
   "metadata": {},
   "outputs": [
    {
     "data": {
      "text/plain": [
       "array([[1., 1., 1., 1.],\n",
       "       [1., 1., 1., 1.],\n",
       "       [1., 1., 1., 1.],\n",
       "       ...,\n",
       "       [0., 0., 0., 0.],\n",
       "       [1., 1., 1., 1.],\n",
       "       [1., 1., 1., 1.]], dtype=float32)"
      ]
     },
     "execution_count": 142,
     "metadata": {},
     "output_type": "execute_result"
    }
   ],
   "source": [
    "X_train_predictions = np.empty((len(X_train2), len(estimators)), dtype=np.float32)\n",
    "\n",
    "for index, estimator in enumerate(estimators):\n",
    "    X_train_predictions[:, index] = estimator.predict(X_train2)\n",
    "    \n",
    "X_train_predictions"
   ]
  },
  {
   "cell_type": "code",
   "execution_count": 143,
   "metadata": {},
   "outputs": [
    {
     "name": "stdout",
     "output_type": "stream",
     "text": [
      "Fitting 5 folds for each of 5400 candidates, totalling 27000 fits\n"
     ]
    },
    {
     "name": "stderr",
     "output_type": "stream",
     "text": [
      "C:\\Users\\nemet\\Anaconda3\\lib\\site-packages\\sklearn\\model_selection\\_search.py:925: UserWarning: One or more of the test scores are non-finite: [nan nan nan ... nan nan nan]\n",
      "  category=UserWarning\n"
     ]
    },
    {
     "data": {
      "text/plain": [
       "GridSearchCV(cv=5,\n",
       "             estimator=RandomForestClassifier(oob_score=True, random_state=44),\n",
       "             n_jobs=-1,\n",
       "             param_grid={'class_weight': [None, 'balanced'],\n",
       "                         'criterion': ['gini', 'entropy', 'log_loss'],\n",
       "                         'max_depth': [None, 3, 5, 10],\n",
       "                         'max_features': [None, 'sqrt', 'log2'],\n",
       "                         'min_samples_leaf': [1, 3, 5, 7, 10],\n",
       "                         'min_samples_split': [1, 2, 3, 4, 5],\n",
       "                         'n_estimators': [50, 100, 200]},\n",
       "             scoring=make_scorer(function), verbose=1)"
      ]
     },
     "execution_count": 143,
     "metadata": {},
     "output_type": "execute_result"
    }
   ],
   "source": [
    "params_grid = {\n",
    "    \"n_estimators\": [50, 100, 200],\n",
    "    \"criterion\": [\"gini\", \"entropy\", \"log_loss\"],\n",
    "    \"max_depth\": [None, 3, 5, 10],\n",
    "    \"min_samples_split\": [1, 2, 3, 4, 5],\n",
    "    \"min_samples_leaf\": [1, 3, 5, 7, 10], \n",
    "    \"max_features\": [None, \"sqrt\", \"log2\"],\n",
    "    \"class_weight\": [None, \"balanced\"],\n",
    "}\n",
    "\n",
    "gridsearch = GridSearchCV(estimator = RandomForestClassifier(oob_score=True, random_state=44),\n",
    "                          param_grid = params_grid,\n",
    "                          scoring = slytherin_score,\n",
    "                          n_jobs = -1,\n",
    "                          verbose = 1,\n",
    "                          cv = 5\n",
    "                         )\n",
    "\n",
    "gridsearch.fit(X_train_predictions, y_train2)"
   ]
  },
  {
   "cell_type": "code",
   "execution_count": 144,
   "metadata": {},
   "outputs": [
    {
     "data": {
      "text/plain": [
       "RandomForestClassifier(class_weight='balanced', max_features=None,\n",
       "                       min_samples_leaf=10, oob_score=True, random_state=44)"
      ]
     },
     "execution_count": 144,
     "metadata": {},
     "output_type": "execute_result"
    }
   ],
   "source": [
    "gridsearch.best_estimator_"
   ]
  },
  {
   "cell_type": "code",
   "execution_count": 145,
   "metadata": {},
   "outputs": [],
   "source": [
    "best_classifier = RandomForestClassifier(class_weight='balanced',\n",
    "                                         max_depth=3,\n",
    "                                         max_features='sqrt',\n",
    "                                         n_estimators=200,\n",
    "                                         oob_score=True,\n",
    "                                         random_state=44)\n",
    "\n",
    "best_classifier.fit(X_train_predictions, y_train2);"
   ]
  },
  {
   "cell_type": "code",
   "execution_count": 146,
   "metadata": {},
   "outputs": [],
   "source": [
    "X_val_predictions = np.empty((len(X_val), len(estimators)), dtype=np.float32)\n",
    "\n",
    "for index, estimator in enumerate(estimators):\n",
    "    X_val_predictions[:, index] = estimator.predict(X_val)"
   ]
  },
  {
   "cell_type": "code",
   "execution_count": 147,
   "metadata": {},
   "outputs": [
    {
     "data": {
      "text/plain": [
       "0.6935920577617329"
      ]
     },
     "execution_count": 147,
     "metadata": {},
     "output_type": "execute_result"
    }
   ],
   "source": [
    "slytherin_score(best_classifier, X_val_predictions, y_val)"
   ]
  },
  {
   "cell_type": "code",
   "execution_count": 148,
   "metadata": {},
   "outputs": [
    {
     "data": {
      "text/plain": [
       "<sklearn.metrics._plot.confusion_matrix.ConfusionMatrixDisplay at 0x2a9831c5a58>"
      ]
     },
     "execution_count": 148,
     "metadata": {},
     "output_type": "execute_result"
    },
    {
     "data": {
      "image/png": "[encoded data removed]",
      "text/plain": [
       "<Figure size 432x288 with 2 Axes>"
      ]
     },
     "metadata": {
      "needs_background": "light"
     },
     "output_type": "display_data"
    }
   ],
   "source": [
    "plot_confusion_matrix(best_classifier, X_val_predictions, y_val)"
   ]
  },
  {
   "cell_type": "markdown",
   "metadata": {},
   "source": [
    "### Ensemble Learning"
   ]
  },
  {
   "cell_type": "code",
   "execution_count": null,
   "metadata": {},
   "outputs": [],
   "source": [
    "knn_clf = KNeighborsClassifier(leaf_size=10, metric='euclidean', n_neighbors=41, p=1)\n",
    "xgb_clf = XGBClassifier(n_estimators=10, booster=\"gblinear\", random_state=44, scale_pos_weight=3, eval_metric = \"error\", use_label_encoder=False)\n",
    "log_clf = LogisticRegression(C=0.5, solver=\"liblinear\", class_weight=\"balanced\", random_state=44)\n",
    "rnd_clf = RandomForestClassifier(class_weight='balanced', max_depth=3, max_features=None, min_samples_leaf=5)\n",
    "svm_clf = SVC(C=0.25, class_weight='balanced', degree=1, kernel='poly', probability=True, random_state=44)"
   ]
  },
  {
   "cell_type": "code",
   "execution_count": 149,
   "metadata": {},
   "outputs": [],
   "source": [
    "voting_clf = VotingClassifier(\n",
    "    estimators=[(\"knc\", knn_clf), (\"xgb\", xgb_clf), (\"lr\", log_clf), (\"rf\", rnd_clf), (\"svc\", svm_clf)],\n",
    "    voting=\"hard\")"
   ]
  },
  {
   "cell_type": "code",
   "execution_count": 155,
   "metadata": {},
   "outputs": [
    {
     "name": "stdout",
     "output_type": "stream",
     "text": [
      "   model       accuracy       recall   \n",
      "KNeighborsClassifier 0.60548 0.55467\n",
      "XGBClassifier 0.61145 0.69771\n",
      "LogisticRegression 0.62292 0.70817\n",
      "RandomForestClassifier 0.6069 0.70759\n",
      "SVC 0.61281 0.71789\n",
      "VotingClassifier 0.61618 0.69888\n"
     ]
    }
   ],
   "source": [
    "print(\"   model   \", \"   accuracy   \", \"   recall   \")\n",
    "for clf in (knn_clf, xgb_clf, log_clf, rnd_clf, svm_clf, voting_clf):\n",
    "    clf.fit(X_train, y_train)\n",
    "    y_pred = clf.predict(X_val)\n",
    "    print(clf.__class__.__name__, round(f1_score(y_val, y_pred),5), round(function(y_val, y_pred), 5))"
   ]
  },
  {
   "cell_type": "code",
   "execution_count": 153,
   "metadata": {},
   "outputs": [
    {
     "data": {
      "text/plain": [
       "0.7081659973226238"
      ]
     },
     "execution_count": 153,
     "metadata": {},
     "output_type": "execute_result"
    }
   ],
   "source": [
    "function(y_val, y_pred)"
   ]
  },
  {
   "cell_type": "code",
   "execution_count": 156,
   "metadata": {},
   "outputs": [],
   "source": [
    "voting_clf = VotingClassifier(\n",
    "    estimators=[(\"xgb\", xgb_clf), (\"lr\", log_clf), (\"rf\", rnd_clf), (\"svc\", svm_clf)],\n",
    "    voting=\"hard\")"
   ]
  },
  {
   "cell_type": "code",
   "execution_count": 157,
   "metadata": {},
   "outputs": [
    {
     "name": "stdout",
     "output_type": "stream",
     "text": [
      "   model       accuracy       recall   \n",
      "XGBClassifier 0.611 0.69888\n",
      "LogisticRegression 0.62292 0.70817\n",
      "RandomForestClassifier 0.59204 0.71104\n",
      "SVC 0.61281 0.71789\n",
      "VotingClassifier 0.61634 0.70063\n"
     ]
    }
   ],
   "source": [
    "print(\"   model   \", \"   accuracy   \", \"   recall   \")\n",
    "for clf in (xgb_clf, log_clf, rnd_clf, svm_clf, voting_clf):\n",
    "    clf.fit(X_train, y_train)\n",
    "    y_pred = clf.predict(X_val)\n",
    "    print(clf.__class__.__name__, round(f1_score(y_val, y_pred),5), round(function(y_val, y_pred), 5))"
   ]
  },
  {
   "cell_type": "code",
   "execution_count": null,
   "metadata": {},
   "outputs": [],
   "source": []
  },
  {
   "cell_type": "code",
   "execution_count": null,
   "metadata": {},
   "outputs": [],
   "source": []
  }
 ],
 "metadata": {
  "kernelspec": {
   "display_name": "Python 3",
   "language": "python",
   "name": "python3"
  },
  "language_info": {
   "codemirror_mode": {
    "name": "ipython",
    "version": 3
   },
   "file_extension": ".py",
   "mimetype": "text/x-python",
   "name": "python",
   "nbconvert_exporter": "python",
   "pygments_lexer": "ipython3",
   "version": "3.7.0"
  }
 },
 "nbformat": 4,
 "nbformat_minor": 2
}

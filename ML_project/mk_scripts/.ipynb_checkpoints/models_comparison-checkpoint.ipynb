{
 "cells": [
  {
   "cell_type": "code",
   "execution_count": 1,
   "metadata": {
    "slideshow": {
     "slide_type": "skip"
    }
   },
   "outputs": [],
   "source": [
    "import numpy as np\n",
    "import pandas as pd\n",
    "\n",
    "import matplotlib.pyplot as plt\n",
    "import seaborn as sns\n",
    "\n",
    "from sklearn.model_selection import train_test_split, KFold\n",
    "from sklearn.pipeline import Pipeline\n",
    "from sklearn.preprocessing import OneHotEncoder, StandardScaler, PolynomialFeatures\n",
    "from sklearn.compose import ColumnTransformer\n",
    "from sklearn.base import BaseEstimator, TransformerMixin\n",
    "from sklearn.impute import SimpleImputer\n",
    "\n",
    "from sklearn.ensemble import VotingClassifier\n",
    "from sklearn.tree import DecisionTreeClassifier\n",
    "from sklearn.ensemble import RandomForestClassifier\n",
    "from sklearn.linear_model import LogisticRegression\n",
    "from sklearn.neighbors import KNeighborsClassifier\n",
    "from sklearn.svm import SVC\n",
    "\n",
    "from sklearn.neighbors import KNeighborsClassifier\n",
    "from sklearn.metrics import recall_score, confusion_matrix, classification_report, roc_curve, f1_score\n",
    "from sklearn.metrics import plot_confusion_matrix\n",
    "from sklearn.model_selection import cross_val_score\n",
    "from sklearn.model_selection import GridSearchCV\n",
    "from sklearn.metrics import make_scorer\n",
    "\n",
    "from xgboost import XGBClassifier\n",
    "from collections import Counter"
   ]
  },
  {
   "cell_type": "markdown",
   "metadata": {
    "slideshow": {
     "slide_type": "skip"
    }
   },
   "source": [
    "### loading, getting dummies and cleaning data"
   ]
  },
  {
   "cell_type": "code",
   "execution_count": 91,
   "metadata": {
    "slideshow": {
     "slide_type": "skip"
    }
   },
   "outputs": [],
   "source": [
    "raw_data = pd.read_csv(\"WA_Fn-UseC_-Telco-Customer-Churn.csv\")"
   ]
  },
  {
   "cell_type": "code",
   "execution_count": 92,
   "metadata": {
    "slideshow": {
     "slide_type": "skip"
    }
   },
   "outputs": [],
   "source": [
    "data = pd.get_dummies(raw_data, columns=[\"Churn\"], drop_first=True)"
   ]
  },
  {
   "cell_type": "code",
   "execution_count": 93,
   "metadata": {
    "slideshow": {
     "slide_type": "skip"
    }
   },
   "outputs": [],
   "source": [
    "data = data[data[\"TotalCharges\"] != \" \"]\n",
    "data[\"TotalCharges\"] = pd.to_numeric(data[\"TotalCharges\"], errors=\"ignore\")"
   ]
  },
  {
   "cell_type": "code",
   "execution_count": 94,
   "metadata": {},
   "outputs": [],
   "source": [
    "all_data = data.copy()"
   ]
  },
  {
   "cell_type": "markdown",
   "metadata": {
    "slideshow": {
     "slide_type": "skip"
    }
   },
   "source": [
    "### splitting dataset into train and test sets"
   ]
  },
  {
   "cell_type": "code",
   "execution_count": 5,
   "metadata": {
    "slideshow": {
     "slide_type": "skip"
    }
   },
   "outputs": [],
   "source": [
    "train_set, test_set = train_test_split(data, test_size = 0.2, random_state=44)\n",
    "\n",
    "data = train_set.drop([\"customerID\", \"Churn_Yes\"], axis=1)\n",
    "data_labels = train_set[\"Churn_Yes\"].copy()"
   ]
  },
  {
   "cell_type": "markdown",
   "metadata": {
    "slideshow": {
     "slide_type": "skip"
    }
   },
   "source": [
    "### pipeline, best random forest classifier and feature importances"
   ]
  },
  {
   "cell_type": "code",
   "execution_count": 6,
   "metadata": {
    "slideshow": {
     "slide_type": "skip"
    }
   },
   "outputs": [],
   "source": [
    "data_num = data[[\"tenure\", \"MonthlyCharges\", \"TotalCharges\"]]\n",
    "data_cat = data.drop(columns=[\"tenure\", \"MonthlyCharges\", \"TotalCharges\"])"
   ]
  },
  {
   "cell_type": "code",
   "execution_count": 7,
   "metadata": {
    "slideshow": {
     "slide_type": "skip"
    }
   },
   "outputs": [],
   "source": [
    "num_attribs = list(data_num)\n",
    "cat_attribs = list(data_cat)\n",
    "\n",
    "full_pipeline = ColumnTransformer([\n",
    "    (\"num\", StandardScaler(), num_attribs),\n",
    "    (\"cat\", OneHotEncoder(drop=\"first\"), cat_attribs),\n",
    "])\n",
    "\n",
    "data_prepared = full_pipeline.fit_transform(data)"
   ]
  },
  {
   "cell_type": "code",
   "execution_count": null,
   "metadata": {
    "slideshow": {
     "slide_type": "skip"
    }
   },
   "outputs": [],
   "source": [
    "params_grid = {\n",
    "    \"n_estimators\": [50, 100, 200],\n",
    "    \"criterion\": [\"gini\", \"entropy\", \"log_loss\"],\n",
    "    \"max_depth\": [None, 3, 5],\n",
    "    \"min_samples_split\": [1, 2, 3, 4],\n",
    "    \"min_samples_leaf\": [1, 3, 5], \n",
    "    \"max_features\": [None, \"sqrt\", \"log2\"],\n",
    "    \"class_weight\": [None, \"balanced\"],\n",
    "}\n",
    "\n",
    "gridsearch = GridSearchCV(estimator = RandomForestClassifier(random_state=44),\n",
    "                          param_grid = params_grid,\n",
    "                          scoring = \"f1\",\n",
    "                          n_jobs = -1,\n",
    "                          cv = 5\n",
    "                         )\n",
    "\n",
    "gridsearch.fit(data_prepared, data_labels)"
   ]
  },
  {
   "cell_type": "code",
   "execution_count": 9,
   "metadata": {
    "slideshow": {
     "slide_type": "skip"
    }
   },
   "outputs": [],
   "source": [
    "#gridsearch.best_estimator_\n",
    "best_rf = RandomForestClassifier(class_weight='balanced',\n",
    "                                 criterion='entropy',\n",
    "                                 max_features='log2',\n",
    "                                 min_samples_leaf=5,\n",
    "                                 random_state=44)\n",
    "\n",
    "best_rf.fit(data_prepared, data_labels);"
   ]
  },
  {
   "cell_type": "markdown",
   "metadata": {
    "slideshow": {
     "slide_type": "slide"
    }
   },
   "source": [
    "### 10 most important features"
   ]
  },
  {
   "cell_type": "code",
   "execution_count": 10,
   "metadata": {
    "slideshow": {
     "slide_type": "-"
    }
   },
   "outputs": [],
   "source": [
    "transformed_cat_attribs = full_pipeline.named_transformers_[\"cat\"].get_feature_names()\n",
    "feature_names = np.concatenate((num_attribs, transformed_cat_attribs))\n",
    "\n",
    "feature_importance_data = pd.DataFrame({\"Feature_name\": feature_names, \"feature_importance\": best_rf.feature_importances_})\n",
    "feature_importance_data = feature_importance_data.sort_values(by=\"feature_importance\", ascending=False)"
   ]
  },
  {
   "cell_type": "code",
   "execution_count": 11,
   "metadata": {
    "scrolled": false,
    "slideshow": {
     "slide_type": "slide"
    }
   },
   "outputs": [
    {
     "data": {
      "image/png": "[encoded data removed]",
      "text/plain": [
       "<Figure size 720x432 with 1 Axes>"
      ]
     },
     "metadata": {
      "needs_background": "light"
     },
     "output_type": "display_data"
    }
   ],
   "source": [
    "feature_importance_data.iloc[:10,:].plot(x = \"Feature_name\",\n",
    "                                         kind = \"bar\",\n",
    "                                         figsize = (10, 6),\n",
    "                                         fontsize = 12,\n",
    "                                         title = \"10 most important features\",\n",
    "                                         xlabel = \"Feature names\",\n",
    "                                         ylabel = \"Importance\");"
   ]
  },
  {
   "cell_type": "markdown",
   "metadata": {
    "slideshow": {
     "slide_type": "slide"
    }
   },
   "source": [
    "### MonthlyCharges"
   ]
  },
  {
   "cell_type": "code",
   "execution_count": 12,
   "metadata": {},
   "outputs": [],
   "source": [
    "def f_describe(data, column, feature):\n",
    "    \n",
    "    \"\"\"\n",
    "    f_describe - describe depending on the feature\n",
    "    \n",
    "    \"\"\"\n",
    "    \n",
    "    described_data = pd.DataFrame(index = ['count','mean', 'std', 'min', '25%', '50%', '75%', 'max'])\n",
    "    described = data[[column]].describe()\n",
    "    \n",
    "    new_name = \"{}\".format(column)\n",
    "    described.rename(columns = {column: new_name}, inplace = True)\n",
    "    \n",
    "    if data[feature].nunique() == 1:\n",
    "        return described\n",
    "    \n",
    "    else:\n",
    "        described_data = pd.concat([described_data, described], axis=1)\n",
    "        \n",
    "        \n",
    "        values = data[feature].unique()\n",
    "        \n",
    "        for index, value in enumerate(values):\n",
    "            new_name = \"{}: {}\".format(feature, value)\n",
    "            described = data[data[feature] == value][[column]].describe()\n",
    "            described.rename(columns = {column: new_name}, inplace = True)\n",
    "            \n",
    "            described_data = pd.concat([described_data, described], axis=1)\n",
    "            \n",
    "        return described_data"
   ]
  },
  {
   "cell_type": "code",
   "execution_count": 13,
   "metadata": {
    "slideshow": {
     "slide_type": "-"
    }
   },
   "outputs": [
    {
     "data": {
      "text/html": [
       "<div>\n",
       "<style scoped>\n",
       "    .dataframe tbody tr th:only-of-type {\n",
       "        vertical-align: middle;\n",
       "    }\n",
       "\n",
       "    .dataframe tbody tr th {\n",
       "        vertical-align: top;\n",
       "    }\n",
       "\n",
       "    .dataframe thead th {\n",
       "        text-align: right;\n",
       "    }\n",
       "</style>\n",
       "<table border=\"1\" class=\"dataframe\">\n",
       "  <thead>\n",
       "    <tr style=\"text-align: right;\">\n",
       "      <th></th>\n",
       "      <th>MonthlyCharges</th>\n",
       "      <th>Churn: No</th>\n",
       "      <th>Churn: Yes</th>\n",
       "    </tr>\n",
       "  </thead>\n",
       "  <tbody>\n",
       "    <tr>\n",
       "      <th>count</th>\n",
       "      <td>7043.00</td>\n",
       "      <td>5174.00</td>\n",
       "      <td>1869.00</td>\n",
       "    </tr>\n",
       "    <tr>\n",
       "      <th>mean</th>\n",
       "      <td>64.76</td>\n",
       "      <td>61.27</td>\n",
       "      <td>74.44</td>\n",
       "    </tr>\n",
       "    <tr>\n",
       "      <th>std</th>\n",
       "      <td>30.09</td>\n",
       "      <td>31.09</td>\n",
       "      <td>24.67</td>\n",
       "    </tr>\n",
       "    <tr>\n",
       "      <th>min</th>\n",
       "      <td>18.25</td>\n",
       "      <td>18.25</td>\n",
       "      <td>18.85</td>\n",
       "    </tr>\n",
       "    <tr>\n",
       "      <th>25%</th>\n",
       "      <td>35.50</td>\n",
       "      <td>25.10</td>\n",
       "      <td>56.15</td>\n",
       "    </tr>\n",
       "    <tr>\n",
       "      <th>50%</th>\n",
       "      <td>70.35</td>\n",
       "      <td>64.43</td>\n",
       "      <td>79.65</td>\n",
       "    </tr>\n",
       "    <tr>\n",
       "      <th>75%</th>\n",
       "      <td>89.85</td>\n",
       "      <td>88.40</td>\n",
       "      <td>94.20</td>\n",
       "    </tr>\n",
       "    <tr>\n",
       "      <th>max</th>\n",
       "      <td>118.75</td>\n",
       "      <td>118.75</td>\n",
       "      <td>118.35</td>\n",
       "    </tr>\n",
       "  </tbody>\n",
       "</table>\n",
       "</div>"
      ],
      "text/plain": [
       "       MonthlyCharges  Churn: No  Churn: Yes\n",
       "count         7043.00    5174.00     1869.00\n",
       "mean            64.76      61.27       74.44\n",
       "std             30.09      31.09       24.67\n",
       "min             18.25      18.25       18.85\n",
       "25%             35.50      25.10       56.15\n",
       "50%             70.35      64.43       79.65\n",
       "75%             89.85      88.40       94.20\n",
       "max            118.75     118.75      118.35"
      ]
     },
     "execution_count": 13,
     "metadata": {},
     "output_type": "execute_result"
    }
   ],
   "source": [
    "pd.options.display.float_format = '{:.2f}'.format\n",
    "f_desc = f_describe(raw_data, \"MonthlyCharges\", \"Churn\")\n",
    "f_desc"
   ]
  },
  {
   "cell_type": "code",
   "execution_count": 14,
   "metadata": {},
   "outputs": [],
   "source": [
    "median_0 = f_desc.iloc[5,:][1]\n",
    "median_1 = f_desc.iloc[5,:][2]"
   ]
  },
  {
   "cell_type": "code",
   "execution_count": 15,
   "metadata": {
    "slideshow": {
     "slide_type": "skip"
    }
   },
   "outputs": [
    {
     "name": "stdout",
     "output_type": "stream",
     "text": [
      "Monthly charges\n",
      "differences in means: 21.51%\n",
      "differences in medians: 23.63%\n"
     ]
    }
   ],
   "source": [
    "mean_diff = round((f_desc.iloc[1,:][2] / f_desc.iloc[1,:][1] * 100) - 100, 2)\n",
    "median_diff = round((median_1 / median_0 * 100) - 100, 2)\n",
    "\n",
    "print(\"Monthly charges\")\n",
    "print(\"differences in means: {}%\\ndifferences in medians: {}%\".format(mean_diff, median_diff))"
   ]
  },
  {
   "cell_type": "code",
   "execution_count": 16,
   "metadata": {
    "slideshow": {
     "slide_type": "slide"
    }
   },
   "outputs": [
    {
     "data": {
      "image/png": "[encoded data removed]",
      "text/plain": [
       "<Figure size 864x576 with 1 Axes>"
      ]
     },
     "metadata": {
      "needs_background": "light"
     },
     "output_type": "display_data"
    }
   ],
   "source": [
    "fig = plt.figure(figsize=(12,8))\n",
    "sns.histplot(data=raw_data, x=\"MonthlyCharges\", hue=\"Churn\", multiple=\"dodge\", shrink=0.8);\n",
    "plt.title(\"Histogram for the variable MonthyCharges in relation to Churn status.\");"
   ]
  },
  {
   "cell_type": "markdown",
   "metadata": {
    "slideshow": {
     "slide_type": "skip"
    }
   },
   "source": [
    "### pipeline, splitting prepared data into train and validation sets"
   ]
  },
  {
   "cell_type": "code",
   "execution_count": 17,
   "metadata": {
    "slideshow": {
     "slide_type": "skip"
    }
   },
   "outputs": [],
   "source": [
    "full_pipeline = ColumnTransformer([\n",
    "    (\"num\", Pipeline([\n",
    "        (\"poly\", PolynomialFeatures(degree=5,\n",
    "                                    include_bias=False,\n",
    "                                    interaction_only=False)),\n",
    "        (\"scaler\", StandardScaler()),\n",
    "    ]), num_attribs),\n",
    "    (\"cat\", OneHotEncoder(drop=\"first\"), cat_attribs),\n",
    "])\n",
    "\n",
    "new_data = full_pipeline.fit_transform(data)"
   ]
  },
  {
   "cell_type": "code",
   "execution_count": 18,
   "metadata": {},
   "outputs": [],
   "source": [
    "class DropTransformer(BaseEstimator, TransformerMixin):\n",
    "    \n",
    "    def __init__(self, threshold = 0.8):\n",
    "        self.threshold = threshold\n",
    "        print(\"It works!\")\n",
    "        \n",
    "    def fit(self, X, y = None):\n",
    "        \n",
    "        return self\n",
    "    \n",
    "    def transform(self, X):\n",
    "\n",
    "        data = pd.DataFrame(X)\n",
    "        corr_matrix = data.corr(method=\"spearman\")\n",
    "        upper = corr_matrix.where(np.triu(np.ones(corr_matrix.shape), k=1).astype(np.bool))\n",
    "        to_drop = [column for column in upper.columns if any(upper[column] > self.threshold)]\n",
    "        transformed_data = np.array(data.drop(data.columns[to_drop], axis=1))\n",
    "        \n",
    "        return transformed_data"
   ]
  },
  {
   "cell_type": "code",
   "execution_count": 19,
   "metadata": {
    "slideshow": {
     "slide_type": "skip"
    }
   },
   "outputs": [
    {
     "name": "stdout",
     "output_type": "stream",
     "text": [
      "It works!\n"
     ]
    }
   ],
   "source": [
    "pipeline = Pipeline([(\"droper\", DropTransformer(threshold = 0.9))])\n",
    "\n",
    "data_prepared = pipeline.fit_transform(new_data)"
   ]
  },
  {
   "cell_type": "code",
   "execution_count": 20,
   "metadata": {
    "slideshow": {
     "slide_type": "skip"
    }
   },
   "outputs": [],
   "source": [
    "X_train, X_val, y_train, y_val = train_test_split(data_prepared, data_labels, test_size = 0.25,\n",
    "                                                  random_state=44, stratify=data_labels)"
   ]
  },
  {
   "cell_type": "markdown",
   "metadata": {
    "slideshow": {
     "slide_type": "slide"
    }
   },
   "source": [
    "### metric selection"
   ]
  },
  {
   "cell_type": "code",
   "execution_count": 21,
   "metadata": {
    "slideshow": {
     "slide_type": "-"
    }
   },
   "outputs": [],
   "source": [
    "sample_model = KNeighborsClassifier()\n",
    "\n",
    "sample_model.fit(X_train, y_train);"
   ]
  },
  {
   "cell_type": "code",
   "execution_count": 22,
   "metadata": {
    "slideshow": {
     "slide_type": "-"
    }
   },
   "outputs": [
    {
     "data": {
      "image/png": "[encoded data removed]",
      "text/plain": [
       "<Figure size 432x288 with 2 Axes>"
      ]
     },
     "metadata": {
      "needs_background": "light"
     },
     "output_type": "display_data"
    }
   ],
   "source": [
    "plot_confusion_matrix(sample_model, X_val, y_val, cmap=\"summer\");\n",
    "plt.title(\"Confusion matrix of sample model\");"
   ]
  },
  {
   "cell_type": "markdown",
   "metadata": {},
   "source": [
    "$TN$ - clients who were detected as satisfied, and they really are.  \n",
    "$FN$ - clients who were detected as satisfied, but they left.  \n",
    "$TP$ - clients who were detected as dissatisfied - they are entitled to a discount.  \n",
    "$FP$ -  clients who were detected as dissatisfied - they are entitled to a discount even though they are satisfied.  "
   ]
  },
  {
   "cell_type": "markdown",
   "metadata": {
    "slideshow": {
     "slide_type": "slide"
    }
   },
   "source": [
    "### Slytherin score\n",
    "\n",
    "$$score = 1 - \\frac{m_1\\cdot FN + (1 - d)\\cdot m_0 \\cdot FP}{m_0\\cdot TN + (1 - d)\\cdot m_1\\cdot TP},$$\n",
    "  \n",
    "$d$ - discount  \n",
    "$m_0, \\ m_1$ - monthly charges  "
   ]
  },
  {
   "cell_type": "markdown",
   "metadata": {},
   "source": [
    "$$score = 1 - \\frac{\\frac{m_1}{m_0}\\cdot FN + \\frac{m_0}{m_1}\\cdot FP}{TN + TP},$$\n",
    "    \n",
    "$d = 1 - \\frac{m_0}{m_1}$"
   ]
  },
  {
   "cell_type": "code",
   "execution_count": 23,
   "metadata": {},
   "outputs": [],
   "source": [
    "basic_medians = [64.45, 79.65]\n",
    "basic_discount = 1 - basic_medians[0] / basic_medians[1]"
   ]
  },
  {
   "cell_type": "code",
   "execution_count": 24,
   "metadata": {},
   "outputs": [],
   "source": [
    "def function(y_true, y_pred, medians = basic_medians, discount = basic_discount, basic = True, scoring_only = True):\n",
    "    \n",
    "    matrix = confusion_matrix(y_true, y_pred)\n",
    "    TN = matrix[0][0]\n",
    "    FP = matrix[0][1]\n",
    "    FN = matrix[1][0]\n",
    "    TP = matrix[1][1]\n",
    "    \n",
    "    if basic:\n",
    "        basic_score = 1 - (medians[1]/medians[0]*FN + medians[0]/medians[1]*FP)/(TN + TP)\n",
    "        \n",
    "        if scoring_only:\n",
    "            return basic_score\n",
    "        else:\n",
    "            best_case = round(medians[0] * Counter(y_true)[0] + medians[1] * Counter(y_true)[1], 2)\n",
    "            standard_case = round(medians[0] * Counter(y_true)[0] - medians[1] * Counter(y_true)[1], 2)\n",
    "            model_case = round(basic_score * medians[0]*(TN+TP), 2)\n",
    "            return basic_score, best_case, standard_case, model_case\n",
    "    \n",
    "    else:\n",
    "        score = 1 - (medians[1]*FN + (1 - discount)*medians[0]*FP)/(medians[0]*TN + (1- discount)*medians[1]*TP)\n",
    "        \n",
    "        if scoring_only:\n",
    "            return score\n",
    "        else:\n",
    "            best_case = round(medians[0] * Counter(y_true)[0] + medians[1] * Counter(y_true)[1], 2)\n",
    "            standard_case = round(medians[0] * Counter(y_true)[0] - medians[1] * Counter(y_true)[1], 2)\n",
    "            model_case = round(score * (medians[0]*TN + (1- discount)*medians[1]*TP), 2)\n",
    "            return score, best_case, standard_case, model_case"
   ]
  },
  {
   "cell_type": "code",
   "execution_count": 25,
   "metadata": {
    "slideshow": {
     "slide_type": "-"
    }
   },
   "outputs": [],
   "source": [
    "slytherin_score = make_scorer(function, greater_is_better=True)"
   ]
  },
  {
   "cell_type": "markdown",
   "metadata": {
    "slideshow": {
     "slide_type": "slide"
    }
   },
   "source": [
    "### F1 vs slytherin"
   ]
  },
  {
   "cell_type": "code",
   "execution_count": 125,
   "metadata": {
    "slideshow": {
     "slide_type": "skip"
    }
   },
   "outputs": [
    {
     "name": "stdout",
     "output_type": "stream",
     "text": [
      "Fitting 5 folds for each of 144 candidates, totalling 720 fits\n"
     ]
    },
    {
     "data": {
      "text/plain": [
       "GridSearchCV(cv=5, estimator=SVC(random_state=44), n_jobs=-1,\n",
       "             param_grid={'C': [0.1, 0.2, 0.5, 1],\n",
       "                         'class_weight': [None, 'balanced'],\n",
       "                         'degree': [1, 2, 3], 'gamma': ['scale', 'auto'],\n",
       "                         'kernel': ['linear', 'poly', 'rbf']},\n",
       "             scoring='f1', verbose=1)"
      ]
     },
     "execution_count": 125,
     "metadata": {},
     "output_type": "execute_result"
    }
   ],
   "source": [
    "params_grid = {\n",
    "    \"C\": [0.1, 0.2, 0.5, 1],\n",
    "    \"kernel\": [\"linear\", \"poly\", \"rbf\"],\n",
    "    \"degree\": [1, 2, 3],\n",
    "    \"gamma\": [\"scale\", \"auto\"],\n",
    "    \"class_weight\": [None, \"balanced\"]\n",
    "}\n",
    "\n",
    "gridsearch_f1 = GridSearchCV(estimator = SVC(random_state=44),\n",
    "                             param_grid = params_grid,\n",
    "                             scoring = \"f1\",\n",
    "                             n_jobs = -1,\n",
    "                             verbose = 1,\n",
    "                             cv = 5\n",
    "                            )\n",
    "\n",
    "gridsearch_f1.fit(X_train, y_train)"
   ]
  },
  {
   "cell_type": "code",
   "execution_count": 126,
   "metadata": {
    "slideshow": {
     "slide_type": "skip"
    }
   },
   "outputs": [
    {
     "name": "stdout",
     "output_type": "stream",
     "text": [
      "Fitting 5 folds for each of 144 candidates, totalling 720 fits\n"
     ]
    },
    {
     "data": {
      "text/plain": [
       "GridSearchCV(cv=5, estimator=SVC(random_state=44), n_jobs=-1,\n",
       "             param_grid={'C': [0.1, 0.2, 0.5, 1],\n",
       "                         'class_weight': [None, 'balanced'],\n",
       "                         'degree': [1, 2, 3], 'gamma': ['scale', 'auto'],\n",
       "                         'kernel': ['linear', 'poly', 'rbf']},\n",
       "             scoring=make_scorer(function), verbose=1)"
      ]
     },
     "execution_count": 126,
     "metadata": {},
     "output_type": "execute_result"
    }
   ],
   "source": [
    "params_grid = {\n",
    "    \"C\": [0.1, 0.2, 0.5, 1],\n",
    "    \"kernel\": [\"linear\", \"poly\", \"rbf\"],\n",
    "    \"degree\": [1, 2, 3],\n",
    "    \"gamma\": [\"scale\", \"auto\"],\n",
    "    \"class_weight\": [None, \"balanced\"]\n",
    "}\n",
    "\n",
    "gridsearch_ss = GridSearchCV(estimator = SVC(random_state=44),\n",
    "                             param_grid = params_grid,\n",
    "                             scoring = slytherin_score,\n",
    "                             n_jobs = -1,\n",
    "                             verbose = 1,\n",
    "                             cv = 5\n",
    "                            )\n",
    "\n",
    "gridsearch_ss.fit(X_train, y_train)"
   ]
  },
  {
   "cell_type": "code",
   "execution_count": 127,
   "metadata": {
    "slideshow": {
     "slide_type": "-"
    }
   },
   "outputs": [],
   "source": [
    "f1_results = pd.DataFrame(gridsearch_f1.cv_results_)[[\"params\", \"mean_test_score\", \"std_test_score\"]]\n",
    "f1_results = f1_results.rename(columns={\"params\": \"params_f1\",\n",
    "                                        \"mean_test_score\": \"mean_test_score_f1\",\n",
    "                                        \"std_test_score\": \"std_test_score_f1\"\n",
    "                                       })\n",
    "\n",
    "\n",
    "ss_results = pd.DataFrame(gridsearch_ss.cv_results_)[[\"params\", \"mean_test_score\", \"std_test_score\"]]\n",
    "ss_results = ss_results.rename(columns={\"params\": \"params_ss\",\n",
    "                                        \"mean_test_score\": \"mean_test_score_ss\",\n",
    "                                        \"std_test_score\": \"std_test_score_ss\"\n",
    "                                       })"
   ]
  },
  {
   "cell_type": "code",
   "execution_count": 128,
   "metadata": {
    "slideshow": {
     "slide_type": "slide"
    }
   },
   "outputs": [
    {
     "data": {
      "image/png": "[encoded data removed]",
      "text/plain": [
       "<Figure size 864x576 with 1 Axes>"
      ]
     },
     "metadata": {
      "needs_background": "light"
     },
     "output_type": "display_data"
    }
   ],
   "source": [
    "comparison = pd.concat([f1_results, ss_results], axis=1)\n",
    "\n",
    "X = range(1, len(comparison)+1)\n",
    "y_f1 = comparison[\"mean_test_score_f1\"]\n",
    "y_ss = comparison[\"mean_test_score_ss\"]\n",
    "\n",
    "fig = plt.figure(figsize=(12, 8))\n",
    "sns.lineplot(x = X, y = y_f1, label = \"f1\")\n",
    "sns.lineplot(x = X, y = y_ss, label = \"ss\")\n",
    "plt.grid()\n",
    "plt.title(\"Difference between means values F1 score and Slytherin score\");\n",
    "plt.xlabel(\"Number of SVC model\");\n",
    "plt.ylabel(\"Score\");"
   ]
  },
  {
   "cell_type": "markdown",
   "metadata": {
    "slideshow": {
     "slide_type": "slide"
    }
   },
   "source": [
    "### Models comparison - slytherin score"
   ]
  },
  {
   "cell_type": "code",
   "execution_count": 26,
   "metadata": {
    "slideshow": {
     "slide_type": "-"
    }
   },
   "outputs": [],
   "source": [
    "knn_clf = KNeighborsClassifier(leaf_size=10,\n",
    "                               metric=\"minkowski\",\n",
    "                               n_neighbors=33,\n",
    "                               weights = \"uniform\",\n",
    "                               p=2)\n",
    "\n",
    "xgb_clf = XGBClassifier(booster = \"gbtree\",\n",
    "                        max_depth = 2,\n",
    "                        n_estimators = 14,\n",
    "                        scale_pos_weight = 2,\n",
    "                        random_state=44,\n",
    "                        eval_metric=\"error\",\n",
    "                        use_label_encoder=False)\n",
    "\n",
    "log_clf = LogisticRegression(random_state=44,\n",
    "                             C=0.04641589,\n",
    "                             solver ='liblinear',\n",
    "                             class_weight='balanced')\n",
    "\n",
    "rnd_clf = RandomForestClassifier(class_weight='balanced',\n",
    "                                 max_depth=14,\n",
    "                                 max_features='log2',\n",
    "                                 min_samples_leaf=3,\n",
    "                                 random_state = 44);\n",
    "\n",
    "svm_clf = SVC(C=0.3,\n",
    "              kernel='linear',\n",
    "              probability=True,\n",
    "              random_state=44)"
   ]
  },
  {
   "cell_type": "code",
   "execution_count": 27,
   "metadata": {
    "slideshow": {
     "slide_type": "slide"
    }
   },
   "outputs": [
    {
     "name": "stdout",
     "output_type": "stream",
     "text": [
      "KNN: 0.725909 (0.016853)\n",
      "XGB: 0.734430 (0.021405)\n",
      "LR: 0.703752 (0.032596)\n",
      "RF: 0.730472 (0.025677)\n",
      "SVM: 0.732061 (0.023234)\n"
     ]
    }
   ],
   "source": [
    "models = []\n",
    "results = []\n",
    "names = []\n",
    "\n",
    "models.append((\"KNN\", knn_clf))\n",
    "models.append((\"XGB\", xgb_clf))\n",
    "models.append((\"LR\", log_clf))\n",
    "models.append((\"RF\", rnd_clf))\n",
    "models.append((\"SVM\", svm_clf))\n",
    "\n",
    "for name, model in models:\n",
    "    kfold = KFold(n_splits=10, shuffle=True, random_state=44);\n",
    "    cv_results = cross_val_score(model, X_train, y_train, cv=kfold, scoring=slytherin_score)\n",
    "    results.append(cv_results)\n",
    "    names.append(name)\n",
    "    msg = \"%s: %f (%f)\" % (name, cv_results.mean(), cv_results.std())\n",
    "    print(msg)"
   ]
  },
  {
   "cell_type": "code",
   "execution_count": 31,
   "metadata": {
    "slideshow": {
     "slide_type": "slide"
    }
   },
   "outputs": [
    {
     "data": {
      "image/png": "[encoded data removed]",
      "text/plain": [
       "<Figure size 864x432 with 1 Axes>"
      ]
     },
     "metadata": {
      "needs_background": "light"
     },
     "output_type": "display_data"
    }
   ],
   "source": [
    "fig = plt.figure(figsize=(12, 6))\n",
    "fig.suptitle('Algorithm Comparison - Slytherin Score')\n",
    "ax = fig.add_subplot(111)\n",
    "plt.boxplot(results, vert=True, patch_artist=True);\n",
    "ax.set_xticklabels(names)\n",
    "ax.set_ylabel(\"Slytherin Score\")\n",
    "plt.ylim(bottom=0.6,top=0.85)\n",
    "plt.grid()\n",
    "plt.show();"
   ]
  },
  {
   "cell_type": "markdown",
   "metadata": {},
   "source": [
    "### Models comparison - f1 score"
   ]
  },
  {
   "cell_type": "code",
   "execution_count": 32,
   "metadata": {},
   "outputs": [
    {
     "name": "stdout",
     "output_type": "stream",
     "text": [
      "KNN: 0.589633 (0.025860)\n",
      "XGB: 0.641037 (0.025329)\n",
      "LR: 0.630325 (0.028720)\n",
      "RF: 0.627496 (0.028148)\n",
      "SVM: 0.588463 (0.026583)\n"
     ]
    }
   ],
   "source": [
    "models = []\n",
    "results = []\n",
    "names = []\n",
    "\n",
    "models.append((\"KNN\", knn_clf))\n",
    "models.append((\"XGB\", xgb_clf))\n",
    "models.append((\"LR\", log_clf))\n",
    "models.append((\"RF\", rnd_clf))\n",
    "models.append((\"SVM\", svm_clf))\n",
    "\n",
    "for name, model in models:\n",
    "    kfold = KFold(n_splits=10, shuffle=True, random_state=44);\n",
    "    cv_results = cross_val_score(model, X_train, y_train, cv=kfold, scoring=\"f1\")\n",
    "    results.append(cv_results)\n",
    "    names.append(name)\n",
    "    msg = \"%s: %f (%f)\" % (name, cv_results.mean(), cv_results.std())\n",
    "    print(msg)"
   ]
  },
  {
   "cell_type": "code",
   "execution_count": 33,
   "metadata": {},
   "outputs": [
    {
     "data": {
      "image/png": "[encoded data removed]",
      "text/plain": [
       "<Figure size 720x432 with 1 Axes>"
      ]
     },
     "metadata": {
      "needs_background": "light"
     },
     "output_type": "display_data"
    }
   ],
   "source": [
    "fig = plt.figure(figsize=(10, 6))\n",
    "fig.suptitle('Algorithm Comparison - F1 Score')\n",
    "ax = fig.add_subplot(111)\n",
    "plt.boxplot(results, vert=True, patch_artist=True);\n",
    "ax.set_xticklabels(names)\n",
    "ax.set_ylabel(\"F1 Score\")\n",
    "plt.ylim(bottom=0.5,top=0.75)\n",
    "plt.grid()\n",
    "plt.show();"
   ]
  },
  {
   "cell_type": "markdown",
   "metadata": {
    "slideshow": {
     "slide_type": "slide"
    }
   },
   "source": [
    "### Meta learning and ensemble learning (voting)"
   ]
  },
  {
   "cell_type": "code",
   "execution_count": 56,
   "metadata": {
    "slideshow": {
     "slide_type": "-"
    }
   },
   "outputs": [],
   "source": [
    "X_train1, X_train2, y_train1, y_train2 = train_test_split(X_train, y_train, test_size = 0.5,\n",
    "                                                        random_state=44, stratify=y_train)"
   ]
  },
  {
   "cell_type": "code",
   "execution_count": 57,
   "metadata": {
    "slideshow": {
     "slide_type": "-"
    }
   },
   "outputs": [],
   "source": [
    "estimators = [knn_clf, xgb_clf, log_clf, rnd_clf, svm_clf]\n",
    "\n",
    "for estimator in estimators:\n",
    "    estimator.fit(X_train1, y_train1);"
   ]
  },
  {
   "cell_type": "code",
   "execution_count": 36,
   "metadata": {
    "slideshow": {
     "slide_type": "skip"
    }
   },
   "outputs": [
    {
     "data": {
      "text/plain": [
       "array([[1., 1., 1., 1., 1.],\n",
       "       [1., 1., 1., 1., 1.],\n",
       "       [1., 1., 1., 1., 1.],\n",
       "       ...,\n",
       "       [0., 0., 0., 0., 0.],\n",
       "       [1., 1., 1., 1., 1.],\n",
       "       [1., 1., 1., 1., 1.]], dtype=float32)"
      ]
     },
     "execution_count": 36,
     "metadata": {},
     "output_type": "execute_result"
    }
   ],
   "source": [
    "X_train_predictions = np.empty((len(X_train2), len(estimators)), dtype=np.float32)\n",
    "\n",
    "for index, estimator in enumerate(estimators):\n",
    "    X_train_predictions[:, index] = estimator.predict(X_train2)\n",
    "    \n",
    "X_train_predictions"
   ]
  },
  {
   "cell_type": "code",
   "execution_count": 37,
   "metadata": {
    "slideshow": {
     "slide_type": "skip"
    }
   },
   "outputs": [
    {
     "name": "stderr",
     "output_type": "stream",
     "text": [
      "C:\\Users\\nemet\\Anaconda3\\lib\\site-packages\\sklearn\\model_selection\\_search.py:925: UserWarning: One or more of the test scores are non-finite: [       nan        nan 0.71570948 ...        nan        nan        nan]\n",
      "  category=UserWarning\n"
     ]
    },
    {
     "data": {
      "text/plain": [
       "GridSearchCV(cv=5,\n",
       "             estimator=RandomForestClassifier(oob_score=True, random_state=44),\n",
       "             n_jobs=-1,\n",
       "             param_grid={'class_weight': [None, 'balanced'],\n",
       "                         'criterion': ['gini', 'entropy', 'log_loss'],\n",
       "                         'max_depth': [None, 3, 5, 10],\n",
       "                         'max_features': [None, 'sqrt', 'log2'],\n",
       "                         'min_samples_leaf': [1, 3, 5],\n",
       "                         'min_samples_split': [1, 2, 3, 4],\n",
       "                         'n_estimators': [100, 200]},\n",
       "             scoring=make_scorer(function))"
      ]
     },
     "execution_count": 37,
     "metadata": {},
     "output_type": "execute_result"
    }
   ],
   "source": [
    "params_grid = {\n",
    "    \"n_estimators\": [100, 200],\n",
    "    \"criterion\": [\"gini\", \"entropy\", \"log_loss\"],\n",
    "    \"max_depth\": [None, 3, 5, 10],\n",
    "    \"min_samples_split\": [1, 2, 3, 4],\n",
    "    \"min_samples_leaf\": [1, 3, 5], \n",
    "    \"max_features\": [None, \"sqrt\", \"log2\"],\n",
    "    \"class_weight\": [None, \"balanced\"],\n",
    "}\n",
    "\n",
    "gridsearch = GridSearchCV(estimator = RandomForestClassifier(oob_score=True, random_state=44),\n",
    "                          param_grid = params_grid,\n",
    "                          scoring = slytherin_score,\n",
    "                          n_jobs = -1,\n",
    "                          verbose = 0,\n",
    "                          cv = 5\n",
    "                         )\n",
    "\n",
    "gridsearch.fit(X_train_predictions, y_train2)"
   ]
  },
  {
   "cell_type": "code",
   "execution_count": 38,
   "metadata": {},
   "outputs": [
    {
     "data": {
      "text/plain": [
       "RandomForestClassifier(class_weight='balanced', max_features='sqrt',\n",
       "                       min_samples_leaf=3, oob_score=True, random_state=44)"
      ]
     },
     "execution_count": 38,
     "metadata": {},
     "output_type": "execute_result"
    }
   ],
   "source": [
    "gridsearch.best_estimator_"
   ]
  },
  {
   "cell_type": "code",
   "execution_count": 40,
   "metadata": {
    "slideshow": {
     "slide_type": "skip"
    }
   },
   "outputs": [],
   "source": [
    "meta_classifier = RandomForestClassifier(class_weight='balanced',\n",
    "                                         criterion='gini',\n",
    "                                         max_depth= None,\n",
    "                                         max_features='sqrt',\n",
    "                                         min_samples_leaf=3,\n",
    "                                         min_samples_split=2,\n",
    "                                         n_estimators=100,\n",
    "                                         oob_score=True,\n",
    "                                         random_state=44)\n",
    "\n",
    "meta_classifier.fit(X_train_predictions, y_train2);"
   ]
  },
  {
   "cell_type": "code",
   "execution_count": 41,
   "metadata": {
    "slideshow": {
     "slide_type": "skip"
    }
   },
   "outputs": [],
   "source": [
    "X_val_predictions = np.empty((len(X_val), len(estimators)), dtype=np.float32)\n",
    "\n",
    "for index, estimator in enumerate(estimators):\n",
    "    X_val_predictions[:, index] = estimator.predict(X_val)"
   ]
  },
  {
   "cell_type": "code",
   "execution_count": 42,
   "metadata": {
    "slideshow": {
     "slide_type": "skip"
    }
   },
   "outputs": [
    {
     "data": {
      "text/plain": [
       "0.7109749209615817"
      ]
     },
     "execution_count": 42,
     "metadata": {},
     "output_type": "execute_result"
    }
   ],
   "source": [
    "slytherin_score(meta_classifier, X_val_predictions, y_val)"
   ]
  },
  {
   "cell_type": "code",
   "execution_count": 43,
   "metadata": {
    "slideshow": {
     "slide_type": "slide"
    }
   },
   "outputs": [
    {
     "data": {
      "text/plain": [
       "<sklearn.metrics._plot.confusion_matrix.ConfusionMatrixDisplay at 0x2269d382668>"
      ]
     },
     "execution_count": 43,
     "metadata": {},
     "output_type": "execute_result"
    },
    {
     "data": {
      "image/png": "[encoded data removed]",
      "text/plain": [
       "<Figure size 432x288 with 2 Axes>"
      ]
     },
     "metadata": {
      "needs_background": "light"
     },
     "output_type": "display_data"
    }
   ],
   "source": [
    "plot_confusion_matrix(meta_classifier, X_val_predictions, y_val, cmap=\"summer\")"
   ]
  },
  {
   "cell_type": "markdown",
   "metadata": {
    "slideshow": {
     "slide_type": "slide"
    }
   },
   "source": [
    "#### Ensemble Learning"
   ]
  },
  {
   "cell_type": "code",
   "execution_count": 44,
   "metadata": {
    "slideshow": {
     "slide_type": "skip"
    }
   },
   "outputs": [],
   "source": [
    "knn_clf = KNeighborsClassifier(leaf_size=10,\n",
    "                               metric=\"minkowski\",\n",
    "                               n_neighbors=33,\n",
    "                               weights = \"uniform\",\n",
    "                               p=2)\n",
    "\n",
    "xgb_clf = XGBClassifier(booster = \"gbtree\",\n",
    "                        max_depth = 2,\n",
    "                        n_estimators = 14,\n",
    "                        scale_pos_weight = 2,\n",
    "                        random_state=44,\n",
    "                        eval_metric=\"error\",\n",
    "                        use_label_encoder=False)\n",
    "\n",
    "log_clf = LogisticRegression(random_state=44,\n",
    "                             C=0.04641589,\n",
    "                             solver ='liblinear',\n",
    "                             class_weight='balanced')\n",
    "\n",
    "rnd_clf = RandomForestClassifier(class_weight='balanced',\n",
    "                                 max_depth=14,\n",
    "                                 max_features='log2',\n",
    "                                 min_samples_leaf=3,\n",
    "                                 random_state = 44);\n",
    "\n",
    "svm_clf = SVC(C=0.3,\n",
    "              kernel='linear',\n",
    "              probability=True,\n",
    "              random_state=44)"
   ]
  },
  {
   "cell_type": "code",
   "execution_count": 45,
   "metadata": {
    "slideshow": {
     "slide_type": "-"
    }
   },
   "outputs": [],
   "source": [
    "voting_classifier = VotingClassifier(\n",
    "    estimators=[(\"knc\", knn_clf), (\"xgb\", xgb_clf), (\"lr\", log_clf), (\"rf\", rnd_clf), (\"svc\", svm_clf)],\n",
    "    voting=\"hard\")"
   ]
  },
  {
   "cell_type": "code",
   "execution_count": 46,
   "metadata": {
    "slideshow": {
     "slide_type": "skip"
    }
   },
   "outputs": [
    {
     "name": "stdout",
     "output_type": "stream",
     "text": [
      "   model       accuracy       recall   \n",
      "KNeighborsClassifier 0.60573 0.73359\n",
      "XGBClassifier 0.63573 0.72928\n",
      "LogisticRegression 0.61845 0.68611\n",
      "RandomForestClassifier 0.63133 0.72793\n",
      "SVC 0.59684 0.73592\n",
      "VotingClassifier 0.63362 0.73541\n"
     ]
    }
   ],
   "source": [
    "print(\"   model   \", \"   accuracy   \", \"   recall   \")\n",
    "for clf in (knn_clf, xgb_clf, log_clf, rnd_clf, svm_clf, voting_classifier):\n",
    "    clf.fit(X_train, y_train)\n",
    "    y_pred = clf.predict(X_val)\n",
    "    print(clf.__class__.__name__, round(f1_score(y_val, y_pred),5), round(function(y_val, y_pred), 5))"
   ]
  },
  {
   "cell_type": "code",
   "execution_count": 47,
   "metadata": {},
   "outputs": [
    {
     "data": {
      "text/plain": [
       "<sklearn.metrics._plot.confusion_matrix.ConfusionMatrixDisplay at 0x2269b508940>"
      ]
     },
     "execution_count": 47,
     "metadata": {},
     "output_type": "execute_result"
    },
    {
     "data": {
      "image/png": "[encoded data removed]",
      "text/plain": [
       "<Figure size 432x288 with 2 Axes>"
      ]
     },
     "metadata": {
      "needs_background": "light"
     },
     "output_type": "display_data"
    }
   ],
   "source": [
    "plot_confusion_matrix(voting_classifier, X_val, y_val, cmap=\"summer\")"
   ]
  },
  {
   "cell_type": "code",
   "execution_count": 48,
   "metadata": {},
   "outputs": [
    {
     "name": "stdout",
     "output_type": "stream",
     "text": [
      "KNN: 0.725909 (0.016853)\n",
      "XGB: 0.734430 (0.021405)\n",
      "LR: 0.703752 (0.032596)\n",
      "RF: 0.730472 (0.025677)\n",
      "SVM: 0.732061 (0.023234)\n",
      "Meta: 0.727379 (0.022095)\n",
      "Voting: 0.740591 (0.025856)\n"
     ]
    }
   ],
   "source": [
    "models = []\n",
    "results = []\n",
    "names = []\n",
    "\n",
    "models.append((\"KNN\", knn_clf))\n",
    "models.append((\"XGB\", xgb_clf))\n",
    "models.append((\"LR\", log_clf))\n",
    "models.append((\"RF\", rnd_clf))\n",
    "models.append((\"SVM\", svm_clf))\n",
    "models.append((\"Meta\", meta_classifier))\n",
    "models.append((\"Voting\", voting_classifier))\n",
    "\n",
    "for name, model in models:\n",
    "    kfold = KFold(n_splits=10, shuffle=True, random_state=44);\n",
    "    cv_results = cross_val_score(model, X_train, y_train, cv=kfold, scoring=slytherin_score)\n",
    "    results.append(cv_results)\n",
    "    names.append(name)\n",
    "    msg = \"%s: %f (%f)\" % (name, cv_results.mean(), cv_results.std())\n",
    "    print(msg)"
   ]
  },
  {
   "cell_type": "code",
   "execution_count": 49,
   "metadata": {},
   "outputs": [
    {
     "data": {
      "image/png": "[encoded data removed]",
      "text/plain": [
       "<Figure size 864x432 with 1 Axes>"
      ]
     },
     "metadata": {
      "needs_background": "light"
     },
     "output_type": "display_data"
    }
   ],
   "source": [
    "fig = plt.figure(figsize=(12, 6))\n",
    "fig.suptitle('Algorithm Comparison - Slytherin Score')\n",
    "ax = fig.add_subplot(111)\n",
    "plt.boxplot(results, vert=True, patch_artist=True);\n",
    "ax.set_xticklabels(names)\n",
    "ax.set_ylabel(\"Slytherin Score\")\n",
    "plt.ylim(bottom=0.6,top=0.85)\n",
    "plt.grid()\n",
    "plt.show();"
   ]
  },
  {
   "cell_type": "code",
   "execution_count": 50,
   "metadata": {},
   "outputs": [
    {
     "name": "stdout",
     "output_type": "stream",
     "text": [
      "KNN: 0.589633 (0.025860)\n",
      "XGB: 0.641037 (0.025329)\n",
      "LR: 0.630325 (0.028720)\n",
      "RF: 0.627496 (0.028148)\n",
      "SVM: 0.588463 (0.026583)\n",
      "Meta: 0.623593 (0.025041)\n",
      "Voting: 0.633998 (0.029033)\n"
     ]
    }
   ],
   "source": [
    "models = []\n",
    "results = []\n",
    "names = []\n",
    "\n",
    "models.append((\"KNN\", knn_clf))\n",
    "models.append((\"XGB\", xgb_clf))\n",
    "models.append((\"LR\", log_clf))\n",
    "models.append((\"RF\", rnd_clf))\n",
    "models.append((\"SVM\", svm_clf))\n",
    "models.append((\"Meta\", meta_classifier))\n",
    "models.append((\"Voting\", voting_classifier))\n",
    "\n",
    "for name, model in models:\n",
    "    kfold = KFold(n_splits=10, shuffle=True, random_state=44);\n",
    "    cv_results = cross_val_score(model, X_train, y_train, cv=kfold, scoring=\"f1\")\n",
    "    results.append(cv_results)\n",
    "    names.append(name)\n",
    "    msg = \"%s: %f (%f)\" % (name, cv_results.mean(), cv_results.std())\n",
    "    print(msg)"
   ]
  },
  {
   "cell_type": "code",
   "execution_count": 51,
   "metadata": {},
   "outputs": [
    {
     "data": {
      "image/png": "[encoded data removed]",
      "text/plain": [
       "<Figure size 864x432 with 1 Axes>"
      ]
     },
     "metadata": {
      "needs_background": "light"
     },
     "output_type": "display_data"
    }
   ],
   "source": [
    "fig = plt.figure(figsize=(12, 6))\n",
    "fig.suptitle('Algorithm Comparison - F1 Score')\n",
    "ax = fig.add_subplot(111)\n",
    "plt.boxplot(results, vert=True, patch_artist=True);\n",
    "ax.set_xticklabels(names)\n",
    "ax.set_ylabel(\"Slytherin Score\")\n",
    "plt.ylim(bottom=0.5,top=0.75)\n",
    "plt.grid()\n",
    "plt.show();"
   ]
  },
  {
   "cell_type": "markdown",
   "metadata": {},
   "source": [
    "### Best Classifier"
   ]
  },
  {
   "cell_type": "code",
   "execution_count": 52,
   "metadata": {},
   "outputs": [],
   "source": [
    "best_classifier = VotingClassifier(\n",
    "    estimators=[(\"knn\", KNeighborsClassifier(leaf_size=10,\n",
    "                                             metric=\"minkowski\",\n",
    "                                             n_neighbors=33,\n",
    "                                             weights = \"uniform\",\n",
    "                                             p=2)), \n",
    "                (\"xgb\", XGBClassifier(booster=\"gbtree\",\n",
    "                                      max_depth=2,\n",
    "                                      n_estimators=14,\n",
    "                                      scale_pos_weight=2,\n",
    "                                      random_state=44,\n",
    "                                      eval_metric=\"error\",\n",
    "                                      use_label_encoder=False)), \n",
    "                (\"lr\", LogisticRegression(random_state=44,\n",
    "                                          C=0.04641589,\n",
    "                                          solver=\"liblinear\",\n",
    "                                          class_weight=\"balanced\")),\n",
    "                (\"rf\", RandomForestClassifier(class_weight='balanced', \n",
    "                                              max_depth=14,\n",
    "                                              max_features='log2',\n",
    "                                              min_samples_leaf=3,\n",
    "                                              random_state=44)), \n",
    "                (\"svc\", SVC(C=0.3,\n",
    "                            kernel='linear',\n",
    "                            probability=True,\n",
    "                            random_state=44))], \n",
    "    voting=\"hard\",\n",
    "    n_jobs=-1,\n",
    "    verbose=0)\n",
    "\n",
    "best_classifier.fit(X_train, y_train);"
   ]
  },
  {
   "cell_type": "code",
   "execution_count": 53,
   "metadata": {},
   "outputs": [
    {
     "data": {
      "text/plain": [
       "<sklearn.metrics._plot.confusion_matrix.ConfusionMatrixDisplay at 0x2269d71ec88>"
      ]
     },
     "execution_count": 53,
     "metadata": {},
     "output_type": "execute_result"
    },
    {
     "data": {
      "image/png": "[encoded data removed]",
      "text/plain": [
       "<Figure size 432x288 with 2 Axes>"
      ]
     },
     "metadata": {
      "needs_background": "light"
     },
     "output_type": "display_data"
    }
   ],
   "source": [
    "plot_confusion_matrix(best_classifier, X_val, y_val, cmap=\"summer\")"
   ]
  },
  {
   "cell_type": "code",
   "execution_count": 54,
   "metadata": {},
   "outputs": [
    {
     "name": "stdout",
     "output_type": "stream",
     "text": [
      "              precision    recall  f1-score   support\n",
      "\n",
      "           0       0.88      0.81      0.85      1035\n",
      "           1       0.58      0.70      0.63       372\n",
      "\n",
      "    accuracy                           0.78      1407\n",
      "   macro avg       0.73      0.76      0.74      1407\n",
      "weighted avg       0.80      0.78      0.79      1407\n",
      "\n"
     ]
    }
   ],
   "source": [
    "print(classification_report(y_val, best_classifier.predict(X_val)))"
   ]
  },
  {
   "cell_type": "code",
   "execution_count": 55,
   "metadata": {},
   "outputs": [
    {
     "data": {
      "text/plain": [
       "(0.7354062908197752, 96335.55, 37075.95, 52326.22)"
      ]
     },
     "execution_count": 55,
     "metadata": {},
     "output_type": "execute_result"
    }
   ],
   "source": [
    "function(y_val, best_classifier.predict(X_val), scoring_only=False)"
   ]
  },
  {
   "cell_type": "markdown",
   "metadata": {},
   "source": [
    "### Model testing"
   ]
  },
  {
   "cell_type": "code",
   "execution_count": 75,
   "metadata": {},
   "outputs": [
    {
     "name": "stdout",
     "output_type": "stream",
     "text": [
      "Slytherin score: 0.7340764203357255.\n"
     ]
    }
   ],
   "source": [
    "data = test_set.drop([\"customerID\", \"Churn_Yes\"], axis=1)\n",
    "data_labels = test_set[\"Churn_Yes\"].copy()\n",
    "\n",
    "data_prepared = pipeline.fit_transform(full_pipeline.fit_transform(data))\n",
    "y_predict = best_classifier.predict(data_prepared)\n",
    "\n",
    "result = function(data_labels, y_predict, scoring_only = False)\n",
    "\n",
    "print(\"Slytherin score: {}.\".format(result[0]))"
   ]
  },
  {
   "cell_type": "code",
   "execution_count": 76,
   "metadata": {},
   "outputs": [
    {
     "name": "stdout",
     "output_type": "stream",
     "text": [
      "              precision    recall  f1-score   support\n",
      "\n",
      "           0       0.88      0.83      0.85      1026\n",
      "           1       0.59      0.68      0.63       381\n",
      "\n",
      "    accuracy                           0.79      1407\n",
      "   macro avg       0.73      0.75      0.74      1407\n",
      "weighted avg       0.80      0.79      0.79      1407\n",
      "\n"
     ]
    }
   ],
   "source": [
    "print(classification_report(data_labels, y_predict))"
   ]
  },
  {
   "cell_type": "code",
   "execution_count": 80,
   "metadata": {},
   "outputs": [
    {
     "data": {
      "image/png": "[encoded data removed]",
      "text/plain": [
       "<Figure size 432x288 with 2 Axes>"
      ]
     },
     "metadata": {
      "needs_background": "light"
     },
     "output_type": "display_data"
    }
   ],
   "source": [
    "plot_confusion_matrix(best_classifier, data_prepared, data_labels, cmap=\"summer\");"
   ]
  },
  {
   "cell_type": "markdown",
   "metadata": {
    "slideshow": {
     "slide_type": "slide"
    }
   },
   "source": [
    "### Profit"
   ]
  },
  {
   "cell_type": "code",
   "execution_count": 99,
   "metadata": {},
   "outputs": [
    {
     "name": "stdout",
     "output_type": "stream",
     "text": [
      "Real profit on the test set.\n",
      "\n",
      "Best case: 481621.2\n",
      "Standard case: 183889.5\n",
      "Model case: 281571.12\n",
      "Real profit: 97681.62\n"
     ]
    }
   ],
   "source": [
    "profit = round(result[3]-result[2],2)\n",
    "print(\"Real profit on the test set.\\n\")\n",
    "print(\"Best case: {}\\nStandard case: {}\\nModel case: {}\\nReal profit: {}\".format(result[1], result[2], result[3], profit))"
   ]
  },
  {
   "cell_type": "code",
   "execution_count": 95,
   "metadata": {},
   "outputs": [
    {
     "name": "stdout",
     "output_type": "stream",
     "text": [
      "Slytherin score: 0.7691602778952242.\n"
     ]
    }
   ],
   "source": [
    "data = all_data.drop([\"customerID\", \"Churn_Yes\"], axis=1)\n",
    "data_labels = all_data[\"Churn_Yes\"].copy()\n",
    "\n",
    "data_prepared = pipeline.fit_transform(full_pipeline.fit_transform(data))\n",
    "y_predict = best_classifier.predict(data_prepared)\n",
    "\n",
    "result = function(data_labels, y_predict, scoring_only = False)\n",
    "\n",
    "print(\"Slytherin score: {}.\".format(result[0]))"
   ]
  },
  {
   "cell_type": "code",
   "execution_count": 100,
   "metadata": {},
   "outputs": [
    {
     "name": "stdout",
     "output_type": "stream",
     "text": [
      "Real profit on the entire data set.\n",
      "\n",
      "Best case: 481621.2\n",
      "Standard case: 183889.5\n",
      "Model case: 281571.12\n",
      "Real profit: 97681.62\n"
     ]
    }
   ],
   "source": [
    "profit = round(result[3]-result[2],2)\n",
    "print(\"Real profit on the entire data set.\\n\")\n",
    "print(\"Best case: {}\\nStandard case: {}\\nModel case: {}\\nReal profit: {}\".format(result[1], result[2], result[3], profit))"
   ]
  },
  {
   "cell_type": "code",
   "execution_count": null,
   "metadata": {},
   "outputs": [],
   "source": []
  }
 ],
 "metadata": {
  "kernelspec": {
   "display_name": "Python 3",
   "language": "python",
   "name": "python3"
  },
  "language_info": {
   "codemirror_mode": {
    "name": "ipython",
    "version": 3
   },
   "file_extension": ".py",
   "mimetype": "text/x-python",
   "name": "python",
   "nbconvert_exporter": "python",
   "pygments_lexer": "ipython3",
   "version": "3.7.0"
  }
 },
 "nbformat": 4,
 "nbformat_minor": 2
}

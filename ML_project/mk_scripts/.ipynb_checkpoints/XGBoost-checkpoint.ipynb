{
 "cells": [
  {
   "cell_type": "code",
   "execution_count": 53,
   "metadata": {},
   "outputs": [],
   "source": [
    "import numpy as np\n",
    "import pandas as pd\n",
    "\n",
    "import matplotlib.pyplot as plt\n",
    "import seaborn as sns\n",
    "\n",
    "from sklearn.model_selection import train_test_split, StratifiedKFold\n",
    "from sklearn.pipeline import Pipeline\n",
    "from sklearn.preprocessing import OneHotEncoder, StandardScaler, PolynomialFeatures\n",
    "from sklearn.compose import ColumnTransformer\n",
    "from sklearn.base import BaseEstimator, TransformerMixin\n",
    "\n",
    "from xgboost import XGBClassifier\n",
    "from sklearn.metrics import recall_score, confusion_matrix, classification_report, roc_curve\n",
    "from sklearn.model_selection import cross_val_score\n",
    "from sklearn.model_selection import GridSearchCV, RandomizedSearchCV"
   ]
  },
  {
   "cell_type": "code",
   "execution_count": 198,
   "metadata": {},
   "outputs": [
    {
     "name": "stdout",
     "output_type": "stream",
     "text": [
      "It works!\n"
     ]
    }
   ],
   "source": [
    "data = pd.read_csv(\"WA_Fn-UseC_-Telco-Customer-Churn.csv\")\n",
    "\n",
    "data = pd.get_dummies(data, columns=[\"Churn\"], drop_first=True)\n",
    "\n",
    "data = data[data[\"TotalCharges\"] != \" \"]\n",
    "data[\"TotalCharges\"] = pd.to_numeric(data[\"TotalCharges\"], errors=\"ignore\")\n",
    "\n",
    "train_set, test_set = train_test_split(data, test_size = 0.2, random_state=44)\n",
    "\n",
    "data = train_set.drop([\"customerID\", \"Churn_Yes\"], axis=1)\n",
    "data_labels = train_set[\"Churn_Yes\"].copy()\n",
    "\n",
    "data_num = data[[\"tenure\", \"MonthlyCharges\", \"TotalCharges\"]]\n",
    "data_cat = data.drop(columns=[\"tenure\", \"MonthlyCharges\", \"TotalCharges\"])\n",
    "\n",
    "\n",
    "num_attribs = list(data_num)\n",
    "cat_attribs = list(data_cat)\n",
    "\n",
    "full_pipeline = ColumnTransformer([\n",
    "    (\"num\", Pipeline([\n",
    "        (\"poly\", PolynomialFeatures(degree=5,\n",
    "                                    include_bias=False,\n",
    "                                    interaction_only=False)),\n",
    "        (\"scaler\", StandardScaler()),\n",
    "    ]), num_attribs),\n",
    "    (\"cat\", OneHotEncoder(drop=\"first\"), cat_attribs),\n",
    "])\n",
    "\n",
    "new_data = full_pipeline.fit_transform(data)\n",
    "\n",
    "class DropTransformer(BaseEstimator, TransformerMixin):\n",
    "    \n",
    "    def __init__(self, threshold):\n",
    "        self.threshold = threshold\n",
    "        print(\"It works!\")\n",
    "        \n",
    "    def fit(self, X, y = None):\n",
    "        \n",
    "        return self\n",
    "    \n",
    "    def transform(self, X):\n",
    "\n",
    "        data = pd.DataFrame(X)\n",
    "        corr_matrix = data.corr(method=\"spearman\")\n",
    "        upper = corr_matrix.where(np.triu(np.ones(corr_matrix.shape), k=1).astype(np.bool))\n",
    "        to_drop = [column for column in upper.columns if any(upper[column] > self.threshold)]\n",
    "        transformed_data = np.array(data.drop(data.columns[to_drop], axis=1))\n",
    "        \n",
    "        return transformed_data\n",
    "\n",
    "pipeline = Pipeline([(\"droper\", DropTransformer(threshold = 0.4))])\n",
    "\n",
    "data_prepared = pipeline.fit_transform(new_data)\n",
    "\n",
    "X_train, X_val, y_train, y_val = train_test_split(data_prepared, data_labels, test_size = 0.25,\n",
    "                                                  random_state=44, stratify=data_labels)"
   ]
  },
  {
   "cell_type": "code",
   "execution_count": 199,
   "metadata": {},
   "outputs": [
    {
     "data": {
      "text/plain": [
       "139"
      ]
     },
     "execution_count": 199,
     "metadata": {},
     "output_type": "execute_result"
    }
   ],
   "source": [
    "xgb_clf = XGBClassifier(learning_rate = 0.1,\n",
    "                        n_estimators = 140,\n",
    "                        max_depth = 5,\n",
    "                        min_child_weight = 1,\n",
    "                        gamma = 0,\n",
    "                        subsample=0.8,\n",
    "                        colsample_bytree = 0.8,\n",
    "                        objective = 'binary:logistic',\n",
    "                        nthread = 4,\n",
    "                        scale_pos_weight = 1,\n",
    "                        eval_metric = \"logloss\",\n",
    "                        seed = 44,\n",
    "                        use_label_encoder = False)\n",
    "\n",
    "xgb_clf.fit(X_train, y_train)\n",
    "xgb_clf.best_iteration"
   ]
  },
  {
   "cell_type": "code",
   "execution_count": 200,
   "metadata": {},
   "outputs": [
    {
     "data": {
      "text/plain": [
       "({'max_depth': 5, 'min_child_weight': 1}, 0.5089806213965407)"
      ]
     },
     "execution_count": 200,
     "metadata": {},
     "output_type": "execute_result"
    }
   ],
   "source": [
    "param_test1 = {\n",
    " 'max_depth':range(3,10,2),\n",
    " 'min_child_weight':range(1,6,2)\n",
    "}\n",
    "\n",
    "gsearch1 = GridSearchCV(estimator = XGBClassifier(learning_rate =0.1,\n",
    "                                                  n_estimators=140,\n",
    "                                                  #max_depth=5,\n",
    "                                                  #min_child_weight=1,\n",
    "                                                  gamma=0,\n",
    "                                                  subsample=0.8,\n",
    "                                                  colsample_bytree=0.8,\n",
    "                                                  objective= 'binary:logistic',\n",
    "                                                  nthread=4,\n",
    "                                                  scale_pos_weight=1,\n",
    "                                                  eval_metric = \"error\",\n",
    "                                                  seed=44,\n",
    "                                                  use_label_encoder = False),\n",
    "                        param_grid = param_test1,\n",
    "                        scoring =\"recall\",\n",
    "                        n_jobs = -1,\n",
    "                        #iid = False,\n",
    "                        cv=5\n",
    "                       )\n",
    "\n",
    "\n",
    "gsearch1.fit(X_train, y_train)\n",
    "gsearch1.best_params_, gsearch1.best_score_"
   ]
  },
  {
   "cell_type": "code",
   "execution_count": 201,
   "metadata": {},
   "outputs": [
    {
     "data": {
      "text/plain": [
       "({'max_depth': 4, 'min_child_weight': 2}, 0.5152506406149905)"
      ]
     },
     "execution_count": 201,
     "metadata": {},
     "output_type": "execute_result"
    }
   ],
   "source": [
    "param_test1 = {\n",
    " 'max_depth': [2, 3, 4],\n",
    " 'min_child_weight': [1, 2, 3]\n",
    "}\n",
    "\n",
    "gsearch1 = GridSearchCV(estimator = XGBClassifier(learning_rate =0.1,\n",
    "                                                  n_estimators=140,\n",
    "                                                  gamma=0,\n",
    "                                                  subsample=0.8,\n",
    "                                                  colsample_bytree=0.8,\n",
    "                                                  objective= 'binary:logistic',\n",
    "                                                  nthread=4,\n",
    "                                                  scale_pos_weight=1,\n",
    "                                                  eval_metric = \"error\",\n",
    "                                                  seed=44,\n",
    "                                                  use_label_encoder = False),\n",
    "                        param_grid = param_test1,\n",
    "                        scoring =\"recall\",\n",
    "                        n_jobs = -1,\n",
    "                        #iid = False,\n",
    "                        cv=5\n",
    "                       )\n",
    "\n",
    "\n",
    "gsearch1.fit(X_train, y_train)\n",
    "gsearch1.best_params_, gsearch1.best_score_"
   ]
  },
  {
   "cell_type": "code",
   "execution_count": 202,
   "metadata": {},
   "outputs": [
    {
     "data": {
      "text/plain": [
       "({'gamma': 0.1}, 0.5098814862267778)"
      ]
     },
     "execution_count": 202,
     "metadata": {},
     "output_type": "execute_result"
    }
   ],
   "source": [
    "param_test1 = {\n",
    " 'gamma':[i/10.0 for i in range(0,5)]\n",
    "}\n",
    "\n",
    "gsearch1 = GridSearchCV(estimator = XGBClassifier(learning_rate =0.1,\n",
    "                                                  n_estimators=140,\n",
    "                                                  max_depth = 3,\n",
    "                                                  min_child_weight = 3,\n",
    "                                                  gamma=0,\n",
    "                                                  subsample=0.8,\n",
    "                                                  colsample_bytree=0.8,\n",
    "                                                  objective= 'binary:logistic',\n",
    "                                                  nthread=4,\n",
    "                                                  scale_pos_weight=1,\n",
    "                                                  eval_metric = \"error\",\n",
    "                                                  seed=44,\n",
    "                                                  use_label_encoder = False),\n",
    "                        param_grid = param_test1,\n",
    "                        scoring =\"recall\",\n",
    "                        n_jobs = -1,\n",
    "                        #iid = False,\n",
    "                        cv=5\n",
    "                       )\n",
    "\n",
    "\n",
    "gsearch1.fit(X_train, y_train)\n",
    "gsearch1.best_params_, gsearch1.best_score_"
   ]
  },
  {
   "cell_type": "code",
   "execution_count": 203,
   "metadata": {},
   "outputs": [
    {
     "data": {
      "text/plain": [
       "({'colsample_bytree': 0.9, 'subsample': 0.7}, 0.5152586483023702)"
      ]
     },
     "execution_count": 203,
     "metadata": {},
     "output_type": "execute_result"
    }
   ],
   "source": [
    "param_test4 = {\n",
    " 'subsample':[i/10.0 for i in range(6,10)],\n",
    " 'colsample_bytree':[i/10.0 for i in range(6,10)]\n",
    "}\n",
    "\n",
    "gsearch1 = GridSearchCV(estimator = XGBClassifier(learning_rate =0.1,\n",
    "                                                  n_estimators=140,\n",
    "                                                  max_depth = 3,\n",
    "                                                  min_child_weight = 3,\n",
    "                                                  gamma=0,\n",
    "                                                  subsample=0.7,\n",
    "                                                  colsample_bytree=0.6,\n",
    "                                                  objective= 'binary:logistic',\n",
    "                                                  nthread=4,\n",
    "                                                  scale_pos_weight=1,\n",
    "                                                  eval_metric = \"error\",\n",
    "                                                  seed=44,\n",
    "                                                  use_label_encoder = False),\n",
    "                        param_grid = param_test4,\n",
    "                        scoring =\"recall\",\n",
    "                        n_jobs = -1,\n",
    "                        #iid = False,\n",
    "                        cv=5\n",
    "                       )\n",
    "\n",
    "\n",
    "gsearch1.fit(X_train, y_train)\n",
    "gsearch1.best_params_, gsearch1.best_score_"
   ]
  },
  {
   "cell_type": "code",
   "execution_count": 208,
   "metadata": {},
   "outputs": [
    {
     "data": {
      "text/plain": [
       "({'reg_alpha': 0.1}, 0.5134569186418962)"
      ]
     },
     "execution_count": 208,
     "metadata": {},
     "output_type": "execute_result"
    }
   ],
   "source": [
    "param_test6 = {\n",
    " 'reg_alpha':[1e-5, 1e-2, 0.1, 1, 100]\n",
    "}\n",
    "\n",
    "gsearch1 = GridSearchCV(estimator = XGBClassifier(learning_rate =0.1,\n",
    "                                                  n_estimators=140,\n",
    "                                                  max_depth = 3,\n",
    "                                                  min_child_weight = 1,\n",
    "                                                  gamma=0,\n",
    "                                                  subsample=0.7,\n",
    "                                                  colsample_bytree=0.9,\n",
    "                                                  reg_alpha = 0.001,\n",
    "                                                  objective= 'binary:logistic',\n",
    "                                                  nthread=4,\n",
    "                                                  scale_pos_weight=1,\n",
    "                                                  eval_metric = \"error\",\n",
    "                                                  seed=44,\n",
    "                                                  use_label_encoder = False),\n",
    "                        param_grid = param_test6,\n",
    "                        scoring =\"recall\",\n",
    "                        n_jobs = -1,\n",
    "                        #iid = False,\n",
    "                        cv=5\n",
    "                       )\n",
    "\n",
    "\n",
    "gsearch1.fit(X_train, y_train)\n",
    "gsearch1.best_params_, gsearch1.best_score_"
   ]
  },
  {
   "cell_type": "code",
   "execution_count": 209,
   "metadata": {},
   "outputs": [
    {
     "data": {
      "text/plain": [
       "XGBClassifier(base_score=0.5, booster='gbtree', colsample_bylevel=1,\n",
       "              colsample_bynode=1, colsample_bytree=0.9,\n",
       "              enable_categorical=False, eval_metric='error', gamma=0.1,\n",
       "              gpu_id=-1, importance_type=None, interaction_constraints='',\n",
       "              learning_rate=0.1, max_delta_step=0, max_depth=4,\n",
       "              min_child_weight=2, missing=nan, monotone_constraints='()',\n",
       "              n_estimators=140, n_jobs=4, nthread=4, num_parallel_tree=1,\n",
       "              predictor='auto', random_state=44, reg_alpha=0.001, reg_lambda=1,\n",
       "              scale_pos_weight=1, seed=44, subsample=0.7, tree_method='exact',\n",
       "              use_label_encoder=False, ...)"
      ]
     },
     "execution_count": 209,
     "metadata": {},
     "output_type": "execute_result"
    }
   ],
   "source": [
    "xgb_classifier = XGBClassifier(learning_rate =0.1,\n",
    "                               n_estimators=140,\n",
    "                                max_depth = 4,\n",
    "                                min_child_weight = 2,\n",
    "                                gamma=0.1,\n",
    "                                subsample=0.7,\n",
    "                                colsample_bytree=0.9,\n",
    "                                reg_alpha = 0.001,\n",
    "                                objective= 'binary:logistic',\n",
    "                                nthread=4,\n",
    "                                scale_pos_weight=1,\n",
    "                                eval_metric = \"error\",\n",
    "                                seed=44,\n",
    "                                use_label_encoder = False)\n",
    "\n",
    "xgb_classifier.fit(X_train, y_train)"
   ]
  },
  {
   "cell_type": "code",
   "execution_count": 210,
   "metadata": {},
   "outputs": [
    {
     "name": "stdout",
     "output_type": "stream",
     "text": [
      "              precision    recall  f1-score   support\n",
      "\n",
      "           0       0.84      0.89      0.87      1035\n",
      "           1       0.64      0.53      0.58       372\n",
      "\n",
      "    accuracy                           0.80      1407\n",
      "   macro avg       0.74      0.71      0.72      1407\n",
      "weighted avg       0.79      0.80      0.79      1407\n",
      "\n"
     ]
    }
   ],
   "source": [
    "y_pred = xgb_classifier.predict(X_val)\n",
    "print(classification_report(y_val, y_pred))"
   ]
  },
  {
   "cell_type": "code",
   "execution_count": 207,
   "metadata": {},
   "outputs": [
    {
     "data": {
      "text/plain": [
       "<matplotlib.axes._subplots.AxesSubplot at 0x163617020f0>"
      ]
     },
     "execution_count": 207,
     "metadata": {},
     "output_type": "execute_result"
    },
    {
     "data": {
      "image/png": "[encoded data removed]",
      "text/plain": [
       "<Figure size 432x288 with 2 Axes>"
      ]
     },
     "metadata": {
      "needs_background": "light"
     },
     "output_type": "display_data"
    }
   ],
   "source": [
    "sns.heatmap(pd.DataFrame(X_train).corr())"
   ]
  },
  {
   "cell_type": "code",
   "execution_count": null,
   "metadata": {},
   "outputs": [],
   "source": []
  },
  {
   "cell_type": "code",
   "execution_count": null,
   "metadata": {},
   "outputs": [],
   "source": []
  },
  {
   "cell_type": "code",
   "execution_count": null,
   "metadata": {},
   "outputs": [],
   "source": []
  }
 ],
 "metadata": {
  "kernelspec": {
   "display_name": "Python 3",
   "language": "python",
   "name": "python3"
  },
  "language_info": {
   "codemirror_mode": {
    "name": "ipython",
    "version": 3
   },
   "file_extension": ".py",
   "mimetype": "text/x-python",
   "name": "python",
   "nbconvert_exporter": "python",
   "pygments_lexer": "ipython3",
   "version": "3.7.0"
  }
 },
 "nbformat": 4,
 "nbformat_minor": 2
}

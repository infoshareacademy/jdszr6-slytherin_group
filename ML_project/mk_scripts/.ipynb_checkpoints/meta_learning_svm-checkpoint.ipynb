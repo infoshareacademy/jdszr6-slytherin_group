{
 "cells": [
  {
   "cell_type": "code",
   "execution_count": 1,
   "metadata": {},
   "outputs": [],
   "source": [
    "import numpy as np\n",
    "import pandas as pd\n",
    "\n",
    "import matplotlib.pyplot as plt\n",
    "import seaborn as sns\n",
    "\n",
    "from sklearn.model_selection import train_test_split\n",
    "from sklearn.pipeline import Pipeline\n",
    "from sklearn.preprocessing import OneHotEncoder, StandardScaler, PolynomialFeatures\n",
    "from sklearn.compose import ColumnTransformer\n",
    "from sklearn.base import BaseEstimator, TransformerMixin\n",
    "\n",
    "from sklearn.ensemble import VotingClassifier\n",
    "from sklearn.tree import DecisionTreeClassifier\n",
    "from sklearn.ensemble import RandomForestClassifier\n",
    "from sklearn.linear_model import LogisticRegression\n",
    "from sklearn.neighbors import KNeighborsClassifier\n",
    "from sklearn.svm import SVC\n",
    "\n",
    "from sklearn.metrics import accuracy_score\n",
    "from sklearn.metrics import recall_score, confusion_matrix, classification_report, roc_curve\n",
    "from sklearn.model_selection import cross_val_score\n",
    "from sklearn.model_selection import GridSearchCV\n",
    "\n",
    "from xgboost import XGBClassifier"
   ]
  },
  {
   "cell_type": "code",
   "execution_count": 2,
   "metadata": {},
   "outputs": [
    {
     "name": "stdout",
     "output_type": "stream",
     "text": [
      "It works!\n"
     ]
    }
   ],
   "source": [
    "data = pd.read_csv(\"WA_Fn-UseC_-Telco-Customer-Churn.csv\")\n",
    "\n",
    "data = pd.get_dummies(data, columns=[\"Churn\"], drop_first=True)\n",
    "\n",
    "data = data[data[\"TotalCharges\"] != \" \"]\n",
    "data[\"TotalCharges\"] = pd.to_numeric(data[\"TotalCharges\"], errors=\"ignore\")\n",
    "\n",
    "train_set, test_set = train_test_split(data, test_size = 0.2, random_state=44)\n",
    "\n",
    "data = train_set.drop([\"customerID\", \"Churn_Yes\"], axis=1)\n",
    "data_labels = train_set[\"Churn_Yes\"].copy()\n",
    "\n",
    "data_num = data[[\"tenure\", \"MonthlyCharges\", \"TotalCharges\"]]\n",
    "data_cat = data.drop(columns=[\"tenure\", \"MonthlyCharges\", \"TotalCharges\"])\n",
    "\n",
    "\n",
    "num_attribs = list(data_num)\n",
    "cat_attribs = list(data_cat)\n",
    "\n",
    "full_pipeline = ColumnTransformer([\n",
    "    (\"num\", Pipeline([\n",
    "        (\"poly\", PolynomialFeatures(degree=5,\n",
    "                                    include_bias=False,\n",
    "                                    interaction_only=False)),\n",
    "        (\"scaler\", StandardScaler()),\n",
    "    ]), num_attribs),\n",
    "    (\"cat\", OneHotEncoder(drop=\"first\"), cat_attribs),\n",
    "])\n",
    "\n",
    "new_data = full_pipeline.fit_transform(data)\n",
    "\n",
    "class DropTransformer(BaseEstimator, TransformerMixin):\n",
    "    \n",
    "    def __init__(self, threshold):\n",
    "        self.threshold = threshold\n",
    "        print(\"It works!\")\n",
    "        \n",
    "    def fit(self, X, y = None):\n",
    "        \n",
    "        return self\n",
    "    \n",
    "    def transform(self, X):\n",
    "\n",
    "        data = pd.DataFrame(X)\n",
    "        corr_matrix = data.corr(method=\"spearman\")\n",
    "        upper = corr_matrix.where(np.triu(np.ones(corr_matrix.shape), k=1).astype(np.bool))\n",
    "        to_drop = [column for column in upper.columns if any(upper[column] > self.threshold)]\n",
    "        transformed_data = np.array(data.drop(data.columns[to_drop], axis=1))\n",
    "        \n",
    "        return transformed_data\n",
    "\n",
    "pipeline = Pipeline([(\"droper\", DropTransformer(threshold = 0.90))])\n",
    "\n",
    "data_prepared = pipeline.fit_transform(new_data)\n",
    "\n",
    "X_train, X_val, y_train, y_val = train_test_split(data_prepared, data_labels, test_size = 0.25, random_state=44, stratify=data_labels)"
   ]
  },
  {
   "cell_type": "markdown",
   "metadata": {},
   "source": [
    "#### podział zbioru treningowe na dwa zbioru, w celu dwukrotnego uczenia"
   ]
  },
  {
   "cell_type": "code",
   "execution_count": 3,
   "metadata": {},
   "outputs": [],
   "source": [
    "X_train, X_train2, y_train, y_train2 = train_test_split(X_train, y_train, test_size = 0.5,\n",
    "                                                        random_state=44, stratify=y_train)"
   ]
  },
  {
   "cell_type": "markdown",
   "metadata": {},
   "source": [
    "#### stworzenie instancji najlepszych modeli i wyternowanie ich"
   ]
  },
  {
   "cell_type": "code",
   "execution_count": 4,
   "metadata": {},
   "outputs": [],
   "source": [
    "svm_clf = SVC(C=0.1,\n",
    "              class_weight='balanced',\n",
    "              degree=5,\n",
    "              gamma='auto',\n",
    "              kernel='poly',\n",
    "              probability=True,\n",
    "              random_state=44\n",
    "             )\n",
    "\n",
    "xgb_clf = XGBClassifier(n_estimators = 10,\n",
    "                        booster = \"gblinear\",\n",
    "                        random_state=44,\n",
    "                        scale_pos_weight = 3,\n",
    "                        seed = 44\n",
    "                       )\n",
    "\n",
    "log_clf = LogisticRegression(C = 0.5,\n",
    "                             solver = \"liblinear\",\n",
    "                             class_weight = \"balanced\",\n",
    "                             random_state = 44\n",
    "                            )\n",
    "\n",
    "rnd_clf = RandomForestClassifier(max_depth = 7,\n",
    "                                 max_features = \"auto\",\n",
    "                                 min_samples_leaf = 10,\n",
    "                                 class_weight = \"balanced\",\n",
    "                                 random_state = 44\n",
    "                                )\n",
    "\n",
    "knn_clf = KNeighborsClassifier(n_neighbors = 41,\n",
    "                               leaf_size = 10,\n",
    "                               p = 1,\n",
    "                               metric = \"euclidean\",\n",
    "                               weights = \"uniform\"\n",
    "                              )"
   ]
  },
  {
   "cell_type": "code",
   "execution_count": 5,
   "metadata": {},
   "outputs": [
    {
     "name": "stdout",
     "output_type": "stream",
     "text": [
      "Training the: SVC(C=0.1, class_weight='balanced', degree=5, gamma='auto', kernel='poly',\n",
      "    probability=True, random_state=44)\n",
      " \n",
      "Training the: LogisticRegression(C=0.5, class_weight='balanced', random_state=44,\n",
      "                   solver='liblinear')\n",
      " \n",
      "Training the: RandomForestClassifier(class_weight='balanced', max_depth=7,\n",
      "                       min_samples_leaf=10, random_state=44)\n",
      " \n",
      "Training the: KNeighborsClassifier(leaf_size=10, metric='euclidean', n_neighbors=41, p=1)\n",
      " \n",
      "Training the: XGBClassifier(base_score=None, booster='gblinear', colsample_bylevel=None,\n",
      "              colsample_bynode=None, colsample_bytree=None,\n",
      "              enable_categorical=False, gamma=None, gpu_id=None,\n",
      "              importance_type=None, interaction_constraints=None,\n",
      "              learning_rate=None, max_delta_step=None, max_depth=None,\n",
      "              min_child_weight=None, missing=nan, monotone_constraints=None,\n",
      "              n_estimators=10, n_jobs=None, num_parallel_tree=None,\n",
      "              predictor=None, random_state=44, reg_alpha=None, reg_lambda=None,\n",
      "              scale_pos_weight=3, seed=44, subsample=None, tree_method=None,\n",
      "              validate_parameters=None, verbosity=None)\n",
      " \n",
      "[21:31:28] WARNING: ..\\src\\learner.cc:1115: Starting in XGBoost 1.3.0, the default evaluation metric used with the objective 'binary:logistic' was changed from 'error' to 'logloss'. Explicitly set eval_metric if you'd like to restore the old behavior.\n"
     ]
    },
    {
     "name": "stderr",
     "output_type": "stream",
     "text": [
      "C:\\Users\\nemet\\Anaconda3\\lib\\site-packages\\xgboost\\sklearn.py:1224: UserWarning: The use of label encoder in XGBClassifier is deprecated and will be removed in a future release. To remove this warning, do the following: 1) Pass option use_label_encoder=False when constructing XGBClassifier object; and 2) Encode your labels (y) as integers starting with 0, i.e. 0, 1, 2, ..., [num_class - 1].\n",
      "  warnings.warn(label_encoder_deprecation_msg, UserWarning)\n"
     ]
    }
   ],
   "source": [
    "estimators = [svm_clf, log_clf, rnd_clf, knn_clf, xgb_clf]\n",
    "for estimator in estimators:\n",
    "    print(\"Training the: {}\\n \".format(estimator))\n",
    "    estimator.fit(X_train, y_train)"
   ]
  },
  {
   "cell_type": "markdown",
   "metadata": {},
   "source": [
    "#### s"
   ]
  },
  {
   "cell_type": "code",
   "execution_count": 6,
   "metadata": {},
   "outputs": [
    {
     "data": {
      "text/plain": [
       "array([[1., 1., 1., 1., 1.],\n",
       "       [1., 1., 1., 1., 1.],\n",
       "       [1., 1., 1., 1., 1.],\n",
       "       ...,\n",
       "       [1., 0., 0., 0., 0.],\n",
       "       [1., 1., 1., 1., 1.],\n",
       "       [1., 1., 1., 1., 1.]], dtype=float32)"
      ]
     },
     "execution_count": 6,
     "metadata": {},
     "output_type": "execute_result"
    }
   ],
   "source": [
    "X_val_predictions = np.empty((len(X_train2), len(estimators)), dtype=np.float32)\n",
    "\n",
    "for index, estimator in enumerate(estimators):\n",
    "    X_val_predictions[:, index] = estimator.predict(X_train2)\n",
    "    \n",
    "X_val_predictions"
   ]
  },
  {
   "cell_type": "code",
   "execution_count": 96,
   "metadata": {},
   "outputs": [
    {
     "name": "stdout",
     "output_type": "stream",
     "text": [
      "Fitting 5 folds for each of 128 candidates, totalling 640 fits\n"
     ]
    },
    {
     "data": {
      "text/plain": [
       "GridSearchCV(cv=5, estimator=SVC(random_state=44), n_jobs=-1,\n",
       "             param_grid={'C': [0.1, 0.2, 0.25, 0.3],\n",
       "                         'class_weight': ['balanced'], 'degree': [1, 2, 3, 4],\n",
       "                         'gamma': ['scale', 'auto'],\n",
       "                         'kernel': ['linear', 'poly', 'rbf', 'sigmoid'],\n",
       "                         'probability': [True]},\n",
       "             scoring='f1', verbose=1)"
      ]
     },
     "execution_count": 96,
     "metadata": {},
     "output_type": "execute_result"
    }
   ],
   "source": [
    "params_grid = {\n",
    "    \"C\": [0.1, 0.2, 0.25, 0.3],\n",
    "    \"kernel\": [\"linear\", \"poly\", \"rbf\", \"sigmoid\"],\n",
    "    \"degree\": [1, 2, 3, 4],\n",
    "    \"gamma\": [\"scale\", \"auto\"],\n",
    "    \"probability\": [True],\n",
    "    \"class_weight\": [\"balanced\"]\n",
    "}\n",
    "\n",
    "gridsearch = GridSearchCV(estimator = SVC(random_state=44),\n",
    "                          param_grid = params_grid,\n",
    "                          scoring = \"f1\",\n",
    "                          n_jobs = -1,\n",
    "                          verbose = 1,\n",
    "                          cv = 5\n",
    "                         )\n",
    "\n",
    "gridsearch.fit(X_val_predictions, y_train2)"
   ]
  },
  {
   "cell_type": "code",
   "execution_count": 7,
   "metadata": {},
   "outputs": [
    {
     "ename": "NameError",
     "evalue": "name 'gridsearch' is not defined",
     "output_type": "error",
     "traceback": [
      "\u001b[1;31m---------------------------------------------------------------------------\u001b[0m",
      "\u001b[1;31mNameError\u001b[0m                                 Traceback (most recent call last)",
      "\u001b[1;32m<ipython-input-7-9df4b2b222a5>\u001b[0m in \u001b[0;36m<module>\u001b[1;34m()\u001b[0m\n\u001b[0;32m      3\u001b[0m \u001b[1;31m#     probability=True, random_state=44)\u001b[0m\u001b[1;33m\u001b[0m\u001b[1;33m\u001b[0m\u001b[0m\n\u001b[0;32m      4\u001b[0m \u001b[1;33m\u001b[0m\u001b[0m\n\u001b[1;32m----> 5\u001b[1;33m \u001b[0mgridsearch\u001b[0m\u001b[1;33m.\u001b[0m\u001b[0mbest_estimator_\u001b[0m\u001b[1;33m,\u001b[0m \u001b[0mgridsearch\u001b[0m\u001b[1;33m.\u001b[0m\u001b[0mbest_params_\u001b[0m\u001b[1;33m\u001b[0m\u001b[0m\n\u001b[0m",
      "\u001b[1;31mNameError\u001b[0m: name 'gridsearch' is not defined"
     ]
    }
   ],
   "source": [
    "# wczesniej:\n",
    "#     SVC(C=0.25, class_weight='balanced', degree=1, kernel='sigmoid',\n",
    "#     probability=True, random_state=44)\n",
    "\n",
    "gridsearch.best_estimator_, gridsearch.best_params_"
   ]
  },
  {
   "cell_type": "code",
   "execution_count": 8,
   "metadata": {},
   "outputs": [
    {
     "data": {
      "text/plain": [
       "SVC(C=0.1, class_weight='balanced', gamma='auto', kernel='poly',\n",
       "    probability=True, random_state=44)"
      ]
     },
     "execution_count": 8,
     "metadata": {},
     "output_type": "execute_result"
    }
   ],
   "source": [
    "best_svc = SVC(C=0.1, class_weight='balanced', degree=3, kernel='poly', gamma=\"auto\", probability=True, random_state=44)\n",
    "\n",
    "best_svc.fit(X_val_predictions, y_train2)"
   ]
  },
  {
   "cell_type": "code",
   "execution_count": 9,
   "metadata": {},
   "outputs": [
    {
     "data": {
      "text/plain": [
       "array([[1., 0., 0., 0., 0.],\n",
       "       [1., 1., 1., 0., 1.],\n",
       "       [1., 1., 1., 1., 1.],\n",
       "       ...,\n",
       "       [1., 1., 1., 1., 1.],\n",
       "       [1., 0., 0., 0., 0.],\n",
       "       [1., 0., 0., 0., 0.]], dtype=float32)"
      ]
     },
     "execution_count": 9,
     "metadata": {},
     "output_type": "execute_result"
    }
   ],
   "source": [
    "X_val_predictions = np.empty((len(X_val), len(estimators)), dtype=np.float32)\n",
    "\n",
    "for index, estimator in enumerate(estimators):\n",
    "    X_val_predictions[:, index] = estimator.predict(X_val)\n",
    "    \n",
    "X_val_predictions"
   ]
  },
  {
   "cell_type": "code",
   "execution_count": 10,
   "metadata": {},
   "outputs": [
    {
     "name": "stdout",
     "output_type": "stream",
     "text": [
      "              precision    recall  f1-score   support\n",
      "\n",
      "           0       0.89      0.77      0.83      1035\n",
      "           1       0.54      0.74      0.62       372\n",
      "\n",
      "    accuracy                           0.76      1407\n",
      "   macro avg       0.72      0.76      0.73      1407\n",
      "weighted avg       0.80      0.76      0.77      1407\n",
      "\n"
     ]
    }
   ],
   "source": [
    "y_pred = best_svc.predict(X_val_predictions)\n",
    "print(classification_report(y_val, y_pred))"
   ]
  },
  {
   "cell_type": "code",
   "execution_count": 11,
   "metadata": {},
   "outputs": [],
   "source": [
    "def to_labels(pos_probs, threshold):\n",
    "    return (pos_probs >= threshold).astype('int')"
   ]
  },
  {
   "cell_type": "code",
   "execution_count": 12,
   "metadata": {},
   "outputs": [
    {
     "name": "stdout",
     "output_type": "stream",
     "text": [
      "Best Threshold=0.560463, G-Mean=0.757\n"
     ]
    },
    {
     "data": {
      "image/png": "[encoded data removed]",
      "text/plain": [
       "<Figure size 864x576 with 1 Axes>"
      ]
     },
     "metadata": {
      "needs_background": "light"
     },
     "output_type": "display_data"
    }
   ],
   "source": [
    "fpr, tpr, thresholds = roc_curve(y_val, best_svc.predict_proba(X_val_predictions)[:,1])\n",
    "\n",
    "gmeans = np.sqrt(tpr * (1-fpr))\n",
    "ix = np.argmax(gmeans)\n",
    "print('Best Threshold=%f, G-Mean=%.3f' % (thresholds[ix], gmeans[ix]))\n",
    "\n",
    "plt.figure(figsize = (12, 8))\n",
    "plt.plot([0,1], [0,1], linestyle='--', label='no skill model')\n",
    "plt.plot(fpr, tpr, marker='.', linestyle='--', label='random forrest model')\n",
    "plt.scatter(fpr[ix], tpr[ix], marker='o', color='red', label='Best')\n",
    "plt.xlabel('False Positive Rate')\n",
    "plt.ylabel('True Positive Rate')\n",
    "plt.legend()\n",
    "plt.show()"
   ]
  },
  {
   "cell_type": "code",
   "execution_count": 13,
   "metadata": {},
   "outputs": [
    {
     "name": "stdout",
     "output_type": "stream",
     "text": [
      "              precision    recall  f1-score   support\n",
      "\n",
      "           0       0.89      0.77      0.83      1035\n",
      "           1       0.54      0.74      0.62       372\n",
      "\n",
      "    accuracy                           0.76      1407\n",
      "   macro avg       0.72      0.76      0.73      1407\n",
      "weighted avg       0.80      0.76      0.77      1407\n",
      "\n"
     ]
    }
   ],
   "source": [
    "print(classification_report(y_val,\n",
    "                            to_labels(best_svc.predict_proba(X_val_predictions)[:,1], thresholds[ix])))"
   ]
  },
  {
   "cell_type": "code",
   "execution_count": 35,
   "metadata": {},
   "outputs": [],
   "source": [
    "from sklearn.metrics import plot_confusion_matrix"
   ]
  },
  {
   "cell_type": "code",
   "execution_count": 56,
   "metadata": {},
   "outputs": [
    {
     "data": {
      "text/plain": [
       "<sklearn.metrics._plot.confusion_matrix.ConfusionMatrixDisplay at 0x1de52fbe9b0>"
      ]
     },
     "execution_count": 56,
     "metadata": {},
     "output_type": "execute_result"
    },
    {
     "data": {
      "image/png": "[encoded data removed]",
      "text/plain": [
       "<Figure size 432x288 with 2 Axes>"
      ]
     },
     "metadata": {
      "needs_background": "light"
     },
     "output_type": "display_data"
    }
   ],
   "source": [
    "plot_confusion_matrix(best_svc, X_val_predictions, y_val)"
   ]
  },
  {
   "cell_type": "code",
   "execution_count": 58,
   "metadata": {},
   "outputs": [
    {
     "data": {
      "text/plain": [
       "0.5390625"
      ]
     },
     "execution_count": 58,
     "metadata": {},
     "output_type": "execute_result"
    }
   ],
   "source": [
    "# precision\n",
    "276/(236+276)"
   ]
  },
  {
   "cell_type": "code",
   "execution_count": 60,
   "metadata": {},
   "outputs": [
    {
     "data": {
      "text/plain": [
       "0.7419354838709677"
      ]
     },
     "execution_count": 60,
     "metadata": {},
     "output_type": "execute_result"
    }
   ],
   "source": [
    "#recall\n",
    "276/(276+96)"
   ]
  },
  {
   "cell_type": "code",
   "execution_count": null,
   "metadata": {},
   "outputs": [],
   "source": []
  },
  {
   "cell_type": "code",
   "execution_count": null,
   "metadata": {},
   "outputs": [],
   "source": []
  },
  {
   "cell_type": "markdown",
   "metadata": {},
   "source": [
    "walidacja"
   ]
  },
  {
   "cell_type": "code",
   "execution_count": 105,
   "metadata": {},
   "outputs": [
    {
     "data": {
      "text/plain": [
       "array([[1., 1., 1., 1., 1.],\n",
       "       [1., 1., 1., 1., 1.],\n",
       "       [1., 1., 1., 1., 1.],\n",
       "       ...,\n",
       "       [1., 0., 0., 0., 0.],\n",
       "       [1., 1., 1., 1., 1.],\n",
       "       [1., 1., 1., 1., 1.]], dtype=float32)"
      ]
     },
     "execution_count": 105,
     "metadata": {},
     "output_type": "execute_result"
    }
   ],
   "source": [
    "X_val_predictions = np.empty((len(X_train2), len(estimators)), dtype=np.float32)\n",
    "\n",
    "for index, estimator in enumerate(estimators):\n",
    "    X_val_predictions[:, index] = estimator.predict(X_train2)\n",
    "    \n",
    "X_val_predictions"
   ]
  },
  {
   "cell_type": "code",
   "execution_count": 106,
   "metadata": {},
   "outputs": [
    {
     "name": "stderr",
     "output_type": "stream",
     "text": [
      "[Parallel(n_jobs=-1)]: Using backend LokyBackend with 6 concurrent workers.\n",
      "[Parallel(n_jobs=-1)]: Done  20 out of  20 | elapsed:    2.4s remaining:    0.0s\n",
      "[Parallel(n_jobs=-1)]: Done  20 out of  20 | elapsed:    2.4s finished\n"
     ]
    }
   ],
   "source": [
    "classifier = SVC(C=0.1,\n",
    "                 class_weight='balanced',\n",
    "                 degree=1, kernel='sigmoid',\n",
    "                 gamma=\"scale\",\n",
    "                 probability=True,\n",
    "                 random_state=44\n",
    "                )\n",
    "\n",
    "scores = cross_val_score(estimator = classifier,\n",
    "                         X = X_val_predictions,\n",
    "                         y = y_train2,\n",
    "                         scoring = \"f1\",\n",
    "                         cv = 20,\n",
    "                         n_jobs = -1,\n",
    "                         verbose = 2\n",
    "                        )"
   ]
  },
  {
   "cell_type": "code",
   "execution_count": 107,
   "metadata": {},
   "outputs": [
    {
     "data": {
      "text/plain": [
       "array([0.65822785, 0.64102564, 0.6097561 , 0.61111111, 0.65753425,\n",
       "       0.61764706, 0.67532468, 0.67532468, 0.62162162, 0.52777778,\n",
       "       0.60273973, 0.63768116, 0.61333333, 0.57894737, 0.7027027 ,\n",
       "       0.62337662, 0.6       , 0.61764706, 0.62857143, 0.62686567])"
      ]
     },
     "execution_count": 107,
     "metadata": {},
     "output_type": "execute_result"
    }
   ],
   "source": [
    "scores"
   ]
  },
  {
   "cell_type": "code",
   "execution_count": 108,
   "metadata": {},
   "outputs": [
    {
     "name": "stdout",
     "output_type": "stream",
     "text": [
      "0.6263607912782382 0.03676911142045566\n"
     ]
    }
   ],
   "source": [
    "print(scores.mean(), scores.std())"
   ]
  },
  {
   "cell_type": "code",
   "execution_count": 109,
   "metadata": {},
   "outputs": [
    {
     "data": {
      "text/plain": [
       "0.7027027027027025"
      ]
     },
     "execution_count": 109,
     "metadata": {},
     "output_type": "execute_result"
    }
   ],
   "source": [
    "scores.max()"
   ]
  },
  {
   "cell_type": "code",
   "execution_count": null,
   "metadata": {},
   "outputs": [],
   "source": []
  }
 ],
 "metadata": {
  "kernelspec": {
   "display_name": "Python 3",
   "language": "python",
   "name": "python3"
  },
  "language_info": {
   "codemirror_mode": {
    "name": "ipython",
    "version": 3
   },
   "file_extension": ".py",
   "mimetype": "text/x-python",
   "name": "python",
   "nbconvert_exporter": "python",
   "pygments_lexer": "ipython3",
   "version": "3.7.0"
  }
 },
 "nbformat": 4,
 "nbformat_minor": 2
}

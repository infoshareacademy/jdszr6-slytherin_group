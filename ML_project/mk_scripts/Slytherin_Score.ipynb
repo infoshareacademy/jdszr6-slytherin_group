{
 "cells": [
  {
   "cell_type": "code",
   "execution_count": 1,
   "metadata": {},
   "outputs": [],
   "source": [
    "from sklearn.metrics import make_scorer"
   ]
  },
  {
   "cell_type": "code",
   "execution_count": 2,
   "metadata": {},
   "outputs": [],
   "source": [
    "def function(y_true, y_pred, discount = 0.2):\n",
    "    \n",
    "    matrix = confusion_matrix(y_true, y_pred)\n",
    "    TP = matrix[0][0]\n",
    "    FP = matrix[0][1]\n",
    "    FN = matrix[1][0]\n",
    "    TN = matrix[1][1]\n",
    "    \n",
    "    return 1 - (FN + discount*FP)/(TN + discount*TP)"
   ]
  },
  {
   "cell_type": "code",
   "execution_count": 3,
   "metadata": {},
   "outputs": [],
   "source": [
    "slytherin_score = make_scorer(function)"
   ]
  },
  {
   "cell_type": "markdown",
   "metadata": {},
   "source": [
    "### Przykładowe użycie slytherin scoringu"
   ]
  },
  {
   "cell_type": "code",
   "execution_count": 6,
   "metadata": {},
   "outputs": [],
   "source": [
    "# params_grid = {\n",
    "#     \"C\": [0.1, 0.2, 0.5, 1],\n",
    "#     \"kernel\": [\"linear\", \"poly\", \"rbf\"],\n",
    "#     \"degree\": [1, 2, 3],\n",
    "#     \"gamma\": [\"scale\", \"auto\"],\n",
    "#     \"class_weight\": [None, \"balanced\"]\n",
    "# }\n",
    "\n",
    "# gridsearch_ss = GridSearchCV(estimator = SVC(random_state=44),\n",
    "#                              param_grid = params_grid,\n",
    "#                              scoring = slytherin_score,         <===== TUTAJ!\n",
    "#                              n_jobs = -1,\n",
    "#                              verbose = 1,\n",
    "#                              cv = 5\n",
    "#                             )\n",
    "\n",
    "# gridsearch_ss.fit(X_train, y_train)"
   ]
  },
  {
   "cell_type": "code",
   "execution_count": null,
   "metadata": {},
   "outputs": [],
   "source": []
  }
 ],
 "metadata": {
  "kernelspec": {
   "display_name": "Python 3",
   "language": "python",
   "name": "python3"
  },
  "language_info": {
   "codemirror_mode": {
    "name": "ipython",
    "version": 3
   },
   "file_extension": ".py",
   "mimetype": "text/x-python",
   "name": "python",
   "nbconvert_exporter": "python",
   "pygments_lexer": "ipython3",
   "version": "3.7.0"
  }
 },
 "nbformat": 4,
 "nbformat_minor": 2
}

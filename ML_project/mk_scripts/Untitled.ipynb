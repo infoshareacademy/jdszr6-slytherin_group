{
 "cells": [
  {
   "cell_type": "code",
   "execution_count": 1,
   "metadata": {},
   "outputs": [],
   "source": [
    "import numpy as np\n",
    "import pandas as pd\n",
    "\n",
    "import matplotlib.pyplot as plt\n",
    "import seaborn as sns"
   ]
  },
  {
   "cell_type": "code",
   "execution_count": 2,
   "metadata": {},
   "outputs": [],
   "source": [
    "data =  pd.read_csv(\"WA_Fn-UseC_-Telco-Customer-Churn.csv\")"
   ]
  },
  {
   "cell_type": "code",
   "execution_count": 3,
   "metadata": {},
   "outputs": [],
   "source": [
    "def f_describe(data, column, feature):\n",
    "    \n",
    "    \"\"\"\n",
    "    f_describe - describe depending on the feature\n",
    "    \n",
    "    \"\"\"\n",
    "    \n",
    "    described_data = pd.DataFrame(index = ['count','mean', 'std', 'min', '25%', '50%', '75%', 'max'])\n",
    "    described = data[[column]].describe()\n",
    "    \n",
    "    new_name = \"{}_{}\".format(column, feature)\n",
    "    described.rename(columns = {column: new_name}, inplace = True)\n",
    "    \n",
    "    if data[feature].nunique() == 1:\n",
    "        return described\n",
    "    \n",
    "    else:\n",
    "        described_data = pd.concat([described_data, described], axis=1)\n",
    "        \n",
    "        \n",
    "        values = data[feature].unique()\n",
    "        \n",
    "        for index, value in enumerate(values):\n",
    "            new_name = \"{}_{}:{}\".format(column, feature, value)\n",
    "            described = data[data[feature] == value][[column]].describe()\n",
    "            described.rename(columns = {column: new_name}, inplace = True)\n",
    "            \n",
    "            described_data = pd.concat([described_data, described], axis=1)\n",
    "            \n",
    "        return described_data"
   ]
  },
  {
   "cell_type": "code",
   "execution_count": 4,
   "metadata": {},
   "outputs": [
    {
     "data": {
      "text/html": [
       "<div>\n",
       "<style scoped>\n",
       "    .dataframe tbody tr th:only-of-type {\n",
       "        vertical-align: middle;\n",
       "    }\n",
       "\n",
       "    .dataframe tbody tr th {\n",
       "        vertical-align: top;\n",
       "    }\n",
       "\n",
       "    .dataframe thead th {\n",
       "        text-align: right;\n",
       "    }\n",
       "</style>\n",
       "<table border=\"1\" class=\"dataframe\">\n",
       "  <thead>\n",
       "    <tr style=\"text-align: right;\">\n",
       "      <th></th>\n",
       "      <th>MonthlyCharges_Churn</th>\n",
       "      <th>MonthlyCharges_Churn:No</th>\n",
       "      <th>MonthlyCharges_Churn:Yes</th>\n",
       "    </tr>\n",
       "  </thead>\n",
       "  <tbody>\n",
       "    <tr>\n",
       "      <th>count</th>\n",
       "      <td>7043.00</td>\n",
       "      <td>5174.00</td>\n",
       "      <td>1869.00</td>\n",
       "    </tr>\n",
       "    <tr>\n",
       "      <th>mean</th>\n",
       "      <td>64.76</td>\n",
       "      <td>61.27</td>\n",
       "      <td>74.44</td>\n",
       "    </tr>\n",
       "    <tr>\n",
       "      <th>std</th>\n",
       "      <td>30.09</td>\n",
       "      <td>31.09</td>\n",
       "      <td>24.67</td>\n",
       "    </tr>\n",
       "    <tr>\n",
       "      <th>min</th>\n",
       "      <td>18.25</td>\n",
       "      <td>18.25</td>\n",
       "      <td>18.85</td>\n",
       "    </tr>\n",
       "    <tr>\n",
       "      <th>25%</th>\n",
       "      <td>35.50</td>\n",
       "      <td>25.10</td>\n",
       "      <td>56.15</td>\n",
       "    </tr>\n",
       "    <tr>\n",
       "      <th>50%</th>\n",
       "      <td>70.35</td>\n",
       "      <td>64.43</td>\n",
       "      <td>79.65</td>\n",
       "    </tr>\n",
       "    <tr>\n",
       "      <th>75%</th>\n",
       "      <td>89.85</td>\n",
       "      <td>88.40</td>\n",
       "      <td>94.20</td>\n",
       "    </tr>\n",
       "    <tr>\n",
       "      <th>max</th>\n",
       "      <td>118.75</td>\n",
       "      <td>118.75</td>\n",
       "      <td>118.35</td>\n",
       "    </tr>\n",
       "  </tbody>\n",
       "</table>\n",
       "</div>"
      ],
      "text/plain": [
       "       MonthlyCharges_Churn  MonthlyCharges_Churn:No  MonthlyCharges_Churn:Yes\n",
       "count               7043.00                  5174.00                   1869.00\n",
       "mean                  64.76                    61.27                     74.44\n",
       "std                   30.09                    31.09                     24.67\n",
       "min                   18.25                    18.25                     18.85\n",
       "25%                   35.50                    25.10                     56.15\n",
       "50%                   70.35                    64.43                     79.65\n",
       "75%                   89.85                    88.40                     94.20\n",
       "max                  118.75                   118.75                    118.35"
      ]
     },
     "execution_count": 4,
     "metadata": {},
     "output_type": "execute_result"
    }
   ],
   "source": [
    "pd.options.display.float_format = '{:.2f}'.format\n",
    "f_describe(data, \"MonthlyCharges\", \"Churn\")"
   ]
  },
  {
   "cell_type": "code",
   "execution_count": 5,
   "metadata": {},
   "outputs": [
    {
     "name": "stdout",
     "output_type": "stream",
     "text": [
      "średnia: 21.42\n",
      "mediana: 23.58\n"
     ]
    }
   ],
   "source": [
    "print(\"średnia: {}\\nmediana: {}\".format(round((74.44 / 61.31 * 100) - 100, 2), round((79.65 / 64.45 * 100) - 100, 2)))"
   ]
  },
  {
   "cell_type": "markdown",
   "metadata": {},
   "source": [
    "#### Osoby, które odeszły z Telecomu płaciły miesięcznie o 21% więcej niż pozostali względnem średniej oraz o 23.5% względem mediany."
   ]
  },
  {
   "cell_type": "code",
   "execution_count": 7,
   "metadata": {},
   "outputs": [],
   "source": [
    "data = data[data[\"TotalCharges\"] != \" \"]\n",
    "data[\"TotalCharges\"] = pd.to_numeric(data[\"TotalCharges\"], errors=\"ignore\")"
   ]
  },
  {
   "cell_type": "code",
   "execution_count": 8,
   "metadata": {},
   "outputs": [
    {
     "data": {
      "text/html": [
       "<div>\n",
       "<style scoped>\n",
       "    .dataframe tbody tr th:only-of-type {\n",
       "        vertical-align: middle;\n",
       "    }\n",
       "\n",
       "    .dataframe tbody tr th {\n",
       "        vertical-align: top;\n",
       "    }\n",
       "\n",
       "    .dataframe thead th {\n",
       "        text-align: right;\n",
       "    }\n",
       "</style>\n",
       "<table border=\"1\" class=\"dataframe\">\n",
       "  <thead>\n",
       "    <tr style=\"text-align: right;\">\n",
       "      <th></th>\n",
       "      <th>TotalCharges_Churn</th>\n",
       "      <th>TotalCharges_Churn:No</th>\n",
       "      <th>TotalCharges_Churn:Yes</th>\n",
       "    </tr>\n",
       "  </thead>\n",
       "  <tbody>\n",
       "    <tr>\n",
       "      <th>count</th>\n",
       "      <td>7032.00</td>\n",
       "      <td>5163.00</td>\n",
       "      <td>1869.00</td>\n",
       "    </tr>\n",
       "    <tr>\n",
       "      <th>mean</th>\n",
       "      <td>2283.30</td>\n",
       "      <td>2555.34</td>\n",
       "      <td>1531.80</td>\n",
       "    </tr>\n",
       "    <tr>\n",
       "      <th>std</th>\n",
       "      <td>2266.77</td>\n",
       "      <td>2329.46</td>\n",
       "      <td>1890.82</td>\n",
       "    </tr>\n",
       "    <tr>\n",
       "      <th>min</th>\n",
       "      <td>18.80</td>\n",
       "      <td>18.80</td>\n",
       "      <td>18.85</td>\n",
       "    </tr>\n",
       "    <tr>\n",
       "      <th>25%</th>\n",
       "      <td>401.45</td>\n",
       "      <td>577.83</td>\n",
       "      <td>134.50</td>\n",
       "    </tr>\n",
       "    <tr>\n",
       "      <th>50%</th>\n",
       "      <td>1397.47</td>\n",
       "      <td>1683.60</td>\n",
       "      <td>703.55</td>\n",
       "    </tr>\n",
       "    <tr>\n",
       "      <th>75%</th>\n",
       "      <td>3794.74</td>\n",
       "      <td>4264.12</td>\n",
       "      <td>2331.30</td>\n",
       "    </tr>\n",
       "    <tr>\n",
       "      <th>max</th>\n",
       "      <td>8684.80</td>\n",
       "      <td>8672.45</td>\n",
       "      <td>8684.80</td>\n",
       "    </tr>\n",
       "  </tbody>\n",
       "</table>\n",
       "</div>"
      ],
      "text/plain": [
       "       TotalCharges_Churn  TotalCharges_Churn:No  TotalCharges_Churn:Yes\n",
       "count             7032.00                5163.00                 1869.00\n",
       "mean              2283.30                2555.34                 1531.80\n",
       "std               2266.77                2329.46                 1890.82\n",
       "min                 18.80                  18.80                   18.85\n",
       "25%                401.45                 577.83                  134.50\n",
       "50%               1397.47                1683.60                  703.55\n",
       "75%               3794.74                4264.12                 2331.30\n",
       "max               8684.80                8672.45                 8684.80"
      ]
     },
     "execution_count": 8,
     "metadata": {},
     "output_type": "execute_result"
    }
   ],
   "source": [
    "pd.options.display.float_format = '{:.2f}'.format\n",
    "f_describe(data, \"TotalCharges\", \"Churn\")"
   ]
  },
  {
   "cell_type": "code",
   "execution_count": null,
   "metadata": {},
   "outputs": [],
   "source": [
    "print(\"średnia: {}\\nmediana: {}\".format(round((74.44 / 61.31 * 100) - 100, 2), round((79.65 / 64.45 * 100) - 100, 2)))"
   ]
  }
 ],
 "metadata": {
  "kernelspec": {
   "display_name": "Python 3",
   "language": "python",
   "name": "python3"
  },
  "language_info": {
   "codemirror_mode": {
    "name": "ipython",
    "version": 3
   },
   "file_extension": ".py",
   "mimetype": "text/x-python",
   "name": "python",
   "nbconvert_exporter": "python",
   "pygments_lexer": "ipython3",
   "version": "3.7.0"
  }
 },
 "nbformat": 4,
 "nbformat_minor": 2
}

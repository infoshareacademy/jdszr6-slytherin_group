{
 "cells": [
  {
   "cell_type": "markdown",
   "metadata": {},
   "source": [
    "Wybieramy temat. Może być to temat z pierwszego projektu. Jeśli pozostajemy przy tym \n",
    "samym temacie musimy znaleźć zmienną celu. \n",
    "2. Dokonujemy eksploracji zbioru. Uzupełniamy braki danych. Dokonujemy wstępnej selekcji \n",
    "zmiennych.   \n",
    "3. Dzielimy zbiór danych na treningowy testowy i w miarę możliwości na walidacyjny. \n",
    "4. Tworzymy minimum 3 modele predykcyjne (może być ich więcej) wraz z dostrojeniem \n",
    "hiperparametrów. \n",
    "5. Porównać i wybrać najlepszy model. \n",
    "6. Dokonać ostatecznej oceny wybranego modelu na zbiorze walidacyjnym. \n",
    "7. Wskazać uzysk dla firmy / odbiorcy (np. ile pieniędzy z tego będzie miała, jak wdrożenie \n",
    "wpłynie na rozpoznawalność przypadków, dla których firma wykona działania prewencyjne \n",
    "itd.) \n",
    "8. Stworzenie aplikacji wykorzystującej model \n",
    "9. Na prezentacji powinna znaleźć się krótka analiza zmiennych, omówienie wyników \n",
    "wszystkich zastosowanych technik modelowania i ich porównanie, wybór modelu i przede \n",
    "wszystkim wartość dodana jaką niesie za sobą wdrożenie\n",
    "\n",
    "4. Odejdzie  czy nie odejdzie?  – prognozowanie zjawiska churn wśród Klientów telecom  \n",
    "• Prognozowanie czy jest zagrożenie, że Klient zrezygnuje z usług firmy \n",
    "• Aplikacja dla pracowników informująca o zagrożeniu odejścia Klienta \n",
    "• https://www.kaggle.com/blastchar/telco-customer-churn \n",
    " \n"
   ]
  },
  {
   "cell_type": "code",
   "execution_count": 1,
   "metadata": {},
   "outputs": [],
   "source": [
    "#Import libraries\n",
    "import xgboost as xgb\n",
    "import pandas as pd\n",
    "import matplotlib.pyplot as plt\n",
    "import numpy as np\n",
    "import seaborn as sns\n",
    "from sklearn.feature_selection import SelectKBest,mutual_info_classif, f_classif, RFE\n",
    "from sklearn.model_selection import train_test_split, RandomizedSearchCV,GridSearchCV,validation_curve,cross_validate\n",
    "from sklearn.ensemble import RandomForestClassifier\n",
    "from sklearn.tree import DecisionTreeClassifier\n",
    "from sklearn.metrics import classification_report, accuracy_score,confusion_matrix,precision_score,recall_score,f1_score, roc_auc_score, make_scorer,roc_curve\n",
    "from sklearn.preprocessing import StandardScaler,MinMaxScaler, Normalizer, LabelEncoder,OrdinalEncoder, OneHotEncoder\n",
    "from sklearn.decomposition import PCA\n",
    "from sklearn.linear_model import LogisticRegression, SGDClassifier\n",
    "from sklearn.svm import SVC\n",
    "from sklearn.naive_bayes import GaussianNB\n",
    "from sklearn.neighbors import KNeighborsClassifier\n",
    "from scipy.stats import chi2\n",
    "from imblearn.over_sampling import SMOTE, RandomOverSampler\n",
    "from imblearn.under_sampling import RandomUnderSampler\n",
    "from sklearn.pipeline import Pipeline\n",
    "from sklearn.compose import ColumnTransformer\n",
    "\n",
    "plt.rcParams[\"figure.figsize\"] = (20,3) "
   ]
  },
  {
   "cell_type": "markdown",
   "metadata": {},
   "source": [
    "Data Import"
   ]
  },
  {
   "cell_type": "code",
   "execution_count": 2,
   "metadata": {},
   "outputs": [
    {
     "data": {
      "text/plain": [
       "Index(['customerID', 'gender', 'SeniorCitizen', 'Partner', 'Dependents',\n",
       "       'tenure', 'PhoneService', 'MultipleLines', 'InternetService',\n",
       "       'OnlineSecurity', 'OnlineBackup', 'DeviceProtection', 'TechSupport',\n",
       "       'StreamingTV', 'StreamingMovies', 'Contract', 'PaperlessBilling',\n",
       "       'PaymentMethod', 'MonthlyCharges', 'TotalCharges', 'Churn'],\n",
       "      dtype='object')"
      ]
     },
     "execution_count": 2,
     "metadata": {},
     "output_type": "execute_result"
    }
   ],
   "source": [
    "#Import data \n",
    "df=pd.read_csv('WA_Fn-UseC_-Telco-Customer-Churn.csv')\n",
    "\n",
    "#During training attempt it turned out TotalCharges has empty strings and cannot be converted to number, let's remove it. \n",
    "df['TotalCharges']=pd.to_numeric(df['TotalCharges'],errors='coerce')\n",
    "df.dropna(inplace=True)\n",
    "\n",
    "#drop customer ID as not useful\n",
    "df.drop('customerID',axis=1,inplace=True)"
   ]
  },
  {
   "cell_type": "markdown",
   "metadata": {},
   "source": [
    "Split df into X,y and into test, val, train"
   ]
  },
  {
   "cell_type": "code",
   "execution_count": 7,
   "metadata": {},
   "outputs": [
    {
     "name": "stdout",
     "output_type": "stream",
     "text": [
      "(4219, 19) (4219,) 0.2657027731689974\n",
      "(1406, 19) (1406,) 0.2496443812233286\n",
      "(1407, 19) (1407,) 0.28216062544420756\n"
     ]
    }
   ],
   "source": [
    "#Define X,y\n",
    "X=df.drop(columns='Churn')\n",
    "y=df['Churn']\n",
    "\n",
    "#Encode y\n",
    "le=LabelEncoder()\n",
    "y=le.fit_transform(y)\n",
    "\n",
    "\n",
    "#Splity X,y into train, val, test\n",
    "X_train, X_val, y_train, y_val = train_test_split(X,y,random_state=44,train_size=0.6,stratify=y)\n",
    "X_val, X_test, y_val, y_test = train_test_split(X_val, y_val, random_state=44,train_size=0.5)\n",
    "\n",
    "print(X_train.shape,y_train.shape,y_train.sum()/len(y_train))\n",
    "print(X_val.shape,y_val.shape,y_val.sum()/len(y_val))\n",
    "print(X_test.shape,y_test.shape,y_test.sum()/len(y_test))"
   ]
  },
  {
   "cell_type": "markdown",
   "metadata": {},
   "source": [
    "Pipeline definition for X transformation"
   ]
  },
  {
   "cell_type": "code",
   "execution_count": 8,
   "metadata": {},
   "outputs": [],
   "source": [
    "#Lets split features by type \n",
    "cols_num=X.select_dtypes(include=['float64','int64']).columns\n",
    "cols_cat=X.select_dtypes(include='object').columns\n",
    "\n",
    "#Lets define pipeline that will use standard scale on numerical, onehotencoder on categorical and then run randomforrest\n",
    "#lets apply standard scaler to numerical columns \n",
    "trans_num = Pipeline(steps = [\n",
    "    ('num_trans', StandardScaler())\n",
    "])\n",
    "\n",
    "#lets apply one hot encoder to categorical columns\n",
    "trans_cat = Pipeline(steps = [\n",
    "    ('cat_trans', OneHotEncoder(drop='first'))\n",
    "])\n",
    "\n",
    "# combine above transformers into preprocessor that will transform numerical by standardscaler and categoricaly by onehot\n",
    "prep_std_onehot = ColumnTransformer(transformers = [\n",
    "    ('numerical', trans_num, cols_num),\n",
    "    ('categorical', trans_cat, cols_cat)\n",
    "])\n",
    "\n",
    "#let's define pipe that will do preprocessing (standard scaler + one hot encoder) and then randomforrest\n",
    "pipe = Pipeline(steps = [\n",
    "                ('preprocessor', prep_std_onehot),\n",
    "                ('classifier', RandomForestClassifier(random_state=44,n_jobs=-1))\n",
    "            ])\n",
    "\n",
    "\n",
    "#Lets define another pipeline that will use standard scaler on numerical, ordinal encoder on categorical and then run randomforrest\n",
    "\n",
    "#lets apply ordinal encoding \n",
    "trans_cat_ordinal = Pipeline(steps = [\n",
    "    ('cat_trans', OrdinalEncoder())\n",
    "])\n",
    "\n",
    "prep_std_ordinal = ColumnTransformer(transformers = [\n",
    "    ('numerical', trans_num, cols_num),\n",
    "    ('categorical', trans_cat_ordinal, cols_cat)\n",
    "])\n",
    "\n",
    "pipe_ordinal_std = Pipeline(steps = [\n",
    "                ('preprocessor', prep_std_ordinal),\n",
    "                ('classifier', RandomForestClassifier(random_state=44,n_jobs=-1))\n",
    "            ])"
   ]
  },
  {
   "cell_type": "markdown",
   "metadata": {},
   "source": [
    "Lets evaluate pipe (standard scaler + one hot encoding). Let it be our base model. "
   ]
  },
  {
   "cell_type": "code",
   "execution_count": 40,
   "metadata": {},
   "outputs": [
    {
     "data": {
      "text/plain": [
       "'Train F1, Precision, Recall'"
      ]
     },
     "metadata": {},
     "output_type": "display_data"
    },
    {
     "data": {
      "text/plain": [
       "0.9968819599109132"
      ]
     },
     "metadata": {},
     "output_type": "display_data"
    },
    {
     "data": {
      "text/plain": [
       "0.9955516014234875"
      ]
     },
     "metadata": {},
     "output_type": "display_data"
    },
    {
     "data": {
      "text/plain": [
       "0.9982158786797503"
      ]
     },
     "metadata": {},
     "output_type": "display_data"
    },
    {
     "data": {
      "text/plain": [
       "'Val F1, Precision, Recall'"
      ]
     },
     "metadata": {},
     "output_type": "display_data"
    },
    {
     "data": {
      "text/plain": [
       "0.565008025682183"
      ]
     },
     "metadata": {},
     "output_type": "display_data"
    },
    {
     "data": {
      "text/plain": [
       "0.6470588235294118"
      ]
     },
     "metadata": {},
     "output_type": "display_data"
    },
    {
     "data": {
      "text/plain": [
       "0.5014245014245015"
      ]
     },
     "metadata": {},
     "output_type": "display_data"
    }
   ],
   "source": [
    "#Fit model\n",
    "pipe.fit(X_train,y_train)\n",
    "\n",
    "#Evaluate model\n",
    "pred_train=pipe.predict(X_train)\n",
    "pred_val=pipe.predict(X_val)\n",
    "\n",
    "display('Train F1, Precision, Recall')\n",
    "display(f1_score(y_train,pred_train))\n",
    "display(precision_score(y_train,pred_train))\n",
    "display(recall_score(y_train,pred_train))\n",
    "display('Val F1, Precision, Recall')\n",
    "display(f1_score(y_val,pred_val))\n",
    "display(precision_score(y_val,pred_val))\n",
    "display(recall_score(y_val,pred_val))"
   ]
  },
  {
   "cell_type": "markdown",
   "metadata": {},
   "source": [
    "Let's evaluate pipe ordinal (standard scaler + ordinal encoding)\n",
    "\n",
    "It's 0.0028 better on recall form based model"
   ]
  },
  {
   "cell_type": "code",
   "execution_count": 41,
   "metadata": {},
   "outputs": [
    {
     "data": {
      "text/plain": [
       "'Train F1, Precision, Recall'"
      ]
     },
     "metadata": {},
     "output_type": "display_data"
    },
    {
     "data": {
      "text/plain": [
       "0.9968819599109132"
      ]
     },
     "metadata": {},
     "output_type": "display_data"
    },
    {
     "data": {
      "text/plain": [
       "0.9955516014234875"
      ]
     },
     "metadata": {},
     "output_type": "display_data"
    },
    {
     "data": {
      "text/plain": [
       "0.9982158786797503"
      ]
     },
     "metadata": {},
     "output_type": "display_data"
    },
    {
     "data": {
      "text/plain": [
       "'Val F1, Precision, Recall'"
      ]
     },
     "metadata": {},
     "output_type": "display_data"
    },
    {
     "data": {
      "text/plain": [
       "0.5709677419354838"
      ]
     },
     "metadata": {},
     "output_type": "display_data"
    },
    {
     "data": {
      "text/plain": [
       "0.6579925650557621"
      ]
     },
     "metadata": {},
     "output_type": "display_data"
    },
    {
     "data": {
      "text/plain": [
       "0.5042735042735043"
      ]
     },
     "metadata": {},
     "output_type": "display_data"
    }
   ],
   "source": [
    "#Fit model\n",
    "pipe_ordinal_std.fit(X_train,y_train)\n",
    "\n",
    "#Evaluate model\n",
    "pred_train=pipe_ordinal_std.predict(X_train)\n",
    "pred_val=pipe_ordinal_std.predict(X_val)\n",
    "\n",
    "display('Train F1, Precision, Recall')\n",
    "display(f1_score(y_train,pred_train))\n",
    "display(precision_score(y_train,pred_train))\n",
    "display(recall_score(y_train,pred_train))\n",
    "display('Val F1, Precision, Recall')\n",
    "display(f1_score(y_val,pred_val))\n",
    "display(precision_score(y_val,pred_val))\n",
    "display(recall_score(y_val,pred_val))"
   ]
  },
  {
   "cell_type": "markdown",
   "metadata": {},
   "source": [
    "Let's find optimal parameters when using standard scaler + one hot encoding"
   ]
  },
  {
   "cell_type": "code",
   "execution_count": 11,
   "metadata": {},
   "outputs": [],
   "source": [
    "#Hyperparameters for grid search and instantiation of gridsearch\n",
    "params_grid= {\n",
    "    'classifier__max_depth': [None,3,5,7,9,10,12,14,17,20],\n",
    "    'classifier__class_weight': [None,'balanced'],\n",
    "    'classifier__max_features': [None,'auto','log2'],\n",
    "    'classifier__min_samples_leaf': [1,3,5,10,15,20]\n",
    "}\n",
    "\n",
    "search=GridSearchCV(pipe,params_grid,scoring='f1',n_jobs=-1,verbose=2)"
   ]
  },
  {
   "cell_type": "code",
   "execution_count": 12,
   "metadata": {},
   "outputs": [
    {
     "name": "stdout",
     "output_type": "stream",
     "text": [
      "Fitting 5 folds for each of 360 candidates, totalling 1800 fits\n"
     ]
    },
    {
     "data": {
      "text/plain": [
       "{'classifier__class_weight': 'balanced',\n",
       " 'classifier__max_depth': 9,\n",
       " 'classifier__max_features': 'log2',\n",
       " 'classifier__min_samples_leaf': 3}"
      ]
     },
     "execution_count": 12,
     "metadata": {},
     "output_type": "execute_result"
    }
   ],
   "source": [
    "#Find the optimal hyperparmeters\n",
    "search.fit(X_train,y_train)\n",
    "\n",
    "#print optimal paramaters\n",
    "search.best_params_"
   ]
  },
  {
   "cell_type": "markdown",
   "metadata": {},
   "source": [
    "Let's evaluate model with optimal parameters \n",
    "\n",
    "Its better 0.2421 on recall compared to base model"
   ]
  },
  {
   "cell_type": "code",
   "execution_count": 43,
   "metadata": {},
   "outputs": [
    {
     "data": {
      "text/plain": [
       "'Train F1, Precision, Recall'"
      ]
     },
     "metadata": {},
     "output_type": "display_data"
    },
    {
     "data": {
      "text/plain": [
       "0.7058380414312617"
      ]
     },
     "metadata": {},
     "output_type": "display_data"
    },
    {
     "data": {
      "text/plain": [
       "0.6108213820078227"
      ]
     },
     "metadata": {},
     "output_type": "display_data"
    },
    {
     "data": {
      "text/plain": [
       "0.8358608385370205"
      ]
     },
     "metadata": {},
     "output_type": "display_data"
    },
    {
     "data": {
      "text/plain": [
       "'Val F1, Precision, Recall'"
      ]
     },
     "metadata": {},
     "output_type": "display_data"
    },
    {
     "data": {
      "text/plain": [
       "0.6251497005988024"
      ]
     },
     "metadata": {},
     "output_type": "display_data"
    },
    {
     "data": {
      "text/plain": [
       "0.5392561983471075"
      ]
     },
     "metadata": {},
     "output_type": "display_data"
    },
    {
     "data": {
      "text/plain": [
       "0.7435897435897436"
      ]
     },
     "metadata": {},
     "output_type": "display_data"
    }
   ],
   "source": [
    "#Evaluate model\n",
    "pred_train=search.predict(X_train)\n",
    "pred_val=search.predict(X_val)\n",
    "\n",
    "display('Train F1, Precision, Recall')\n",
    "display(f1_score(y_train,pred_train))\n",
    "display(precision_score(y_train,pred_train))\n",
    "display(recall_score(y_train,pred_train))\n",
    "display('Val F1, Precision, Recall')\n",
    "display(f1_score(y_val,pred_val))\n",
    "display(precision_score(y_val,pred_val))\n",
    "display(recall_score(y_val,pred_val))"
   ]
  },
  {
   "cell_type": "markdown",
   "metadata": {},
   "source": [
    "Lets search best probability treshold and evaluate with optimal one.\n",
    "\n",
    "Its better by 0.3248 on recall than our base model\n",
    "\n"
   ]
  },
  {
   "cell_type": "code",
   "execution_count": 44,
   "metadata": {},
   "outputs": [
    {
     "name": "stdout",
     "output_type": "stream",
     "text": [
      "Best Threshold=0.423801, G-Mean=0.778\n"
     ]
    },
    {
     "data": {
      "image/png": "[encoded data removed]",
      "text/plain": [
       "<Figure size 1440x216 with 1 Axes>"
      ]
     },
     "metadata": {
      "needs_background": "light"
     },
     "output_type": "display_data"
    },
    {
     "name": "stdout",
     "output_type": "stream",
     "text": [
      "F1 score with optimal treshold 0.6270270270270271\n",
      "              precision    recall  f1-score   support\n",
      "\n",
      "           0       0.93      0.73      0.82      1055\n",
      "           1       0.51      0.83      0.63       351\n",
      "\n",
      "    accuracy                           0.75      1406\n",
      "   macro avg       0.72      0.78      0.72      1406\n",
      "weighted avg       0.82      0.75      0.77      1406\n",
      "\n"
     ]
    },
    {
     "data": {
      "text/plain": [
       "0.694614860259032"
      ]
     },
     "metadata": {},
     "output_type": "display_data"
    },
    {
     "data": {
      "text/plain": [
       "0.5620518477661335"
      ]
     },
     "metadata": {},
     "output_type": "display_data"
    },
    {
     "data": {
      "text/plain": [
       "0.9090098126672613"
      ]
     },
     "metadata": {},
     "output_type": "display_data"
    },
    {
     "data": {
      "text/plain": [
       "0.6270270270270271"
      ]
     },
     "metadata": {},
     "output_type": "display_data"
    },
    {
     "data": {
      "text/plain": [
       "0.5052264808362369"
      ]
     },
     "metadata": {},
     "output_type": "display_data"
    },
    {
     "data": {
      "text/plain": [
       "0.8262108262108262"
      ]
     },
     "metadata": {},
     "output_type": "display_data"
    }
   ],
   "source": [
    "#Let's find optimal treshold with which we can improve the model\n",
    "\n",
    "#Le'ts calc false and true positive rates depending on treshold\n",
    "fpr, tpr, thresholds = roc_curve(y_val, search.predict_proba(X_val)[:,1])\n",
    "\n",
    "#Let's find optimal treshold at which model ability to predict 0 and 1 is best balanced.\n",
    "gmeans = np.sqrt(tpr * (1-fpr))\n",
    "ix = np.argmax(gmeans)\n",
    "print('Best Threshold=%f, G-Mean=%.3f' % (thresholds[ix], gmeans[ix]))\n",
    "\n",
    "# plot the roc curve for the model\n",
    "plt.plot([0,1], [0,1], linestyle='--', label='no skill model')\n",
    "plt.plot(fpr, tpr, marker='.', linestyle='--', label='random forrest model')\n",
    "plt.scatter(fpr[ix], tpr[ix], marker='o', color='red', label='Best')\n",
    "# axis labels\n",
    "plt.xlabel('False Positive Rate')\n",
    "plt.ylabel('True Positive Rate')\n",
    "plt.legend()\n",
    "# show the plot\n",
    "plt.show()\n",
    "\n",
    "\n",
    "#let's see the result of the model with optimal treshold selected\n",
    "def to_labels(pos_probs, threshold):\n",
    "\treturn (pos_probs >= threshold).astype('int')\n",
    "\n",
    "t=0.423801\n",
    "\n",
    "prob_train=search.predict_proba(X_train)[:,1]\n",
    "prob_val=search.predict_proba(X_val)[:,1]\n",
    "\n",
    "print('F1 score with optimal treshold',f1_score(y_val,to_labels(prob_val,t)))\n",
    "print(classification_report(y_val,to_labels(prob_val,t)))\n",
    "\n",
    "'Train F1, Precision, Recall'\n",
    "display(f1_score(y_train,to_labels(prob_train,t)))\n",
    "display(precision_score(y_train,to_labels(prob_train,t)))\n",
    "display(recall_score(y_train,to_labels(prob_train,t)))\n",
    "'Val F1, Precision, Recall'\n",
    "display(f1_score(y_val,to_labels(prob_val,t)))\n",
    "display(precision_score(y_val,to_labels(prob_val,t)))\n",
    "display(recall_score(y_val,to_labels(prob_val,t)))"
   ]
  },
  {
   "cell_type": "code",
   "execution_count": 16,
   "metadata": {},
   "outputs": [
    {
     "data": {
      "text/plain": [
       "<seaborn.axisgrid.FacetGrid at 0x1f59d3b1a30>"
      ]
     },
     "execution_count": 16,
     "metadata": {},
     "output_type": "execute_result"
    },
    {
     "data": {
      "image/png": "[encoded data removed]",
      "text/plain": [
       "<Figure size 909x360 with 2 Axes>"
      ]
     },
     "metadata": {
      "needs_background": "light"
     },
     "output_type": "display_data"
    }
   ],
   "source": [
    "#Lets visualize Gridsearh results\n",
    "results=pd.DataFrame(search.cv_results_)\n",
    "\n",
    "#Shows f1 score depending on max depth (y_axis) and min_samples_leaf(color). This needs loop to split other dimension (i.e. max_features, class_weight)\n",
    "sns.catplot(data=results, x='mean_test_score', y='param_classifier__max_depth',hue='param_classifier__min_samples_leaf',kind=\"box\",col=\"param_classifier__max_features\")\n",
    "\n",
    "# sns.lineplot(data=results,x='param_classifier__max_depth',y='mean_test_score')\n",
    "\n",
    "# sns.relplot(\n",
    "#     data=results,x='param_classifier__max_depth', y='mean_test_score',\n",
    "#     col='param_classifier__max_features',\n",
    "#     kind=\"line\"\n",
    "# )"
   ]
  },
  {
   "cell_type": "markdown",
   "metadata": {},
   "source": [
    "Lets try using undersampling "
   ]
  },
  {
   "cell_type": "code",
   "execution_count": 29,
   "metadata": {},
   "outputs": [],
   "source": [
    "# define model\n",
    "model = RandomForestClassifier(random_state=44,n_jobs=-1)\n",
    "# define resampling\n",
    "under = RandomUnderSampler(sampling_strategy=0.5)\n",
    "\n",
    "from imblearn.pipeline import Pipeline as imbPipeline\n",
    "# define pipeline\n",
    "pipeline = imbPipeline(steps=[('u', under), ('classifier', model)])"
   ]
  },
  {
   "cell_type": "markdown",
   "metadata": {},
   "source": [
    "Lets train and evaluate our model\n",
    "\n",
    "Its 0.1624 better on recall than our base model"
   ]
  },
  {
   "cell_type": "code",
   "execution_count": 34,
   "metadata": {},
   "outputs": [
    {
     "data": {
      "text/plain": [
       "0.9306766293067662"
      ]
     },
     "metadata": {},
     "output_type": "display_data"
    },
    {
     "data": {
      "text/plain": [
       "0.8703416149068323"
      ]
     },
     "metadata": {},
     "output_type": "display_data"
    },
    {
     "data": {
      "text/plain": [
       "1.0"
      ]
     },
     "metadata": {},
     "output_type": "display_data"
    },
    {
     "data": {
      "text/plain": [
       "0.5969387755102041"
      ]
     },
     "metadata": {},
     "output_type": "display_data"
    },
    {
     "data": {
      "text/plain": [
       "0.5404157043879908"
      ]
     },
     "metadata": {},
     "output_type": "display_data"
    },
    {
     "data": {
      "text/plain": [
       "0.6666666666666666"
      ]
     },
     "metadata": {},
     "output_type": "display_data"
    }
   ],
   "source": [
    "\n",
    "pipeline.fit(prep_std_onehot.fit_transform(X_train),y_train)\n",
    "\n",
    "prob_train=pipeline.predict_proba(prep_std_onehot.fit_transform(X_train))[:,1]\n",
    "prob_val=pipeline.predict_proba(prep_std_onehot.transform(X_val))[:,1]\n",
    "\n",
    "'Train F1, Precision, Recall'\n",
    "display(f1_score(y_train,to_labels(prob_train,t)))\n",
    "display(precision_score(y_train,to_labels(prob_train,t)))\n",
    "display(recall_score(y_train,to_labels(prob_train,t)))\n",
    "'Val F1, Precision, Recall'\n",
    "display(f1_score(y_val,to_labels(prob_val,t)))\n",
    "display(precision_score(y_val,to_labels(prob_val,t)))\n",
    "display(recall_score(y_val,to_labels(prob_val,t)))\n"
   ]
  },
  {
   "cell_type": "markdown",
   "metadata": {},
   "source": [
    "Lets find optimal hyperparameters on undersampled pipeline"
   ]
  },
  {
   "cell_type": "code",
   "execution_count": 31,
   "metadata": {},
   "outputs": [],
   "source": [
    "params_grid= {\n",
    "    'classifier__max_depth': [None,3,5,7,9,10,12,14,17,20],\n",
    "    'classifier__class_weight': [None,'balanced'],\n",
    "    'classifier__max_features': [None,'auto','log2'],\n",
    "    'classifier__min_samples_leaf': [1,3,5,10,15,20]\n",
    "}\n",
    "\n",
    "search_sampled=GridSearchCV(pipeline,params_grid,scoring='f1',n_jobs=-1,verbose=2)"
   ]
  },
  {
   "cell_type": "code",
   "execution_count": 32,
   "metadata": {},
   "outputs": [
    {
     "name": "stdout",
     "output_type": "stream",
     "text": [
      "Fitting 5 folds for each of 360 candidates, totalling 1800 fits\n"
     ]
    },
    {
     "data": {
      "text/plain": [
       "GridSearchCV(estimator=Pipeline(steps=[('u',\n",
       "                                        RandomUnderSampler(sampling_strategy=0.5)),\n",
       "                                       ('classifier',\n",
       "                                        RandomForestClassifier(n_jobs=-1,\n",
       "                                                               random_state=44))]),\n",
       "             n_jobs=-1,\n",
       "             param_grid={'classifier__class_weight': [None, 'balanced'],\n",
       "                         'classifier__max_depth': [None, 3, 5, 7, 9, 10, 12, 14,\n",
       "                                                   17, 20],\n",
       "                         'classifier__max_features': [None, 'auto', 'log2'],\n",
       "                         'classifier__min_samples_leaf': [1, 3, 5, 10, 15, 20]},\n",
       "             scoring='f1', verbose=2)"
      ]
     },
     "execution_count": 32,
     "metadata": {},
     "output_type": "execute_result"
    }
   ],
   "source": [
    "search_sampled.fit(prep_std_onehot.fit_transform(X_train),y_train)\n",
    "\n",
    "search_sampled.best_params_"
   ]
  },
  {
   "cell_type": "markdown",
   "metadata": {},
   "source": [
    "Let's evaluate model with optimal hyperparameters\n",
    "\n",
    "Its better on recall by 0.3590\n",
    "\n"
   ]
  },
  {
   "cell_type": "code",
   "execution_count": 35,
   "metadata": {},
   "outputs": [
    {
     "data": {
      "text/plain": [
       "0.6471163245356795"
      ]
     },
     "metadata": {},
     "output_type": "display_data"
    },
    {
     "data": {
      "text/plain": [
       "0.5097535934291582"
      ]
     },
     "metadata": {},
     "output_type": "display_data"
    },
    {
     "data": {
      "text/plain": [
       "0.8858162355040142"
      ]
     },
     "metadata": {},
     "output_type": "display_data"
    },
    {
     "data": {
      "text/plain": [
       "0.6209016393442623"
      ]
     },
     "metadata": {},
     "output_type": "display_data"
    },
    {
     "data": {
      "text/plain": [
       "0.4848"
      ]
     },
     "metadata": {},
     "output_type": "display_data"
    },
    {
     "data": {
      "text/plain": [
       "0.8632478632478633"
      ]
     },
     "metadata": {},
     "output_type": "display_data"
    }
   ],
   "source": [
    "prob_train=search_sampled.predict_proba(prep_std_onehot.fit_transform(X_train))[:,1]\n",
    "prob_val=search_sampled.predict_proba(prep_std_onehot.transform(X_val))[:,1]\n",
    "\n",
    "'Train F1, Precision, Recall'\n",
    "display(f1_score(y_train,to_labels(prob_train,t)))\n",
    "display(precision_score(y_train,to_labels(prob_train,t)))\n",
    "display(recall_score(y_train,to_labels(prob_train,t)))\n",
    "'Val F1, Precision, Recall'\n",
    "display(f1_score(y_val,to_labels(prob_val,t)))\n",
    "display(precision_score(y_val,to_labels(prob_val,t)))\n",
    "display(recall_score(y_val,to_labels(prob_val,t)))"
   ]
  },
  {
   "cell_type": "markdown",
   "metadata": {},
   "source": [
    "Let's find optimal treshold for the undersampled & tuned model\n",
    "\n",
    "Its 0.3391 better on recall than base model"
   ]
  },
  {
   "cell_type": "code",
   "execution_count": 38,
   "metadata": {},
   "outputs": [
    {
     "name": "stdout",
     "output_type": "stream",
     "text": [
      "Best Threshold=0.450807, G-Mean=0.781\n"
     ]
    },
    {
     "data": {
      "image/png": "[encoded data removed]",
      "text/plain": [
       "<Figure size 1440x216 with 1 Axes>"
      ]
     },
     "metadata": {
      "needs_background": "light"
     },
     "output_type": "display_data"
    },
    {
     "name": "stdout",
     "output_type": "stream",
     "text": [
      "F1 score with optimal treshold 0.630457933972311\n",
      "              precision    recall  f1-score   support\n",
      "\n",
      "           0       0.93      0.72      0.81      1055\n",
      "           1       0.50      0.84      0.63       351\n",
      "\n",
      "    accuracy                           0.75      1406\n",
      "   macro avg       0.72      0.78      0.72      1406\n",
      "weighted avg       0.83      0.75      0.77      1406\n",
      "\n"
     ]
    },
    {
     "data": {
      "text/plain": [
       "0.6551373346897253"
      ]
     },
     "metadata": {},
     "output_type": "display_data"
    },
    {
     "data": {
      "text/plain": [
       "0.5284463894967177"
      ]
     },
     "metadata": {},
     "output_type": "display_data"
    },
    {
     "data": {
      "text/plain": [
       "0.8617305976806423"
      ]
     },
     "metadata": {},
     "output_type": "display_data"
    },
    {
     "data": {
      "text/plain": [
       "0.630457933972311"
      ]
     },
     "metadata": {},
     "output_type": "display_data"
    },
    {
     "data": {
      "text/plain": [
       "0.5034013605442177"
      ]
     },
     "metadata": {},
     "output_type": "display_data"
    },
    {
     "data": {
      "text/plain": [
       "0.8433048433048433"
      ]
     },
     "metadata": {},
     "output_type": "display_data"
    }
   ],
   "source": [
    "#Let's find optimal treshold with which we can improve the model\n",
    "\n",
    "#Le'ts calc false and true positive rates depending on treshold\n",
    "fpr, tpr, thresholds = roc_curve(y_val, search_sampled.predict_proba(prep_std_onehot.transform(X_val))[:,1])\n",
    "\n",
    "#Let's find optimal treshold at which model ability to predict 0 and 1 is best balanced.\n",
    "gmeans = np.sqrt(tpr * (1-fpr))\n",
    "ix = np.argmax(gmeans)\n",
    "print('Best Threshold=%f, G-Mean=%.3f' % (thresholds[ix], gmeans[ix]))\n",
    "\n",
    "# plot the roc curve for the model\n",
    "plt.plot([0,1], [0,1], linestyle='--', label='no skill model')\n",
    "plt.plot(fpr, tpr, marker='.', linestyle='--', label='random forrest model')\n",
    "plt.scatter(fpr[ix], tpr[ix], marker='o', color='red', label='Best')\n",
    "# axis labels\n",
    "plt.xlabel('False Positive Rate')\n",
    "plt.ylabel('True Positive Rate')\n",
    "plt.legend()\n",
    "# show the plot\n",
    "plt.show()\n",
    "\n",
    "\n",
    "#let's see the result of the model with optimal treshold selected\n",
    "def to_labels(pos_probs, threshold):\n",
    "\treturn (pos_probs >= threshold).astype('int')\n",
    "\n",
    "t=0.450807\n",
    "print('F1 score with optimal treshold',f1_score(y_val,to_labels(prob_val,t)))\n",
    "print(classification_report(y_val,to_labels(prob_val,t)))\n",
    "\n",
    "prob_train=search_sampled.predict_proba(prep_std_onehot.fit_transform(X_train))[:,1]\n",
    "prob_val=search_sampled.predict_proba(prep_std_onehot.transform(X_val))[:,1]\n",
    "\n",
    "'Train F1, Precision, Recall'\n",
    "display(f1_score(y_train,to_labels(prob_train,t)))\n",
    "display(precision_score(y_train,to_labels(prob_train,t)))\n",
    "display(recall_score(y_train,to_labels(prob_train,t)))\n",
    "'Val F1, Precision, Recall'\n",
    "display(f1_score(y_val,to_labels(prob_val,t)))\n",
    "display(precision_score(y_val,to_labels(prob_val,t)))\n",
    "display(recall_score(y_val,to_labels(prob_val,t)))"
   ]
  },
  {
   "cell_type": "markdown",
   "metadata": {},
   "source": [
    "#Lets try finding best hyperparmeters on ordinally encoded X (standards scaler + ordinal)"
   ]
  },
  {
   "cell_type": "code",
   "execution_count": 34,
   "metadata": {},
   "outputs": [],
   "source": [
    "#Hyperparameters for grid search and instantiation of gridsearch\n",
    "params_grid= {\n",
    "    'classifier__max_depth': [None,3,5,7,9,10,12,14,17,20],\n",
    "    'classifier__class_weight': [None,'balanced'],\n",
    "    'classifier__max_features': [None,'auto','log2'],\n",
    "    'classifier__min_samples_leaf': [1,3,5,10,15,20]\n",
    "}\n",
    "\n",
    "search_ordinal=GridSearchCV(pipe_ordinal_std,params_grid,scoring='f1',n_jobs=-1,verbose=2)"
   ]
  },
  {
   "cell_type": "code",
   "execution_count": 35,
   "metadata": {},
   "outputs": [
    {
     "name": "stdout",
     "output_type": "stream",
     "text": [
      "Fitting 5 folds for each of 360 candidates, totalling 1800 fits\n"
     ]
    },
    {
     "data": {
      "text/plain": [
       "{'classifier__class_weight': 'balanced',\n",
       " 'classifier__max_depth': 7,\n",
       " 'classifier__max_features': 'auto',\n",
       " 'classifier__min_samples_leaf': 10}"
      ]
     },
     "execution_count": 35,
     "metadata": {},
     "output_type": "execute_result"
    }
   ],
   "source": [
    "#Find the optimal hyperparmeters\n",
    "search_ordinal.fit(X_train,y_train)\n",
    "\n",
    "#print optimal paramaters\n",
    "search_ordinal.best_params_"
   ]
  },
  {
   "cell_type": "markdown",
   "metadata": {},
   "source": [
    "Let's evaluate the model\n",
    "\n",
    "Its 0.3391  better than base model"
   ]
  },
  {
   "cell_type": "code",
   "execution_count": 36,
   "metadata": {},
   "outputs": [
    {
     "data": {
      "text/plain": [
       "0.6767193821257815"
      ]
     },
     "metadata": {},
     "output_type": "display_data"
    },
    {
     "data": {
      "text/plain": [
       "0.5757196495619524"
      ]
     },
     "metadata": {},
     "output_type": "display_data"
    },
    {
     "data": {
      "text/plain": [
       "0.8206958073148974"
      ]
     },
     "metadata": {},
     "output_type": "display_data"
    },
    {
     "data": {
      "text/plain": [
       "0.6373117033603708"
      ]
     },
     "metadata": {},
     "output_type": "display_data"
    },
    {
     "data": {
      "text/plain": [
       "0.537109375"
      ]
     },
     "metadata": {},
     "output_type": "display_data"
    },
    {
     "data": {
      "text/plain": [
       "0.7834757834757835"
      ]
     },
     "metadata": {},
     "output_type": "display_data"
    }
   ],
   "source": [
    "#See the precision, recall & f1 score for train and val with optimal hyperparameters\n",
    "'Train F1, Precision, Recall'\n",
    "display(f1_score(y_train,search_ordinal.predict(X_train)))\n",
    "display(precision_score(y_train,search_ordinal.predict(X_train)))\n",
    "display(recall_score(y_train,search_ordinal.predict(X_train)))\n",
    "'Val F1, Precision, Recall'\n",
    "display(f1_score(y_val,search_ordinal.predict(X_val)))\n",
    "display(precision_score(y_val,search_ordinal.predict(X_val)))\n",
    "display(recall_score(y_val,search_ordinal.predict(X_val)))"
   ]
  },
  {
   "cell_type": "code",
   "execution_count": 38,
   "metadata": {},
   "outputs": [
    {
     "name": "stdout",
     "output_type": "stream",
     "text": [
      "Best Threshold=0.475367, G-Mean=0.781\n"
     ]
    },
    {
     "data": {
      "image/png": "[encoded data removed]",
      "text/plain": [
       "<Figure size 1440x216 with 1 Axes>"
      ]
     },
     "metadata": {
      "needs_background": "light"
     },
     "output_type": "display_data"
    },
    {
     "name": "stdout",
     "output_type": "stream",
     "text": [
      "F1 score with optimal treshold 0.6344206974128234\n",
      "              precision    recall  f1-score   support\n",
      "\n",
      "           0       0.92      0.76      0.83      1055\n",
      "           1       0.52      0.80      0.63       351\n",
      "\n",
      "    accuracy                           0.77      1406\n",
      "   macro avg       0.72      0.78      0.73      1406\n",
      "weighted avg       0.82      0.77      0.78      1406\n",
      "\n"
     ]
    },
    {
     "data": {
      "text/plain": [
       "0.6723525230987918"
      ]
     },
     "metadata": {},
     "output_type": "display_data"
    },
    {
     "data": {
      "text/plain": [
       "0.5587714116952156"
      ]
     },
     "metadata": {},
     "output_type": "display_data"
    },
    {
     "data": {
      "text/plain": [
       "0.8438893844781445"
      ]
     },
     "metadata": {},
     "output_type": "display_data"
    },
    {
     "data": {
      "text/plain": [
       "0.6344206974128234"
      ]
     },
     "metadata": {},
     "output_type": "display_data"
    },
    {
     "data": {
      "text/plain": [
       "0.5241635687732342"
      ]
     },
     "metadata": {},
     "output_type": "display_data"
    },
    {
     "data": {
      "text/plain": [
       "0.8034188034188035"
      ]
     },
     "metadata": {},
     "output_type": "display_data"
    }
   ],
   "source": [
    "#Let's find optimal treshold with which we can improve the model\n",
    "\n",
    "#Le'ts calc false and true positive rates depending on treshold\n",
    "fpr, tpr, thresholds = roc_curve(y_val, search_ordinal.predict_proba(X_val)[:,1])\n",
    "\n",
    "#Let's find optimal treshold at which model ability to predict 0 and 1 is best balanced.\n",
    "gmeans = np.sqrt(tpr * (1-fpr))\n",
    "ix = np.argmax(gmeans)\n",
    "print('Best Threshold=%f, G-Mean=%.3f' % (thresholds[ix], gmeans[ix]))\n",
    "\n",
    "# plot the roc curve for the model\n",
    "plt.plot([0,1], [0,1], linestyle='--', label='no skill model')\n",
    "plt.plot(fpr, tpr, marker='.', linestyle='--', label='random forrest model')\n",
    "plt.scatter(fpr[ix], tpr[ix], marker='o', color='red', label='Best')\n",
    "# axis labels\n",
    "plt.xlabel('False Positive Rate')\n",
    "plt.ylabel('True Positive Rate')\n",
    "plt.legend()\n",
    "# show the plot\n",
    "plt.show()\n",
    "\n",
    "\n",
    "#let's see the result of the model with optimal treshold selected\n",
    "def to_labels(pos_probs, threshold):\n",
    "\treturn (pos_probs >= threshold).astype('int')\n",
    "\n",
    "t=0.475367\n",
    "print('F1 score with optimal treshold',f1_score(y_val,to_labels(search_ordinal.predict_proba(X_val)[:,1],t)))\n",
    "print(classification_report(y_val,to_labels(search_ordinal.predict_proba(X_val)[:,1],t)))\n",
    "\n",
    "'Train F1, Precision, Recall'\n",
    "display(f1_score(y_train,to_labels(search_ordinal.predict_proba(X_train)[:,1],t)))\n",
    "display(precision_score(y_train,to_labels(search_ordinal.predict_proba(X_train)[:,1],t)))\n",
    "display(recall_score(y_train,to_labels(search_ordinal.predict_proba(X_train)[:,1],t)))\n",
    "'Val F1, Precision, Recall'\n",
    "display(f1_score(y_val,to_labels(search_ordinal.predict_proba(X_val)[:,1],t)))\n",
    "display(precision_score(y_val,to_labels(search_ordinal.predict_proba(X_val)[:,1],t)))\n",
    "display(recall_score(y_val,to_labels(search_ordinal.predict_proba(X_val)[:,1],t)))"
   ]
  }
 ],
 "metadata": {
  "interpreter": {
   "hash": "f08154012ddadd8e950e6e9e035c7a7b32c136e7647e9b7c77e02eb723a8bedb"
  },
  "kernelspec": {
   "display_name": "Python 3.9.7 ('base')",
   "language": "python",
   "name": "python3"
  },
  "language_info": {
   "codemirror_mode": {
    "name": "ipython",
    "version": 3
   },
   "file_extension": ".py",
   "mimetype": "text/x-python",
   "name": "python",
   "nbconvert_exporter": "python",
   "pygments_lexer": "ipython3",
   "version": "3.9.7"
  },
  "orig_nbformat": 4
 },
 "nbformat": 4,
 "nbformat_minor": 2
}

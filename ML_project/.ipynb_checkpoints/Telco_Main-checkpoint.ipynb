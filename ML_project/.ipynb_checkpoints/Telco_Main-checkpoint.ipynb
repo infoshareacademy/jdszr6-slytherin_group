{
 "cells": [
  {
   "cell_type": "markdown",
   "metadata": {},
   "source": [
    "Wybieramy temat. Może być to temat z pierwszego projektu. Jeśli pozostajemy przy tym \n",
    "samym temacie musimy znaleźć zmienną celu. \n",
    "2. Dokonujemy eksploracji zbioru. Uzupełniamy braki danych. Dokonujemy wstępnej selekcji \n",
    "zmiennych.   \n",
    "3. Dzielimy zbiór danych na treningowy testowy i w miarę możliwości na walidacyjny. \n",
    "4. Tworzymy minimum 3 modele predykcyjne (może być ich więcej) wraz z dostrojeniem \n",
    "hiperparametrów. \n",
    "5. Porównać i wybrać najlepszy model. \n",
    "6. Dokonać ostatecznej oceny wybranego modelu na zbiorze walidacyjnym. \n",
    "7. Wskazać uzysk dla firmy / odbiorcy (np. ile pieniędzy z tego będzie miała, jak wdrożenie \n",
    "wpłynie na rozpoznawalność przypadków, dla których firma wykona działania prewencyjne \n",
    "itd.) \n",
    "8. Stworzenie aplikacji wykorzystującej model \n",
    "9. Na prezentacji powinna znaleźć się krótka analiza zmiennych, omówienie wyników \n",
    "wszystkich zastosowanych technik modelowania i ich porównanie, wybór modelu i przede \n",
    "wszystkim wartość dodana jaką niesie za sobą wdrożenie\n",
    "\n",
    "4. Odejdzie  czy nie odejdzie?  – prognozowanie zjawiska churn wśród Klientów telecom  \n",
    "• Prognozowanie czy jest zagrożenie, że Klient zrezygnuje z usług firmy \n",
    "• Aplikacja dla pracowników informująca o zagrożeniu odejścia Klienta \n",
    "• https://www.kaggle.com/blastchar/telco-customer-churn \n",
    " \n"
   ]
  }
 ],
 "metadata": {
  "kernelspec": {
   "display_name": "Python 3",
   "language": "python",
   "name": "python3"
  },
  "language_info": {
   "codemirror_mode": {
    "name": "ipython",
    "version": 3
   },
   "file_extension": ".py",
   "mimetype": "text/x-python",
   "name": "python",
   "nbconvert_exporter": "python",
   "pygments_lexer": "ipython3",
   "version": "3.7.4"
  }
 },
 "nbformat": 4,
 "nbformat_minor": 2
}

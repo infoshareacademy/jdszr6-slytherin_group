{
 "cells": [
  {
   "cell_type": "markdown",
   "metadata": {},
   "source": [
    "# SVM"
   ]
  },
  {
   "cell_type": "code",
   "execution_count": 60,
   "metadata": {},
   "outputs": [],
   "source": [
    "import pandas as pd\n",
    "import matplotlib.pyplot as plt\n",
    "import seaborn as sns\n",
    "from sklearn.preprocessing import MinMaxScaler, StandardScaler, LabelEncoder\n"
   ]
  },
  {
   "cell_type": "markdown",
   "metadata": {},
   "source": [
    "### Prepering data"
   ]
  },
  {
   "cell_type": "code",
   "execution_count": 61,
   "metadata": {},
   "outputs": [],
   "source": [
    "df = pd.read_csv(\"WA_Fn-UseC_-Telco-Customer-Churn.csv\")"
   ]
  },
  {
   "cell_type": "code",
   "execution_count": 62,
   "metadata": {},
   "outputs": [],
   "source": [
    "df[\"TotalCharges\"] = pd.to_numeric(df[\"TotalCharges\"],errors=\"coerce\")"
   ]
  },
  {
   "cell_type": "code",
   "execution_count": 63,
   "metadata": {},
   "outputs": [],
   "source": [
    "df.dropna(inplace=True)"
   ]
  },
  {
   "cell_type": "code",
   "execution_count": 64,
   "metadata": {},
   "outputs": [],
   "source": [
    "df_d = df.drop(\"customerID\", axis = 1)"
   ]
  },
  {
   "cell_type": "code",
   "execution_count": 65,
   "metadata": {},
   "outputs": [],
   "source": [
    "df_d['Churn'].replace(to_replace='Yes', value=1, inplace=True)\n",
    "df_d['Churn'].replace(to_replace='No',  value=0, inplace=True)"
   ]
  },
  {
   "cell_type": "markdown",
   "metadata": {},
   "source": [
    "#### Skalowanie"
   ]
  },
  {
   "cell_type": "code",
   "execution_count": 66,
   "metadata": {},
   "outputs": [
    {
     "data": {
      "text/plain": [
       "Index(['gender', 'SeniorCitizen', 'Partner', 'Dependents', 'tenure',\n",
       "       'PhoneService', 'MultipleLines', 'InternetService', 'OnlineSecurity',\n",
       "       'OnlineBackup', 'DeviceProtection', 'TechSupport', 'StreamingTV',\n",
       "       'StreamingMovies', 'Contract', 'PaperlessBilling', 'PaymentMethod',\n",
       "       'MonthlyCharges', 'TotalCharges', 'Churn'],\n",
       "      dtype='object')"
      ]
     },
     "execution_count": 66,
     "metadata": {},
     "output_type": "execute_result"
    }
   ],
   "source": [
    "df_d.columns"
   ]
  },
  {
   "cell_type": "code",
   "execution_count": 67,
   "metadata": {},
   "outputs": [],
   "source": [
    "def apply_scalers(df, columns_to_exclude=None):\n",
    "    if columns_to_exclude:\n",
    "        exclude_filter = ~df.columns.isin(columns_to_exclude) \n",
    "    else:\n",
    "        exclude_filter = ~df.columns.isin([]) \n",
    "    for column in df.iloc[:, exclude_filter].columns:\n",
    "        df[column] = df[column].astype(float)\n",
    " \n",
    "    df.loc[:, exclude_filter] = StandardScaler().fit_transform(df.loc[:, exclude_filter])\n",
    "    return df\n",
    " \n",
    "df_d = apply_scalers(df_d, columns_to_exclude=['gender', 'SeniorCitizen', 'Partner', 'Dependents',\n",
    "       'PhoneService', 'MultipleLines', 'InternetService', 'OnlineSecurity',\n",
    "       'OnlineBackup', 'DeviceProtection', 'TechSupport', 'StreamingTV',\n",
    "       'StreamingMovies', 'Contract', 'PaperlessBilling', 'PaymentMethod', 'Churn'])"
   ]
  },
  {
   "cell_type": "markdown",
   "metadata": {},
   "source": [
    "#### Dumifikacja"
   ]
  },
  {
   "cell_type": "code",
   "execution_count": 68,
   "metadata": {},
   "outputs": [],
   "source": [
    "dummies_df = pd.get_dummies(df_d)"
   ]
  },
  {
   "cell_type": "code",
   "execution_count": 69,
   "metadata": {},
   "outputs": [
    {
     "data": {
      "text/html": [
       "<div>\n",
       "<style scoped>\n",
       "    .dataframe tbody tr th:only-of-type {\n",
       "        vertical-align: middle;\n",
       "    }\n",
       "\n",
       "    .dataframe tbody tr th {\n",
       "        vertical-align: top;\n",
       "    }\n",
       "\n",
       "    .dataframe thead th {\n",
       "        text-align: right;\n",
       "    }\n",
       "</style>\n",
       "<table border=\"1\" class=\"dataframe\">\n",
       "  <thead>\n",
       "    <tr style=\"text-align: right;\">\n",
       "      <th></th>\n",
       "      <th>SeniorCitizen</th>\n",
       "      <th>tenure</th>\n",
       "      <th>MonthlyCharges</th>\n",
       "      <th>TotalCharges</th>\n",
       "      <th>Churn</th>\n",
       "      <th>gender_Female</th>\n",
       "      <th>gender_Male</th>\n",
       "      <th>Partner_No</th>\n",
       "      <th>Partner_Yes</th>\n",
       "      <th>Dependents_No</th>\n",
       "      <th>...</th>\n",
       "      <th>StreamingMovies_Yes</th>\n",
       "      <th>Contract_Month-to-month</th>\n",
       "      <th>Contract_One year</th>\n",
       "      <th>Contract_Two year</th>\n",
       "      <th>PaperlessBilling_No</th>\n",
       "      <th>PaperlessBilling_Yes</th>\n",
       "      <th>PaymentMethod_Bank transfer (automatic)</th>\n",
       "      <th>PaymentMethod_Credit card (automatic)</th>\n",
       "      <th>PaymentMethod_Electronic check</th>\n",
       "      <th>PaymentMethod_Mailed check</th>\n",
       "    </tr>\n",
       "  </thead>\n",
       "  <tbody>\n",
       "    <tr>\n",
       "      <th>0</th>\n",
       "      <td>0</td>\n",
       "      <td>-1.280248</td>\n",
       "      <td>-1.161694</td>\n",
       "      <td>-0.994194</td>\n",
       "      <td>0</td>\n",
       "      <td>1</td>\n",
       "      <td>0</td>\n",
       "      <td>0</td>\n",
       "      <td>1</td>\n",
       "      <td>1</td>\n",
       "      <td>...</td>\n",
       "      <td>0</td>\n",
       "      <td>1</td>\n",
       "      <td>0</td>\n",
       "      <td>0</td>\n",
       "      <td>0</td>\n",
       "      <td>1</td>\n",
       "      <td>0</td>\n",
       "      <td>0</td>\n",
       "      <td>1</td>\n",
       "      <td>0</td>\n",
       "    </tr>\n",
       "    <tr>\n",
       "      <th>1</th>\n",
       "      <td>0</td>\n",
       "      <td>0.064303</td>\n",
       "      <td>-0.260878</td>\n",
       "      <td>-0.173740</td>\n",
       "      <td>0</td>\n",
       "      <td>0</td>\n",
       "      <td>1</td>\n",
       "      <td>1</td>\n",
       "      <td>0</td>\n",
       "      <td>1</td>\n",
       "      <td>...</td>\n",
       "      <td>0</td>\n",
       "      <td>0</td>\n",
       "      <td>1</td>\n",
       "      <td>0</td>\n",
       "      <td>1</td>\n",
       "      <td>0</td>\n",
       "      <td>0</td>\n",
       "      <td>0</td>\n",
       "      <td>0</td>\n",
       "      <td>1</td>\n",
       "    </tr>\n",
       "    <tr>\n",
       "      <th>2</th>\n",
       "      <td>0</td>\n",
       "      <td>-1.239504</td>\n",
       "      <td>-0.363923</td>\n",
       "      <td>-0.959649</td>\n",
       "      <td>1</td>\n",
       "      <td>0</td>\n",
       "      <td>1</td>\n",
       "      <td>1</td>\n",
       "      <td>0</td>\n",
       "      <td>1</td>\n",
       "      <td>...</td>\n",
       "      <td>0</td>\n",
       "      <td>1</td>\n",
       "      <td>0</td>\n",
       "      <td>0</td>\n",
       "      <td>0</td>\n",
       "      <td>1</td>\n",
       "      <td>0</td>\n",
       "      <td>0</td>\n",
       "      <td>0</td>\n",
       "      <td>1</td>\n",
       "    </tr>\n",
       "    <tr>\n",
       "      <th>3</th>\n",
       "      <td>0</td>\n",
       "      <td>0.512486</td>\n",
       "      <td>-0.747850</td>\n",
       "      <td>-0.195248</td>\n",
       "      <td>0</td>\n",
       "      <td>0</td>\n",
       "      <td>1</td>\n",
       "      <td>1</td>\n",
       "      <td>0</td>\n",
       "      <td>1</td>\n",
       "      <td>...</td>\n",
       "      <td>0</td>\n",
       "      <td>0</td>\n",
       "      <td>1</td>\n",
       "      <td>0</td>\n",
       "      <td>1</td>\n",
       "      <td>0</td>\n",
       "      <td>1</td>\n",
       "      <td>0</td>\n",
       "      <td>0</td>\n",
       "      <td>0</td>\n",
       "    </tr>\n",
       "    <tr>\n",
       "      <th>4</th>\n",
       "      <td>0</td>\n",
       "      <td>-1.239504</td>\n",
       "      <td>0.196178</td>\n",
       "      <td>-0.940457</td>\n",
       "      <td>1</td>\n",
       "      <td>1</td>\n",
       "      <td>0</td>\n",
       "      <td>1</td>\n",
       "      <td>0</td>\n",
       "      <td>1</td>\n",
       "      <td>...</td>\n",
       "      <td>0</td>\n",
       "      <td>1</td>\n",
       "      <td>0</td>\n",
       "      <td>0</td>\n",
       "      <td>0</td>\n",
       "      <td>1</td>\n",
       "      <td>0</td>\n",
       "      <td>0</td>\n",
       "      <td>1</td>\n",
       "      <td>0</td>\n",
       "    </tr>\n",
       "  </tbody>\n",
       "</table>\n",
       "<p>5 rows × 46 columns</p>\n",
       "</div>"
      ],
      "text/plain": [
       "   SeniorCitizen    tenure  MonthlyCharges  TotalCharges  Churn  \\\n",
       "0              0 -1.280248       -1.161694     -0.994194      0   \n",
       "1              0  0.064303       -0.260878     -0.173740      0   \n",
       "2              0 -1.239504       -0.363923     -0.959649      1   \n",
       "3              0  0.512486       -0.747850     -0.195248      0   \n",
       "4              0 -1.239504        0.196178     -0.940457      1   \n",
       "\n",
       "   gender_Female  gender_Male  Partner_No  Partner_Yes  Dependents_No  ...  \\\n",
       "0              1            0           0            1              1  ...   \n",
       "1              0            1           1            0              1  ...   \n",
       "2              0            1           1            0              1  ...   \n",
       "3              0            1           1            0              1  ...   \n",
       "4              1            0           1            0              1  ...   \n",
       "\n",
       "   StreamingMovies_Yes  Contract_Month-to-month  Contract_One year  \\\n",
       "0                    0                        1                  0   \n",
       "1                    0                        0                  1   \n",
       "2                    0                        1                  0   \n",
       "3                    0                        0                  1   \n",
       "4                    0                        1                  0   \n",
       "\n",
       "   Contract_Two year  PaperlessBilling_No  PaperlessBilling_Yes  \\\n",
       "0                  0                    0                     1   \n",
       "1                  0                    1                     0   \n",
       "2                  0                    0                     1   \n",
       "3                  0                    1                     0   \n",
       "4                  0                    0                     1   \n",
       "\n",
       "   PaymentMethod_Bank transfer (automatic)  \\\n",
       "0                                        0   \n",
       "1                                        0   \n",
       "2                                        0   \n",
       "3                                        1   \n",
       "4                                        0   \n",
       "\n",
       "   PaymentMethod_Credit card (automatic)  PaymentMethod_Electronic check  \\\n",
       "0                                      0                               1   \n",
       "1                                      0                               0   \n",
       "2                                      0                               0   \n",
       "3                                      0                               0   \n",
       "4                                      0                               1   \n",
       "\n",
       "   PaymentMethod_Mailed check  \n",
       "0                           0  \n",
       "1                           1  \n",
       "2                           1  \n",
       "3                           0  \n",
       "4                           0  \n",
       "\n",
       "[5 rows x 46 columns]"
      ]
     },
     "execution_count": 69,
     "metadata": {},
     "output_type": "execute_result"
    }
   ],
   "source": [
    "dummies_df.head()"
   ]
  },
  {
   "cell_type": "markdown",
   "metadata": {},
   "source": [
    "### Train test split"
   ]
  },
  {
   "cell_type": "code",
   "execution_count": 70,
   "metadata": {},
   "outputs": [],
   "source": [
    "from sklearn.model_selection import train_test_split"
   ]
  },
  {
   "cell_type": "code",
   "execution_count": 71,
   "metadata": {},
   "outputs": [],
   "source": [
    "y = dummies_df['Churn'].values\n",
    "X = dummies_df.drop(columns = ['Churn'])"
   ]
  },
  {
   "cell_type": "markdown",
   "metadata": {},
   "source": [
    "#### Train test split NEW"
   ]
  },
  {
   "cell_type": "code",
   "execution_count": 72,
   "metadata": {},
   "outputs": [],
   "source": [
    "#Splity X,y into train, val, test\n",
    "X_train, X_val, y_train, y_val = train_test_split(X,y,random_state=44,train_size=0.6,stratify=y)\n",
    "X_val, X_test, y_val, y_test = train_test_split(X_val, y_val, random_state=44,train_size=0.5,stratify=y_val)"
   ]
  },
  {
   "cell_type": "markdown",
   "metadata": {},
   "source": [
    "### Clasification witg Grid Search CV for SVM model"
   ]
  },
  {
   "cell_type": "code",
   "execution_count": 73,
   "metadata": {},
   "outputs": [],
   "source": [
    "from sklearn import svm, metrics\n",
    "from sklearn.model_selection import GridSearchCV, RandomizedSearchCV\n",
    "import numpy as np\n",
    "import matplotlib.pyplot as plt"
   ]
  },
  {
   "cell_type": "code",
   "execution_count": 74,
   "metadata": {},
   "outputs": [],
   "source": [
    "parameters = {\"kernel\":(\"linear\", \"rbf\"), \"C\":[1,2,3]}"
   ]
  },
  {
   "cell_type": "code",
   "execution_count": 75,
   "metadata": {},
   "outputs": [],
   "source": [
    "svm_clsf = svm.SVC()\n",
    "grid_clsf = GridSearchCV(estimator=svm_clsf, param_grid=parameters ,n_jobs=1, verbose=2)"
   ]
  },
  {
   "cell_type": "code",
   "execution_count": 76,
   "metadata": {},
   "outputs": [
    {
     "name": "stdout",
     "output_type": "stream",
     "text": [
      "Fitting 5 folds for each of 6 candidates, totalling 30 fits\n",
      "[CV] END .................................C=1, kernel=linear; total time=   0.9s\n",
      "[CV] END .................................C=1, kernel=linear; total time=   0.7s\n",
      "[CV] END .................................C=1, kernel=linear; total time=   0.8s\n",
      "[CV] END .................................C=1, kernel=linear; total time=   0.9s\n",
      "[CV] END .................................C=1, kernel=linear; total time=   0.7s\n",
      "[CV] END ....................................C=1, kernel=rbf; total time=   0.9s\n",
      "[CV] END ....................................C=1, kernel=rbf; total time=   1.0s\n",
      "[CV] END ....................................C=1, kernel=rbf; total time=   0.8s\n",
      "[CV] END ....................................C=1, kernel=rbf; total time=   0.8s\n",
      "[CV] END ....................................C=1, kernel=rbf; total time=   0.9s\n",
      "[CV] END .................................C=2, kernel=linear; total time=   0.8s\n",
      "[CV] END .................................C=2, kernel=linear; total time=   0.7s\n",
      "[CV] END .................................C=2, kernel=linear; total time=   0.8s\n",
      "[CV] END .................................C=2, kernel=linear; total time=   0.9s\n",
      "[CV] END .................................C=2, kernel=linear; total time=   0.8s\n",
      "[CV] END ....................................C=2, kernel=rbf; total time=   0.9s\n",
      "[CV] END ....................................C=2, kernel=rbf; total time=   0.8s\n",
      "[CV] END ....................................C=2, kernel=rbf; total time=   0.9s\n",
      "[CV] END ....................................C=2, kernel=rbf; total time=   0.9s\n",
      "[CV] END ....................................C=2, kernel=rbf; total time=   0.9s\n",
      "[CV] END .................................C=3, kernel=linear; total time=   1.0s\n",
      "[CV] END .................................C=3, kernel=linear; total time=   0.9s\n",
      "[CV] END .................................C=3, kernel=linear; total time=   0.9s\n",
      "[CV] END .................................C=3, kernel=linear; total time=   1.2s\n",
      "[CV] END .................................C=3, kernel=linear; total time=   1.0s\n",
      "[CV] END ....................................C=3, kernel=rbf; total time=   0.9s\n",
      "[CV] END ....................................C=3, kernel=rbf; total time=   0.9s\n",
      "[CV] END ....................................C=3, kernel=rbf; total time=   0.9s\n",
      "[CV] END ....................................C=3, kernel=rbf; total time=   0.9s\n",
      "[CV] END ....................................C=3, kernel=rbf; total time=   0.9s\n"
     ]
    },
    {
     "data": {
      "text/plain": [
       "GridSearchCV(estimator=SVC(), n_jobs=1,\n",
       "             param_grid={'C': [1, 2, 3], 'kernel': ('linear', 'rbf')},\n",
       "             verbose=2)"
      ]
     },
     "execution_count": 76,
     "metadata": {},
     "output_type": "execute_result"
    }
   ],
   "source": [
    "grid_clsf.fit(X_train, y_train)"
   ]
  },
  {
   "cell_type": "code",
   "execution_count": 77,
   "metadata": {},
   "outputs": [
    {
     "data": {
      "text/plain": [
       "{'mean_fit_time': array([0.78654575, 0.69493771, 0.81694179, 0.72254567, 1.00348043,\n",
       "        0.7244072 ]),\n",
       " 'std_fit_time': array([0.05193877, 0.02745081, 0.04111278, 0.02039422, 0.09391292,\n",
       "        0.02534256]),\n",
       " 'mean_score_time': array([0.10320764, 0.28157063, 0.08093143, 0.2810153 , 0.08790851,\n",
       "        0.27929668]),\n",
       " 'std_score_time': array([0.01556321, 0.02213124, 0.0027066 , 0.01516808, 0.00390372,\n",
       "        0.01150727]),\n",
       " 'param_C': masked_array(data=[1, 1, 2, 2, 3, 3],\n",
       "              mask=[False, False, False, False, False, False],\n",
       "        fill_value='?',\n",
       "             dtype=object),\n",
       " 'param_kernel': masked_array(data=['linear', 'rbf', 'linear', 'rbf', 'linear', 'rbf'],\n",
       "              mask=[False, False, False, False, False, False],\n",
       "        fill_value='?',\n",
       "             dtype=object),\n",
       " 'params': [{'C': 1, 'kernel': 'linear'},\n",
       "  {'C': 1, 'kernel': 'rbf'},\n",
       "  {'C': 2, 'kernel': 'linear'},\n",
       "  {'C': 2, 'kernel': 'rbf'},\n",
       "  {'C': 3, 'kernel': 'linear'},\n",
       "  {'C': 3, 'kernel': 'rbf'}],\n",
       " 'split0_test_score': array([0.7950237 , 0.80805687, 0.79383886, 0.80450237, 0.79620853,\n",
       "        0.8056872 ]),\n",
       " 'split1_test_score': array([0.78554502, 0.78554502, 0.78672986, 0.78436019, 0.78672986,\n",
       "        0.77725118]),\n",
       " 'split2_test_score': array([0.77725118, 0.7950237 , 0.77725118, 0.79383886, 0.77843602,\n",
       "        0.78554502]),\n",
       " 'split3_test_score': array([0.81398104, 0.81753555, 0.81279621, 0.81516588, 0.81161137,\n",
       "        0.81753555]),\n",
       " 'split4_test_score': array([0.79359431, 0.79003559, 0.79240807, 0.79478055, 0.79359431,\n",
       "        0.79003559]),\n",
       " 'mean_test_score': array([0.79307905, 0.79923934, 0.79260484, 0.79852957, 0.79331602,\n",
       "        0.79521091]),\n",
       " 'std_test_score': array([0.01223293, 0.0118534 , 0.01165764, 0.01048113, 0.01102684,\n",
       "        0.01449764]),\n",
       " 'rank_test_score': array([5, 1, 6, 2, 4, 3])}"
      ]
     },
     "execution_count": 77,
     "metadata": {},
     "output_type": "execute_result"
    }
   ],
   "source": [
    "grid_clsf.cv_results_"
   ]
  },
  {
   "cell_type": "markdown",
   "metadata": {},
   "source": [
    "### Clasification with random search for SVM model"
   ]
  },
  {
   "cell_type": "code",
   "execution_count": 78,
   "metadata": {},
   "outputs": [],
   "source": [
    "svm_clsf = svm.SVC()\n",
    "random_clsf = RandomizedSearchCV(estimator=svm_clsf, param_distributions=parameters, n_iter=1, cv=3, n_jobs=1, verbose=2)"
   ]
  },
  {
   "cell_type": "code",
   "execution_count": 79,
   "metadata": {},
   "outputs": [
    {
     "name": "stdout",
     "output_type": "stream",
     "text": [
      "Fitting 3 folds for each of 1 candidates, totalling 3 fits\n",
      "[CV] END .................................C=2, kernel=linear; total time=   0.6s\n",
      "[CV] END .................................C=2, kernel=linear; total time=   0.6s\n",
      "[CV] END .................................C=2, kernel=linear; total time=   0.7s\n"
     ]
    },
    {
     "data": {
      "text/plain": [
       "RandomizedSearchCV(cv=3, estimator=SVC(), n_iter=1, n_jobs=1,\n",
       "                   param_distributions={'C': [1, 2, 3],\n",
       "                                        'kernel': ('linear', 'rbf')},\n",
       "                   verbose=2)"
      ]
     },
     "execution_count": 79,
     "metadata": {},
     "output_type": "execute_result"
    }
   ],
   "source": [
    "random_clsf.fit(X_train, y_train)"
   ]
  },
  {
   "cell_type": "code",
   "execution_count": 80,
   "metadata": {},
   "outputs": [
    {
     "data": {
      "text/plain": [
       "{'mean_fit_time': array([0.60633572]),\n",
       " 'std_fit_time': array([0.02560001]),\n",
       " 'mean_score_time': array([0.11756372]),\n",
       " 'std_score_time': array([0.01728374]),\n",
       " 'param_kernel': masked_array(data=['linear'],\n",
       "              mask=[False],\n",
       "        fill_value='?',\n",
       "             dtype=object),\n",
       " 'param_C': masked_array(data=[2],\n",
       "              mask=[False],\n",
       "        fill_value='?',\n",
       "             dtype=object),\n",
       " 'params': [{'kernel': 'linear', 'C': 2}],\n",
       " 'split0_test_score': array([0.78820185]),\n",
       " 'split1_test_score': array([0.78876245]),\n",
       " 'split2_test_score': array([0.79516358]),\n",
       " 'mean_test_score': array([0.79070929]),\n",
       " 'std_test_score': array([0.00315796]),\n",
       " 'rank_test_score': array([1])}"
      ]
     },
     "execution_count": 80,
     "metadata": {},
     "output_type": "execute_result"
    }
   ],
   "source": [
    "random_clsf.cv_results_"
   ]
  },
  {
   "cell_type": "markdown",
   "metadata": {},
   "source": [
    "#### Wyniki Grid i Random Search"
   ]
  },
  {
   "cell_type": "code",
   "execution_count": 81,
   "metadata": {},
   "outputs": [
    {
     "name": "stdout",
     "output_type": "stream",
     "text": [
      " Best params for SVM model by GridSearchCV :        {'C': 1, 'kernel': 'rbf'}\n",
      " Best score with those params :                     0.799239344925874\n",
      " Best params for SVM model by RandomizedSearchCV :  {'kernel': 'linear', 'C': 2}\n",
      " Best score with those params :                     0.7907092930659309\n"
     ]
    }
   ],
   "source": [
    "print(f\" Best params for SVM model by GridSearchCV :        {grid_clsf.best_params_}\")\n",
    "print(f\" Best score with those params :                     {grid_clsf.best_score_}\")\n",
    "print(f\" Best params for SVM model by RandomizedSearchCV :  {random_clsf.best_params_}\")\n",
    "print(f\" Best score with those params :                     {random_clsf.best_score_}\")"
   ]
  },
  {
   "cell_type": "markdown",
   "metadata": {},
   "source": [
    "### SVM model\n",
    "\n",
    "From GridSearchCV method the best params por SVC model will be:\\\n",
    "C:      1\\\n",
    "kernel: linear"
   ]
  },
  {
   "cell_type": "code",
   "execution_count": null,
   "metadata": {},
   "outputs": [],
   "source": [
    "#kernel=\"linear\", C=1, gamma=\"auto\", class_weight=\"balanced\""
   ]
  },
  {
   "cell_type": "code",
   "execution_count": 137,
   "metadata": {},
   "outputs": [],
   "source": [
    "scores = []"
   ]
  },
  {
   "cell_type": "code",
   "execution_count": 138,
   "metadata": {},
   "outputs": [],
   "source": [
    "# bez wyników z grid ani random\n",
    "svm_model = svm.SVC()\n",
    "svm_model.fit(X_train, y_train)\n",
    "\n",
    "pred = svm_model.predict(X_val)\n",
    "\n",
    "precision = metrics.precision_score(y_val, pred)\n",
    "recall = metrics.recall_score(y_val, pred)\n",
    "roc_auc = metrics.roc_auc_score(y_val, pred)\n",
    "f1 = metrics.f1_score(y_val, pred)\n",
    "\n",
    "scores.append({\"model params\": \"bez eksploracji parametrów\", \n",
    "                \"precision\": precision, \n",
    "                \"recall\": recall,\n",
    "                \"ROC AUC\": roc_auc,\n",
    "                \"F1\": f1\n",
    "                })\n"
   ]
  },
  {
   "cell_type": "code",
   "execution_count": 139,
   "metadata": {},
   "outputs": [],
   "source": [
    "# paramerty grid\n",
    "svm_model_grid = svm.SVC(kernel=\"rbf\", C=1, gamma=\"auto\", class_weight=\"balanced\")\n",
    "svm_model_grid.fit(X_train, y_train)\n",
    "\n",
    "pred = svm_model_grid.predict(X_val)\n",
    "\n",
    "precision1 = metrics.precision_score(y_val, pred)\n",
    "recall1 = metrics.recall_score(y_val, pred)\n",
    "roc_auc1 = metrics.roc_auc_score(y_val, pred)\n",
    "f11 = metrics.f1_score(y_val, pred)\n",
    "\n",
    "scores.append({\"model params\": \"GridSearch\", \n",
    "                \"precision\": precision1, \n",
    "                \"recall\": recall1,\n",
    "                \"ROC AUC\": roc_auc1,\n",
    "                \"F1\": f11\n",
    "                })\n"
   ]
  },
  {
   "cell_type": "code",
   "execution_count": 140,
   "metadata": {},
   "outputs": [],
   "source": [
    "# parametry ransom\n",
    "svm_model_random = svm.SVC(kernel=\"linear\", C=2, gamma=\"auto\", class_weight=\"balanced\")\n",
    "svm_model_random.fit(X_train, y_train)\n",
    "\n",
    "pred = svm_model_random.predict(X_val)\n",
    "\n",
    "precision2 = metrics.precision_score(y_val, pred)\n",
    "recall2 = metrics.recall_score(y_val, pred)\n",
    "roc_auc2 = metrics.roc_auc_score(y_val, pred)\n",
    "f12 = metrics.f1_score(y_val, pred)\n",
    "\n",
    "scores.append({\"model params\": \"RandomSearch\", \n",
    "                \"precision\": precision2, \n",
    "                \"recall\": recall2,\n",
    "                \"ROC AUC\": roc_auc2,\n",
    "                \"F1\": f12\n",
    "                })\n",
    "\n",
    "                "
   ]
  },
  {
   "cell_type": "markdown",
   "metadata": {},
   "source": [
    "### Wyniki "
   ]
  },
  {
   "cell_type": "code",
   "execution_count": 141,
   "metadata": {},
   "outputs": [],
   "source": [
    "best_params = pd.DataFrame(scores,columns=[\"model params\",\"precision\",\"recall\",\"ROC AUC\",\"F1\"])"
   ]
  },
  {
   "cell_type": "code",
   "execution_count": 142,
   "metadata": {},
   "outputs": [
    {
     "data": {
      "text/html": [
       "<div>\n",
       "<style scoped>\n",
       "    .dataframe tbody tr th:only-of-type {\n",
       "        vertical-align: middle;\n",
       "    }\n",
       "\n",
       "    .dataframe tbody tr th {\n",
       "        vertical-align: top;\n",
       "    }\n",
       "\n",
       "    .dataframe thead th {\n",
       "        text-align: right;\n",
       "    }\n",
       "</style>\n",
       "<table border=\"1\" class=\"dataframe\">\n",
       "  <thead>\n",
       "    <tr style=\"text-align: right;\">\n",
       "      <th></th>\n",
       "      <th>model params</th>\n",
       "      <th>precision</th>\n",
       "      <th>recall</th>\n",
       "      <th>ROC AUC</th>\n",
       "      <th>F1</th>\n",
       "    </tr>\n",
       "  </thead>\n",
       "  <tbody>\n",
       "    <tr>\n",
       "      <th>0</th>\n",
       "      <td>bez eksploracji parametrów</td>\n",
       "      <td>0.695341</td>\n",
       "      <td>0.518717</td>\n",
       "      <td>0.718176</td>\n",
       "      <td>0.594181</td>\n",
       "    </tr>\n",
       "    <tr>\n",
       "      <th>1</th>\n",
       "      <td>GridSearch</td>\n",
       "      <td>0.491228</td>\n",
       "      <td>0.823529</td>\n",
       "      <td>0.757210</td>\n",
       "      <td>0.615385</td>\n",
       "    </tr>\n",
       "    <tr>\n",
       "      <th>2</th>\n",
       "      <td>RandomSearch</td>\n",
       "      <td>0.462774</td>\n",
       "      <td>0.847594</td>\n",
       "      <td>0.745502</td>\n",
       "      <td>0.598678</td>\n",
       "    </tr>\n",
       "  </tbody>\n",
       "</table>\n",
       "</div>"
      ],
      "text/plain": [
       "                 model params  precision    recall   ROC AUC        F1\n",
       "0  bez eksploracji parametrów   0.695341  0.518717  0.718176  0.594181\n",
       "1                  GridSearch   0.491228  0.823529  0.757210  0.615385\n",
       "2                RandomSearch   0.462774  0.847594  0.745502  0.598678"
      ]
     },
     "execution_count": 142,
     "metadata": {},
     "output_type": "execute_result"
    }
   ],
   "source": [
    "best_params"
   ]
  }
 ],
 "metadata": {
  "interpreter": {
   "hash": "20a9e06a1eee47c4abbed4ec8225ad91d78d9800d202b71b6b0a6e47016c6abd"
  },
  "kernelspec": {
   "display_name": "Python 3.8.8 ('base')",
   "language": "python",
   "name": "python3"
  },
  "language_info": {
   "codemirror_mode": {
    "name": "ipython",
    "version": 3
   },
   "file_extension": ".py",
   "mimetype": "text/x-python",
   "name": "python",
   "nbconvert_exporter": "python",
   "pygments_lexer": "ipython3",
   "version": "3.8.8"
  },
  "orig_nbformat": 4
 },
 "nbformat": 4,
 "nbformat_minor": 2
}

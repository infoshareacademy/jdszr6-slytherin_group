{
 "cells": [
  {
   "cell_type": "code",
   "execution_count": 4,
   "metadata": {},
   "outputs": [
    {
     "name": "stderr",
     "output_type": "stream",
     "text": [
      "A subdirectory or file images\\E already exists.\n"
     ]
    },
    {
     "name": "stdout",
     "output_type": "stream",
     "text": [
      "Images\\E\\pic_0.png written!\n",
      "Images\\E\\pic_1.png written!\n",
      "Images\\E\\pic_2.png written!\n",
      "Images\\E\\pic_3.png written!\n",
      "Images\\E\\pic_4.png written!\n",
      "Escape hit, closing...\n"
     ]
    }
   ],
   "source": [
    "# Script to take pictures from web cam and save to hard drive.\n",
    "# Change 'letter' variable to the letter you want to capture, start script. \n",
    "# Press space to capture pictures, press esc to finish capturing.\n",
    "# Use space to take picture, use ESC to finish taking pictures.\n",
    "#Pictures will save to images folder in same location where the script is in a folder 'letter'\n",
    "\n",
    "#Specify letter below you will be capturing [ABCDEFGIJKLMNOPRSUVXYZ]\n",
    "letter='E'\n",
    "\n",
    "#Create folder with letter as a name to store pictures\n",
    "!mkdir={'images\\\\'+letter}\n",
    "\n",
    "#capture loop\n",
    "import cv2\n",
    "cam = cv2.VideoCapture(0)\n",
    "\n",
    "path='Images\\\\'+'{}'.format(letter) \n",
    "\n",
    "img_counter = 0\n",
    "\n",
    "while True:\n",
    "    ret, frame = cam.read()\n",
    "    if not ret:\n",
    "        print(\"failed to grab frame\")\n",
    "        break\n",
    "    cv2.imshow(\"Press space to grab picture, press Esc to exit\", frame)\n",
    "\n",
    "    k = cv2.waitKey(1)\n",
    "    if k%256 == 27:\n",
    "        # ESC pressed\n",
    "        print(\"Escape hit, closing...\")\n",
    "        break\n",
    "    elif k%256 == 32:\n",
    "        # SPACE pressed\n",
    "        img_name = os.path.join(path, 'pic_{}.png'.format(img_counter))\n",
    "        # resized = cv2.resize(frame, (300,300), interpolation = cv2.INTER_AREA)\n",
    "        cv2.imwrite(img_name, frame)\n",
    "        print(\"{} written!\".format(img_name))\n",
    "        img_counter += 1\n",
    "\n",
    "cam.release()\n",
    "\n",
    "cv2.destroyAllWindows()"
   ]
  }
 ],
 "metadata": {
  "kernelspec": {
   "display_name": "Python 3.10.4 ('NewDL')",
   "language": "python",
   "name": "python3"
  },
  "language_info": {
   "codemirror_mode": {
    "name": "ipython",
    "version": 3
   },
   "file_extension": ".py",
   "mimetype": "text/x-python",
   "name": "python",
   "nbconvert_exporter": "python",
   "pygments_lexer": "ipython3",
   "version": "3.10.4"
  },
  "orig_nbformat": 4,
  "vscode": {
   "interpreter": {
    "hash": "69a1a67145fca3444bb236a147d1c39ed1ad262c63bcd4f914b856ef8b980214"
   }
  }
 },
 "nbformat": 4,
 "nbformat_minor": 2
}

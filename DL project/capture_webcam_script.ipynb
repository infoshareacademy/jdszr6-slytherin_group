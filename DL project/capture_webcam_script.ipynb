{
 "cells": [
  {
   "cell_type": "code",
   "execution_count": 2,
   "id": "6b915bb7",
   "metadata": {},
   "outputs": [],
   "source": [
    "import cv2\n",
    "import os"
   ]
  },
  {
   "cell_type": "code",
   "execution_count": 3,
   "id": "d570de8a",
   "metadata": {},
   "outputs": [],
   "source": [
    "letter='E'"
   ]
  },
  {
   "cell_type": "code",
   "execution_count": 7,
   "id": "2fe2cd9d",
   "metadata": {},
   "outputs": [],
   "source": [
    "!mkdir={\"Images\\ \" + letter}"
   ]
  },
  {
   "cell_type": "code",
   "execution_count": null,
   "id": "45853b3c",
   "metadata": {},
   "outputs": [],
   "source": [
    "letter='E'\n",
    "!mkdir={'images\\\\'+letter}"
   ]
  },
  {
   "cell_type": "code",
   "execution_count": null,
   "id": "75e5823a",
   "metadata": {},
   "outputs": [],
   "source": [
    "cam = cv2.VideoCapture(0)\n",
    "\n",
    "path='Images\\\\'+'{}'.format(letter)"
   ]
  },
  {
   "cell_type": "code",
   "execution_count": null,
   "id": "553c0d7f",
   "metadata": {},
   "outputs": [],
   "source": [
    "img_counter = 0\n",
    "\n",
    "while True:\n",
    "    ret, frame = cam.read()\n",
    "    if not ret:\n",
    "        print(\"failed to grab frame\")\n",
    "        break\n",
    "    cv2.imshow(\"Press space to grab picture, press Esc to exit\", frame)\n",
    "\n",
    "    k = cv2.waitKey(1)\n",
    "    if k%256 == 27:\n",
    "        # ESC pressed\n",
    "        print(\"Escape hit, closing...\")\n",
    "        break\n",
    "    elif k%256 == 32:\n",
    "        # SPACE pressed\n",
    "        img_name = os.path.join(path, 'pic_{}.png'.format(img_counter))\n",
    "        # resized = cv2.resize(frame, (300,300), interpolation = cv2.INTER_AREA)\n",
    "        cv2.imwrite(img_name, frame)\n",
    "        print(\"{} written!\".format(img_name))\n",
    "        img_counter += 1\n",
    "\n",
    "cam.release()\n",
    "\n",
    "cv2.destroyAllWindows()"
   ]
  }
 ],
 "metadata": {
  "kernelspec": {
   "display_name": "Python 3 (ipykernel)",
   "language": "python",
   "name": "python3"
  },
  "language_info": {
   "codemirror_mode": {
    "name": "ipython",
    "version": 3
   },
   "file_extension": ".py",
   "mimetype": "text/x-python",
   "name": "python",
   "nbconvert_exporter": "python",
   "pygments_lexer": "ipython3",
   "version": "3.9.12"
  }
 },
 "nbformat": 4,
 "nbformat_minor": 5
}

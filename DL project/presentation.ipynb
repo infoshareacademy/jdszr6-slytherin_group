{
 "cells": [
  {
   "cell_type": "markdown",
   "metadata": {},
   "source": [
    "### Sign language facts\n",
    "1. An estimate for the European Union is 750,000 Deaf sign language users\n",
    "2. Deaf sign language users make up about 0.1% of the whole population in any given country\n",
    "3. There are language families within sign languages. For example British Sign Language is very different to any other European sign language\n",
    "\n",
    "<sub><sup>For mor information:\n",
    "https://www.nidcd.nih.gov/health/statistics/quick-statistics-hearing</sup></sub>"
   ]
  },
  {
   "cell_type": "markdown",
   "metadata": {},
   "source": [
    "### Statistics in US\n",
    "Only 18% of deaf students earn their undergraduate degree compared to 33% of normal hearing individuals.\\\n",
    "\\\n",
    "\\\n",
    "<img src=\"https://audiologyblog.phonakpro.com/wp-content/uploads/2019/12/Deaf-people-and-education-attainment-in-the-US.png\">\n",
    "\\\n",
    "<sub><sup>source:\\\n",
    "https://audiologyblog.phonakpro.com/helping-teens-with-hearing-loss-succeed/</sup></sub>"
   ]
  },
  {
   "cell_type": "markdown",
   "metadata": {},
   "source": [
    "Additionally, only 48% of individuals who are DHH were employed, compared to 72% of hearing people.\\\n",
    "\\\n",
    "\\\n",
    "<img src=\"https://audiologyblog.phonakpro.com/wp-content/uploads/2019/12/Deaf-people-and-employment.png\">\n",
    "\\\n",
    "<sub><sup>source:\\\n",
    "https://audiologyblog.phonakpro.com/helping-teens-with-hearing-loss-succeed/</sup></sub>"
   ]
  }
 ],
 "metadata": {
  "language_info": {
   "name": "python"
  },
  "orig_nbformat": 4
 },
 "nbformat": 4,
 "nbformat_minor": 2
}

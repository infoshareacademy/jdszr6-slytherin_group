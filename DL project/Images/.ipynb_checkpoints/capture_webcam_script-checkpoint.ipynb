{
 "cells": [
  {
   "cell_type": "code",
   "execution_count": 6,
   "id": "382b0d02",
   "metadata": {},
   "outputs": [],
   "source": [
    "import cv2\n",
    "import os"
   ]
  },
  {
   "cell_type": "code",
   "execution_count": 3,
   "id": "448ea098",
   "metadata": {},
   "outputs": [],
   "source": [
    "letter=\"A\"\n",
    "!mkdir={letter}"
   ]
  },
  {
   "cell_type": "code",
   "execution_count": 4,
   "id": "36a0af65",
   "metadata": {},
   "outputs": [],
   "source": [
    "cam = cv2.VideoCapture(0)\n",
    "\n",
    "path=\"{}\".format(letter)"
   ]
  },
  {
   "cell_type": "code",
   "execution_count": 10,
   "id": "768f4cf3",
   "metadata": {},
   "outputs": [
    {
     "name": "stdout",
     "output_type": "stream",
     "text": [
      "A\\pic_0.png written!\n",
      "A\\pic_1.png written!\n",
      "A\\pic_2.png written!\n",
      "A\\pic_3.png written!\n",
      "A\\pic_4.png written!\n",
      "A\\pic_5.png written!\n",
      "A\\pic_6.png written!\n",
      "A\\pic_7.png written!\n",
      "A\\pic_8.png written!\n",
      "A\\pic_9.png written!\n",
      "A\\pic_10.png written!\n",
      "A\\pic_11.png written!\n",
      "A\\pic_12.png written!\n",
      "A\\pic_13.png written!\n",
      "A\\pic_14.png written!\n",
      "A\\pic_15.png written!\n",
      "A\\pic_16.png written!\n",
      "A\\pic_17.png written!\n",
      "A\\pic_18.png written!\n",
      "A\\pic_19.png written!\n",
      "A\\pic_20.png written!\n",
      "A\\pic_21.png written!\n",
      "A\\pic_22.png written!\n",
      "A\\pic_23.png written!\n",
      "A\\pic_24.png written!\n"
     ]
    },
    {
     "ename": "KeyboardInterrupt",
     "evalue": "",
     "output_type": "error",
     "traceback": [
      "\u001b[1;31m---------------------------------------------------------------------------\u001b[0m",
      "\u001b[1;31mKeyboardInterrupt\u001b[0m                         Traceback (most recent call last)",
      "Input \u001b[1;32mIn [10]\u001b[0m, in \u001b[0;36m<cell line: 4>\u001b[1;34m()\u001b[0m\n\u001b[0;32m      1\u001b[0m img_counter \u001b[38;5;241m=\u001b[39m \u001b[38;5;241m0\u001b[39m\n\u001b[0;32m      3\u001b[0m \u001b[38;5;28;01mwhile\u001b[39;00m \u001b[38;5;28;01mTrue\u001b[39;00m:\n\u001b[1;32m----> 4\u001b[0m     ret, frame \u001b[38;5;241m=\u001b[39m \u001b[43mcam\u001b[49m\u001b[38;5;241;43m.\u001b[39;49m\u001b[43mread\u001b[49m\u001b[43m(\u001b[49m\u001b[43m)\u001b[49m\n\u001b[0;32m      5\u001b[0m     \u001b[38;5;28;01mif\u001b[39;00m \u001b[38;5;129;01mnot\u001b[39;00m ret:\n\u001b[0;32m      6\u001b[0m         \u001b[38;5;28mprint\u001b[39m(\u001b[38;5;124m\"\u001b[39m\u001b[38;5;124mfailed to grab frame\u001b[39m\u001b[38;5;124m\"\u001b[39m)\n",
      "\u001b[1;31mKeyboardInterrupt\u001b[0m: "
     ]
    }
   ],
   "source": [
    "img_counter = 0\n",
    "\n",
    "while True:\n",
    "    ret, frame = cam.read()\n",
    "    if not ret:\n",
    "        print(\"failed to grab frame\")\n",
    "        break\n",
    "        \n",
    "    height, width, channels = frame.shape\n",
    "    height, width = height // 10, width // 10\n",
    "\n",
    "    if height > width:\n",
    "        main_size = width\n",
    "    else:\n",
    "        main_size = height\n",
    "\n",
    "    square_box = [(width, width + 5*main_size), (height, height + 5*main_size)]\n",
    "    roi = frame[square_box[1][0] : square_box[1][1], square_box[0][0] : square_box[0][1]]\n",
    "    \n",
    "    cv2.imshow(\"Press space to grab picture, press Esc to exit\", roi)\n",
    "    #cv2.imshow(\" \", frame)\n",
    "\n",
    "    k = cv2.waitKey(1)\n",
    "    if k%256 == 27:\n",
    "        # ESC pressed\n",
    "        print(\"Escape hit, closing...\")\n",
    "        break\n",
    "    elif k%256 == 32:\n",
    "        # SPACE pressed\n",
    "        img_name = os.path.join(path, 'pic_{}.png'.format(img_counter))\n",
    "        # resized = cv2.resize(frame, (300,300), interpolation = cv2.INTER_AREA)\n",
    "        cv2.imwrite(img_name, roi)\n",
    "        print(\"{} written!\".format(img_name))\n",
    "        img_counter += 1\n",
    "\n",
    "cam.release()\n",
    "cv2.destroyAllWindows()"
   ]
  },
  {
   "cell_type": "code",
   "execution_count": null,
   "id": "9941a0e9",
   "metadata": {},
   "outputs": [],
   "source": []
  }
 ],
 "metadata": {
  "kernelspec": {
   "display_name": "Python 3 (ipykernel)",
   "language": "python",
   "name": "python3"
  },
  "language_info": {
   "codemirror_mode": {
    "name": "ipython",
    "version": 3
   },
   "file_extension": ".py",
   "mimetype": "text/x-python",
   "name": "python",
   "nbconvert_exporter": "python",
   "pygments_lexer": "ipython3",
   "version": "3.9.12"
  }
 },
 "nbformat": 4,
 "nbformat_minor": 5
}

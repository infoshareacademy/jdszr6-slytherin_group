{
 "cells": [
  {
   "cell_type": "markdown",
   "metadata": {},
   "source": [
    "Wybieramy temat. Może być to temat z poprzedniego projektu – o ile nie będzie realizować \n",
    "tego samego lub podobnego projektu trzeci raz.  \n",
    "2. Wyznaczamy zmienną celu. \n",
    "3. Dokonujemy eksploracji zbioru. Uzupełniamy braki danych. Dokonujemy wstępnej selekcji \n",
    "zmiennych.  \n",
    "4. Dzielimy zbiór danych na treningowy testowy i w miarę możliwości na walidacyjny. \n",
    "5. Tworzymy różnego rodzaju modele sieci neuronowych – sprawdzając różne możliwe \n",
    "parametry. \n",
    "6. Porównujemy i wybieramy najlepszy model. \n",
    "7. Dokonujemy ostatecznej oceny wybranego modelu na zbiorze walidacyjnym. \n",
    "8. Porównujemy rozwiązanie z przynajmniej jednym, poznanym modelem w bloku ML. \n",
    "9. Wskazujemy uzysk dla firmy / odbiorcy (np. ile pieniędzy z tego będzie miała, jak \n",
    "wdrożenie wpłynie na rozpoznawalność przypadków, dla których firma wykona działania \n",
    "prewencyjne itd.) – to jest bardzo ważny punkt. \n",
    "10.  Budujemy aplikację wykorzystującą model. \n",
    "11.  Na prezentacji powinna znaleźć się krótka analiza zmiennych, omówienie wyników \n",
    "wszystkich zastosowanych technik modelowania i ich porównanie, wybór modelu i przede \n",
    "wszystkim wartość dodana jaką niesie za sobą wdrożenie.\n",
    "\n",
    "W końcu inny mnist • rozpoznawanie gestów • aplikacja działająca real-time pozwalająca zrozumieć co chce przekazać niema osoba • typ zadania: klasyfikacja zdjęć • Sign Language MNIST"
   ]
  },
  {
   "cell_type": "code",
   "execution_count": 24,
   "metadata": {},
   "outputs": [],
   "source": [
    "import tensorflow as tf\n",
    "import pandas as pd\n",
    "import numpy as np\n",
    "from sklearn.model_selection import train_test_split\n",
    "import matplotlib.pyplot as plt\n",
    "import cv2\n",
    "\n",
    "# import matplotlib.pyplot as plt\n",
    "# import seaborn as sns\n",
    "# from sklearn.preprocessing import LabelEncoder,OneHotEncoder\n",
    "# import zipfile\n",
    "# from sklearn.metrics import classification_report"
   ]
  },
  {
   "cell_type": "code",
   "execution_count": 25,
   "metadata": {},
   "outputs": [],
   "source": [
    "#Lets read the training data\n",
    "df=pd.read_csv('data\\sign_mnist_train.csv')"
   ]
  },
  {
   "cell_type": "code",
   "execution_count": 26,
   "metadata": {},
   "outputs": [
    {
     "data": {
      "text/plain": [
       "Index(['label', 'pixel1', 'pixel2', 'pixel3', 'pixel4', 'pixel5', 'pixel6',\n",
       "       'pixel7', 'pixel8', 'pixel9',\n",
       "       ...\n",
       "       'pixel775', 'pixel776', 'pixel777', 'pixel778', 'pixel779', 'pixel780',\n",
       "       'pixel781', 'pixel782', 'pixel783', 'pixel784'],\n",
       "      dtype='object', length=785)"
      ]
     },
     "metadata": {},
     "output_type": "display_data"
    },
    {
     "data": {
      "text/html": [
       "<div>\n",
       "<style scoped>\n",
       "    .dataframe tbody tr th:only-of-type {\n",
       "        vertical-align: middle;\n",
       "    }\n",
       "\n",
       "    .dataframe tbody tr th {\n",
       "        vertical-align: top;\n",
       "    }\n",
       "\n",
       "    .dataframe thead th {\n",
       "        text-align: right;\n",
       "    }\n",
       "</style>\n",
       "<table border=\"1\" class=\"dataframe\">\n",
       "  <thead>\n",
       "    <tr style=\"text-align: right;\">\n",
       "      <th></th>\n",
       "      <th>label</th>\n",
       "      <th>pixel1</th>\n",
       "      <th>pixel2</th>\n",
       "      <th>pixel3</th>\n",
       "      <th>pixel4</th>\n",
       "      <th>pixel5</th>\n",
       "      <th>pixel6</th>\n",
       "      <th>pixel7</th>\n",
       "      <th>pixel8</th>\n",
       "      <th>pixel9</th>\n",
       "      <th>...</th>\n",
       "      <th>pixel775</th>\n",
       "      <th>pixel776</th>\n",
       "      <th>pixel777</th>\n",
       "      <th>pixel778</th>\n",
       "      <th>pixel779</th>\n",
       "      <th>pixel780</th>\n",
       "      <th>pixel781</th>\n",
       "      <th>pixel782</th>\n",
       "      <th>pixel783</th>\n",
       "      <th>pixel784</th>\n",
       "    </tr>\n",
       "  </thead>\n",
       "  <tbody>\n",
       "    <tr>\n",
       "      <th>0</th>\n",
       "      <td>3</td>\n",
       "      <td>107</td>\n",
       "      <td>118</td>\n",
       "      <td>127</td>\n",
       "      <td>134</td>\n",
       "      <td>139</td>\n",
       "      <td>143</td>\n",
       "      <td>146</td>\n",
       "      <td>150</td>\n",
       "      <td>153</td>\n",
       "      <td>...</td>\n",
       "      <td>207</td>\n",
       "      <td>207</td>\n",
       "      <td>207</td>\n",
       "      <td>207</td>\n",
       "      <td>206</td>\n",
       "      <td>206</td>\n",
       "      <td>206</td>\n",
       "      <td>204</td>\n",
       "      <td>203</td>\n",
       "      <td>202</td>\n",
       "    </tr>\n",
       "    <tr>\n",
       "      <th>1</th>\n",
       "      <td>6</td>\n",
       "      <td>155</td>\n",
       "      <td>157</td>\n",
       "      <td>156</td>\n",
       "      <td>156</td>\n",
       "      <td>156</td>\n",
       "      <td>157</td>\n",
       "      <td>156</td>\n",
       "      <td>158</td>\n",
       "      <td>158</td>\n",
       "      <td>...</td>\n",
       "      <td>69</td>\n",
       "      <td>149</td>\n",
       "      <td>128</td>\n",
       "      <td>87</td>\n",
       "      <td>94</td>\n",
       "      <td>163</td>\n",
       "      <td>175</td>\n",
       "      <td>103</td>\n",
       "      <td>135</td>\n",
       "      <td>149</td>\n",
       "    </tr>\n",
       "    <tr>\n",
       "      <th>2</th>\n",
       "      <td>2</td>\n",
       "      <td>187</td>\n",
       "      <td>188</td>\n",
       "      <td>188</td>\n",
       "      <td>187</td>\n",
       "      <td>187</td>\n",
       "      <td>186</td>\n",
       "      <td>187</td>\n",
       "      <td>188</td>\n",
       "      <td>187</td>\n",
       "      <td>...</td>\n",
       "      <td>202</td>\n",
       "      <td>201</td>\n",
       "      <td>200</td>\n",
       "      <td>199</td>\n",
       "      <td>198</td>\n",
       "      <td>199</td>\n",
       "      <td>198</td>\n",
       "      <td>195</td>\n",
       "      <td>194</td>\n",
       "      <td>195</td>\n",
       "    </tr>\n",
       "    <tr>\n",
       "      <th>3</th>\n",
       "      <td>2</td>\n",
       "      <td>211</td>\n",
       "      <td>211</td>\n",
       "      <td>212</td>\n",
       "      <td>212</td>\n",
       "      <td>211</td>\n",
       "      <td>210</td>\n",
       "      <td>211</td>\n",
       "      <td>210</td>\n",
       "      <td>210</td>\n",
       "      <td>...</td>\n",
       "      <td>235</td>\n",
       "      <td>234</td>\n",
       "      <td>233</td>\n",
       "      <td>231</td>\n",
       "      <td>230</td>\n",
       "      <td>226</td>\n",
       "      <td>225</td>\n",
       "      <td>222</td>\n",
       "      <td>229</td>\n",
       "      <td>163</td>\n",
       "    </tr>\n",
       "    <tr>\n",
       "      <th>4</th>\n",
       "      <td>13</td>\n",
       "      <td>164</td>\n",
       "      <td>167</td>\n",
       "      <td>170</td>\n",
       "      <td>172</td>\n",
       "      <td>176</td>\n",
       "      <td>179</td>\n",
       "      <td>180</td>\n",
       "      <td>184</td>\n",
       "      <td>185</td>\n",
       "      <td>...</td>\n",
       "      <td>92</td>\n",
       "      <td>105</td>\n",
       "      <td>105</td>\n",
       "      <td>108</td>\n",
       "      <td>133</td>\n",
       "      <td>163</td>\n",
       "      <td>157</td>\n",
       "      <td>163</td>\n",
       "      <td>164</td>\n",
       "      <td>179</td>\n",
       "    </tr>\n",
       "  </tbody>\n",
       "</table>\n",
       "<p>5 rows × 785 columns</p>\n",
       "</div>"
      ],
      "text/plain": [
       "   label  pixel1  pixel2  pixel3  pixel4  pixel5  pixel6  pixel7  pixel8  \\\n",
       "0      3     107     118     127     134     139     143     146     150   \n",
       "1      6     155     157     156     156     156     157     156     158   \n",
       "2      2     187     188     188     187     187     186     187     188   \n",
       "3      2     211     211     212     212     211     210     211     210   \n",
       "4     13     164     167     170     172     176     179     180     184   \n",
       "\n",
       "   pixel9  ...  pixel775  pixel776  pixel777  pixel778  pixel779  pixel780  \\\n",
       "0     153  ...       207       207       207       207       206       206   \n",
       "1     158  ...        69       149       128        87        94       163   \n",
       "2     187  ...       202       201       200       199       198       199   \n",
       "3     210  ...       235       234       233       231       230       226   \n",
       "4     185  ...        92       105       105       108       133       163   \n",
       "\n",
       "   pixel781  pixel782  pixel783  pixel784  \n",
       "0       206       204       203       202  \n",
       "1       175       103       135       149  \n",
       "2       198       195       194       195  \n",
       "3       225       222       229       163  \n",
       "4       157       163       164       179  \n",
       "\n",
       "[5 rows x 785 columns]"
      ]
     },
     "metadata": {},
     "output_type": "display_data"
    }
   ],
   "source": [
    "#Lets explore data. There is nearly 25000 samples, with 784 features (pixels) and 1 label.\n",
    "display(df.columns)\n",
    "display(df.head())"
   ]
  },
  {
   "cell_type": "code",
   "execution_count": 27,
   "metadata": {},
   "outputs": [],
   "source": [
    "#Function to draw pictures and print labels\n",
    "\n",
    "def show_picture(no_list: list, df, label):\n",
    "    ''' Function prints pictures from df and labels from df for items in no_list.\n",
    "        Example use: show_picture([0,1,2,3,4],df.drop(columns='label'),df['label']) will print & paint pictures 0..4 from df\n",
    "        '''\n",
    "    plt.gray()\n",
    "    for no_ in no_list:\n",
    "        img=df.iloc[no_,:] #take 1 row with number no_ as image\n",
    "        img_label=label[no_] #take 1 label with number no_ as label\n",
    "        plt.imshow(img.to_numpy().reshape(28,28)) #draw picture - not sure if we need to make it numpy and reshape\n",
    "        plt.title(img_label)\n",
    "        plt.show()"
   ]
  },
  {
   "cell_type": "code",
   "execution_count": 28,
   "metadata": {},
   "outputs": [
    {
     "data": {
      "image/png": "[encoded data removed]",
      "text/plain": [
       "<Figure size 432x288 with 1 Axes>"
      ]
     },
     "metadata": {
      "needs_background": "light"
     },
     "output_type": "display_data"
    },
    {
     "data": {
      "image/png": "[encoded data removed]",
      "text/plain": [
       "<Figure size 432x288 with 1 Axes>"
      ]
     },
     "metadata": {
      "needs_background": "light"
     },
     "output_type": "display_data"
    },
    {
     "data": {
      "image/png": "[encoded data removed]",
      "text/plain": [
       "<Figure size 432x288 with 1 Axes>"
      ]
     },
     "metadata": {
      "needs_background": "light"
     },
     "output_type": "display_data"
    },
    {
     "data": {
      "image/png": "[encoded data removed]",
      "text/plain": [
       "<Figure size 432x288 with 1 Axes>"
      ]
     },
     "metadata": {
      "needs_background": "light"
     },
     "output_type": "display_data"
    },
    {
     "data": {
      "image/png": "[encoded data removed]",
      "text/plain": [
       "<Figure size 432x288 with 1 Axes>"
      ]
     },
     "metadata": {
      "needs_background": "light"
     },
     "output_type": "display_data"
    }
   ],
   "source": [
    "#Lets use th function\n",
    "show_picture([0,1,2,3,4],df.drop(columns='label'),df['label'])"
   ]
  },
  {
   "cell_type": "code",
   "execution_count": 29,
   "metadata": {},
   "outputs": [],
   "source": [
    "#define features and target\n",
    "x=df.drop(columns='label')\n",
    "y=df['label']\n",
    "\n",
    "# #reshape features into picture like structure & scale \n",
    "# x=x.to_numpy()\n",
    "# x=x.reshape(27455,28,28)/255"
   ]
  },
  {
   "cell_type": "code",
   "execution_count": 34,
   "metadata": {},
   "outputs": [
    {
     "name": "stdout",
     "output_type": "stream",
     "text": [
      "Shapes of x_train and y_train:  (21964, 784) (21964,)\n",
      "Shapes of x_val and y_val:  (5491, 784) (5491,)\n",
      "y_train values : [ 0  1  2  3  4  5  6  7  8 10 11 12 13 14 15 16 17 18 19 20 21 22 23 24]\n",
      "y_val values : [ 0  1  2  3  4  5  6  7  8 10 11 12 13 14 15 16 17 18 19 20 21 22 23 24]\n"
     ]
    }
   ],
   "source": [
    "#Split data in test & train\n",
    "x_train, x_val, y_train, y_val = train_test_split(x,y,test_size=0.2,stratify=y)\n",
    "\n",
    "print('Shapes of x_train and y_train: ',x_train.shape,y_train.shape)\n",
    "print('Shapes of x_val and y_val: ',x_val.shape,y_val.shape)\n",
    "\n",
    "print('y_train values :', np.sort(y_train.unique()))\n",
    "print('y_val values :',np.sort(y_val.unique()))"
   ]
  },
  {
   "cell_type": "code",
   "execution_count": 35,
   "metadata": {},
   "outputs": [
    {
     "name": "stdout",
     "output_type": "stream",
     "text": [
      "Model: \"sequential_5\"\n",
      "_________________________________________________________________\n",
      " Layer (type)                Output Shape              Param #   \n",
      "=================================================================\n",
      " conv2d_10 (Conv2D)          (None, 26, 26, 32)        320       \n",
      "                                                                 \n",
      " max_pooling2d_10 (MaxPoolin  (None, 13, 13, 32)       0         \n",
      " g2D)                                                            \n",
      "                                                                 \n",
      " conv2d_11 (Conv2D)          (None, 11, 11, 32)        9248      \n",
      "                                                                 \n",
      " max_pooling2d_11 (MaxPoolin  (None, 5, 5, 32)         0         \n",
      " g2D)                                                            \n",
      "                                                                 \n",
      " flatten_5 (Flatten)         (None, 800)               0         \n",
      "                                                                 \n",
      " dense_10 (Dense)            (None, 128)               102528    \n",
      "                                                                 \n",
      " dense_11 (Dense)            (None, 25)                3225      \n",
      "                                                                 \n",
      "=================================================================\n",
      "Total params: 115,321\n",
      "Trainable params: 115,321\n",
      "Non-trainable params: 0\n",
      "_________________________________________________________________\n",
      "\n",
      "MODEL TRAINING & VALIDATION:\n",
      "Epoch 1/5\n",
      "687/687 [==============================] - 16s 18ms/step - loss: 1.1343 - accuracy: 0.6623 - val_loss: 0.2792 - val_accuracy: 0.9071\n",
      "Epoch 2/5\n",
      "687/687 [==============================] - 12s 17ms/step - loss: 0.1259 - accuracy: 0.9673 - val_loss: 0.0549 - val_accuracy: 0.9902\n",
      "Epoch 3/5\n",
      "687/687 [==============================] - 12s 18ms/step - loss: 0.0194 - accuracy: 0.9984 - val_loss: 0.0073 - val_accuracy: 1.0000\n",
      "Epoch 4/5\n",
      "687/687 [==============================] - 12s 17ms/step - loss: 0.0052 - accuracy: 0.9998 - val_loss: 0.0029 - val_accuracy: 1.0000\n",
      "Epoch 5/5\n",
      "687/687 [==============================] - 12s 18ms/step - loss: 0.0306 - accuracy: 0.9928 - val_loss: 0.0020 - val_accuracy: 1.0000\n"
     ]
    }
   ],
   "source": [
    "# Define  & train the model\n",
    "model1 = tf.keras.models.Sequential([\n",
    "                                                         \n",
    "  # Add convolutions and max pooling\n",
    "  tf.keras.layers.Conv2D(32, (3,3), activation='relu', input_shape=(28, 28,1)),\n",
    "  tf.keras.layers.MaxPooling2D(2, 2),\n",
    "  tf.keras.layers.Conv2D(32, (3,3), activation='relu'),\n",
    "  tf.keras.layers.MaxPooling2D(2,2),\n",
    "\n",
    "  # Add the same layers as before\n",
    "  tf.keras.layers.Flatten(),\n",
    "  tf.keras.layers.Dense(128, activation='relu'),\n",
    "  tf.keras.layers.Dense(25, activation='softmax')\n",
    "])\n",
    "\n",
    "# Print the model summary\n",
    "model1.summary()\n",
    "\n",
    "# Use same settings\n",
    "model1.compile(optimizer='adam', loss='sparse_categorical_crossentropy', metrics=['accuracy'])\n",
    "\n",
    "# Train the model\n",
    "print(f'\\nMODEL TRAINING & VALIDATION:')\n",
    "history= model1.fit(x_train.to_numpy().reshape(x_train.shape[0],28,28)/255, y_train, epochs=5,validation_data=(x_val.to_numpy().reshape(x_val.shape[0],28,28)/255,y_val))"
   ]
  },
  {
   "cell_type": "code",
   "execution_count": 37,
   "metadata": {},
   "outputs": [
    {
     "data": {
      "text/plain": [
       "Int64Index([21239, 23375, 22007,  3041, 17315,  8966,  4244,  9019,   117,\n",
       "             2387,\n",
       "            ...\n",
       "             3209,  9502, 14107, 15515, 27071,  4143,  5386, 22035, 23584,\n",
       "              958],\n",
       "           dtype='int64', length=808)"
      ]
     },
     "execution_count": 37,
     "metadata": {},
     "output_type": "execute_result"
    }
   ],
   "source": [
    "class_=1                                    #pick one of the integers 0-24 representing one letter\n",
    "class_list= y_train[y_train==class_].index        #build a list of rows ids of samples belonging to selected class\n",
    "\n",
    "class_list"
   ]
  },
  {
   "cell_type": "code",
   "execution_count": 54,
   "metadata": {},
   "outputs": [
    {
     "data": {
      "image/png": "[encoded data removed]",
      "text/plain": [
       "<Figure size 432x288 with 1 Axes>"
      ]
     },
     "metadata": {
      "needs_background": "light"
     },
     "output_type": "display_data"
    },
    {
     "name": "stdout",
     "output_type": "stream",
     "text": [
      "sample no:  21239\n",
      "model prediciton: 1\n",
      "actual label: 1\n"
     ]
    },
    {
     "data": {
      "image/png": "[encoded data removed]",
      "text/plain": [
       "<Figure size 432x288 with 1 Axes>"
      ]
     },
     "metadata": {
      "needs_background": "light"
     },
     "output_type": "display_data"
    },
    {
     "name": "stdout",
     "output_type": "stream",
     "text": [
      "sample no:  23375\n",
      "model prediciton: 1\n",
      "actual label: 1\n"
     ]
    },
    {
     "data": {
      "image/png": "[encoded data removed]",
      "text/plain": [
       "<Figure size 432x288 with 1 Axes>"
      ]
     },
     "metadata": {
      "needs_background": "light"
     },
     "output_type": "display_data"
    },
    {
     "name": "stdout",
     "output_type": "stream",
     "text": [
      "sample no:  22007\n",
      "model prediciton: 1\n",
      "actual label: 1\n"
     ]
    }
   ],
   "source": [
    "#Lets see what the label of picture is and what the prediction is on training set\n",
    "\n",
    "#pick a picture class here and you will see ten items of it visualized\n",
    "class_=1                                          #pick one of the integers 0-24 representing one letter in sign language\n",
    "class_list= y_train[y_train==class_].index        #build a list of indexes where this class is present\n",
    "\n",
    "#print picture, predicted and actual value in loop. Use i to change how many loops are made\n",
    "for i,val in enumerate(class_list):\n",
    "    if i<3:                                 #we will show only first 5 predictions and actual\n",
    "        plt.imshow(x_train.loc[val,:].to_numpy().reshape(28,28))            #show picture with id \n",
    "        plt.show()\n",
    "        print('sample no: ', val)           #show position\n",
    "        print('model prediciton:',model1.predict(x_train.loc[val,:].to_numpy().reshape(1,28,28,1),verbose=0).argmax()) #show model prediction\n",
    "        print('actual label:',y_train.loc[val])                                                       #show class  \n",
    "    else:\n",
    "        pass"
   ]
  },
  {
   "cell_type": "code",
   "execution_count": 56,
   "metadata": {},
   "outputs": [
    {
     "data": {
      "image/png": "[encoded data removed]",
      "text/plain": [
       "<Figure size 432x288 with 1 Axes>"
      ]
     },
     "metadata": {
      "needs_background": "light"
     },
     "output_type": "display_data"
    },
    {
     "name": "stdout",
     "output_type": "stream",
     "text": [
      "sample no:  7257\n",
      "model prediciton: 24\n",
      "actual label: 24\n"
     ]
    },
    {
     "data": {
      "image/png": "[encoded data removed]",
      "text/plain": [
       "<Figure size 432x288 with 1 Axes>"
      ]
     },
     "metadata": {
      "needs_background": "light"
     },
     "output_type": "display_data"
    },
    {
     "name": "stdout",
     "output_type": "stream",
     "text": [
      "sample no:  16122\n",
      "model prediciton: 24\n",
      "actual label: 24\n"
     ]
    },
    {
     "data": {
      "image/png": "[encoded data removed]",
      "text/plain": [
       "<Figure size 432x288 with 1 Axes>"
      ]
     },
     "metadata": {
      "needs_background": "light"
     },
     "output_type": "display_data"
    },
    {
     "name": "stdout",
     "output_type": "stream",
     "text": [
      "sample no:  20474\n",
      "model prediciton: 24\n",
      "actual label: 24\n"
     ]
    }
   ],
   "source": [
    "#pick a picture class here and you will see ten items of it visualized\n",
    "class_= 24                                          #pick one of the integers 0-24 representing one letter in sign language\n",
    "class_list= y_val[y_val==class_].index        #build a list of indexes where this class is present\n",
    "\n",
    "#print picture, predicted and actual value in loop. Use i to change how many loops are made\n",
    "for i,val in enumerate(class_list):\n",
    "    if i<3:                                 #we will show only first 5 predictions and actual\n",
    "        plt.imshow(x_val.loc[val,:].to_numpy().reshape(28,28))            #show picture with id \n",
    "        plt.show()\n",
    "        print('sample no: ', val)           #show position\n",
    "        print('model prediciton:',model1.predict(x_val.loc[val,:].to_numpy().reshape(1,28,28,1),verbose=0).argmax()) #show model prediction\n",
    "        print('actual label:',y_val.loc[val])"
   ]
  },
  {
   "cell_type": "code",
   "execution_count": 57,
   "metadata": {},
   "outputs": [
    {
     "data": {
      "text/plain": [
       "numpy.ndarray"
      ]
     },
     "metadata": {},
     "output_type": "display_data"
    },
    {
     "data": {
      "text/plain": [
       "(28, 28, 3)"
      ]
     },
     "metadata": {},
     "output_type": "display_data"
    },
    {
     "data": {
      "text/plain": [
       "(28, 28)"
      ]
     },
     "metadata": {},
     "output_type": "display_data"
    },
    {
     "name": "stdout",
     "output_type": "stream",
     "text": [
      "model prediciton: 24\n",
      "actual label: 0\n"
     ]
    },
    {
     "data": {
      "image/png": "[encoded data removed]",
      "text/plain": [
       "<Figure size 432x288 with 1 Axes>"
      ]
     },
     "metadata": {
      "needs_background": "light"
     },
     "output_type": "display_data"
    }
   ],
   "source": [
    "img = cv2.imread(\"real_data/pic.png\")\n",
    "display(type(img))\n",
    "display(img.shape)\n",
    "\n",
    "gray = cv2.cvtColor(img, cv2.COLOR_BGR2GRAY)\n",
    "display(gray.shape)\n",
    "\n",
    "plt.imshow(gray)\n",
    "print('model prediciton:',model1.predict(gray.reshape(1,28,28,1),verbose=0).argmax())\n",
    "print('actual label:',0)\n"
   ]
  }
 ],
 "metadata": {
  "kernelspec": {
   "display_name": "Python 3.9.12 ('DeepLearning2')",
   "language": "python",
   "name": "python3"
  },
  "language_info": {
   "codemirror_mode": {
    "name": "ipython",
    "version": 3
   },
   "file_extension": ".py",
   "mimetype": "text/x-python",
   "name": "python",
   "nbconvert_exporter": "python",
   "pygments_lexer": "ipython3",
   "version": "3.9.12"
  },
  "orig_nbformat": 4,
  "vscode": {
   "interpreter": {
    "hash": "602d538850d3002ac3e4e81b4979e79e81e89f30642c58e69942da69e2640643"
   }
  }
 },
 "nbformat": 4,
 "nbformat_minor": 2
}
